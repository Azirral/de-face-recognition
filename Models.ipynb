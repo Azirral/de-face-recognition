{
 "cells": [
  {
   "metadata": {
    "ExecuteTime": {
     "end_time": "2024-12-03T20:53:55.254371Z",
     "start_time": "2024-12-03T20:53:55.227069Z"
    }
   },
   "cell_type": "code",
   "source": [
    "import numpy as np\n",
    "import pandas as pd\n",
    "import tensorflow as tf\n",
    "import glob\n",
    "import os\n",
    "from sklearn.model_selection import train_test_split\n",
    "from sklearn.preprocessing import OneHotEncoder\n",
    "from sklearn.utils import compute_class_weight\n",
    "from collections import Counter\n",
    "import keras"
   ],
   "id": "d9c56d637ad6750d",
   "outputs": [],
   "execution_count": 79
  },
  {
   "metadata": {},
   "cell_type": "markdown",
   "source": "Get the input and label files from CSVs",
   "id": "64eb4c47b082c4d0"
  },
  {
   "metadata": {
    "ExecuteTime": {
     "end_time": "2024-12-03T19:35:30.670965Z",
     "start_time": "2024-12-03T19:35:30.659744Z"
    }
   },
   "cell_type": "code",
   "source": [
    "def filter_sequences(x_sequences, y_sequences, model):\n",
    "    filtered_x_sequences = []\n",
    "    filtered_y_sequences = []\n",
    "    if model == 'Model I':\n",
    "        for x_seq, y_seq in zip(x_sequences, y_sequences):\n",
    "            if np.any(y_seq[:, 1:] != 0) or (np.sum(y_seq[:, 0] != 0) < 2 and np.any(y_seq[:, 0] != 0)):\n",
    "                filtered_x_sequences.append(x_seq)\n",
    "                filtered_y_sequences.append(y_seq)\n",
    "    else:\n",
    "        for x_seq, y_seq in zip(x_sequences, y_sequences):\n",
    "            if np.any(y_seq[:, 1:] != 0):\n",
    "                filtered_x_sequences.append(x_seq)\n",
    "                filtered_y_sequences.append(y_seq)\n",
    "            \n",
    "    return filtered_x_sequences,filtered_y_sequences\n",
    "    "
   ],
   "id": "c185cf12d8d2d2fc",
   "outputs": [],
   "execution_count": 35
  },
  {
   "metadata": {
    "ExecuteTime": {
     "end_time": "2024-12-03T19:35:30.733215Z",
     "start_time": "2024-12-03T19:35:30.713488Z"
    }
   },
   "cell_type": "code",
   "source": [
    "def get_train_test_splitted_data(label_files, input_files, global_mean, global_std, test_size=0.2, random_state=42):\n",
    "    # Initialize lists to hold all sequences\n",
    "    all_x_sequences = []\n",
    "    all_y_sequences = []\n",
    "    # Process each pair of input and label files\n",
    "    for input_file, label_file in zip(input_files, label_files):\n",
    "        # Load data\n",
    "        input_df = pd.read_csv(input_file)\n",
    "        if label_file.endswith('BORIS_method_II.csv'):\n",
    "            model = 'Model II'\n",
    "            label_df = pd.read_csv(label_file)\n",
    "            labels = label_df.values / 100\n",
    "        else:\n",
    "            model = 'Model I'\n",
    "            label_df = pd.read_csv(label_file, dtype=str, na_values=[])   \n",
    "            column_names = ['Happy', 'Sad', 'Scared', 'Disgusted', 'Surprised', 'Angry']\n",
    "\n",
    "            # Create a OneHotEncoder with predefined categories\n",
    "            encoder = OneHotEncoder(categories=[column_names], handle_unknown='ignore')\n",
    "\n",
    "            # Fit and transform the label data\n",
    "            labels = pd.DataFrame(\n",
    "                encoder.fit_transform(label_df).toarray(),\n",
    "                columns=encoder.get_feature_names_out()\n",
    "            )\n",
    "        # Prepare features and labels\n",
    "        features = (input_df.values - global_mean) / global_std\n",
    "        \n",
    "        # Ensure alignment of frames\n",
    "        if features.shape[0] != labels.shape[0]:\n",
    "            print(f\"Mismatch in frames: {input_file}, {label_file}\")\n",
    "            continue\n",
    "            \n",
    "        # Sample sequences\n",
    "        x_sequences, y_sequences = create_sequences(features, labels, SEQUENCE_LENGTH, STRIDE)\n",
    "        filtered_x_sequences, filtered_y_sequences = filter_sequences(x_sequences, y_sequences, model)\n",
    "        # Append to global lists\n",
    "        if filtered_x_sequences and filtered_y_sequences:\n",
    "            all_x_sequences.append(filtered_x_sequences)\n",
    "            all_y_sequences.append(filtered_y_sequences)\n",
    "            \n",
    "    all_x_sequences = np.concatenate(all_x_sequences, axis=0)\n",
    "    all_y_sequences = np.concatenate(all_y_sequences, axis=0)\n",
    "    # Split into train and test sets\n",
    "    X_train, X_test, y_train, y_test = train_test_split(\n",
    "        all_x_sequences, all_y_sequences, test_size=test_size, random_state=random_state\n",
    "    )\n",
    "\n",
    "    # Convert to TensorFlow datasets\n",
    "    train_dataset = tf.data.Dataset.from_tensor_slices((X_train, y_train))\n",
    "    test_dataset = tf.data.Dataset.from_tensor_slices((X_test, y_test))\n",
    "\n",
    "    # Shuffle, batch, and prefetch\n",
    "    train_dataset = train_dataset.shuffle(buffer_size=10000).batch(BATCH_SIZE).prefetch(tf.data.experimental.AUTOTUNE)\n",
    "    test_dataset = test_dataset.batch(BATCH_SIZE).prefetch(tf.data.experimental.AUTOTUNE)\n",
    "\n",
    "    return train_dataset, test_dataset"
   ],
   "id": "ae434e5ae1f7eb17",
   "outputs": [],
   "execution_count": 36
  },
  {
   "metadata": {
    "ExecuteTime": {
     "end_time": "2024-12-03T19:45:09.760425Z",
     "start_time": "2024-12-03T19:44:10.750122Z"
    }
   },
   "cell_type": "code",
   "source": [
    "def count_method_I(all_y_sequences):\n",
    "    label_counts = Counter()\n",
    "    emotion_labels = ['Happy', 'Sad', 'Disgusted', 'Surprised', 'Angry', 'Scared']\n",
    "    # Loop through each y_sequence in all_y_sequences\n",
    "    for y_sequence in all_y_sequences:\n",
    "        # Loop through each label_vector (timestamp) in the sequence\n",
    "        if np.all(y_sequence == 0):\n",
    "            # Count as 'Neutral' if all values are zero\n",
    "            label_counts['Neutral'] += 1            \n",
    "        else:\n",
    "            # Find the label corresponding to the max value (one-hot or normalized)\n",
    "            label_index = np.argmax(y_sequence)\n",
    "            label_counts[emotion_labels[label_index]] += 1\n",
    "    \n",
    "    # Compute the total number of labels\n",
    "    total_labels = sum(label_counts.values())\n",
    "    \n",
    "    # Convert the Counter to a DataFrame\n",
    "    df = pd.DataFrame.from_dict(label_counts, orient='index', columns=['Count'])\n",
    "    \n",
    "    # Add a new column for percentage\n",
    "    df['Percentage'] = (df['Count'] / total_labels * 100).round(2).astype(str) + '%'  # Format as percentage\n",
    "    \n",
    "    # Reset the index to have labels as a column\n",
    "    df = df.reset_index().rename(columns={'index': 'Label'})\n",
    "    \n",
    "    return df\n",
    "\n",
    "gut_sequences = get_train_test_splitted_data(GUT_path_label_method_I, GUT_path_input, global_mean, global_std, test_size=0.3)\n",
    "ituyu_sequences = get_train_test_splitted_data(ITU_YU_path_label_method_I, ITU_YU_path_input, global_mean, global_std, test_size=0.3)\n",
    "maap_sequences = get_train_test_splitted_data(MAAP_path_label_method_I, MAAP_path_input, global_mean, global_std, test_size=0.3)\n",
    "y_sequences = np.concatenate((gut_sequences, ituyu_sequences, maap_sequences))\n",
    "print(count_method_I(y_sequences.reshape(-1,6)))"
   ],
   "id": "baa1b0a66acb77ba",
   "outputs": [
    {
     "name": "stdout",
     "output_type": "stream",
     "text": [
      "       Label  Count Percentage\n",
      "0    Neutral   5557      75.3%\n",
      "1        Sad    613      8.31%\n",
      "2      Happy    348      4.72%\n",
      "3  Surprised     42      0.57%\n",
      "4      Angry     94      1.27%\n",
      "5     Scared     94      1.27%\n",
      "6  Disgusted    632      8.56%\n"
     ]
    }
   ],
   "execution_count": 46
  },
  {
   "metadata": {
    "ExecuteTime": {
     "end_time": "2024-12-03T21:58:03.707918Z",
     "start_time": "2024-12-03T21:58:03.663047Z"
    }
   },
   "cell_type": "code",
   "source": [
    "def count_method_II(all_y_sequences):\n",
    "    \n",
    "    combined_df = pd.DataFrame(all_y_sequences)\n",
    "\n",
    "    emotion_labels = ['Happy', 'Sad', 'Disgusted', 'Surprised', 'Angry', 'Scared']\n",
    "    \n",
    "    # Calculate the number of rows where each emotion is non-zero\n",
    "    non_zero_counts = (combined_df != 0).sum()  # Counts of non-zero values per column\n",
    "    total_rows = len(combined_df)  # Total number of rows\n",
    "    print(total_rows)\n",
    "    # Calculate the \"Neutral\" count (rows where all values are zero)\n",
    "    neutral_count = (combined_df.sum(axis=1) == 0).sum()\n",
    "    \n",
    "    # Add the \"Neutral\" category to the counts\n",
    "    non_zero_counts[\"Neutral\"] = neutral_count\n",
    "    \n",
    "    result_df = pd.DataFrame(non_zero_counts.items(), columns=['Label', 'Count'])\n",
    "    # Calculate the percentage for each label\n",
    "    result_df['Percentage'] = ((result_df['Count'] / total_rows) * 100).round(2).astype(str) + '%'\n",
    "\n",
    "        # Create a mapping from numbers to emotion labels\n",
    "    label_mapping = {i: emotion_labels[i] for i in range(len(emotion_labels))}\n",
    "    \n",
    "    # Replace the numerical labels with the corresponding emotion labels\n",
    "    result_df['Label'] = result_df['Label'].replace(label_mapping)\n",
    "    \n",
    "    # Display the result\n",
    "    return(result_df)"
   ],
   "id": "9e31a2d0c255647b",
   "outputs": [],
   "execution_count": 131
  },
  {
   "metadata": {
    "ExecuteTime": {
     "end_time": "2024-12-03T19:13:05.091773Z",
     "start_time": "2024-12-03T19:13:05.084283Z"
    }
   },
   "cell_type": "code",
   "source": [
    "# Constants\n",
    "SEQUENCE_LENGTH = 20\n",
    "STRIDE = 10\n",
    "BATCH_SIZE = 32\n",
    "INPUT_DIM = 515  # Number of features per frame (e.g., biosignals + embeddings)\n",
    "OUTPUT_DIM = 6 "
   ],
   "id": "fd9e239e08954ed1",
   "outputs": [],
   "execution_count": 5
  },
  {
   "metadata": {
    "ExecuteTime": {
     "end_time": "2024-12-03T19:14:35.188497Z",
     "start_time": "2024-12-03T19:13:31.063475Z"
    }
   },
   "cell_type": "code",
   "source": [
    "# Helper function to create random sequences\n",
    "def create_sequences(features, labels, sequence_length, stride):\n",
    "    x_sequences, y_sequences = [], []\n",
    "    for i in range(0, len(features) - sequence_length + 1, stride):\n",
    "        x_sequences.append(features[i:i + sequence_length])\n",
    "        y_sequences.append(labels[i:i + sequence_length])\n",
    "    return np.array(x_sequences), np.array(y_sequences)\n",
    "\n",
    "# Initialize lists to hold all sequences\n",
    "all_x_sequences = []\n",
    "all_y_sequences = []\n",
    "all_features = []\n",
    "\n",
    "sources = [\"GUT\", \"ITU-YU\", \"MAAP\"]\n",
    "base_path = \"//153.19.52.107/emboa/IO3-sessions/NEW STRUCTURE/de-earlyfusionthesis/\"\n",
    "input_files, label_files = [], []\n",
    "\n",
    "for source in sources:\n",
    "    input_files.extend(glob.glob(os.path.join(base_path, source, '*_input.csv')))\n",
    "    label_files.extend(glob.glob(os.path.join(base_path, source, '*_BORIS.csv')))\n",
    "\n",
    "input_files.sort()\n",
    "label_files.sort()\n",
    "\n",
    "i = 0\n",
    "for input_file in input_files:\n",
    "    input_df = pd.read_csv(input_file)\n",
    "    all_features.append(input_df.values)\n",
    "\n",
    "# Concatenate all features from all files to compute global mean and std\n",
    "all_features = np.concatenate(all_features, axis=0)\n",
    "\n",
    "num_columns = all_features.shape[1]\n",
    "global_mean_zero = np.zeros(num_columns)\n",
    "global_std_zero = np.zeros(num_columns)\n",
    "\n",
    "# Compute column-wise statistics ignoring zeros\n",
    "for col in range(num_columns):\n",
    "    non_zero_col = all_features[:, col][all_features[:, col] != 0]  # Filter non-zero values\n",
    "    if non_zero_col.size > 0:  # Avoid empty arrays\n",
    "        global_mean_zero[col] = np.mean(non_zero_col)\n",
    "        global_std_zero[col] = np.std(non_zero_col, ddof=1)  # Use sample std dev\n",
    "    else:\n",
    "        global_mean_zero[col] = 0  # Default if no non-zero elements\n",
    "        global_std_zero[col] = 0\n",
    "\n",
    "# Output results as ndarray\n",
    "global_mean = np.array(global_mean_zero)\n",
    "global_std = np.array(global_std_zero)\n"
   ],
   "id": "3269ede97309fd73",
   "outputs": [],
   "execution_count": 7
  },
  {
   "metadata": {
    "ExecuteTime": {
     "end_time": "2024-12-03T19:13:05.588040Z",
     "start_time": "2024-12-03T19:13:05.185704Z"
    }
   },
   "cell_type": "code",
   "source": [
    "GUT_path_input = sorted(glob.glob('//153.19.52.107/emboa/IO3-sessions/NEW STRUCTURE/de-earlyfusionthesis/GUT/*_input.csv'))\n",
    "ITU_YU_path_input = sorted(glob.glob('//153.19.52.107/emboa/IO3-sessions/NEW STRUCTURE/de-earlyfusionthesis/ITU-YU/*_input.csv'))\n",
    "MAAP_path_input = sorted(glob.glob('//153.19.52.107/emboa/IO3-sessions/NEW STRUCTURE/de-earlyfusionthesis/MAAP/*_input.csv'))\n",
    "\n",
    "GUT_path_label_method_I = sorted(glob.glob('//153.19.52.107/emboa/IO3-sessions/NEW STRUCTURE/de-earlyfusionthesis/GUT/*_BORIS_method_I.csv'))\n",
    "ITU_YU_path_label_method_I = sorted(glob.glob('//153.19.52.107/emboa/IO3-sessions/NEW STRUCTURE/de-earlyfusionthesis/ITU-YU/*_BORIS_method_I.csv'))\n",
    "MAAP_path_label_method_I = sorted(glob.glob('//153.19.52.107/emboa/IO3-sessions/NEW STRUCTURE/de-earlyfusionthesis/MAAP/*_BORIS_method_I.csv'))\n",
    "\n",
    "GUT_path_label_method_II = sorted(glob.glob('//153.19.52.107/emboa/IO3-sessions/NEW STRUCTURE/de-earlyfusionthesis/GUT/*_BORIS_method_II.csv'))\n",
    "ITU_YU_path_label_method_II = sorted(glob.glob('//153.19.52.107/emboa/IO3-sessions/NEW STRUCTURE/de-earlyfusionthesis/ITU-YU/*_BORIS_method_II.csv'))\n",
    "MAAP_path_label_method_II = sorted(glob.glob('//153.19.52.107/emboa/IO3-sessions/NEW STRUCTURE/de-earlyfusionthesis/MAAP/*_BORIS_method_II.csv'))\n"
   ],
   "id": "42105060863388e",
   "outputs": [],
   "execution_count": 6
  },
  {
   "metadata": {},
   "cell_type": "code",
   "outputs": [],
   "execution_count": null,
   "source": [
    "GUT_train_method_I, GUT_test_method_I = get_train_test_splitted_data(GUT_path_label_method_I, GUT_path_input, global_mean, global_std, test_size=0.3)\n",
    "ITU_YU_train_method_I, ITU_YU_test_method_I = get_train_test_splitted_data(ITU_YU_path_label_method_I, ITU_YU_path_input, global_mean, global_std, test_size=0.3)\n",
    "MAAP_train_method_I, MAAP_test_method_I = get_train_test_splitted_data(MAAP_path_label_method_I, MAAP_path_input, global_mean, global_std, test_size=0.3)\n",
    "\n",
    "GUT_train_method_II, GUT_test_method_II = get_train_test_splitted_data(GUT_path_label_method_II, GUT_path_input, global_mean, global_std, test_size=0.3)\n",
    "ITU_YU_train_method_II, ITU_YU_test_method_II = get_train_test_splitted_data(ITU_YU_path_label_method_II, ITU_YU_path_input, global_mean, global_std, test_size=0.3)\n",
    "MAAP_train_method_II, MAAP_test_method_II = get_train_test_splitted_data(MAAP_path_label_method_II, MAAP_path_input, global_mean, global_std, test_size=0.3)\n",
    "\n",
    "dataset_method_I = GUT_train_method_I.concatenate(ITU_YU_train_method_I).concatenate(MAAP_train_method_I)\n",
    "dataset_method_II = GUT_train_method_II.concatenate(ITU_YU_train_method_II).concatenate(MAAP_train_method_II)"
   ],
   "id": "ced92d6981d5c78a"
  },
  {
   "metadata": {
    "ExecuteTime": {
     "end_time": "2024-11-27T13:31:11.404634Z",
     "start_time": "2024-11-27T13:30:21.482241Z"
    }
   },
   "cell_type": "code",
   "source": [
    "import pandas as pd\n",
    "import numpy as np\n",
    "\n",
    "all_features = []\n",
    "\n",
    "for input_file in input_files:\n",
    "    input_df = pd.read_csv(input_file)\n",
    "    \n",
    "    # Check if the DataFrame contains any NaN\n",
    "    if input_df.isnull().values.any():\n",
    "        print(f\"NaN found in file: {input_file}\")\n",
    "    \n",
    "    all_features.append(input_df.values)"
   ],
   "id": "e5a0b0d60d0c3b67",
   "outputs": [],
   "execution_count": 16
  },
  {
   "metadata": {
    "ExecuteTime": {
     "end_time": "2024-11-28T16:40:04.529479Z",
     "start_time": "2024-11-28T16:26:19.796129Z"
    }
   },
   "cell_type": "code",
   "source": [
    "# Zakomentowane bo się cykam\n",
    "# path = r'S:\\IO3-sessions\\NEW STRUCTURE\\de-earlyfusionthesis\\Datasets'\n",
    "# \n",
    "# tf.data.Dataset.save(dataset_method_I ,os.path.join(path, 'train_dataset_method_I'))\n",
    "# tf.data.Dataset.save(GUT_train_method_I, os.path.join(path, 'GUT_train_method_I'))\n",
    "# tf.data.Dataset.save(GUT_test_method_I, os.path.join(path, 'GUT_test_method_I'))\n",
    "# tf.data.Dataset.save(ITU_YU_train_method_I, os.path.join(path, 'ITU_YU_train_method_I'))\n",
    "# tf.data.Dataset.save(ITU_YU_test_method_I, os.path.join(path, 'ITU_YU_test_method_I'))\n",
    "# tf.data.Dataset.save(MAAP_train_method_I, os.path.join(path, 'MAAP_train_method_I'))\n",
    "# tf.data.Dataset.save(MAAP_test_method_I, os.path.join(path, 'MAAP_test_method_I'))\n",
    "# \n",
    "# tf.data.Dataset.save(dataset_method_II ,os.path.join(path, 'train_dataset_method_II'))\n",
    "# tf.data.Dataset.save(GUT_train_method_II, os.path.join(path, 'GUT_train_method_II'))\n",
    "# tf.data.Dataset.save(GUT_test_method_II, os.path.join(path, 'GUT_test_method_II'))\n",
    "# tf.data.Dataset.save(ITU_YU_train_method_II, os.path.join(path, 'ITU_YU_train_method_II'))\n",
    "# tf.data.Dataset.save(ITU_YU_test_method_II, os.path.join(path, 'ITU_YU_test_method_II'))\n",
    "# tf.data.Dataset.save(MAAP_train_method_II, os.path.join(path, 'MAAP_train_method_II'))\n",
    "# tf.data.Dataset.save(MAAP_test_method_II, os.path.join(path, 'MAAP_test_method_II'))"
   ],
   "id": "aa09b06f19e78fe6",
   "outputs": [],
   "execution_count": 13
  },
  {
   "metadata": {
    "ExecuteTime": {
     "end_time": "2024-12-03T15:27:55.101416Z",
     "start_time": "2024-12-03T15:27:04.040073Z"
    }
   },
   "cell_type": "code",
   "source": [
    "path = r'S:\\IO3-sessions\\NEW STRUCTURE\\de-earlyfusionthesis\\Datasets'\n",
    "\n",
    "tf.data.Dataset.save(dataset_method_I ,os.path.join(path, 'train_dataset_method_I_balanced'))\n",
    "tf.data.Dataset.save(GUT_train_method_I, os.path.join(path, 'GUT_train_method_I_balanced'))\n",
    "tf.data.Dataset.save(GUT_test_method_I, os.path.join(path, 'GUT_test_method_I_balanced'))\n",
    "tf.data.Dataset.save(ITU_YU_train_method_I, os.path.join(path, 'ITU_YU_train_method_I_balanced'))\n",
    "tf.data.Dataset.save(ITU_YU_test_method_I, os.path.join(path, 'ITU_YU_test_method_I_balanced'))\n",
    "tf.data.Dataset.save(MAAP_train_method_I, os.path.join(path, 'MAAP_train_method_I_balanced'))\n",
    "tf.data.Dataset.save(MAAP_test_method_I, os.path.join(path, 'MAAP_test_method_I_balanced'))\n",
    "\n",
    "tf.data.Dataset.save(dataset_method_II ,os.path.join(path, 'train_dataset_method_II_balanced'))\n",
    "tf.data.Dataset.save(GUT_train_method_II, os.path.join(path, 'GUT_train_method_II_balanced'))\n",
    "tf.data.Dataset.save(GUT_test_method_II, os.path.join(path, 'GUT_test_method_II_balanced'))\n",
    "tf.data.Dataset.save(ITU_YU_train_method_II, os.path.join(path, 'ITU_YU_train_method_II_balanced'))\n",
    "tf.data.Dataset.save(ITU_YU_test_method_II, os.path.join(path, 'ITU_YU_test_method_II_balanced'))\n",
    "tf.data.Dataset.save(MAAP_train_method_II, os.path.join(path, 'MAAP_train_method_II_balanced'))\n",
    "tf.data.Dataset.save(MAAP_test_method_II, os.path.join(path, 'MAAP_test_method_II_balanced'))"
   ],
   "id": "819133b94da11c45",
   "outputs": [],
   "execution_count": 342
  },
  {
   "metadata": {
    "ExecuteTime": {
     "end_time": "2024-12-03T20:03:29.347211Z",
     "start_time": "2024-12-03T20:03:29.342193Z"
    }
   },
   "cell_type": "code",
   "source": "path = r'S:\\IO3-sessions\\NEW STRUCTURE\\de-earlyfusionthesis\\Models'",
   "id": "f5858e51c3ae1e4",
   "outputs": [],
   "execution_count": 53
  },
  {
   "metadata": {
    "ExecuteTime": {
     "end_time": "2024-12-03T20:03:27.213460Z",
     "start_time": "2024-12-03T20:03:24.234351Z"
    }
   },
   "cell_type": "code",
   "source": [
    "path = r'S:\\IO3-sessions\\NEW STRUCTURE\\de-earlyfusionthesis\\Datasets'\n",
    "\n",
    "train_dataset_path_I = os.path.abspath(os.path.join(path, 'train_dataset_method_I_balanced'))\n",
    "GUT_test_path_I = os.path.join(path, 'GUT_test_method_I_balanced').replace(\"\\\\\", \"/\")\n",
    "ITU_YU_test_path_I = os.path.join(path, 'ITU_YU_test_method_I_balanced').replace(\"\\\\\", \"/\")\n",
    "MAAP_test_path_I = os.path.join(path, 'MAAP_test_method_I_balanced').replace(\"\\\\\", \"/\")\n",
    "\n",
    "train_dataset_path_II = os.path.abspath(os.path.join(path, 'train_dataset_method_II_balanced'))\n",
    "GUT_test_path_II = os.path.join(path, 'GUT_test_method_II_balanced').replace(\"\\\\\", \"/\")\n",
    "ITU_YU_test_path_II = os.path.join(path, 'ITU_YU_test_method_II_balanced').replace(\"\\\\\", \"/\")\n",
    "MAAP_test_path_II = os.path.join(path, 'MAAP_test_method_II_balanced').replace(\"\\\\\", \"/\")\n",
    "\n",
    "# Load datasets\n",
    "train_I = tf.data.Dataset.load(train_dataset_path_I)\n",
    "GUT_test_I = tf.data.Dataset.load(GUT_test_path_I)\n",
    "ITU_YU_test_I = tf.data.Dataset.load(ITU_YU_test_path_I)\n",
    "MAAP_test_I = tf.data.Dataset.load(MAAP_test_path_I)\n",
    "\n",
    "train_II = tf.data.Dataset.load(train_dataset_path_II)\n",
    "GUT_test_II = tf.data.Dataset.load(GUT_test_path_II)\n",
    "ITU_YU_test_II = tf.data.Dataset.load(ITU_YU_test_path_II)\n",
    "MAAP_test_II = tf.data.Dataset.load(MAAP_test_path_II)\n",
    "\n",
    "full_test_I = GUT_test_I.concatenate(ITU_YU_test_I).concatenate(MAAP_test_I)\n",
    "full_test_II = GUT_test_II.concatenate(ITU_YU_test_II).concatenate(MAAP_test_II)"
   ],
   "id": "411b72f4e6451888",
   "outputs": [],
   "execution_count": 52
  },
  {
   "metadata": {},
   "cell_type": "markdown",
   "source": "## MODEL I",
   "id": "dd354b421e7b7df1"
  },
  {
   "metadata": {
    "ExecuteTime": {
     "end_time": "2024-12-03T22:20:14.513677Z",
     "start_time": "2024-12-03T22:20:14.505141Z"
    }
   },
   "cell_type": "code",
   "source": [
    "@keras.saving.register_keras_serializable(package=\"my_package\", name=\"custom_fn\")\n",
    "def masked_categorical_crossentropy(y_true, y_pred):\n",
    "    \"\"\"\n",
    "    y_true: true labels, one-hot encoded. Shape (batch_size, sequence_length, OUTPUT_DIM)\n",
    "    y_pred: predicted probabilities. Shape (batch_size, sequence_length, OUTPUT_DIM)\n",
    "    \"\"\"\n",
    "    # Create a mask: 1 for valid labels (non-[0, 0, 0]), 0 for \"Unknown\" ([0, 0, 0])\n",
    "    mask = tf.reduce_sum(y_true, axis=-1) > 0  # Shape: (batch_size, sequence_length)\n",
    "    mask = tf.cast(mask, tf.float32)  # Convert boolean mask to float32 for multiplication\n",
    "    \n",
    "    # Compute categorical cross-entropy loss\n",
    "    loss = tf.keras.losses.categorical_crossentropy(y_true, y_pred)\n",
    "    \n",
    "    # Apply the mask to the loss\n",
    "    loss = loss * mask  # Zero out loss for \"Unknown\" labels\n",
    "    \n",
    "    # Return mean loss over valid labels\n",
    "    return tf.reduce_sum(loss) / tf.reduce_sum(mask)"
   ],
   "id": "635a676d94b6b81a",
   "outputs": [],
   "execution_count": 151
  },
  {
   "metadata": {
    "ExecuteTime": {
     "end_time": "2024-12-03T22:20:17.879588Z",
     "start_time": "2024-12-03T22:20:16.318302Z"
    }
   },
   "cell_type": "code",
   "source": [
    "model_I = tf.keras.Sequential([\n",
    "    tf.keras.layers.Input(shape=(SEQUENCE_LENGTH, INPUT_DIM)),    # Input shape: (sequence_length, features)\n",
    "    tf.keras.layers.Bidirectional(tf.keras.layers.LSTM(64, return_sequences=True)),  # LSTM layer to capture temporal patterns\n",
    "    tf.keras.layers.Dense(64, activation='relu'),  \n",
    "    tf.keras.layers.Dense(32, activation='relu'),                 # Dense layer to reduce dimensionality\n",
    "    tf.keras.layers.Dense(OUTPUT_DIM, activation='softmax')       # Output layer with sigmoid for continuous values between 0 and 1\n",
    "])"
   ],
   "id": "e2ad7b207850414f",
   "outputs": [],
   "execution_count": 152
  },
  {
   "metadata": {
    "ExecuteTime": {
     "end_time": "2024-12-03T22:20:18.299032Z",
     "start_time": "2024-12-03T22:20:18.256802Z"
    }
   },
   "cell_type": "code",
   "source": "model_I.compile(optimizer='adam', loss=masked_categorical_crossentropy, metrics=['accuracy'])",
   "id": "4345228311c05d21",
   "outputs": [],
   "execution_count": 153
  },
  {
   "metadata": {
    "ExecuteTime": {
     "end_time": "2024-12-03T22:20:43.566896Z",
     "start_time": "2024-12-03T22:20:18.666607Z"
    }
   },
   "cell_type": "code",
   "source": "history = model_I.fit(train_I, epochs=50, batch_size=BATCH_SIZE)",
   "id": "99155401195790ad",
   "outputs": [
    {
     "name": "stdout",
     "output_type": "stream",
     "text": [
      "Epoch 1/50\n",
      "\u001B[1m10/10\u001B[0m \u001B[32m━━━━━━━━━━━━━━━━━━━━\u001B[0m\u001B[37m\u001B[0m \u001B[1m10s\u001B[0m 284ms/step - accuracy: 0.2002 - loss: 1.9042\n",
      "Epoch 2/50\n",
      "\u001B[1m10/10\u001B[0m \u001B[32m━━━━━━━━━━━━━━━━━━━━\u001B[0m\u001B[37m\u001B[0m \u001B[1m0s\u001B[0m 28ms/step - accuracy: 0.2543 - loss: 1.5217\n",
      "Epoch 3/50\n",
      "\u001B[1m10/10\u001B[0m \u001B[32m━━━━━━━━━━━━━━━━━━━━\u001B[0m\u001B[37m\u001B[0m \u001B[1m0s\u001B[0m 23ms/step - accuracy: 0.3982 - loss: 1.3082\n",
      "Epoch 4/50\n",
      "\u001B[1m10/10\u001B[0m \u001B[32m━━━━━━━━━━━━━━━━━━━━\u001B[0m\u001B[37m\u001B[0m \u001B[1m0s\u001B[0m 23ms/step - accuracy: 0.5493 - loss: 1.1174\n",
      "Epoch 5/50\n",
      "\u001B[1m10/10\u001B[0m \u001B[32m━━━━━━━━━━━━━━━━━━━━\u001B[0m\u001B[37m\u001B[0m \u001B[1m0s\u001B[0m 22ms/step - accuracy: 0.6077 - loss: 0.9523\n",
      "Epoch 6/50\n",
      "\u001B[1m10/10\u001B[0m \u001B[32m━━━━━━━━━━━━━━━━━━━━\u001B[0m\u001B[37m\u001B[0m \u001B[1m0s\u001B[0m 22ms/step - accuracy: 0.5934 - loss: 0.8191\n",
      "Epoch 7/50\n",
      "\u001B[1m10/10\u001B[0m \u001B[32m━━━━━━━━━━━━━━━━━━━━\u001B[0m\u001B[37m\u001B[0m \u001B[1m0s\u001B[0m 23ms/step - accuracy: 0.5798 - loss: 0.7162\n",
      "Epoch 8/50\n",
      "\u001B[1m10/10\u001B[0m \u001B[32m━━━━━━━━━━━━━━━━━━━━\u001B[0m\u001B[37m\u001B[0m \u001B[1m0s\u001B[0m 28ms/step - accuracy: 0.6430 - loss: 0.5831\n",
      "Epoch 9/50\n",
      "\u001B[1m10/10\u001B[0m \u001B[32m━━━━━━━━━━━━━━━━━━━━\u001B[0m\u001B[37m\u001B[0m \u001B[1m0s\u001B[0m 24ms/step - accuracy: 0.5846 - loss: 0.4961\n",
      "Epoch 10/50\n",
      "\u001B[1m10/10\u001B[0m \u001B[32m━━━━━━━━━━━━━━━━━━━━\u001B[0m\u001B[37m\u001B[0m \u001B[1m0s\u001B[0m 24ms/step - accuracy: 0.5905 - loss: 0.4441\n",
      "Epoch 11/50\n",
      "\u001B[1m10/10\u001B[0m \u001B[32m━━━━━━━━━━━━━━━━━━━━\u001B[0m\u001B[37m\u001B[0m \u001B[1m0s\u001B[0m 23ms/step - accuracy: 0.6443 - loss: 0.3338\n",
      "Epoch 12/50\n",
      "\u001B[1m10/10\u001B[0m \u001B[32m━━━━━━━━━━━━━━━━━━━━\u001B[0m\u001B[37m\u001B[0m \u001B[1m0s\u001B[0m 26ms/step - accuracy: 0.6045 - loss: 0.2927\n",
      "Epoch 13/50\n",
      "\u001B[1m10/10\u001B[0m \u001B[32m━━━━━━━━━━━━━━━━━━━━\u001B[0m\u001B[37m\u001B[0m \u001B[1m0s\u001B[0m 24ms/step - accuracy: 0.6131 - loss: 0.2252\n",
      "Epoch 14/50\n",
      "\u001B[1m10/10\u001B[0m \u001B[32m━━━━━━━━━━━━━━━━━━━━\u001B[0m\u001B[37m\u001B[0m \u001B[1m0s\u001B[0m 21ms/step - accuracy: 0.6442 - loss: 0.1748\n",
      "Epoch 15/50\n",
      "\u001B[1m10/10\u001B[0m \u001B[32m━━━━━━━━━━━━━━━━━━━━\u001B[0m\u001B[37m\u001B[0m \u001B[1m0s\u001B[0m 21ms/step - accuracy: 0.6381 - loss: 0.1402\n",
      "Epoch 16/50\n",
      "\u001B[1m10/10\u001B[0m \u001B[32m━━━━━━━━━━━━━━━━━━━━\u001B[0m\u001B[37m\u001B[0m \u001B[1m0s\u001B[0m 21ms/step - accuracy: 0.6131 - loss: 0.1155\n",
      "Epoch 17/50\n",
      "\u001B[1m10/10\u001B[0m \u001B[32m━━━━━━━━━━━━━━━━━━━━\u001B[0m\u001B[37m\u001B[0m \u001B[1m0s\u001B[0m 18ms/step - accuracy: 0.6219 - loss: 0.1038\n",
      "Epoch 18/50\n",
      "\u001B[1m10/10\u001B[0m \u001B[32m━━━━━━━━━━━━━━━━━━━━\u001B[0m\u001B[37m\u001B[0m \u001B[1m0s\u001B[0m 30ms/step - accuracy: 0.6452 - loss: 0.0810\n",
      "Epoch 19/50\n",
      "\u001B[1m10/10\u001B[0m \u001B[32m━━━━━━━━━━━━━━━━━━━━\u001B[0m\u001B[37m\u001B[0m \u001B[1m0s\u001B[0m 19ms/step - accuracy: 0.6198 - loss: 0.0730\n",
      "Epoch 20/50\n",
      "\u001B[1m10/10\u001B[0m \u001B[32m━━━━━━━━━━━━━━━━━━━━\u001B[0m\u001B[37m\u001B[0m \u001B[1m0s\u001B[0m 20ms/step - accuracy: 0.6334 - loss: 0.0619\n",
      "Epoch 21/50\n",
      "\u001B[1m10/10\u001B[0m \u001B[32m━━━━━━━━━━━━━━━━━━━━\u001B[0m\u001B[37m\u001B[0m \u001B[1m0s\u001B[0m 19ms/step - accuracy: 0.6417 - loss: 0.0634\n",
      "Epoch 22/50\n",
      "\u001B[1m10/10\u001B[0m \u001B[32m━━━━━━━━━━━━━━━━━━━━\u001B[0m\u001B[37m\u001B[0m \u001B[1m0s\u001B[0m 19ms/step - accuracy: 0.6200 - loss: 0.0553\n",
      "Epoch 23/50\n",
      "\u001B[1m10/10\u001B[0m \u001B[32m━━━━━━━━━━━━━━━━━━━━\u001B[0m\u001B[37m\u001B[0m \u001B[1m0s\u001B[0m 19ms/step - accuracy: 0.6304 - loss: 0.0546\n",
      "Epoch 24/50\n",
      "\u001B[1m10/10\u001B[0m \u001B[32m━━━━━━━━━━━━━━━━━━━━\u001B[0m\u001B[37m\u001B[0m \u001B[1m0s\u001B[0m 18ms/step - accuracy: 0.6424 - loss: 0.0552\n",
      "Epoch 25/50\n",
      "\u001B[1m10/10\u001B[0m \u001B[32m━━━━━━━━━━━━━━━━━━━━\u001B[0m\u001B[37m\u001B[0m \u001B[1m0s\u001B[0m 20ms/step - accuracy: 0.5983 - loss: 0.0611\n",
      "Epoch 26/50\n",
      "\u001B[1m10/10\u001B[0m \u001B[32m━━━━━━━━━━━━━━━━━━━━\u001B[0m\u001B[37m\u001B[0m \u001B[1m0s\u001B[0m 18ms/step - accuracy: 0.6625 - loss: 0.0608\n",
      "Epoch 27/50\n",
      "\u001B[1m10/10\u001B[0m \u001B[32m━━━━━━━━━━━━━━━━━━━━\u001B[0m\u001B[37m\u001B[0m \u001B[1m0s\u001B[0m 19ms/step - accuracy: 0.5826 - loss: 0.0694\n",
      "Epoch 28/50\n",
      "\u001B[1m10/10\u001B[0m \u001B[32m━━━━━━━━━━━━━━━━━━━━\u001B[0m\u001B[37m\u001B[0m \u001B[1m0s\u001B[0m 23ms/step - accuracy: 0.6645 - loss: 0.0615\n",
      "Epoch 29/50\n",
      "\u001B[1m10/10\u001B[0m \u001B[32m━━━━━━━━━━━━━━━━━━━━\u001B[0m\u001B[37m\u001B[0m \u001B[1m0s\u001B[0m 20ms/step - accuracy: 0.6098 - loss: 0.0538\n",
      "Epoch 30/50\n",
      "\u001B[1m10/10\u001B[0m \u001B[32m━━━━━━━━━━━━━━━━━━━━\u001B[0m\u001B[37m\u001B[0m \u001B[1m0s\u001B[0m 23ms/step - accuracy: 0.6258 - loss: 0.0783\n",
      "Epoch 31/50\n",
      "\u001B[1m10/10\u001B[0m \u001B[32m━━━━━━━━━━━━━━━━━━━━\u001B[0m\u001B[37m\u001B[0m \u001B[1m0s\u001B[0m 22ms/step - accuracy: 0.6418 - loss: 0.0616\n",
      "Epoch 32/50\n",
      "\u001B[1m10/10\u001B[0m \u001B[32m━━━━━━━━━━━━━━━━━━━━\u001B[0m\u001B[37m\u001B[0m \u001B[1m0s\u001B[0m 25ms/step - accuracy: 0.5981 - loss: 0.0782\n",
      "Epoch 33/50\n",
      "\u001B[1m10/10\u001B[0m \u001B[32m━━━━━━━━━━━━━━━━━━━━\u001B[0m\u001B[37m\u001B[0m \u001B[1m0s\u001B[0m 20ms/step - accuracy: 0.6362 - loss: 0.0707\n",
      "Epoch 34/50\n",
      "\u001B[1m10/10\u001B[0m \u001B[32m━━━━━━━━━━━━━━━━━━━━\u001B[0m\u001B[37m\u001B[0m \u001B[1m0s\u001B[0m 20ms/step - accuracy: 0.6211 - loss: 0.0990\n",
      "Epoch 35/50\n",
      "\u001B[1m10/10\u001B[0m \u001B[32m━━━━━━━━━━━━━━━━━━━━\u001B[0m\u001B[37m\u001B[0m \u001B[1m0s\u001B[0m 21ms/step - accuracy: 0.5906 - loss: 0.0914\n",
      "Epoch 36/50\n",
      "\u001B[1m10/10\u001B[0m \u001B[32m━━━━━━━━━━━━━━━━━━━━\u001B[0m\u001B[37m\u001B[0m \u001B[1m0s\u001B[0m 21ms/step - accuracy: 0.6148 - loss: 0.1365\n",
      "Epoch 37/50\n",
      "\u001B[1m10/10\u001B[0m \u001B[32m━━━━━━━━━━━━━━━━━━━━\u001B[0m\u001B[37m\u001B[0m \u001B[1m0s\u001B[0m 21ms/step - accuracy: 0.6273 - loss: 0.0978\n",
      "Epoch 38/50\n",
      "\u001B[1m10/10\u001B[0m \u001B[32m━━━━━━━━━━━━━━━━━━━━\u001B[0m\u001B[37m\u001B[0m \u001B[1m0s\u001B[0m 21ms/step - accuracy: 0.5908 - loss: 0.0849\n",
      "Epoch 39/50\n",
      "\u001B[1m10/10\u001B[0m \u001B[32m━━━━━━━━━━━━━━━━━━━━\u001B[0m\u001B[37m\u001B[0m \u001B[1m0s\u001B[0m 19ms/step - accuracy: 0.6482 - loss: 0.0532\n",
      "Epoch 40/50\n",
      "\u001B[1m10/10\u001B[0m \u001B[32m━━━━━━━━━━━━━━━━━━━━\u001B[0m\u001B[37m\u001B[0m \u001B[1m0s\u001B[0m 19ms/step - accuracy: 0.6081 - loss: 0.0446\n",
      "Epoch 41/50\n",
      "\u001B[1m10/10\u001B[0m \u001B[32m━━━━━━━━━━━━━━━━━━━━\u001B[0m\u001B[37m\u001B[0m \u001B[1m0s\u001B[0m 28ms/step - accuracy: 0.6172 - loss: 0.0384\n",
      "Epoch 42/50\n",
      "\u001B[1m10/10\u001B[0m \u001B[32m━━━━━━━━━━━━━━━━━━━━\u001B[0m\u001B[37m\u001B[0m \u001B[1m0s\u001B[0m 28ms/step - accuracy: 0.6399 - loss: 0.0362\n",
      "Epoch 43/50\n",
      "\u001B[1m10/10\u001B[0m \u001B[32m━━━━━━━━━━━━━━━━━━━━\u001B[0m\u001B[37m\u001B[0m \u001B[1m0s\u001B[0m 29ms/step - accuracy: 0.6288 - loss: 0.0365\n",
      "Epoch 44/50\n",
      "\u001B[1m10/10\u001B[0m \u001B[32m━━━━━━━━━━━━━━━━━━━━\u001B[0m\u001B[37m\u001B[0m \u001B[1m0s\u001B[0m 25ms/step - accuracy: 0.6385 - loss: 0.0334\n",
      "Epoch 45/50\n",
      "\u001B[1m10/10\u001B[0m \u001B[32m━━━━━━━━━━━━━━━━━━━━\u001B[0m\u001B[37m\u001B[0m \u001B[1m0s\u001B[0m 25ms/step - accuracy: 0.6235 - loss: 0.0372\n",
      "Epoch 46/50\n",
      "\u001B[1m10/10\u001B[0m \u001B[32m━━━━━━━━━━━━━━━━━━━━\u001B[0m\u001B[37m\u001B[0m \u001B[1m0s\u001B[0m 24ms/step - accuracy: 0.6463 - loss: 0.0343\n",
      "Epoch 47/50\n",
      "\u001B[1m10/10\u001B[0m \u001B[32m━━━━━━━━━━━━━━━━━━━━\u001B[0m\u001B[37m\u001B[0m \u001B[1m0s\u001B[0m 23ms/step - accuracy: 0.6023 - loss: 0.0408\n",
      "Epoch 48/50\n",
      "\u001B[1m10/10\u001B[0m \u001B[32m━━━━━━━━━━━━━━━━━━━━\u001B[0m\u001B[37m\u001B[0m \u001B[1m0s\u001B[0m 19ms/step - accuracy: 0.6298 - loss: 0.0364\n",
      "Epoch 49/50\n",
      "\u001B[1m10/10\u001B[0m \u001B[32m━━━━━━━━━━━━━━━━━━━━\u001B[0m\u001B[37m\u001B[0m \u001B[1m0s\u001B[0m 19ms/step - accuracy: 0.6376 - loss: 0.0334\n",
      "Epoch 50/50\n",
      "\u001B[1m10/10\u001B[0m \u001B[32m━━━━━━━━━━━━━━━━━━━━\u001B[0m\u001B[37m\u001B[0m \u001B[1m0s\u001B[0m 20ms/step - accuracy: 0.6363 - loss: 0.0374\n"
     ]
    }
   ],
   "execution_count": 154
  },
  {
   "metadata": {
    "ExecuteTime": {
     "end_time": "2024-12-03T22:20:43.644732Z",
     "start_time": "2024-12-03T22:20:43.585832Z"
    }
   },
   "cell_type": "code",
   "source": "model_I.summary()",
   "id": "6235f654319c897",
   "outputs": [
    {
     "data": {
      "text/plain": [
       "\u001B[1mModel: \"sequential_14\"\u001B[0m\n"
      ],
      "text/html": [
       "<pre style=\"white-space:pre;overflow-x:auto;line-height:normal;font-family:Menlo,'DejaVu Sans Mono',consolas,'Courier New',monospace\"><span style=\"font-weight: bold\">Model: \"sequential_14\"</span>\n",
       "</pre>\n"
      ]
     },
     "metadata": {},
     "output_type": "display_data"
    },
    {
     "data": {
      "text/plain": [
       "┏━━━━━━━━━━━━━━━━━━━━━━━━━━━━━━━━━┳━━━━━━━━━━━━━━━━━━━━━━━━┳━━━━━━━━━━━━━━━┓\n",
       "┃\u001B[1m \u001B[0m\u001B[1mLayer (type)                   \u001B[0m\u001B[1m \u001B[0m┃\u001B[1m \u001B[0m\u001B[1mOutput Shape          \u001B[0m\u001B[1m \u001B[0m┃\u001B[1m \u001B[0m\u001B[1m      Param #\u001B[0m\u001B[1m \u001B[0m┃\n",
       "┡━━━━━━━━━━━━━━━━━━━━━━━━━━━━━━━━━╇━━━━━━━━━━━━━━━━━━━━━━━━╇━━━━━━━━━━━━━━━┩\n",
       "│ bidirectional_14                │ (\u001B[38;5;45mNone\u001B[0m, \u001B[38;5;34m20\u001B[0m, \u001B[38;5;34m128\u001B[0m)        │       \u001B[38;5;34m296,960\u001B[0m │\n",
       "│ (\u001B[38;5;33mBidirectional\u001B[0m)                 │                        │               │\n",
       "├─────────────────────────────────┼────────────────────────┼───────────────┤\n",
       "│ dense_41 (\u001B[38;5;33mDense\u001B[0m)                │ (\u001B[38;5;45mNone\u001B[0m, \u001B[38;5;34m20\u001B[0m, \u001B[38;5;34m64\u001B[0m)         │         \u001B[38;5;34m8,256\u001B[0m │\n",
       "├─────────────────────────────────┼────────────────────────┼───────────────┤\n",
       "│ dense_42 (\u001B[38;5;33mDense\u001B[0m)                │ (\u001B[38;5;45mNone\u001B[0m, \u001B[38;5;34m20\u001B[0m, \u001B[38;5;34m32\u001B[0m)         │         \u001B[38;5;34m2,080\u001B[0m │\n",
       "├─────────────────────────────────┼────────────────────────┼───────────────┤\n",
       "│ dense_43 (\u001B[38;5;33mDense\u001B[0m)                │ (\u001B[38;5;45mNone\u001B[0m, \u001B[38;5;34m20\u001B[0m, \u001B[38;5;34m6\u001B[0m)          │           \u001B[38;5;34m198\u001B[0m │\n",
       "└─────────────────────────────────┴────────────────────────┴───────────────┘\n"
      ],
      "text/html": [
       "<pre style=\"white-space:pre;overflow-x:auto;line-height:normal;font-family:Menlo,'DejaVu Sans Mono',consolas,'Courier New',monospace\">┏━━━━━━━━━━━━━━━━━━━━━━━━━━━━━━━━━┳━━━━━━━━━━━━━━━━━━━━━━━━┳━━━━━━━━━━━━━━━┓\n",
       "┃<span style=\"font-weight: bold\"> Layer (type)                    </span>┃<span style=\"font-weight: bold\"> Output Shape           </span>┃<span style=\"font-weight: bold\">       Param # </span>┃\n",
       "┡━━━━━━━━━━━━━━━━━━━━━━━━━━━━━━━━━╇━━━━━━━━━━━━━━━━━━━━━━━━╇━━━━━━━━━━━━━━━┩\n",
       "│ bidirectional_14                │ (<span style=\"color: #00d7ff; text-decoration-color: #00d7ff\">None</span>, <span style=\"color: #00af00; text-decoration-color: #00af00\">20</span>, <span style=\"color: #00af00; text-decoration-color: #00af00\">128</span>)        │       <span style=\"color: #00af00; text-decoration-color: #00af00\">296,960</span> │\n",
       "│ (<span style=\"color: #0087ff; text-decoration-color: #0087ff\">Bidirectional</span>)                 │                        │               │\n",
       "├─────────────────────────────────┼────────────────────────┼───────────────┤\n",
       "│ dense_41 (<span style=\"color: #0087ff; text-decoration-color: #0087ff\">Dense</span>)                │ (<span style=\"color: #00d7ff; text-decoration-color: #00d7ff\">None</span>, <span style=\"color: #00af00; text-decoration-color: #00af00\">20</span>, <span style=\"color: #00af00; text-decoration-color: #00af00\">64</span>)         │         <span style=\"color: #00af00; text-decoration-color: #00af00\">8,256</span> │\n",
       "├─────────────────────────────────┼────────────────────────┼───────────────┤\n",
       "│ dense_42 (<span style=\"color: #0087ff; text-decoration-color: #0087ff\">Dense</span>)                │ (<span style=\"color: #00d7ff; text-decoration-color: #00d7ff\">None</span>, <span style=\"color: #00af00; text-decoration-color: #00af00\">20</span>, <span style=\"color: #00af00; text-decoration-color: #00af00\">32</span>)         │         <span style=\"color: #00af00; text-decoration-color: #00af00\">2,080</span> │\n",
       "├─────────────────────────────────┼────────────────────────┼───────────────┤\n",
       "│ dense_43 (<span style=\"color: #0087ff; text-decoration-color: #0087ff\">Dense</span>)                │ (<span style=\"color: #00d7ff; text-decoration-color: #00d7ff\">None</span>, <span style=\"color: #00af00; text-decoration-color: #00af00\">20</span>, <span style=\"color: #00af00; text-decoration-color: #00af00\">6</span>)          │           <span style=\"color: #00af00; text-decoration-color: #00af00\">198</span> │\n",
       "└─────────────────────────────────┴────────────────────────┴───────────────┘\n",
       "</pre>\n"
      ]
     },
     "metadata": {},
     "output_type": "display_data"
    },
    {
     "data": {
      "text/plain": [
       "\u001B[1m Total params: \u001B[0m\u001B[38;5;34m922,484\u001B[0m (3.52 MB)\n"
      ],
      "text/html": [
       "<pre style=\"white-space:pre;overflow-x:auto;line-height:normal;font-family:Menlo,'DejaVu Sans Mono',consolas,'Courier New',monospace\"><span style=\"font-weight: bold\"> Total params: </span><span style=\"color: #00af00; text-decoration-color: #00af00\">922,484</span> (3.52 MB)\n",
       "</pre>\n"
      ]
     },
     "metadata": {},
     "output_type": "display_data"
    },
    {
     "data": {
      "text/plain": [
       "\u001B[1m Trainable params: \u001B[0m\u001B[38;5;34m307,494\u001B[0m (1.17 MB)\n"
      ],
      "text/html": [
       "<pre style=\"white-space:pre;overflow-x:auto;line-height:normal;font-family:Menlo,'DejaVu Sans Mono',consolas,'Courier New',monospace\"><span style=\"font-weight: bold\"> Trainable params: </span><span style=\"color: #00af00; text-decoration-color: #00af00\">307,494</span> (1.17 MB)\n",
       "</pre>\n"
      ]
     },
     "metadata": {},
     "output_type": "display_data"
    },
    {
     "data": {
      "text/plain": [
       "\u001B[1m Non-trainable params: \u001B[0m\u001B[38;5;34m0\u001B[0m (0.00 B)\n"
      ],
      "text/html": [
       "<pre style=\"white-space:pre;overflow-x:auto;line-height:normal;font-family:Menlo,'DejaVu Sans Mono',consolas,'Courier New',monospace\"><span style=\"font-weight: bold\"> Non-trainable params: </span><span style=\"color: #00af00; text-decoration-color: #00af00\">0</span> (0.00 B)\n",
       "</pre>\n"
      ]
     },
     "metadata": {},
     "output_type": "display_data"
    },
    {
     "data": {
      "text/plain": [
       "\u001B[1m Optimizer params: \u001B[0m\u001B[38;5;34m614,990\u001B[0m (2.35 MB)\n"
      ],
      "text/html": [
       "<pre style=\"white-space:pre;overflow-x:auto;line-height:normal;font-family:Menlo,'DejaVu Sans Mono',consolas,'Courier New',monospace\"><span style=\"font-weight: bold\"> Optimizer params: </span><span style=\"color: #00af00; text-decoration-color: #00af00\">614,990</span> (2.35 MB)\n",
       "</pre>\n"
      ]
     },
     "metadata": {},
     "output_type": "display_data"
    }
   ],
   "execution_count": 155
  },
  {
   "metadata": {
    "ExecuteTime": {
     "end_time": "2024-12-03T22:20:46.968057Z",
     "start_time": "2024-12-03T22:20:43.778940Z"
    }
   },
   "cell_type": "code",
   "source": [
    "# Evaluate the model\n",
    "loss, acc = model_I.evaluate(full_test_I, verbose=2)\n",
    "print(\"Untrained model, accuracy: {:5.2f}%\".format(acc))"
   ],
   "id": "8b4a500ad36da8b3",
   "outputs": [
    {
     "name": "stdout",
     "output_type": "stream",
     "text": [
      "5/5 - 3s - 618ms/step - accuracy: 0.6473 - loss: 0.6706\n",
      "Untrained model, accuracy:  0.65%\n"
     ]
    }
   ],
   "execution_count": 156
  },
  {
   "metadata": {
    "ExecuteTime": {
     "end_time": "2024-12-03T22:20:47.821161Z",
     "start_time": "2024-12-03T22:20:47.062335Z"
    }
   },
   "cell_type": "code",
   "source": "model_I.save(os.path.join(path, 'model_method_I/model.keras'))",
   "id": "914d4b9b7968270e",
   "outputs": [],
   "execution_count": 157
  },
  {
   "metadata": {},
   "cell_type": "markdown",
   "source": "## MODEL II",
   "id": "b53443af5c334d33"
  },
  {
   "metadata": {
    "ExecuteTime": {
     "end_time": "2024-12-03T22:09:04.298539Z",
     "start_time": "2024-12-03T22:09:04.273166Z"
    }
   },
   "cell_type": "code",
   "source": [
    "@keras.saving.register_keras_serializable(package=\"my_package\", name=\"custom_fn\")\n",
    "def masked_mean_squared_error(y_true, y_pred):\n",
    "    \"\"\"\n",
    "    y_true: true labels, one-hot encoded. Shape (batch_size, sequence_length, OUTPUT_DIM)\n",
    "    y_pred: predicted probabilities. Shape (batch_size, sequence_length, OUTPUT_DIM)\n",
    "    \"\"\"\n",
    "    # Create a mask: 1 for valid labels (non-[0, 0, 0]), 0 for \"Unknown\" ([0, 0, 0])\n",
    "    mask = tf.reduce_sum(y_true, axis=-1) > 0  # Shape: (batch_size, sequence_length)\n",
    "    mask = tf.cast(mask, tf.float32)  # Convert boolean mask to float32 for multiplication\n",
    "    \n",
    "    # Compute categorical cross-entropy loss\n",
    "    loss = tf.square(y_true - y_pred)\n",
    "    \n",
    "    # Apply the mask to the loss\n",
    "    masked_loss = loss * mask[..., tf.newaxis]  # Zero out loss for \"Unknown\" labels\n",
    "    \n",
    "    # Return mean loss over valid labels\n",
    "    return tf.reduce_sum(masked_loss) / tf.reduce_sum(mask)"
   ],
   "id": "ff8b5456d0304274",
   "outputs": [],
   "execution_count": 142
  },
  {
   "metadata": {
    "ExecuteTime": {
     "end_time": "2024-12-03T22:09:05.164085Z",
     "start_time": "2024-12-03T22:09:04.734693Z"
    }
   },
   "cell_type": "code",
   "source": [
    "model_II = tf.keras.Sequential([\n",
    "    tf.keras.layers.Input(shape=(SEQUENCE_LENGTH, INPUT_DIM)),    # Input shape: (sequence_length, features)\n",
    "    tf.keras.layers.Bidirectional(tf.keras.layers.LSTM(64, return_sequences=True)),  # LSTM layer to capture temporal patterns\n",
    "    tf.keras.layers.Dense(64, activation='relu'),  \n",
    "    tf.keras.layers.Dense(32, activation='relu'),                # Dense layer to reduce dimensionality\n",
    "    tf.keras.layers.Dense(OUTPUT_DIM, activation='sigmoid')       # Output layer with sigmoid for continuous values between 0 and 1\n",
    "])"
   ],
   "id": "8ae51ea52a2bf3b6",
   "outputs": [],
   "execution_count": 143
  },
  {
   "metadata": {
    "ExecuteTime": {
     "end_time": "2024-12-03T22:09:05.735638Z",
     "start_time": "2024-12-03T22:09:05.709815Z"
    }
   },
   "cell_type": "code",
   "source": "model_II.compile(optimizer='adam', loss=masked_mean_squared_error, metrics=['mse'])",
   "id": "372ce70cf7533e58",
   "outputs": [],
   "execution_count": 144
  },
  {
   "metadata": {
    "ExecuteTime": {
     "end_time": "2024-12-03T22:09:16.895812Z",
     "start_time": "2024-12-03T22:09:06.542609Z"
    }
   },
   "cell_type": "code",
   "source": [
    "# Iterate through the dataset to extract labels\n",
    "labels = []\n",
    "\n",
    "for inputs, label in train_II:\n",
    "    labels.append(label)\n",
    "\n",
    "# Convert to a tensor or numpy array\n",
    "y_train = np.concatenate(labels, axis=0)  # Stack labels into a single array\n",
    "y_train_flat = y_train.reshape(-1, 6)  # Flattening the labels: (num_samples * 10, 6)\n",
    "y_train_classes = np.argmax(y_train_flat, axis=-1)  # Get the class labels for each timestep (0 to 5)\n",
    "\n",
    "# Calculate class weights based on the frequency of each class\n",
    "class_weights = compute_class_weight('balanced', classes=np.unique(y_train_classes), y=y_train_classes)\n",
    "\n",
    "# Convert class_weights into a dictionary format for fit() function\n",
    "class_weight_dict = {i: class_weights[i] for i in range(len(class_weights))}"
   ],
   "id": "e8a68eae2df2cb21",
   "outputs": [],
   "execution_count": 145
  },
  {
   "metadata": {
    "ExecuteTime": {
     "end_time": "2024-12-03T22:10:59.363303Z",
     "start_time": "2024-12-03T22:09:16.904901Z"
    }
   },
   "cell_type": "code",
   "source": "history = model_II.fit(train_II, epochs=150, batch_size=BATCH_SIZE, class_weight=class_weight_dict)",
   "id": "90c6f6be681e7739",
   "outputs": [
    {
     "name": "stdout",
     "output_type": "stream",
     "text": [
      "Epoch 1/150\n",
      "\u001B[1m27/27\u001B[0m \u001B[32m━━━━━━━━━━━━━━━━━━━━\u001B[0m\u001B[37m\u001B[0m \u001B[1m9s\u001B[0m 23ms/step - loss: 0.5853 - mse: 0.1035\n",
      "Epoch 2/150\n",
      "\u001B[1m27/27\u001B[0m \u001B[32m━━━━━━━━━━━━━━━━━━━━\u001B[0m\u001B[37m\u001B[0m \u001B[1m1s\u001B[0m 20ms/step - loss: 0.1937 - mse: 0.0220\n",
      "Epoch 3/150\n",
      "\u001B[1m27/27\u001B[0m \u001B[32m━━━━━━━━━━━━━━━━━━━━\u001B[0m\u001B[37m\u001B[0m \u001B[1m1s\u001B[0m 19ms/step - loss: 0.1787 - mse: 0.0196\n",
      "Epoch 4/150\n",
      "\u001B[1m27/27\u001B[0m \u001B[32m━━━━━━━━━━━━━━━━━━━━\u001B[0m\u001B[37m\u001B[0m \u001B[1m1s\u001B[0m 20ms/step - loss: 0.1632 - mse: 0.0198\n",
      "Epoch 5/150\n",
      "\u001B[1m27/27\u001B[0m \u001B[32m━━━━━━━━━━━━━━━━━━━━\u001B[0m\u001B[37m\u001B[0m \u001B[1m1s\u001B[0m 17ms/step - loss: 0.1539 - mse: 0.0188\n",
      "Epoch 6/150\n",
      "\u001B[1m27/27\u001B[0m \u001B[32m━━━━━━━━━━━━━━━━━━━━\u001B[0m\u001B[37m\u001B[0m \u001B[1m1s\u001B[0m 16ms/step - loss: 0.1439 - mse: 0.0180\n",
      "Epoch 7/150\n",
      "\u001B[1m27/27\u001B[0m \u001B[32m━━━━━━━━━━━━━━━━━━━━\u001B[0m\u001B[37m\u001B[0m \u001B[1m0s\u001B[0m 16ms/step - loss: 0.1332 - mse: 0.0178\n",
      "Epoch 8/150\n",
      "\u001B[1m27/27\u001B[0m \u001B[32m━━━━━━━━━━━━━━━━━━━━\u001B[0m\u001B[37m\u001B[0m \u001B[1m1s\u001B[0m 16ms/step - loss: 0.1258 - mse: 0.0173\n",
      "Epoch 9/150\n",
      "\u001B[1m27/27\u001B[0m \u001B[32m━━━━━━━━━━━━━━━━━━━━\u001B[0m\u001B[37m\u001B[0m \u001B[1m0s\u001B[0m 16ms/step - loss: 0.1183 - mse: 0.0172\n",
      "Epoch 10/150\n",
      "\u001B[1m27/27\u001B[0m \u001B[32m━━━━━━━━━━━━━━━━━━━━\u001B[0m\u001B[37m\u001B[0m \u001B[1m1s\u001B[0m 15ms/step - loss: 0.1158 - mse: 0.0169\n",
      "Epoch 11/150\n",
      "\u001B[1m27/27\u001B[0m \u001B[32m━━━━━━━━━━━━━━━━━━━━\u001B[0m\u001B[37m\u001B[0m \u001B[1m1s\u001B[0m 16ms/step - loss: 0.1216 - mse: 0.0178\n",
      "Epoch 12/150\n",
      "\u001B[1m27/27\u001B[0m \u001B[32m━━━━━━━━━━━━━━━━━━━━\u001B[0m\u001B[37m\u001B[0m \u001B[1m1s\u001B[0m 16ms/step - loss: 0.1161 - mse: 0.0193\n",
      "Epoch 13/150\n",
      "\u001B[1m27/27\u001B[0m \u001B[32m━━━━━━━━━━━━━━━━━━━━\u001B[0m\u001B[37m\u001B[0m \u001B[1m0s\u001B[0m 15ms/step - loss: 0.1104 - mse: 0.0157\n",
      "Epoch 14/150\n",
      "\u001B[1m27/27\u001B[0m \u001B[32m━━━━━━━━━━━━━━━━━━━━\u001B[0m\u001B[37m\u001B[0m \u001B[1m0s\u001B[0m 15ms/step - loss: 0.1052 - mse: 0.0165\n",
      "Epoch 15/150\n",
      "\u001B[1m27/27\u001B[0m \u001B[32m━━━━━━━━━━━━━━━━━━━━\u001B[0m\u001B[37m\u001B[0m \u001B[1m1s\u001B[0m 15ms/step - loss: 0.0945 - mse: 0.0156\n",
      "Epoch 16/150\n",
      "\u001B[1m27/27\u001B[0m \u001B[32m━━━━━━━━━━━━━━━━━━━━\u001B[0m\u001B[37m\u001B[0m \u001B[1m1s\u001B[0m 15ms/step - loss: 0.0884 - mse: 0.0148\n",
      "Epoch 17/150\n",
      "\u001B[1m27/27\u001B[0m \u001B[32m━━━━━━━━━━━━━━━━━━━━\u001B[0m\u001B[37m\u001B[0m \u001B[1m1s\u001B[0m 17ms/step - loss: 0.0874 - mse: 0.0161\n",
      "Epoch 18/150\n",
      "\u001B[1m27/27\u001B[0m \u001B[32m━━━━━━━━━━━━━━━━━━━━\u001B[0m\u001B[37m\u001B[0m \u001B[1m1s\u001B[0m 15ms/step - loss: 0.0870 - mse: 0.0142\n",
      "Epoch 19/150\n",
      "\u001B[1m27/27\u001B[0m \u001B[32m━━━━━━━━━━━━━━━━━━━━\u001B[0m\u001B[37m\u001B[0m \u001B[1m1s\u001B[0m 15ms/step - loss: 0.0792 - mse: 0.0156\n",
      "Epoch 20/150\n",
      "\u001B[1m27/27\u001B[0m \u001B[32m━━━━━━━━━━━━━━━━━━━━\u001B[0m\u001B[37m\u001B[0m \u001B[1m1s\u001B[0m 15ms/step - loss: 0.0804 - mse: 0.0150\n",
      "Epoch 21/150\n",
      "\u001B[1m27/27\u001B[0m \u001B[32m━━━━━━━━━━━━━━━━━━━━\u001B[0m\u001B[37m\u001B[0m \u001B[1m1s\u001B[0m 16ms/step - loss: 0.0760 - mse: 0.0143\n",
      "Epoch 22/150\n",
      "\u001B[1m27/27\u001B[0m \u001B[32m━━━━━━━━━━━━━━━━━━━━\u001B[0m\u001B[37m\u001B[0m \u001B[1m0s\u001B[0m 15ms/step - loss: 0.0764 - mse: 0.0158\n",
      "Epoch 23/150\n",
      "\u001B[1m27/27\u001B[0m \u001B[32m━━━━━━━━━━━━━━━━━━━━\u001B[0m\u001B[37m\u001B[0m \u001B[1m1s\u001B[0m 16ms/step - loss: 0.0857 - mse: 0.0163\n",
      "Epoch 24/150\n",
      "\u001B[1m27/27\u001B[0m \u001B[32m━━━━━━━━━━━━━━━━━━━━\u001B[0m\u001B[37m\u001B[0m \u001B[1m0s\u001B[0m 16ms/step - loss: 0.0754 - mse: 0.0169\n",
      "Epoch 25/150\n",
      "\u001B[1m27/27\u001B[0m \u001B[32m━━━━━━━━━━━━━━━━━━━━\u001B[0m\u001B[37m\u001B[0m \u001B[1m1s\u001B[0m 15ms/step - loss: 0.0864 - mse: 0.0162\n",
      "Epoch 26/150\n",
      "\u001B[1m27/27\u001B[0m \u001B[32m━━━━━━━━━━━━━━━━━━━━\u001B[0m\u001B[37m\u001B[0m \u001B[1m0s\u001B[0m 15ms/step - loss: 0.0723 - mse: 0.0145\n",
      "Epoch 27/150\n",
      "\u001B[1m27/27\u001B[0m \u001B[32m━━━━━━━━━━━━━━━━━━━━\u001B[0m\u001B[37m\u001B[0m \u001B[1m0s\u001B[0m 15ms/step - loss: 0.0682 - mse: 0.0136\n",
      "Epoch 28/150\n",
      "\u001B[1m27/27\u001B[0m \u001B[32m━━━━━━━━━━━━━━━━━━━━\u001B[0m\u001B[37m\u001B[0m \u001B[1m0s\u001B[0m 15ms/step - loss: 0.0755 - mse: 0.0157\n",
      "Epoch 29/150\n",
      "\u001B[1m27/27\u001B[0m \u001B[32m━━━━━━━━━━━━━━━━━━━━\u001B[0m\u001B[37m\u001B[0m \u001B[1m0s\u001B[0m 15ms/step - loss: 0.0644 - mse: 0.0135\n",
      "Epoch 30/150\n",
      "\u001B[1m27/27\u001B[0m \u001B[32m━━━━━━━━━━━━━━━━━━━━\u001B[0m\u001B[37m\u001B[0m \u001B[1m1s\u001B[0m 15ms/step - loss: 0.0593 - mse: 0.0136\n",
      "Epoch 31/150\n",
      "\u001B[1m27/27\u001B[0m \u001B[32m━━━━━━━━━━━━━━━━━━━━\u001B[0m\u001B[37m\u001B[0m \u001B[1m0s\u001B[0m 15ms/step - loss: 0.0565 - mse: 0.0131\n",
      "Epoch 32/150\n",
      "\u001B[1m27/27\u001B[0m \u001B[32m━━━━━━━━━━━━━━━━━━━━\u001B[0m\u001B[37m\u001B[0m \u001B[1m1s\u001B[0m 15ms/step - loss: 0.0551 - mse: 0.0130\n",
      "Epoch 33/150\n",
      "\u001B[1m27/27\u001B[0m \u001B[32m━━━━━━━━━━━━━━━━━━━━\u001B[0m\u001B[37m\u001B[0m \u001B[1m1s\u001B[0m 17ms/step - loss: 0.0510 - mse: 0.0127\n",
      "Epoch 34/150\n",
      "\u001B[1m27/27\u001B[0m \u001B[32m━━━━━━━━━━━━━━━━━━━━\u001B[0m\u001B[37m\u001B[0m \u001B[1m1s\u001B[0m 17ms/step - loss: 0.0510 - mse: 0.0119\n",
      "Epoch 35/150\n",
      "\u001B[1m27/27\u001B[0m \u001B[32m━━━━━━━━━━━━━━━━━━━━\u001B[0m\u001B[37m\u001B[0m \u001B[1m1s\u001B[0m 16ms/step - loss: 0.0538 - mse: 0.0132\n",
      "Epoch 36/150\n",
      "\u001B[1m27/27\u001B[0m \u001B[32m━━━━━━━━━━━━━━━━━━━━\u001B[0m\u001B[37m\u001B[0m \u001B[1m1s\u001B[0m 15ms/step - loss: 0.0481 - mse: 0.0114\n",
      "Epoch 37/150\n",
      "\u001B[1m27/27\u001B[0m \u001B[32m━━━━━━━━━━━━━━━━━━━━\u001B[0m\u001B[37m\u001B[0m \u001B[1m1s\u001B[0m 15ms/step - loss: 0.0471 - mse: 0.0131\n",
      "Epoch 38/150\n",
      "\u001B[1m27/27\u001B[0m \u001B[32m━━━━━━━━━━━━━━━━━━━━\u001B[0m\u001B[37m\u001B[0m \u001B[1m0s\u001B[0m 15ms/step - loss: 0.0544 - mse: 0.0127\n",
      "Epoch 39/150\n",
      "\u001B[1m27/27\u001B[0m \u001B[32m━━━━━━━━━━━━━━━━━━━━\u001B[0m\u001B[37m\u001B[0m \u001B[1m0s\u001B[0m 15ms/step - loss: 0.0485 - mse: 0.0140\n",
      "Epoch 40/150\n",
      "\u001B[1m27/27\u001B[0m \u001B[32m━━━━━━━━━━━━━━━━━━━━\u001B[0m\u001B[37m\u001B[0m \u001B[1m1s\u001B[0m 15ms/step - loss: 0.0518 - mse: 0.0130\n",
      "Epoch 41/150\n",
      "\u001B[1m27/27\u001B[0m \u001B[32m━━━━━━━━━━━━━━━━━━━━\u001B[0m\u001B[37m\u001B[0m \u001B[1m1s\u001B[0m 16ms/step - loss: 0.0449 - mse: 0.0126\n",
      "Epoch 42/150\n",
      "\u001B[1m27/27\u001B[0m \u001B[32m━━━━━━━━━━━━━━━━━━━━\u001B[0m\u001B[37m\u001B[0m \u001B[1m1s\u001B[0m 17ms/step - loss: 0.0457 - mse: 0.0120\n",
      "Epoch 43/150\n",
      "\u001B[1m27/27\u001B[0m \u001B[32m━━━━━━━━━━━━━━━━━━━━\u001B[0m\u001B[37m\u001B[0m \u001B[1m1s\u001B[0m 17ms/step - loss: 0.0437 - mse: 0.0120\n",
      "Epoch 44/150\n",
      "\u001B[1m27/27\u001B[0m \u001B[32m━━━━━━━━━━━━━━━━━━━━\u001B[0m\u001B[37m\u001B[0m \u001B[1m1s\u001B[0m 18ms/step - loss: 0.0401 - mse: 0.0118\n",
      "Epoch 45/150\n",
      "\u001B[1m27/27\u001B[0m \u001B[32m━━━━━━━━━━━━━━━━━━━━\u001B[0m\u001B[37m\u001B[0m \u001B[1m1s\u001B[0m 18ms/step - loss: 0.0408 - mse: 0.0128\n",
      "Epoch 46/150\n",
      "\u001B[1m27/27\u001B[0m \u001B[32m━━━━━━━━━━━━━━━━━━━━\u001B[0m\u001B[37m\u001B[0m \u001B[1m1s\u001B[0m 17ms/step - loss: 0.0441 - mse: 0.0124\n",
      "Epoch 47/150\n",
      "\u001B[1m27/27\u001B[0m \u001B[32m━━━━━━━━━━━━━━━━━━━━\u001B[0m\u001B[37m\u001B[0m \u001B[1m1s\u001B[0m 18ms/step - loss: 0.0415 - mse: 0.0126\n",
      "Epoch 48/150\n",
      "\u001B[1m27/27\u001B[0m \u001B[32m━━━━━━━━━━━━━━━━━━━━\u001B[0m\u001B[37m\u001B[0m \u001B[1m1s\u001B[0m 18ms/step - loss: 0.0393 - mse: 0.0123\n",
      "Epoch 49/150\n",
      "\u001B[1m27/27\u001B[0m \u001B[32m━━━━━━━━━━━━━━━━━━━━\u001B[0m\u001B[37m\u001B[0m \u001B[1m1s\u001B[0m 20ms/step - loss: 0.0424 - mse: 0.0121\n",
      "Epoch 50/150\n",
      "\u001B[1m27/27\u001B[0m \u001B[32m━━━━━━━━━━━━━━━━━━━━\u001B[0m\u001B[37m\u001B[0m \u001B[1m1s\u001B[0m 19ms/step - loss: 0.0418 - mse: 0.0124\n",
      "Epoch 51/150\n",
      "\u001B[1m27/27\u001B[0m \u001B[32m━━━━━━━━━━━━━━━━━━━━\u001B[0m\u001B[37m\u001B[0m \u001B[1m1s\u001B[0m 19ms/step - loss: 0.0391 - mse: 0.0108\n",
      "Epoch 52/150\n",
      "\u001B[1m27/27\u001B[0m \u001B[32m━━━━━━━━━━━━━━━━━━━━\u001B[0m\u001B[37m\u001B[0m \u001B[1m1s\u001B[0m 19ms/step - loss: 0.0407 - mse: 0.0125\n",
      "Epoch 53/150\n",
      "\u001B[1m27/27\u001B[0m \u001B[32m━━━━━━━━━━━━━━━━━━━━\u001B[0m\u001B[37m\u001B[0m \u001B[1m1s\u001B[0m 20ms/step - loss: 0.0431 - mse: 0.0119\n",
      "Epoch 54/150\n",
      "\u001B[1m27/27\u001B[0m \u001B[32m━━━━━━━━━━━━━━━━━━━━\u001B[0m\u001B[37m\u001B[0m \u001B[1m1s\u001B[0m 18ms/step - loss: 0.0384 - mse: 0.0132\n",
      "Epoch 55/150\n",
      "\u001B[1m27/27\u001B[0m \u001B[32m━━━━━━━━━━━━━━━━━━━━\u001B[0m\u001B[37m\u001B[0m \u001B[1m1s\u001B[0m 19ms/step - loss: 0.0384 - mse: 0.0115\n",
      "Epoch 56/150\n",
      "\u001B[1m27/27\u001B[0m \u001B[32m━━━━━━━━━━━━━━━━━━━━\u001B[0m\u001B[37m\u001B[0m \u001B[1m1s\u001B[0m 18ms/step - loss: 0.0341 - mse: 0.0114\n",
      "Epoch 57/150\n",
      "\u001B[1m27/27\u001B[0m \u001B[32m━━━━━━━━━━━━━━━━━━━━\u001B[0m\u001B[37m\u001B[0m \u001B[1m1s\u001B[0m 17ms/step - loss: 0.0322 - mse: 0.0112\n",
      "Epoch 58/150\n",
      "\u001B[1m27/27\u001B[0m \u001B[32m━━━━━━━━━━━━━━━━━━━━\u001B[0m\u001B[37m\u001B[0m \u001B[1m1s\u001B[0m 18ms/step - loss: 0.0327 - mse: 0.0109\n",
      "Epoch 59/150\n",
      "\u001B[1m27/27\u001B[0m \u001B[32m━━━━━━━━━━━━━━━━━━━━\u001B[0m\u001B[37m\u001B[0m \u001B[1m1s\u001B[0m 18ms/step - loss: 0.0336 - mse: 0.0121\n",
      "Epoch 60/150\n",
      "\u001B[1m27/27\u001B[0m \u001B[32m━━━━━━━━━━━━━━━━━━━━\u001B[0m\u001B[37m\u001B[0m \u001B[1m1s\u001B[0m 18ms/step - loss: 0.0345 - mse: 0.0105\n",
      "Epoch 61/150\n",
      "\u001B[1m27/27\u001B[0m \u001B[32m━━━━━━━━━━━━━━━━━━━━\u001B[0m\u001B[37m\u001B[0m \u001B[1m1s\u001B[0m 20ms/step - loss: 0.0343 - mse: 0.0123\n",
      "Epoch 62/150\n",
      "\u001B[1m27/27\u001B[0m \u001B[32m━━━━━━━━━━━━━━━━━━━━\u001B[0m\u001B[37m\u001B[0m \u001B[1m1s\u001B[0m 20ms/step - loss: 0.0319 - mse: 0.0105\n",
      "Epoch 63/150\n",
      "\u001B[1m27/27\u001B[0m \u001B[32m━━━━━━━━━━━━━━━━━━━━\u001B[0m\u001B[37m\u001B[0m \u001B[1m1s\u001B[0m 20ms/step - loss: 0.0336 - mse: 0.0126\n",
      "Epoch 64/150\n",
      "\u001B[1m27/27\u001B[0m \u001B[32m━━━━━━━━━━━━━━━━━━━━\u001B[0m\u001B[37m\u001B[0m \u001B[1m1s\u001B[0m 20ms/step - loss: 0.0373 - mse: 0.0118\n",
      "Epoch 65/150\n",
      "\u001B[1m27/27\u001B[0m \u001B[32m━━━━━━━━━━━━━━━━━━━━\u001B[0m\u001B[37m\u001B[0m \u001B[1m1s\u001B[0m 20ms/step - loss: 0.0336 - mse: 0.0120\n",
      "Epoch 66/150\n",
      "\u001B[1m27/27\u001B[0m \u001B[32m━━━━━━━━━━━━━━━━━━━━\u001B[0m\u001B[37m\u001B[0m \u001B[1m1s\u001B[0m 17ms/step - loss: 0.0353 - mse: 0.0119\n",
      "Epoch 67/150\n",
      "\u001B[1m27/27\u001B[0m \u001B[32m━━━━━━━━━━━━━━━━━━━━\u001B[0m\u001B[37m\u001B[0m \u001B[1m1s\u001B[0m 21ms/step - loss: 0.0358 - mse: 0.0117\n",
      "Epoch 68/150\n",
      "\u001B[1m27/27\u001B[0m \u001B[32m━━━━━━━━━━━━━━━━━━━━\u001B[0m\u001B[37m\u001B[0m \u001B[1m1s\u001B[0m 19ms/step - loss: 0.0350 - mse: 0.0118\n",
      "Epoch 69/150\n",
      "\u001B[1m27/27\u001B[0m \u001B[32m━━━━━━━━━━━━━━━━━━━━\u001B[0m\u001B[37m\u001B[0m \u001B[1m1s\u001B[0m 17ms/step - loss: 0.0325 - mse: 0.0113\n",
      "Epoch 70/150\n",
      "\u001B[1m27/27\u001B[0m \u001B[32m━━━━━━━━━━━━━━━━━━━━\u001B[0m\u001B[37m\u001B[0m \u001B[1m1s\u001B[0m 17ms/step - loss: 0.0307 - mse: 0.0111\n",
      "Epoch 71/150\n",
      "\u001B[1m27/27\u001B[0m \u001B[32m━━━━━━━━━━━━━━━━━━━━\u001B[0m\u001B[37m\u001B[0m \u001B[1m1s\u001B[0m 18ms/step - loss: 0.0325 - mse: 0.0118\n",
      "Epoch 72/150\n",
      "\u001B[1m27/27\u001B[0m \u001B[32m━━━━━━━━━━━━━━━━━━━━\u001B[0m\u001B[37m\u001B[0m \u001B[1m1s\u001B[0m 18ms/step - loss: 0.0407 - mse: 0.0123\n",
      "Epoch 73/150\n",
      "\u001B[1m27/27\u001B[0m \u001B[32m━━━━━━━━━━━━━━━━━━━━\u001B[0m\u001B[37m\u001B[0m \u001B[1m1s\u001B[0m 19ms/step - loss: 0.0338 - mse: 0.0125\n",
      "Epoch 74/150\n",
      "\u001B[1m27/27\u001B[0m \u001B[32m━━━━━━━━━━━━━━━━━━━━\u001B[0m\u001B[37m\u001B[0m \u001B[1m1s\u001B[0m 19ms/step - loss: 0.0321 - mse: 0.0111\n",
      "Epoch 75/150\n",
      "\u001B[1m27/27\u001B[0m \u001B[32m━━━━━━━━━━━━━━━━━━━━\u001B[0m\u001B[37m\u001B[0m \u001B[1m1s\u001B[0m 19ms/step - loss: 0.0332 - mse: 0.0120\n",
      "Epoch 76/150\n",
      "\u001B[1m27/27\u001B[0m \u001B[32m━━━━━━━━━━━━━━━━━━━━\u001B[0m\u001B[37m\u001B[0m \u001B[1m1s\u001B[0m 18ms/step - loss: 0.0298 - mse: 0.0104\n",
      "Epoch 77/150\n",
      "\u001B[1m27/27\u001B[0m \u001B[32m━━━━━━━━━━━━━━━━━━━━\u001B[0m\u001B[37m\u001B[0m \u001B[1m1s\u001B[0m 17ms/step - loss: 0.0303 - mse: 0.0115\n",
      "Epoch 78/150\n",
      "\u001B[1m27/27\u001B[0m \u001B[32m━━━━━━━━━━━━━━━━━━━━\u001B[0m\u001B[37m\u001B[0m \u001B[1m1s\u001B[0m 19ms/step - loss: 0.0293 - mse: 0.0110\n",
      "Epoch 79/150\n",
      "\u001B[1m27/27\u001B[0m \u001B[32m━━━━━━━━━━━━━━━━━━━━\u001B[0m\u001B[37m\u001B[0m \u001B[1m1s\u001B[0m 19ms/step - loss: 0.0268 - mse: 0.0112\n",
      "Epoch 80/150\n",
      "\u001B[1m27/27\u001B[0m \u001B[32m━━━━━━━━━━━━━━━━━━━━\u001B[0m\u001B[37m\u001B[0m \u001B[1m1s\u001B[0m 19ms/step - loss: 0.0274 - mse: 0.0102\n",
      "Epoch 81/150\n",
      "\u001B[1m27/27\u001B[0m \u001B[32m━━━━━━━━━━━━━━━━━━━━\u001B[0m\u001B[37m\u001B[0m \u001B[1m1s\u001B[0m 17ms/step - loss: 0.0272 - mse: 0.0114\n",
      "Epoch 82/150\n",
      "\u001B[1m27/27\u001B[0m \u001B[32m━━━━━━━━━━━━━━━━━━━━\u001B[0m\u001B[37m\u001B[0m \u001B[1m1s\u001B[0m 20ms/step - loss: 0.0270 - mse: 0.0105\n",
      "Epoch 83/150\n",
      "\u001B[1m27/27\u001B[0m \u001B[32m━━━━━━━━━━━━━━━━━━━━\u001B[0m\u001B[37m\u001B[0m \u001B[1m1s\u001B[0m 19ms/step - loss: 0.0275 - mse: 0.0111\n",
      "Epoch 84/150\n",
      "\u001B[1m27/27\u001B[0m \u001B[32m━━━━━━━━━━━━━━━━━━━━\u001B[0m\u001B[37m\u001B[0m \u001B[1m1s\u001B[0m 18ms/step - loss: 0.0276 - mse: 0.0105\n",
      "Epoch 85/150\n",
      "\u001B[1m27/27\u001B[0m \u001B[32m━━━━━━━━━━━━━━━━━━━━\u001B[0m\u001B[37m\u001B[0m \u001B[1m1s\u001B[0m 18ms/step - loss: 0.0271 - mse: 0.0110\n",
      "Epoch 86/150\n",
      "\u001B[1m27/27\u001B[0m \u001B[32m━━━━━━━━━━━━━━━━━━━━\u001B[0m\u001B[37m\u001B[0m \u001B[1m1s\u001B[0m 19ms/step - loss: 0.0250 - mse: 0.0114\n",
      "Epoch 87/150\n",
      "\u001B[1m27/27\u001B[0m \u001B[32m━━━━━━━━━━━━━━━━━━━━\u001B[0m\u001B[37m\u001B[0m \u001B[1m1s\u001B[0m 19ms/step - loss: 0.0262 - mse: 0.0104\n",
      "Epoch 88/150\n",
      "\u001B[1m27/27\u001B[0m \u001B[32m━━━━━━━━━━━━━━━━━━━━\u001B[0m\u001B[37m\u001B[0m \u001B[1m1s\u001B[0m 20ms/step - loss: 0.0277 - mse: 0.0114\n",
      "Epoch 89/150\n",
      "\u001B[1m27/27\u001B[0m \u001B[32m━━━━━━━━━━━━━━━━━━━━\u001B[0m\u001B[37m\u001B[0m \u001B[1m1s\u001B[0m 22ms/step - loss: 0.0264 - mse: 0.0097\n",
      "Epoch 90/150\n",
      "\u001B[1m27/27\u001B[0m \u001B[32m━━━━━━━━━━━━━━━━━━━━\u001B[0m\u001B[37m\u001B[0m \u001B[1m1s\u001B[0m 20ms/step - loss: 0.0289 - mse: 0.0121\n",
      "Epoch 91/150\n",
      "\u001B[1m27/27\u001B[0m \u001B[32m━━━━━━━━━━━━━━━━━━━━\u001B[0m\u001B[37m\u001B[0m \u001B[1m1s\u001B[0m 16ms/step - loss: 0.0300 - mse: 0.0105\n",
      "Epoch 92/150\n",
      "\u001B[1m27/27\u001B[0m \u001B[32m━━━━━━━━━━━━━━━━━━━━\u001B[0m\u001B[37m\u001B[0m \u001B[1m1s\u001B[0m 16ms/step - loss: 0.0280 - mse: 0.0119\n",
      "Epoch 93/150\n",
      "\u001B[1m27/27\u001B[0m \u001B[32m━━━━━━━━━━━━━━━━━━━━\u001B[0m\u001B[37m\u001B[0m \u001B[1m1s\u001B[0m 21ms/step - loss: 0.0282 - mse: 0.0107\n",
      "Epoch 94/150\n",
      "\u001B[1m27/27\u001B[0m \u001B[32m━━━━━━━━━━━━━━━━━━━━\u001B[0m\u001B[37m\u001B[0m \u001B[1m1s\u001B[0m 21ms/step - loss: 0.0259 - mse: 0.0111\n",
      "Epoch 95/150\n",
      "\u001B[1m27/27\u001B[0m \u001B[32m━━━━━━━━━━━━━━━━━━━━\u001B[0m\u001B[37m\u001B[0m \u001B[1m1s\u001B[0m 20ms/step - loss: 0.0259 - mse: 0.0110\n",
      "Epoch 96/150\n",
      "\u001B[1m27/27\u001B[0m \u001B[32m━━━━━━━━━━━━━━━━━━━━\u001B[0m\u001B[37m\u001B[0m \u001B[1m1s\u001B[0m 19ms/step - loss: 0.0252 - mse: 0.0106\n",
      "Epoch 97/150\n",
      "\u001B[1m27/27\u001B[0m \u001B[32m━━━━━━━━━━━━━━━━━━━━\u001B[0m\u001B[37m\u001B[0m \u001B[1m1s\u001B[0m 21ms/step - loss: 0.0291 - mse: 0.0118\n",
      "Epoch 98/150\n",
      "\u001B[1m27/27\u001B[0m \u001B[32m━━━━━━━━━━━━━━━━━━━━\u001B[0m\u001B[37m\u001B[0m \u001B[1m1s\u001B[0m 20ms/step - loss: 0.0282 - mse: 0.0105\n",
      "Epoch 99/150\n",
      "\u001B[1m27/27\u001B[0m \u001B[32m━━━━━━━━━━━━━━━━━━━━\u001B[0m\u001B[37m\u001B[0m \u001B[1m1s\u001B[0m 19ms/step - loss: 0.0266 - mse: 0.0121\n",
      "Epoch 100/150\n",
      "\u001B[1m27/27\u001B[0m \u001B[32m━━━━━━━━━━━━━━━━━━━━\u001B[0m\u001B[37m\u001B[0m \u001B[1m1s\u001B[0m 17ms/step - loss: 0.0288 - mse: 0.0112\n",
      "Epoch 101/150\n",
      "\u001B[1m27/27\u001B[0m \u001B[32m━━━━━━━━━━━━━━━━━━━━\u001B[0m\u001B[37m\u001B[0m \u001B[1m1s\u001B[0m 20ms/step - loss: 0.0257 - mse: 0.0113\n",
      "Epoch 102/150\n",
      "\u001B[1m27/27\u001B[0m \u001B[32m━━━━━━━━━━━━━━━━━━━━\u001B[0m\u001B[37m\u001B[0m \u001B[1m1s\u001B[0m 20ms/step - loss: 0.0254 - mse: 0.0102\n",
      "Epoch 103/150\n",
      "\u001B[1m27/27\u001B[0m \u001B[32m━━━━━━━━━━━━━━━━━━━━\u001B[0m\u001B[37m\u001B[0m \u001B[1m1s\u001B[0m 19ms/step - loss: 0.0256 - mse: 0.0114\n",
      "Epoch 104/150\n",
      "\u001B[1m27/27\u001B[0m \u001B[32m━━━━━━━━━━━━━━━━━━━━\u001B[0m\u001B[37m\u001B[0m \u001B[1m1s\u001B[0m 19ms/step - loss: 0.0238 - mse: 0.0106\n",
      "Epoch 105/150\n",
      "\u001B[1m27/27\u001B[0m \u001B[32m━━━━━━━━━━━━━━━━━━━━\u001B[0m\u001B[37m\u001B[0m \u001B[1m1s\u001B[0m 19ms/step - loss: 0.0240 - mse: 0.0108\n",
      "Epoch 106/150\n",
      "\u001B[1m27/27\u001B[0m \u001B[32m━━━━━━━━━━━━━━━━━━━━\u001B[0m\u001B[37m\u001B[0m \u001B[1m1s\u001B[0m 19ms/step - loss: 0.0247 - mse: 0.0105\n",
      "Epoch 107/150\n",
      "\u001B[1m27/27\u001B[0m \u001B[32m━━━━━━━━━━━━━━━━━━━━\u001B[0m\u001B[37m\u001B[0m \u001B[1m1s\u001B[0m 19ms/step - loss: 0.0243 - mse: 0.0109\n",
      "Epoch 108/150\n",
      "\u001B[1m27/27\u001B[0m \u001B[32m━━━━━━━━━━━━━━━━━━━━\u001B[0m\u001B[37m\u001B[0m \u001B[1m1s\u001B[0m 18ms/step - loss: 0.0234 - mse: 0.0108\n",
      "Epoch 109/150\n",
      "\u001B[1m27/27\u001B[0m \u001B[32m━━━━━━━━━━━━━━━━━━━━\u001B[0m\u001B[37m\u001B[0m \u001B[1m1s\u001B[0m 18ms/step - loss: 0.0234 - mse: 0.0106\n",
      "Epoch 110/150\n",
      "\u001B[1m27/27\u001B[0m \u001B[32m━━━━━━━━━━━━━━━━━━━━\u001B[0m\u001B[37m\u001B[0m \u001B[1m1s\u001B[0m 18ms/step - loss: 0.0238 - mse: 0.0112\n",
      "Epoch 111/150\n",
      "\u001B[1m27/27\u001B[0m \u001B[32m━━━━━━━━━━━━━━━━━━━━\u001B[0m\u001B[37m\u001B[0m \u001B[1m1s\u001B[0m 18ms/step - loss: 0.0229 - mse: 0.0103\n",
      "Epoch 112/150\n",
      "\u001B[1m27/27\u001B[0m \u001B[32m━━━━━━━━━━━━━━━━━━━━\u001B[0m\u001B[37m\u001B[0m \u001B[1m1s\u001B[0m 19ms/step - loss: 0.0256 - mse: 0.0113\n",
      "Epoch 113/150\n",
      "\u001B[1m27/27\u001B[0m \u001B[32m━━━━━━━━━━━━━━━━━━━━\u001B[0m\u001B[37m\u001B[0m \u001B[1m1s\u001B[0m 22ms/step - loss: 0.0277 - mse: 0.0111\n",
      "Epoch 114/150\n",
      "\u001B[1m27/27\u001B[0m \u001B[32m━━━━━━━━━━━━━━━━━━━━\u001B[0m\u001B[37m\u001B[0m \u001B[1m1s\u001B[0m 22ms/step - loss: 0.0247 - mse: 0.0116\n",
      "Epoch 115/150\n",
      "\u001B[1m27/27\u001B[0m \u001B[32m━━━━━━━━━━━━━━━━━━━━\u001B[0m\u001B[37m\u001B[0m \u001B[1m1s\u001B[0m 18ms/step - loss: 0.0250 - mse: 0.0106\n",
      "Epoch 116/150\n",
      "\u001B[1m27/27\u001B[0m \u001B[32m━━━━━━━━━━━━━━━━━━━━\u001B[0m\u001B[37m\u001B[0m \u001B[1m1s\u001B[0m 23ms/step - loss: 0.0240 - mse: 0.0110\n",
      "Epoch 117/150\n",
      "\u001B[1m27/27\u001B[0m \u001B[32m━━━━━━━━━━━━━━━━━━━━\u001B[0m\u001B[37m\u001B[0m \u001B[1m1s\u001B[0m 21ms/step - loss: 0.0232 - mse: 0.0106\n",
      "Epoch 118/150\n",
      "\u001B[1m27/27\u001B[0m \u001B[32m━━━━━━━━━━━━━━━━━━━━\u001B[0m\u001B[37m\u001B[0m \u001B[1m1s\u001B[0m 18ms/step - loss: 0.0249 - mse: 0.0110\n",
      "Epoch 119/150\n",
      "\u001B[1m27/27\u001B[0m \u001B[32m━━━━━━━━━━━━━━━━━━━━\u001B[0m\u001B[37m\u001B[0m \u001B[1m1s\u001B[0m 18ms/step - loss: 0.0241 - mse: 0.0110\n",
      "Epoch 120/150\n",
      "\u001B[1m27/27\u001B[0m \u001B[32m━━━━━━━━━━━━━━━━━━━━\u001B[0m\u001B[37m\u001B[0m \u001B[1m1s\u001B[0m 20ms/step - loss: 0.0233 - mse: 0.0111\n",
      "Epoch 121/150\n",
      "\u001B[1m27/27\u001B[0m \u001B[32m━━━━━━━━━━━━━━━━━━━━\u001B[0m\u001B[37m\u001B[0m \u001B[1m1s\u001B[0m 33ms/step - loss: 0.0234 - mse: 0.0109\n",
      "Epoch 122/150\n",
      "\u001B[1m27/27\u001B[0m \u001B[32m━━━━━━━━━━━━━━━━━━━━\u001B[0m\u001B[37m\u001B[0m \u001B[1m1s\u001B[0m 22ms/step - loss: 0.0211 - mse: 0.0107\n",
      "Epoch 123/150\n",
      "\u001B[1m27/27\u001B[0m \u001B[32m━━━━━━━━━━━━━━━━━━━━\u001B[0m\u001B[37m\u001B[0m \u001B[1m1s\u001B[0m 22ms/step - loss: 0.0228 - mse: 0.0111\n",
      "Epoch 124/150\n",
      "\u001B[1m27/27\u001B[0m \u001B[32m━━━━━━━━━━━━━━━━━━━━\u001B[0m\u001B[37m\u001B[0m \u001B[1m1s\u001B[0m 24ms/step - loss: 0.0249 - mse: 0.0104\n",
      "Epoch 125/150\n",
      "\u001B[1m27/27\u001B[0m \u001B[32m━━━━━━━━━━━━━━━━━━━━\u001B[0m\u001B[37m\u001B[0m \u001B[1m1s\u001B[0m 22ms/step - loss: 0.0226 - mse: 0.0114\n",
      "Epoch 126/150\n",
      "\u001B[1m27/27\u001B[0m \u001B[32m━━━━━━━━━━━━━━━━━━━━\u001B[0m\u001B[37m\u001B[0m \u001B[1m1s\u001B[0m 20ms/step - loss: 0.0222 - mse: 0.0106\n",
      "Epoch 127/150\n",
      "\u001B[1m27/27\u001B[0m \u001B[32m━━━━━━━━━━━━━━━━━━━━\u001B[0m\u001B[37m\u001B[0m \u001B[1m1s\u001B[0m 19ms/step - loss: 0.0218 - mse: 0.0108\n",
      "Epoch 128/150\n",
      "\u001B[1m27/27\u001B[0m \u001B[32m━━━━━━━━━━━━━━━━━━━━\u001B[0m\u001B[37m\u001B[0m \u001B[1m1s\u001B[0m 23ms/step - loss: 0.0213 - mse: 0.0105\n",
      "Epoch 129/150\n",
      "\u001B[1m27/27\u001B[0m \u001B[32m━━━━━━━━━━━━━━━━━━━━\u001B[0m\u001B[37m\u001B[0m \u001B[1m1s\u001B[0m 21ms/step - loss: 0.0219 - mse: 0.0112\n",
      "Epoch 130/150\n",
      "\u001B[1m27/27\u001B[0m \u001B[32m━━━━━━━━━━━━━━━━━━━━\u001B[0m\u001B[37m\u001B[0m \u001B[1m1s\u001B[0m 20ms/step - loss: 0.0243 - mse: 0.0107\n",
      "Epoch 131/150\n",
      "\u001B[1m27/27\u001B[0m \u001B[32m━━━━━━━━━━━━━━━━━━━━\u001B[0m\u001B[37m\u001B[0m \u001B[1m1s\u001B[0m 18ms/step - loss: 0.0221 - mse: 0.0111\n",
      "Epoch 132/150\n",
      "\u001B[1m27/27\u001B[0m \u001B[32m━━━━━━━━━━━━━━━━━━━━\u001B[0m\u001B[37m\u001B[0m \u001B[1m1s\u001B[0m 20ms/step - loss: 0.0211 - mse: 0.0109\n",
      "Epoch 133/150\n",
      "\u001B[1m27/27\u001B[0m \u001B[32m━━━━━━━━━━━━━━━━━━━━\u001B[0m\u001B[37m\u001B[0m \u001B[1m1s\u001B[0m 21ms/step - loss: 0.0207 - mse: 0.0103\n",
      "Epoch 134/150\n",
      "\u001B[1m27/27\u001B[0m \u001B[32m━━━━━━━━━━━━━━━━━━━━\u001B[0m\u001B[37m\u001B[0m \u001B[1m1s\u001B[0m 20ms/step - loss: 0.0198 - mse: 0.0107\n",
      "Epoch 135/150\n",
      "\u001B[1m27/27\u001B[0m \u001B[32m━━━━━━━━━━━━━━━━━━━━\u001B[0m\u001B[37m\u001B[0m \u001B[1m1s\u001B[0m 19ms/step - loss: 0.0207 - mse: 0.0103\n",
      "Epoch 136/150\n",
      "\u001B[1m27/27\u001B[0m \u001B[32m━━━━━━━━━━━━━━━━━━━━\u001B[0m\u001B[37m\u001B[0m \u001B[1m1s\u001B[0m 20ms/step - loss: 0.0211 - mse: 0.0115\n",
      "Epoch 137/150\n",
      "\u001B[1m27/27\u001B[0m \u001B[32m━━━━━━━━━━━━━━━━━━━━\u001B[0m\u001B[37m\u001B[0m \u001B[1m1s\u001B[0m 22ms/step - loss: 0.0228 - mse: 0.0103\n",
      "Epoch 138/150\n",
      "\u001B[1m27/27\u001B[0m \u001B[32m━━━━━━━━━━━━━━━━━━━━\u001B[0m\u001B[37m\u001B[0m \u001B[1m1s\u001B[0m 21ms/step - loss: 0.0211 - mse: 0.0109\n",
      "Epoch 139/150\n",
      "\u001B[1m27/27\u001B[0m \u001B[32m━━━━━━━━━━━━━━━━━━━━\u001B[0m\u001B[37m\u001B[0m \u001B[1m1s\u001B[0m 24ms/step - loss: 0.0198 - mse: 0.0101\n",
      "Epoch 140/150\n",
      "\u001B[1m27/27\u001B[0m \u001B[32m━━━━━━━━━━━━━━━━━━━━\u001B[0m\u001B[37m\u001B[0m \u001B[1m1s\u001B[0m 23ms/step - loss: 0.0199 - mse: 0.0109\n",
      "Epoch 141/150\n",
      "\u001B[1m27/27\u001B[0m \u001B[32m━━━━━━━━━━━━━━━━━━━━\u001B[0m\u001B[37m\u001B[0m \u001B[1m1s\u001B[0m 19ms/step - loss: 0.0186 - mse: 0.0107\n",
      "Epoch 142/150\n",
      "\u001B[1m27/27\u001B[0m \u001B[32m━━━━━━━━━━━━━━━━━━━━\u001B[0m\u001B[37m\u001B[0m \u001B[1m1s\u001B[0m 20ms/step - loss: 0.0188 - mse: 0.0106\n",
      "Epoch 143/150\n",
      "\u001B[1m27/27\u001B[0m \u001B[32m━━━━━━━━━━━━━━━━━━━━\u001B[0m\u001B[37m\u001B[0m \u001B[1m1s\u001B[0m 25ms/step - loss: 0.0209 - mse: 0.0100\n",
      "Epoch 144/150\n",
      "\u001B[1m27/27\u001B[0m \u001B[32m━━━━━━━━━━━━━━━━━━━━\u001B[0m\u001B[37m\u001B[0m \u001B[1m1s\u001B[0m 22ms/step - loss: 0.0208 - mse: 0.0108\n",
      "Epoch 145/150\n",
      "\u001B[1m27/27\u001B[0m \u001B[32m━━━━━━━━━━━━━━━━━━━━\u001B[0m\u001B[37m\u001B[0m \u001B[1m1s\u001B[0m 20ms/step - loss: 0.0195 - mse: 0.0100\n",
      "Epoch 146/150\n",
      "\u001B[1m27/27\u001B[0m \u001B[32m━━━━━━━━━━━━━━━━━━━━\u001B[0m\u001B[37m\u001B[0m \u001B[1m1s\u001B[0m 18ms/step - loss: 0.0189 - mse: 0.0109\n",
      "Epoch 147/150\n",
      "\u001B[1m27/27\u001B[0m \u001B[32m━━━━━━━━━━━━━━━━━━━━\u001B[0m\u001B[37m\u001B[0m \u001B[1m1s\u001B[0m 20ms/step - loss: 0.0179 - mse: 0.0100\n",
      "Epoch 148/150\n",
      "\u001B[1m27/27\u001B[0m \u001B[32m━━━━━━━━━━━━━━━━━━━━\u001B[0m\u001B[37m\u001B[0m \u001B[1m1s\u001B[0m 23ms/step - loss: 0.0183 - mse: 0.0107\n",
      "Epoch 149/150\n",
      "\u001B[1m27/27\u001B[0m \u001B[32m━━━━━━━━━━━━━━━━━━━━\u001B[0m\u001B[37m\u001B[0m \u001B[1m1s\u001B[0m 23ms/step - loss: 0.0207 - mse: 0.0106\n",
      "Epoch 150/150\n",
      "\u001B[1m27/27\u001B[0m \u001B[32m━━━━━━━━━━━━━━━━━━━━\u001B[0m\u001B[37m\u001B[0m \u001B[1m1s\u001B[0m 24ms/step - loss: 0.0232 - mse: 0.0106\n"
     ]
    }
   ],
   "execution_count": 146
  },
  {
   "metadata": {
    "ExecuteTime": {
     "end_time": "2024-12-03T22:11:01.351587Z",
     "start_time": "2024-12-03T22:11:01.292593Z"
    }
   },
   "cell_type": "code",
   "source": "model_II.summary()",
   "id": "a934e87493baa466",
   "outputs": [
    {
     "data": {
      "text/plain": [
       "\u001B[1mModel: \"sequential_13\"\u001B[0m\n"
      ],
      "text/html": [
       "<pre style=\"white-space:pre;overflow-x:auto;line-height:normal;font-family:Menlo,'DejaVu Sans Mono',consolas,'Courier New',monospace\"><span style=\"font-weight: bold\">Model: \"sequential_13\"</span>\n",
       "</pre>\n"
      ]
     },
     "metadata": {},
     "output_type": "display_data"
    },
    {
     "data": {
      "text/plain": [
       "┏━━━━━━━━━━━━━━━━━━━━━━━━━━━━━━━━━┳━━━━━━━━━━━━━━━━━━━━━━━━┳━━━━━━━━━━━━━━━┓\n",
       "┃\u001B[1m \u001B[0m\u001B[1mLayer (type)                   \u001B[0m\u001B[1m \u001B[0m┃\u001B[1m \u001B[0m\u001B[1mOutput Shape          \u001B[0m\u001B[1m \u001B[0m┃\u001B[1m \u001B[0m\u001B[1m      Param #\u001B[0m\u001B[1m \u001B[0m┃\n",
       "┡━━━━━━━━━━━━━━━━━━━━━━━━━━━━━━━━━╇━━━━━━━━━━━━━━━━━━━━━━━━╇━━━━━━━━━━━━━━━┩\n",
       "│ bidirectional_13                │ (\u001B[38;5;45mNone\u001B[0m, \u001B[38;5;34m20\u001B[0m, \u001B[38;5;34m128\u001B[0m)        │       \u001B[38;5;34m296,960\u001B[0m │\n",
       "│ (\u001B[38;5;33mBidirectional\u001B[0m)                 │                        │               │\n",
       "├─────────────────────────────────┼────────────────────────┼───────────────┤\n",
       "│ dense_38 (\u001B[38;5;33mDense\u001B[0m)                │ (\u001B[38;5;45mNone\u001B[0m, \u001B[38;5;34m20\u001B[0m, \u001B[38;5;34m64\u001B[0m)         │         \u001B[38;5;34m8,256\u001B[0m │\n",
       "├─────────────────────────────────┼────────────────────────┼───────────────┤\n",
       "│ dense_39 (\u001B[38;5;33mDense\u001B[0m)                │ (\u001B[38;5;45mNone\u001B[0m, \u001B[38;5;34m20\u001B[0m, \u001B[38;5;34m32\u001B[0m)         │         \u001B[38;5;34m2,080\u001B[0m │\n",
       "├─────────────────────────────────┼────────────────────────┼───────────────┤\n",
       "│ dense_40 (\u001B[38;5;33mDense\u001B[0m)                │ (\u001B[38;5;45mNone\u001B[0m, \u001B[38;5;34m20\u001B[0m, \u001B[38;5;34m6\u001B[0m)          │           \u001B[38;5;34m198\u001B[0m │\n",
       "└─────────────────────────────────┴────────────────────────┴───────────────┘\n"
      ],
      "text/html": [
       "<pre style=\"white-space:pre;overflow-x:auto;line-height:normal;font-family:Menlo,'DejaVu Sans Mono',consolas,'Courier New',monospace\">┏━━━━━━━━━━━━━━━━━━━━━━━━━━━━━━━━━┳━━━━━━━━━━━━━━━━━━━━━━━━┳━━━━━━━━━━━━━━━┓\n",
       "┃<span style=\"font-weight: bold\"> Layer (type)                    </span>┃<span style=\"font-weight: bold\"> Output Shape           </span>┃<span style=\"font-weight: bold\">       Param # </span>┃\n",
       "┡━━━━━━━━━━━━━━━━━━━━━━━━━━━━━━━━━╇━━━━━━━━━━━━━━━━━━━━━━━━╇━━━━━━━━━━━━━━━┩\n",
       "│ bidirectional_13                │ (<span style=\"color: #00d7ff; text-decoration-color: #00d7ff\">None</span>, <span style=\"color: #00af00; text-decoration-color: #00af00\">20</span>, <span style=\"color: #00af00; text-decoration-color: #00af00\">128</span>)        │       <span style=\"color: #00af00; text-decoration-color: #00af00\">296,960</span> │\n",
       "│ (<span style=\"color: #0087ff; text-decoration-color: #0087ff\">Bidirectional</span>)                 │                        │               │\n",
       "├─────────────────────────────────┼────────────────────────┼───────────────┤\n",
       "│ dense_38 (<span style=\"color: #0087ff; text-decoration-color: #0087ff\">Dense</span>)                │ (<span style=\"color: #00d7ff; text-decoration-color: #00d7ff\">None</span>, <span style=\"color: #00af00; text-decoration-color: #00af00\">20</span>, <span style=\"color: #00af00; text-decoration-color: #00af00\">64</span>)         │         <span style=\"color: #00af00; text-decoration-color: #00af00\">8,256</span> │\n",
       "├─────────────────────────────────┼────────────────────────┼───────────────┤\n",
       "│ dense_39 (<span style=\"color: #0087ff; text-decoration-color: #0087ff\">Dense</span>)                │ (<span style=\"color: #00d7ff; text-decoration-color: #00d7ff\">None</span>, <span style=\"color: #00af00; text-decoration-color: #00af00\">20</span>, <span style=\"color: #00af00; text-decoration-color: #00af00\">32</span>)         │         <span style=\"color: #00af00; text-decoration-color: #00af00\">2,080</span> │\n",
       "├─────────────────────────────────┼────────────────────────┼───────────────┤\n",
       "│ dense_40 (<span style=\"color: #0087ff; text-decoration-color: #0087ff\">Dense</span>)                │ (<span style=\"color: #00d7ff; text-decoration-color: #00d7ff\">None</span>, <span style=\"color: #00af00; text-decoration-color: #00af00\">20</span>, <span style=\"color: #00af00; text-decoration-color: #00af00\">6</span>)          │           <span style=\"color: #00af00; text-decoration-color: #00af00\">198</span> │\n",
       "└─────────────────────────────────┴────────────────────────┴───────────────┘\n",
       "</pre>\n"
      ]
     },
     "metadata": {},
     "output_type": "display_data"
    },
    {
     "data": {
      "text/plain": [
       "\u001B[1m Total params: \u001B[0m\u001B[38;5;34m922,484\u001B[0m (3.52 MB)\n"
      ],
      "text/html": [
       "<pre style=\"white-space:pre;overflow-x:auto;line-height:normal;font-family:Menlo,'DejaVu Sans Mono',consolas,'Courier New',monospace\"><span style=\"font-weight: bold\"> Total params: </span><span style=\"color: #00af00; text-decoration-color: #00af00\">922,484</span> (3.52 MB)\n",
       "</pre>\n"
      ]
     },
     "metadata": {},
     "output_type": "display_data"
    },
    {
     "data": {
      "text/plain": [
       "\u001B[1m Trainable params: \u001B[0m\u001B[38;5;34m307,494\u001B[0m (1.17 MB)\n"
      ],
      "text/html": [
       "<pre style=\"white-space:pre;overflow-x:auto;line-height:normal;font-family:Menlo,'DejaVu Sans Mono',consolas,'Courier New',monospace\"><span style=\"font-weight: bold\"> Trainable params: </span><span style=\"color: #00af00; text-decoration-color: #00af00\">307,494</span> (1.17 MB)\n",
       "</pre>\n"
      ]
     },
     "metadata": {},
     "output_type": "display_data"
    },
    {
     "data": {
      "text/plain": [
       "\u001B[1m Non-trainable params: \u001B[0m\u001B[38;5;34m0\u001B[0m (0.00 B)\n"
      ],
      "text/html": [
       "<pre style=\"white-space:pre;overflow-x:auto;line-height:normal;font-family:Menlo,'DejaVu Sans Mono',consolas,'Courier New',monospace\"><span style=\"font-weight: bold\"> Non-trainable params: </span><span style=\"color: #00af00; text-decoration-color: #00af00\">0</span> (0.00 B)\n",
       "</pre>\n"
      ]
     },
     "metadata": {},
     "output_type": "display_data"
    },
    {
     "data": {
      "text/plain": [
       "\u001B[1m Optimizer params: \u001B[0m\u001B[38;5;34m614,990\u001B[0m (2.35 MB)\n"
      ],
      "text/html": [
       "<pre style=\"white-space:pre;overflow-x:auto;line-height:normal;font-family:Menlo,'DejaVu Sans Mono',consolas,'Courier New',monospace\"><span style=\"font-weight: bold\"> Optimizer params: </span><span style=\"color: #00af00; text-decoration-color: #00af00\">614,990</span> (2.35 MB)\n",
       "</pre>\n"
      ]
     },
     "metadata": {},
     "output_type": "display_data"
    }
   ],
   "execution_count": 147
  },
  {
   "metadata": {
    "ExecuteTime": {
     "end_time": "2024-12-03T22:11:07.221124Z",
     "start_time": "2024-12-03T22:11:01.530860Z"
    }
   },
   "cell_type": "code",
   "source": [
    "# Evaluate the model\n",
    "loss, acc = model_II.evaluate(full_test_II, verbose=2)\n",
    "print(\"Untrained model, coherence: {:5.2f}%\".format(100 * (1-acc)))"
   ],
   "id": "5d5d5465ef467740",
   "outputs": [
    {
     "name": "stdout",
     "output_type": "stream",
     "text": [
      "13/13 - 6s - 434ms/step - loss: 0.1238 - mse: 0.0220\n",
      "Untrained model, coherence: 97.80%\n"
     ]
    }
   ],
   "execution_count": 148
  },
  {
   "metadata": {
    "ExecuteTime": {
     "end_time": "2024-12-03T22:11:08.505761Z",
     "start_time": "2024-12-03T22:11:07.403955Z"
    }
   },
   "cell_type": "code",
   "source": "model_II.save(os.path.join(path, 'model_method_II/model.keras'))",
   "id": "4f814446e3673c61",
   "outputs": [],
   "execution_count": 149
  }
 ],
 "metadata": {
  "kernelspec": {
   "display_name": "Python 3",
   "language": "python",
   "name": "python3"
  },
  "language_info": {
   "codemirror_mode": {
    "name": "ipython",
    "version": 2
   },
   "file_extension": ".py",
   "mimetype": "text/x-python",
   "name": "python",
   "nbconvert_exporter": "python",
   "pygments_lexer": "ipython2",
   "version": "2.7.6"
  }
 },
 "nbformat": 4,
 "nbformat_minor": 5
}
