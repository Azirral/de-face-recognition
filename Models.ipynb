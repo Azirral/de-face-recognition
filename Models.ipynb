{
 "cells": [
  {
   "metadata": {
    "ExecuteTime": {
     "end_time": "2024-11-26T23:15:34.045707Z",
     "start_time": "2024-11-26T23:15:34.028342Z"
    }
   },
   "cell_type": "code",
   "source": [
    "import numpy as np\n",
    "import pandas as pd\n",
    "import tensorflow as tf\n",
    "import glob\n",
    "import os\n",
    "from sklearn.model_selection import train_test_split\n",
    "from sklearn.preprocessing import OneHotEncoder"
   ],
   "id": "d9c56d637ad6750d",
   "outputs": [],
   "execution_count": 41
  },
  {
   "metadata": {},
   "cell_type": "markdown",
   "source": "Get the input and label files from CSVs",
   "id": "64eb4c47b082c4d0"
  },
  {
   "metadata": {
    "ExecuteTime": {
     "end_time": "2024-11-26T23:15:34.496598Z",
     "start_time": "2024-11-26T23:15:34.452050Z"
    }
   },
   "cell_type": "code",
   "source": [
    "def get_train_test_splitted_data(label_files, input_files, global_mean, global_std, test_size=0.2, random_state=42):\n",
    "    # Initialize lists to hold all sequences\n",
    "    all_x_sequences = []\n",
    "    all_y_sequences = []\n",
    "\n",
    "    # Process each pair of input and label files\n",
    "    for input_file, label_file in zip(input_files, label_files):\n",
    "        # Load data\n",
    "        input_df = pd.read_csv(input_file)\n",
    "        if label_file.endswith('BORIS_method_II.csv'):\n",
    "            label_df = pd.read_csv(label_file)\n",
    "        else:\n",
    "            label_df = pd.read_csv(label_file, dtype=str, na_values=[])    \n",
    "        # Prepare features and labels\n",
    "        features = (input_df.values - global_mean) / global_std\n",
    "        \n",
    "        if label_file.endswith('BORIS_method_II.csv'):\n",
    "            labels = label_df.values / 100\n",
    "        else:\n",
    "            # Define the possible categories explicitly\n",
    "            column_names = ['Happy', 'Sad', 'Scared', 'Disgusted', 'Surprised', 'Angry']\n",
    "\n",
    "            # Create a OneHotEncoder with predefined categories\n",
    "            encoder = OneHotEncoder(categories=[column_names], handle_unknown='ignore')\n",
    "\n",
    "            # Fit and transform the label data\n",
    "            labels = pd.DataFrame(\n",
    "                encoder.fit_transform(label_df).toarray(),\n",
    "                columns=encoder.get_feature_names_out()\n",
    "            )\n",
    "\n",
    "        # Ensure alignment of frames\n",
    "        if features.shape[0] != labels.shape[0]:\n",
    "            print(f\"Mismatch in frames: {input_file}, {label_file}\")\n",
    "            continue\n",
    "            \n",
    "        # Sample sequences\n",
    "        x_sequences, y_sequences = create_sequences(features, labels, SEQUENCE_LENGTH, STRIDE)\n",
    "\n",
    "        # Append to global lists\n",
    "        all_x_sequences.append(x_sequences)\n",
    "        all_y_sequences.append(y_sequences)\n",
    "        \n",
    "    # Concatenate all sequences from all files\n",
    "    all_x_sequences = np.concatenate(all_x_sequences, axis=0)\n",
    "    all_y_sequences = np.concatenate(all_y_sequences, axis=0)\n",
    "\n",
    "    # Split into train and test sets\n",
    "    X_train, X_test, y_train, y_test = train_test_split(\n",
    "        all_x_sequences, all_y_sequences, test_size=test_size, random_state=random_state\n",
    "    )\n",
    "\n",
    "    # Convert to TensorFlow datasets\n",
    "    train_dataset = tf.data.Dataset.from_tensor_slices((X_train, y_train))\n",
    "    test_dataset = tf.data.Dataset.from_tensor_slices((X_test, y_test))\n",
    "\n",
    "    # Shuffle, batch, and prefetch\n",
    "    train_dataset = train_dataset.shuffle(buffer_size=10000).batch(BATCH_SIZE).prefetch(tf.data.experimental.AUTOTUNE)\n",
    "    test_dataset = test_dataset.batch(BATCH_SIZE).prefetch(tf.data.experimental.AUTOTUNE)\n",
    "\n",
    "    return train_dataset, test_dataset"
   ],
   "id": "ae434e5ae1f7eb17",
   "outputs": [],
   "execution_count": 42
  },
  {
   "metadata": {
    "ExecuteTime": {
     "end_time": "2024-11-26T23:15:34.797749Z",
     "start_time": "2024-11-26T23:15:34.789218Z"
    }
   },
   "cell_type": "code",
   "source": [
    "# Constants\n",
    "SEQUENCE_LENGTH = 10\n",
    "STRIDE = 5\n",
    "BATCH_SIZE = 32\n",
    "INPUT_DIM = 515  # Number of features per frame (e.g., biosignals + embeddings)\n",
    "OUTPUT_DIM = 6 "
   ],
   "id": "fd9e239e08954ed1",
   "outputs": [],
   "execution_count": 43
  },
  {
   "metadata": {
    "ExecuteTime": {
     "end_time": "2024-11-26T23:17:16.696023Z",
     "start_time": "2024-11-26T23:15:35.188137Z"
    }
   },
   "cell_type": "code",
   "source": [
    "# Helper function to create random sequences\n",
    "def create_sequences(features, labels, sequence_length, stride):\n",
    "    x_sequences, y_sequences = [], []\n",
    "    for i in range(0, len(features) - sequence_length + 1, stride):\n",
    "        x_sequences.append(features[i:i + sequence_length])\n",
    "        y_sequences.append(labels[i:i + sequence_length])\n",
    "    return np.array(x_sequences), np.array(y_sequences)\n",
    "\n",
    "# Initialize lists to hold all sequences\n",
    "all_x_sequences = []\n",
    "all_y_sequences = []\n",
    "all_features = []\n",
    "\n",
    "sources = [\"GUT\", \"ITU-YU\", \"MAAP\"]\n",
    "base_path = \"//153.19.52.107/emboa/IO3-sessions/NEW STRUCTURE/de-earlyfusionthesis/\"\n",
    "input_files, label_files = [], []\n",
    "\n",
    "for source in sources:\n",
    "    input_files.extend(glob.glob(os.path.join(base_path, source, '*_input.csv')))\n",
    "    label_files.extend(glob.glob(os.path.join(base_path, source, '*_BORIS.csv')))\n",
    "\n",
    "input_files.sort()\n",
    "label_files.sort()\n",
    "\n",
    "i = 0\n",
    "for input_file in input_files:\n",
    "    input_df = pd.read_csv(input_file)\n",
    "    all_features.append(input_df.values)\n",
    "\n",
    "# Concatenate all features from all files to compute global mean and std\n",
    "all_features = np.concatenate(all_features, axis=0)\n",
    "\n",
    "global_mean = all_features.mean(axis=0)\n",
    "global_std = all_features.std(axis=0)\n",
    "\n",
    "# Ensure no division by zero\n",
    "global_std[global_std == 0] = 1\n",
    "\n",
    "GUT_path_input = sorted(glob.glob('//153.19.52.107/emboa/IO3-sessions/NEW STRUCTURE/de-earlyfusionthesis/GUT/*_input.csv'))\n",
    "ITU_YU_path_input = sorted(glob.glob('//153.19.52.107/emboa/IO3-sessions/NEW STRUCTURE/de-earlyfusionthesis/ITU-YU/*_input.csv'))\n",
    "MAAP_path_input = sorted(glob.glob('//153.19.52.107/emboa/IO3-sessions/NEW STRUCTURE/de-earlyfusionthesis/MAAP/*_input.csv'))\n",
    "\n",
    "GUT_path_label_method_I = sorted(glob.glob('//153.19.52.107/emboa/IO3-sessions/NEW STRUCTURE/de-earlyfusionthesis/GUT/*_BORIS_method_I.csv'))\n",
    "ITU_YU_path_label_method_I = sorted(glob.glob('//153.19.52.107/emboa/IO3-sessions/NEW STRUCTURE/de-earlyfusionthesis/ITU-YU/*_BORIS_method_I.csv'))\n",
    "MAAP_path_label_method_I = sorted(glob.glob('//153.19.52.107/emboa/IO3-sessions/NEW STRUCTURE/de-earlyfusionthesis/MAAP/*_BORIS_method_I.csv'))\n",
    "\n",
    "GUT_path_label_method_II = sorted(glob.glob('//153.19.52.107/emboa/IO3-sessions/NEW STRUCTURE/de-earlyfusionthesis/GUT/*_BORIS_method_II.csv'))\n",
    "ITU_YU_path_label_method_II = sorted(glob.glob('//153.19.52.107/emboa/IO3-sessions/NEW STRUCTURE/de-earlyfusionthesis/ITU-YU/*_BORIS_method_II.csv'))\n",
    "MAAP_path_label_method_II = sorted(glob.glob('//153.19.52.107/emboa/IO3-sessions/NEW STRUCTURE/de-earlyfusionthesis/MAAP/*_BORIS_method_II.csv'))\n",
    "\n",
    "GUT_train_method_I, GUT_test_method_I = get_train_test_splitted_data(GUT_path_label_method_I, GUT_path_input, global_mean, global_std, test_size=0.3)\n",
    "ITU_YU_train_method_I, ITU_YU_test_method_I = get_train_test_splitted_data(ITU_YU_path_label_method_I, ITU_YU_path_input, global_mean, global_std, test_size=0.3)\n",
    "MAAP_train_method_I, MAAP_test_method_I = get_train_test_splitted_data(MAAP_path_label_method_I, MAAP_path_input, global_mean, global_std, test_size=0.3)\n",
    "\n",
    "GUT_train_method_II, GUT_test_method_II = get_train_test_splitted_data(GUT_path_label_method_II, GUT_path_input, global_mean, global_std, test_size=0.3)\n",
    "ITU_YU_train_method_II, ITU_YU_test_method_II = get_train_test_splitted_data(ITU_YU_path_label_method_II, ITU_YU_path_input, global_mean, global_std, test_size=0.3)\n",
    "MAAP_train_method_II, MAAP_test_method_II = get_train_test_splitted_data(MAAP_path_label_method_II, MAAP_path_input, global_mean, global_std, test_size=0.3)\n",
    "\n",
    "dataset_method_I = GUT_train_method_I.concatenate(ITU_YU_train_method_I).concatenate(MAAP_train_method_I)\n",
    "dataset_method_II = GUT_train_method_II.concatenate(ITU_YU_train_method_II).concatenate(MAAP_train_method_II)"
   ],
   "id": "3269ede97309fd73",
   "outputs": [],
   "execution_count": 44
  },
  {
   "metadata": {
    "ExecuteTime": {
     "end_time": "2024-11-26T23:17:47.585220Z",
     "start_time": "2024-11-26T23:17:16.937464Z"
    }
   },
   "cell_type": "code",
   "source": [
    "import pandas as pd\n",
    "import numpy as np\n",
    "\n",
    "all_features = []\n",
    "\n",
    "for input_file in input_files:\n",
    "    input_df = pd.read_csv(input_file)\n",
    "    \n",
    "    # Check if the DataFrame contains any NaN\n",
    "    if input_df.isnull().values.any():\n",
    "        print(f\"NaN found in file: {input_file}\")\n",
    "    \n",
    "    all_features.append(input_df.values)\n"
   ],
   "id": "e5a0b0d60d0c3b67",
   "outputs": [],
   "execution_count": 45
  },
  {
   "metadata": {
    "ExecuteTime": {
     "end_time": "2024-11-26T23:20:31.234445Z",
     "start_time": "2024-11-26T23:18:01.122259Z"
    }
   },
   "cell_type": "code",
   "source": [
    "path = r'S:\\IO3-sessions\\NEW STRUCTURE\\de-earlyfusionthesis\\Datasets'\n",
    "\n",
    "tf.data.experimental.save(dataset_method_I ,os.path.join(path, 'train_dataset_method_I'))\n",
    "tf.data.experimental.save(GUT_train_method_I, os.path.join(path, 'GUT_train_method_I'))\n",
    "tf.data.experimental.save(GUT_test_method_I, os.path.join(path, 'GUT_test_method_I'))\n",
    "tf.data.experimental.save(ITU_YU_train_method_I, os.path.join(path, 'ITU_YU_train_method_I'))\n",
    "tf.data.experimental.save(ITU_YU_test_method_I, os.path.join(path, 'ITU_YU_test_method_I'))\n",
    "tf.data.experimental.save(MAAP_train_method_I, os.path.join(path, 'MAAP_train_method_I'))\n",
    "tf.data.experimental.save(MAAP_test_method_I, os.path.join(path, 'MAAP_test_method_I'))\n",
    "\n",
    "tf.data.experimental.save(dataset_method_II ,os.path.join(path, 'train_dataset_method_II'))\n",
    "tf.data.experimental.save(GUT_train_method_II, os.path.join(path, 'GUT_train_method_II'))\n",
    "tf.data.experimental.save(GUT_test_method_II, os.path.join(path, 'GUT_test_method_II'))\n",
    "tf.data.experimental.save(ITU_YU_train_method_II, os.path.join(path, 'ITU_YU_train_method_II'))\n",
    "tf.data.experimental.save(ITU_YU_test_method_II, os.path.join(path, 'ITU_YU_test_method_II'))\n",
    "tf.data.experimental.save(MAAP_train_method_II, os.path.join(path, 'MAAP_train_method_II'))\n",
    "tf.data.experimental.save(MAAP_test_method_II, os.path.join(path, 'MAAP_test_method_II'))"
   ],
   "id": "aa09b06f19e78fe6",
   "outputs": [],
   "execution_count": 47
  },
  {
   "metadata": {
    "ExecuteTime": {
     "end_time": "2024-11-26T23:20:52.344938Z",
     "start_time": "2024-11-26T23:20:52.324659Z"
    }
   },
   "cell_type": "code",
   "source": "path = r'S:\\IO3-sessions\\NEW STRUCTURE\\de-earlyfusionthesis\\Models'",
   "id": "f5858e51c3ae1e4",
   "outputs": [],
   "execution_count": 48
  },
  {
   "metadata": {},
   "cell_type": "markdown",
   "source": "## MODEL I",
   "id": "dd354b421e7b7df1"
  },
  {
   "metadata": {
    "ExecuteTime": {
     "end_time": "2024-11-26T23:21:55.454693Z",
     "start_time": "2024-11-26T23:21:55.394501Z"
    }
   },
   "cell_type": "code",
   "source": [
    "model_I = tf.keras.Sequential([\n",
    "    tf.keras.layers.Input(shape=(SEQUENCE_LENGTH, INPUT_DIM)),    # Input shape: (sequence_length, features)\n",
    "    tf.keras.layers.LSTM(64, return_sequences=True),              # LSTM layer to capture temporal patterns\n",
    "    tf.keras.layers.Dense(32, activation='relu'),                 # Dense layer to reduce dimensionality\n",
    "    tf.keras.layers.Dense(OUTPUT_DIM, activation='softmax')       # Output layer with sigmoid for continuous values between 0 and 1\n",
    "])"
   ],
   "id": "e2ad7b207850414f",
   "outputs": [],
   "execution_count": 55
  },
  {
   "metadata": {
    "ExecuteTime": {
     "end_time": "2024-11-26T23:21:55.722209Z",
     "start_time": "2024-11-26T23:21:55.711841Z"
    }
   },
   "cell_type": "code",
   "source": "model_I.compile(optimizer='adam', loss='categorical_crossentropy', metrics=['accuracy'])",
   "id": "173e19cf70c8f6c7",
   "outputs": [],
   "execution_count": 56
  },
  {
   "metadata": {
    "ExecuteTime": {
     "end_time": "2024-11-26T23:25:12.937236Z",
     "start_time": "2024-11-26T23:21:56.222906Z"
    }
   },
   "cell_type": "code",
   "source": "history = model_I.fit(dataset_method_I, epochs=50)",
   "id": "19ccb585dcf4bcaa",
   "outputs": [
    {
     "name": "stdout",
     "output_type": "stream",
     "text": [
      "Epoch 1/50\n",
      "\u001B[1m225/225\u001B[0m \u001B[32m━━━━━━━━━━━━━━━━━━━━\u001B[0m\u001B[37m\u001B[0m \u001B[1m6s\u001B[0m 12ms/step - accuracy: 0.3683 - loss: 0.1890\n",
      "Epoch 2/50\n",
      "\u001B[1m225/225\u001B[0m \u001B[32m━━━━━━━━━━━━━━━━━━━━\u001B[0m\u001B[37m\u001B[0m \u001B[1m3s\u001B[0m 12ms/step - accuracy: 0.6864 - loss: 0.1590\n",
      "Epoch 3/50\n",
      "\u001B[1m225/225\u001B[0m \u001B[32m━━━━━━━━━━━━━━━━━━━━\u001B[0m\u001B[37m\u001B[0m \u001B[1m2s\u001B[0m 11ms/step - accuracy: 0.7538 - loss: 0.1478\n",
      "Epoch 4/50\n",
      "\u001B[1m225/225\u001B[0m \u001B[32m━━━━━━━━━━━━━━━━━━━━\u001B[0m\u001B[37m\u001B[0m \u001B[1m2s\u001B[0m 11ms/step - accuracy: 0.8029 - loss: 0.1444\n",
      "Epoch 5/50\n",
      "\u001B[1m225/225\u001B[0m \u001B[32m━━━━━━━━━━━━━━━━━━━━\u001B[0m\u001B[37m\u001B[0m \u001B[1m3s\u001B[0m 13ms/step - accuracy: 0.8962 - loss: 0.1395\n",
      "Epoch 6/50\n",
      "\u001B[1m225/225\u001B[0m \u001B[32m━━━━━━━━━━━━━━━━━━━━\u001B[0m\u001B[37m\u001B[0m \u001B[1m3s\u001B[0m 15ms/step - accuracy: 0.8687 - loss: 0.1350\n",
      "Epoch 7/50\n",
      "\u001B[1m225/225\u001B[0m \u001B[32m━━━━━━━━━━━━━━━━━━━━\u001B[0m\u001B[37m\u001B[0m \u001B[1m3s\u001B[0m 13ms/step - accuracy: 0.8983 - loss: 0.1380\n",
      "Epoch 8/50\n",
      "\u001B[1m225/225\u001B[0m \u001B[32m━━━━━━━━━━━━━━━━━━━━\u001B[0m\u001B[37m\u001B[0m \u001B[1m3s\u001B[0m 14ms/step - accuracy: 0.8987 - loss: 0.1335\n",
      "Epoch 9/50\n",
      "\u001B[1m225/225\u001B[0m \u001B[32m━━━━━━━━━━━━━━━━━━━━\u001B[0m\u001B[37m\u001B[0m \u001B[1m3s\u001B[0m 13ms/step - accuracy: 0.8631 - loss: 0.1336\n",
      "Epoch 10/50\n",
      "\u001B[1m225/225\u001B[0m \u001B[32m━━━━━━━━━━━━━━━━━━━━\u001B[0m\u001B[37m\u001B[0m \u001B[1m3s\u001B[0m 13ms/step - accuracy: 0.9444 - loss: 0.1320\n",
      "Epoch 11/50\n",
      "\u001B[1m225/225\u001B[0m \u001B[32m━━━━━━━━━━━━━━━━━━━━\u001B[0m\u001B[37m\u001B[0m \u001B[1m3s\u001B[0m 14ms/step - accuracy: 0.9299 - loss: 0.1265\n",
      "Epoch 12/50\n",
      "\u001B[1m225/225\u001B[0m \u001B[32m━━━━━━━━━━━━━━━━━━━━\u001B[0m\u001B[37m\u001B[0m \u001B[1m3s\u001B[0m 15ms/step - accuracy: 0.9179 - loss: 0.1278\n",
      "Epoch 13/50\n",
      "\u001B[1m225/225\u001B[0m \u001B[32m━━━━━━━━━━━━━━━━━━━━\u001B[0m\u001B[37m\u001B[0m \u001B[1m3s\u001B[0m 14ms/step - accuracy: 0.9630 - loss: 0.1252\n",
      "Epoch 14/50\n",
      "\u001B[1m225/225\u001B[0m \u001B[32m━━━━━━━━━━━━━━━━━━━━\u001B[0m\u001B[37m\u001B[0m \u001B[1m3s\u001B[0m 13ms/step - accuracy: 0.9624 - loss: 0.1248\n",
      "Epoch 15/50\n",
      "\u001B[1m225/225\u001B[0m \u001B[32m━━━━━━━━━━━━━━━━━━━━\u001B[0m\u001B[37m\u001B[0m \u001B[1m3s\u001B[0m 14ms/step - accuracy: 0.9792 - loss: 0.1215\n",
      "Epoch 16/50\n",
      "\u001B[1m225/225\u001B[0m \u001B[32m━━━━━━━━━━━━━━━━━━━━\u001B[0m\u001B[37m\u001B[0m \u001B[1m4s\u001B[0m 16ms/step - accuracy: 0.9896 - loss: 0.1197\n",
      "Epoch 17/50\n",
      "\u001B[1m225/225\u001B[0m \u001B[32m━━━━━━━━━━━━━━━━━━━━\u001B[0m\u001B[37m\u001B[0m \u001B[1m3s\u001B[0m 15ms/step - accuracy: 0.9744 - loss: 0.1187\n",
      "Epoch 18/50\n",
      "\u001B[1m225/225\u001B[0m \u001B[32m━━━━━━━━━━━━━━━━━━━━\u001B[0m\u001B[37m\u001B[0m \u001B[1m3s\u001B[0m 14ms/step - accuracy: 0.9885 - loss: 0.1190\n",
      "Epoch 19/50\n",
      "\u001B[1m225/225\u001B[0m \u001B[32m━━━━━━━━━━━━━━━━━━━━\u001B[0m\u001B[37m\u001B[0m \u001B[1m3s\u001B[0m 14ms/step - accuracy: 0.9304 - loss: 0.1192\n",
      "Epoch 20/50\n",
      "\u001B[1m225/225\u001B[0m \u001B[32m━━━━━━━━━━━━━━━━━━━━\u001B[0m\u001B[37m\u001B[0m \u001B[1m3s\u001B[0m 15ms/step - accuracy: 0.9444 - loss: 0.1159\n",
      "Epoch 21/50\n",
      "\u001B[1m225/225\u001B[0m \u001B[32m━━━━━━━━━━━━━━━━━━━━\u001B[0m\u001B[37m\u001B[0m \u001B[1m4s\u001B[0m 16ms/step - accuracy: 0.9910 - loss: 0.1156\n",
      "Epoch 22/50\n",
      "\u001B[1m225/225\u001B[0m \u001B[32m━━━━━━━━━━━━━━━━━━━━\u001B[0m\u001B[37m\u001B[0m \u001B[1m4s\u001B[0m 18ms/step - accuracy: 0.9766 - loss: 0.1169\n",
      "Epoch 23/50\n",
      "\u001B[1m225/225\u001B[0m \u001B[32m━━━━━━━━━━━━━━━━━━━━\u001B[0m\u001B[37m\u001B[0m \u001B[1m3s\u001B[0m 15ms/step - accuracy: 0.9861 - loss: 0.1154\n",
      "Epoch 24/50\n",
      "\u001B[1m225/225\u001B[0m \u001B[32m━━━━━━━━━━━━━━━━━━━━\u001B[0m\u001B[37m\u001B[0m \u001B[1m3s\u001B[0m 15ms/step - accuracy: 0.9813 - loss: 0.1137\n",
      "Epoch 25/50\n",
      "\u001B[1m225/225\u001B[0m \u001B[32m━━━━━━━━━━━━━━━━━━━━\u001B[0m\u001B[37m\u001B[0m \u001B[1m3s\u001B[0m 15ms/step - accuracy: 0.9277 - loss: 0.1182\n",
      "Epoch 26/50\n",
      "\u001B[1m225/225\u001B[0m \u001B[32m━━━━━━━━━━━━━━━━━━━━\u001B[0m\u001B[37m\u001B[0m \u001B[1m3s\u001B[0m 15ms/step - accuracy: 0.9844 - loss: 0.1135\n",
      "Epoch 27/50\n",
      "\u001B[1m225/225\u001B[0m \u001B[32m━━━━━━━━━━━━━━━━━━━━\u001B[0m\u001B[37m\u001B[0m \u001B[1m3s\u001B[0m 15ms/step - accuracy: 0.9440 - loss: 0.1172\n",
      "Epoch 28/50\n",
      "\u001B[1m225/225\u001B[0m \u001B[32m━━━━━━━━━━━━━━━━━━━━\u001B[0m\u001B[37m\u001B[0m \u001B[1m3s\u001B[0m 15ms/step - accuracy: 0.9738 - loss: 0.1154\n",
      "Epoch 29/50\n",
      "\u001B[1m225/225\u001B[0m \u001B[32m━━━━━━━━━━━━━━━━━━━━\u001B[0m\u001B[37m\u001B[0m \u001B[1m4s\u001B[0m 16ms/step - accuracy: 0.9686 - loss: 0.1087\n",
      "Epoch 30/50\n",
      "\u001B[1m225/225\u001B[0m \u001B[32m━━━━━━━━━━━━━━━━━━━━\u001B[0m\u001B[37m\u001B[0m \u001B[1m6s\u001B[0m 25ms/step - accuracy: 0.9561 - loss: 0.1146\n",
      "Epoch 31/50\n",
      "\u001B[1m225/225\u001B[0m \u001B[32m━━━━━━━━━━━━━━━━━━━━\u001B[0m\u001B[37m\u001B[0m \u001B[1m13s\u001B[0m 57ms/step - accuracy: 0.9202 - loss: 0.1129\n",
      "Epoch 32/50\n",
      "\u001B[1m225/225\u001B[0m \u001B[32m━━━━━━━━━━━━━━━━━━━━\u001B[0m\u001B[37m\u001B[0m \u001B[1m6s\u001B[0m 27ms/step - accuracy: 0.9715 - loss: 0.1100\n",
      "Epoch 33/50\n",
      "\u001B[1m225/225\u001B[0m \u001B[32m━━━━━━━━━━━━━━━━━━━━\u001B[0m\u001B[37m\u001B[0m \u001B[1m5s\u001B[0m 23ms/step - accuracy: 0.9524 - loss: 0.1096\n",
      "Epoch 34/50\n",
      "\u001B[1m225/225\u001B[0m \u001B[32m━━━━━━━━━━━━━━━━━━━━\u001B[0m\u001B[37m\u001B[0m \u001B[1m5s\u001B[0m 22ms/step - accuracy: 0.4750 - loss: 0.1856\n",
      "Epoch 35/50\n",
      "\u001B[1m225/225\u001B[0m \u001B[32m━━━━━━━━━━━━━━━━━━━━\u001B[0m\u001B[37m\u001B[0m \u001B[1m5s\u001B[0m 22ms/step - accuracy: 0.7230 - loss: 0.1289\n",
      "Epoch 36/50\n",
      "\u001B[1m225/225\u001B[0m \u001B[32m━━━━━━━━━━━━━━━━━━━━\u001B[0m\u001B[37m\u001B[0m \u001B[1m4s\u001B[0m 20ms/step - accuracy: 0.9162 - loss: 0.1300\n",
      "Epoch 37/50\n",
      "\u001B[1m225/225\u001B[0m \u001B[32m━━━━━━━━━━━━━━━━━━━━\u001B[0m\u001B[37m\u001B[0m \u001B[1m4s\u001B[0m 16ms/step - accuracy: 0.8997 - loss: 0.1269\n",
      "Epoch 38/50\n",
      "\u001B[1m225/225\u001B[0m \u001B[32m━━━━━━━━━━━━━━━━━━━━\u001B[0m\u001B[37m\u001B[0m \u001B[1m4s\u001B[0m 18ms/step - accuracy: 0.7324 - loss: 0.1322\n",
      "Epoch 39/50\n",
      "\u001B[1m225/225\u001B[0m \u001B[32m━━━━━━━━━━━━━━━━━━━━\u001B[0m\u001B[37m\u001B[0m \u001B[1m4s\u001B[0m 18ms/step - accuracy: 0.8928 - loss: 0.1257\n",
      "Epoch 40/50\n",
      "\u001B[1m225/225\u001B[0m \u001B[32m━━━━━━━━━━━━━━━━━━━━\u001B[0m\u001B[37m\u001B[0m \u001B[1m5s\u001B[0m 16ms/step - accuracy: 0.9277 - loss: 0.1278\n",
      "Epoch 41/50\n",
      "\u001B[1m225/225\u001B[0m \u001B[32m━━━━━━━━━━━━━━━━━━━━\u001B[0m\u001B[37m\u001B[0m \u001B[1m4s\u001B[0m 16ms/step - accuracy: 0.4517 - loss: 0.2601\n",
      "Epoch 42/50\n",
      "\u001B[1m225/225\u001B[0m \u001B[32m━━━━━━━━━━━━━━━━━━━━\u001B[0m\u001B[37m\u001B[0m \u001B[1m4s\u001B[0m 18ms/step - accuracy: 0.8087 - loss: 0.1311\n",
      "Epoch 43/50\n",
      "\u001B[1m225/225\u001B[0m \u001B[32m━━━━━━━━━━━━━━━━━━━━\u001B[0m\u001B[37m\u001B[0m \u001B[1m4s\u001B[0m 20ms/step - accuracy: 0.8319 - loss: 0.1298\n",
      "Epoch 44/50\n",
      "\u001B[1m225/225\u001B[0m \u001B[32m━━━━━━━━━━━━━━━━━━━━\u001B[0m\u001B[37m\u001B[0m \u001B[1m4s\u001B[0m 19ms/step - accuracy: 0.6713 - loss: 0.1778\n",
      "Epoch 45/50\n",
      "\u001B[1m225/225\u001B[0m \u001B[32m━━━━━━━━━━━━━━━━━━━━\u001B[0m\u001B[37m\u001B[0m \u001B[1m4s\u001B[0m 20ms/step - accuracy: 0.4006 - loss: 0.2473\n",
      "Epoch 46/50\n",
      "\u001B[1m225/225\u001B[0m \u001B[32m━━━━━━━━━━━━━━━━━━━━\u001B[0m\u001B[37m\u001B[0m \u001B[1m4s\u001B[0m 16ms/step - accuracy: 0.6371 - loss: 0.1396\n",
      "Epoch 47/50\n",
      "\u001B[1m225/225\u001B[0m \u001B[32m━━━━━━━━━━━━━━━━━━━━\u001B[0m\u001B[37m\u001B[0m \u001B[1m3s\u001B[0m 15ms/step - accuracy: 0.7378 - loss: 0.1402\n",
      "Epoch 48/50\n",
      "\u001B[1m225/225\u001B[0m \u001B[32m━━━━━━━━━━━━━━━━━━━━\u001B[0m\u001B[37m\u001B[0m \u001B[1m4s\u001B[0m 18ms/step - accuracy: 0.8531 - loss: 0.1316\n",
      "Epoch 49/50\n",
      "\u001B[1m225/225\u001B[0m \u001B[32m━━━━━━━━━━━━━━━━━━━━\u001B[0m\u001B[37m\u001B[0m \u001B[1m4s\u001B[0m 16ms/step - accuracy: 0.6209 - loss: 0.1378\n",
      "Epoch 50/50\n",
      "\u001B[1m225/225\u001B[0m \u001B[32m━━━━━━━━━━━━━━━━━━━━\u001B[0m\u001B[37m\u001B[0m \u001B[1m4s\u001B[0m 17ms/step - accuracy: 0.8813 - loss: 0.1322\n"
     ]
    }
   ],
   "execution_count": 57
  },
  {
   "metadata": {
    "ExecuteTime": {
     "end_time": "2024-11-26T23:25:13.214805Z",
     "start_time": "2024-11-26T23:25:12.959614Z"
    }
   },
   "cell_type": "code",
   "source": "model_I.summary()",
   "id": "6235f654319c897",
   "outputs": [
    {
     "data": {
      "text/plain": [
       "\u001B[1mModel: \"sequential_4\"\u001B[0m\n"
      ],
      "text/html": [
       "<pre style=\"white-space:pre;overflow-x:auto;line-height:normal;font-family:Menlo,'DejaVu Sans Mono',consolas,'Courier New',monospace\"><span style=\"font-weight: bold\">Model: \"sequential_4\"</span>\n",
       "</pre>\n"
      ]
     },
     "metadata": {},
     "output_type": "display_data"
    },
    {
     "data": {
      "text/plain": [
       "┏━━━━━━━━━━━━━━━━━━━━━━━━━━━━━━━━━┳━━━━━━━━━━━━━━━━━━━━━━━━┳━━━━━━━━━━━━━━━┓\n",
       "┃\u001B[1m \u001B[0m\u001B[1mLayer (type)                   \u001B[0m\u001B[1m \u001B[0m┃\u001B[1m \u001B[0m\u001B[1mOutput Shape          \u001B[0m\u001B[1m \u001B[0m┃\u001B[1m \u001B[0m\u001B[1m      Param #\u001B[0m\u001B[1m \u001B[0m┃\n",
       "┡━━━━━━━━━━━━━━━━━━━━━━━━━━━━━━━━━╇━━━━━━━━━━━━━━━━━━━━━━━━╇━━━━━━━━━━━━━━━┩\n",
       "│ lstm_4 (\u001B[38;5;33mLSTM\u001B[0m)                   │ (\u001B[38;5;45mNone\u001B[0m, \u001B[38;5;34m10\u001B[0m, \u001B[38;5;34m64\u001B[0m)         │       \u001B[38;5;34m148,480\u001B[0m │\n",
       "├─────────────────────────────────┼────────────────────────┼───────────────┤\n",
       "│ dense_8 (\u001B[38;5;33mDense\u001B[0m)                 │ (\u001B[38;5;45mNone\u001B[0m, \u001B[38;5;34m10\u001B[0m, \u001B[38;5;34m32\u001B[0m)         │         \u001B[38;5;34m2,080\u001B[0m │\n",
       "├─────────────────────────────────┼────────────────────────┼───────────────┤\n",
       "│ dense_9 (\u001B[38;5;33mDense\u001B[0m)                 │ (\u001B[38;5;45mNone\u001B[0m, \u001B[38;5;34m10\u001B[0m, \u001B[38;5;34m6\u001B[0m)          │           \u001B[38;5;34m198\u001B[0m │\n",
       "└─────────────────────────────────┴────────────────────────┴───────────────┘\n"
      ],
      "text/html": [
       "<pre style=\"white-space:pre;overflow-x:auto;line-height:normal;font-family:Menlo,'DejaVu Sans Mono',consolas,'Courier New',monospace\">┏━━━━━━━━━━━━━━━━━━━━━━━━━━━━━━━━━┳━━━━━━━━━━━━━━━━━━━━━━━━┳━━━━━━━━━━━━━━━┓\n",
       "┃<span style=\"font-weight: bold\"> Layer (type)                    </span>┃<span style=\"font-weight: bold\"> Output Shape           </span>┃<span style=\"font-weight: bold\">       Param # </span>┃\n",
       "┡━━━━━━━━━━━━━━━━━━━━━━━━━━━━━━━━━╇━━━━━━━━━━━━━━━━━━━━━━━━╇━━━━━━━━━━━━━━━┩\n",
       "│ lstm_4 (<span style=\"color: #0087ff; text-decoration-color: #0087ff\">LSTM</span>)                   │ (<span style=\"color: #00d7ff; text-decoration-color: #00d7ff\">None</span>, <span style=\"color: #00af00; text-decoration-color: #00af00\">10</span>, <span style=\"color: #00af00; text-decoration-color: #00af00\">64</span>)         │       <span style=\"color: #00af00; text-decoration-color: #00af00\">148,480</span> │\n",
       "├─────────────────────────────────┼────────────────────────┼───────────────┤\n",
       "│ dense_8 (<span style=\"color: #0087ff; text-decoration-color: #0087ff\">Dense</span>)                 │ (<span style=\"color: #00d7ff; text-decoration-color: #00d7ff\">None</span>, <span style=\"color: #00af00; text-decoration-color: #00af00\">10</span>, <span style=\"color: #00af00; text-decoration-color: #00af00\">32</span>)         │         <span style=\"color: #00af00; text-decoration-color: #00af00\">2,080</span> │\n",
       "├─────────────────────────────────┼────────────────────────┼───────────────┤\n",
       "│ dense_9 (<span style=\"color: #0087ff; text-decoration-color: #0087ff\">Dense</span>)                 │ (<span style=\"color: #00d7ff; text-decoration-color: #00d7ff\">None</span>, <span style=\"color: #00af00; text-decoration-color: #00af00\">10</span>, <span style=\"color: #00af00; text-decoration-color: #00af00\">6</span>)          │           <span style=\"color: #00af00; text-decoration-color: #00af00\">198</span> │\n",
       "└─────────────────────────────────┴────────────────────────┴───────────────┘\n",
       "</pre>\n"
      ]
     },
     "metadata": {},
     "output_type": "display_data"
    },
    {
     "data": {
      "text/plain": [
       "\u001B[1m Total params: \u001B[0m\u001B[38;5;34m452,276\u001B[0m (1.73 MB)\n"
      ],
      "text/html": [
       "<pre style=\"white-space:pre;overflow-x:auto;line-height:normal;font-family:Menlo,'DejaVu Sans Mono',consolas,'Courier New',monospace\"><span style=\"font-weight: bold\"> Total params: </span><span style=\"color: #00af00; text-decoration-color: #00af00\">452,276</span> (1.73 MB)\n",
       "</pre>\n"
      ]
     },
     "metadata": {},
     "output_type": "display_data"
    },
    {
     "data": {
      "text/plain": [
       "\u001B[1m Trainable params: \u001B[0m\u001B[38;5;34m150,758\u001B[0m (588.90 KB)\n"
      ],
      "text/html": [
       "<pre style=\"white-space:pre;overflow-x:auto;line-height:normal;font-family:Menlo,'DejaVu Sans Mono',consolas,'Courier New',monospace\"><span style=\"font-weight: bold\"> Trainable params: </span><span style=\"color: #00af00; text-decoration-color: #00af00\">150,758</span> (588.90 KB)\n",
       "</pre>\n"
      ]
     },
     "metadata": {},
     "output_type": "display_data"
    },
    {
     "data": {
      "text/plain": [
       "\u001B[1m Non-trainable params: \u001B[0m\u001B[38;5;34m0\u001B[0m (0.00 B)\n"
      ],
      "text/html": [
       "<pre style=\"white-space:pre;overflow-x:auto;line-height:normal;font-family:Menlo,'DejaVu Sans Mono',consolas,'Courier New',monospace\"><span style=\"font-weight: bold\"> Non-trainable params: </span><span style=\"color: #00af00; text-decoration-color: #00af00\">0</span> (0.00 B)\n",
       "</pre>\n"
      ]
     },
     "metadata": {},
     "output_type": "display_data"
    },
    {
     "data": {
      "text/plain": [
       "\u001B[1m Optimizer params: \u001B[0m\u001B[38;5;34m301,518\u001B[0m (1.15 MB)\n"
      ],
      "text/html": [
       "<pre style=\"white-space:pre;overflow-x:auto;line-height:normal;font-family:Menlo,'DejaVu Sans Mono',consolas,'Courier New',monospace\"><span style=\"font-weight: bold\"> Optimizer params: </span><span style=\"color: #00af00; text-decoration-color: #00af00\">301,518</span> (1.15 MB)\n",
       "</pre>\n"
      ]
     },
     "metadata": {},
     "output_type": "display_data"
    }
   ],
   "execution_count": 58
  },
  {
   "metadata": {
    "ExecuteTime": {
     "end_time": "2024-11-26T23:25:16.320936Z",
     "start_time": "2024-11-26T23:25:13.488283Z"
    }
   },
   "cell_type": "code",
   "source": [
    "# Evaluate the model\n",
    "loss, acc = model_I.evaluate(MAAP_test_method_I, verbose=2)\n",
    "print(\"Untrained model, accuracy: {:5.2f}%\".format(acc))"
   ],
   "id": "8b4a500ad36da8b3",
   "outputs": [
    {
     "name": "stdout",
     "output_type": "stream",
     "text": [
      "72/72 - 3s - 39ms/step - accuracy: 0.0076 - loss: 0.3090\n",
      "Untrained model, accuracy:  0.01%\n"
     ]
    }
   ],
   "execution_count": 59
  },
  {
   "metadata": {
    "ExecuteTime": {
     "end_time": "2024-11-26T23:25:17.202056Z",
     "start_time": "2024-11-26T23:25:16.530523Z"
    }
   },
   "cell_type": "code",
   "source": "model_I.save(os.path.join(path, 'model_method_I/model.keras'))",
   "id": "914d4b9b7968270e",
   "outputs": [],
   "execution_count": 60
  },
  {
   "metadata": {},
   "cell_type": "markdown",
   "source": "## MODEL II",
   "id": "b53443af5c334d33"
  },
  {
   "metadata": {
    "ExecuteTime": {
     "end_time": "2024-11-26T23:25:17.428441Z",
     "start_time": "2024-11-26T23:25:17.262518Z"
    }
   },
   "cell_type": "code",
   "source": [
    "model_II = tf.keras.Sequential([\n",
    "    tf.keras.layers.Input(shape=(SEQUENCE_LENGTH, INPUT_DIM)),    # Input shape: (sequence_length, features)\n",
    "    tf.keras.layers.LSTM(64, return_sequences=True),              # LSTM layer to capture temporal patterns\n",
    "    tf.keras.layers.Dense(32, activation='relu'),                 # Dense layer to reduce dimensionality\n",
    "    tf.keras.layers.Dense(OUTPUT_DIM, activation='sigmoid')       # Output layer with sigmoid for continuous values between 0 and 1\n",
    "])"
   ],
   "id": "8ae51ea52a2bf3b6",
   "outputs": [],
   "execution_count": 61
  },
  {
   "metadata": {
    "ExecuteTime": {
     "end_time": "2024-11-26T23:25:17.691757Z",
     "start_time": "2024-11-26T23:25:17.660288Z"
    }
   },
   "cell_type": "code",
   "source": "model_II.compile(optimizer='adam', loss='mean_squared_error', metrics=['mae'])",
   "id": "372ce70cf7533e58",
   "outputs": [],
   "execution_count": 62
  },
  {
   "metadata": {
    "ExecuteTime": {
     "end_time": "2024-11-26T23:28:32.534032Z",
     "start_time": "2024-11-26T23:25:17.823809Z"
    }
   },
   "cell_type": "code",
   "source": "history = model_II.fit(dataset_method_II, epochs=50)",
   "id": "90c6f6be681e7739",
   "outputs": [
    {
     "name": "stdout",
     "output_type": "stream",
     "text": [
      "Epoch 1/50\n",
      "\u001B[1m225/225\u001B[0m \u001B[32m━━━━━━━━━━━━━━━━━━━━\u001B[0m\u001B[37m\u001B[0m \u001B[1m9s\u001B[0m 24ms/step - loss: 0.0663 - mae: 0.1861\n",
      "Epoch 2/50\n",
      "\u001B[1m225/225\u001B[0m \u001B[32m━━━━━━━━━━━━━━━━━━━━\u001B[0m\u001B[37m\u001B[0m \u001B[1m5s\u001B[0m 20ms/step - loss: 0.0117 - mae: 0.0421\n",
      "Epoch 3/50\n",
      "\u001B[1m225/225\u001B[0m \u001B[32m━━━━━━━━━━━━━━━━━━━━\u001B[0m\u001B[37m\u001B[0m \u001B[1m4s\u001B[0m 18ms/step - loss: 0.0108 - mae: 0.0378\n",
      "Epoch 4/50\n",
      "\u001B[1m225/225\u001B[0m \u001B[32m━━━━━━━━━━━━━━━━━━━━\u001B[0m\u001B[37m\u001B[0m \u001B[1m3s\u001B[0m 15ms/step - loss: 0.0104 - mae: 0.0362\n",
      "Epoch 5/50\n",
      "\u001B[1m225/225\u001B[0m \u001B[32m━━━━━━━━━━━━━━━━━━━━\u001B[0m\u001B[37m\u001B[0m \u001B[1m4s\u001B[0m 16ms/step - loss: 0.0096 - mae: 0.0343\n",
      "Epoch 6/50\n",
      "\u001B[1m225/225\u001B[0m \u001B[32m━━━━━━━━━━━━━━━━━━━━\u001B[0m\u001B[37m\u001B[0m \u001B[1m3s\u001B[0m 14ms/step - loss: 0.0094 - mae: 0.0339\n",
      "Epoch 7/50\n",
      "\u001B[1m225/225\u001B[0m \u001B[32m━━━━━━━━━━━━━━━━━━━━\u001B[0m\u001B[37m\u001B[0m \u001B[1m3s\u001B[0m 14ms/step - loss: 0.0089 - mae: 0.0328\n",
      "Epoch 8/50\n",
      "\u001B[1m225/225\u001B[0m \u001B[32m━━━━━━━━━━━━━━━━━━━━\u001B[0m\u001B[37m\u001B[0m \u001B[1m4s\u001B[0m 16ms/step - loss: 0.0085 - mae: 0.0318\n",
      "Epoch 9/50\n",
      "\u001B[1m225/225\u001B[0m \u001B[32m━━━━━━━━━━━━━━━━━━━━\u001B[0m\u001B[37m\u001B[0m \u001B[1m4s\u001B[0m 16ms/step - loss: 0.0083 - mae: 0.0310\n",
      "Epoch 10/50\n",
      "\u001B[1m225/225\u001B[0m \u001B[32m━━━━━━━━━━━━━━━━━━━━\u001B[0m\u001B[37m\u001B[0m \u001B[1m4s\u001B[0m 16ms/step - loss: 0.0079 - mae: 0.0297\n",
      "Epoch 11/50\n",
      "\u001B[1m225/225\u001B[0m \u001B[32m━━━━━━━━━━━━━━━━━━━━\u001B[0m\u001B[37m\u001B[0m \u001B[1m4s\u001B[0m 17ms/step - loss: 0.0077 - mae: 0.0292\n",
      "Epoch 12/50\n",
      "\u001B[1m225/225\u001B[0m \u001B[32m━━━━━━━━━━━━━━━━━━━━\u001B[0m\u001B[37m\u001B[0m \u001B[1m4s\u001B[0m 16ms/step - loss: 0.0075 - mae: 0.0284\n",
      "Epoch 13/50\n",
      "\u001B[1m225/225\u001B[0m \u001B[32m━━━━━━━━━━━━━━━━━━━━\u001B[0m\u001B[37m\u001B[0m \u001B[1m3s\u001B[0m 15ms/step - loss: 0.0075 - mae: 0.0279\n",
      "Epoch 14/50\n",
      "\u001B[1m225/225\u001B[0m \u001B[32m━━━━━━━━━━━━━━━━━━━━\u001B[0m\u001B[37m\u001B[0m \u001B[1m4s\u001B[0m 16ms/step - loss: 0.0075 - mae: 0.0278\n",
      "Epoch 15/50\n",
      "\u001B[1m225/225\u001B[0m \u001B[32m━━━━━━━━━━━━━━━━━━━━\u001B[0m\u001B[37m\u001B[0m \u001B[1m3s\u001B[0m 14ms/step - loss: 0.0071 - mae: 0.0270\n",
      "Epoch 16/50\n",
      "\u001B[1m225/225\u001B[0m \u001B[32m━━━━━━━━━━━━━━━━━━━━\u001B[0m\u001B[37m\u001B[0m \u001B[1m3s\u001B[0m 13ms/step - loss: 0.0068 - mae: 0.0264\n",
      "Epoch 17/50\n",
      "\u001B[1m225/225\u001B[0m \u001B[32m━━━━━━━━━━━━━━━━━━━━\u001B[0m\u001B[37m\u001B[0m \u001B[1m3s\u001B[0m 15ms/step - loss: 0.0068 - mae: 0.0262\n",
      "Epoch 18/50\n",
      "\u001B[1m225/225\u001B[0m \u001B[32m━━━━━━━━━━━━━━━━━━━━\u001B[0m\u001B[37m\u001B[0m \u001B[1m4s\u001B[0m 16ms/step - loss: 0.0066 - mae: 0.0256\n",
      "Epoch 19/50\n",
      "\u001B[1m225/225\u001B[0m \u001B[32m━━━━━━━━━━━━━━━━━━━━\u001B[0m\u001B[37m\u001B[0m \u001B[1m4s\u001B[0m 17ms/step - loss: 0.0065 - mae: 0.0255\n",
      "Epoch 20/50\n",
      "\u001B[1m225/225\u001B[0m \u001B[32m━━━━━━━━━━━━━━━━━━━━\u001B[0m\u001B[37m\u001B[0m \u001B[1m4s\u001B[0m 17ms/step - loss: 0.0064 - mae: 0.0250\n",
      "Epoch 21/50\n",
      "\u001B[1m225/225\u001B[0m \u001B[32m━━━━━━━━━━━━━━━━━━━━\u001B[0m\u001B[37m\u001B[0m \u001B[1m4s\u001B[0m 20ms/step - loss: 0.0064 - mae: 0.0246\n",
      "Epoch 22/50\n",
      "\u001B[1m225/225\u001B[0m \u001B[32m━━━━━━━━━━━━━━━━━━━━\u001B[0m\u001B[37m\u001B[0m \u001B[1m4s\u001B[0m 16ms/step - loss: 0.0062 - mae: 0.0241\n",
      "Epoch 23/50\n",
      "\u001B[1m225/225\u001B[0m \u001B[32m━━━━━━━━━━━━━━━━━━━━\u001B[0m\u001B[37m\u001B[0m \u001B[1m4s\u001B[0m 20ms/step - loss: 0.0060 - mae: 0.0240\n",
      "Epoch 24/50\n",
      "\u001B[1m225/225\u001B[0m \u001B[32m━━━━━━━━━━━━━━━━━━━━\u001B[0m\u001B[37m\u001B[0m \u001B[1m4s\u001B[0m 16ms/step - loss: 0.0061 - mae: 0.0240\n",
      "Epoch 25/50\n",
      "\u001B[1m225/225\u001B[0m \u001B[32m━━━━━━━━━━━━━━━━━━━━\u001B[0m\u001B[37m\u001B[0m \u001B[1m4s\u001B[0m 19ms/step - loss: 0.0059 - mae: 0.0234\n",
      "Epoch 26/50\n",
      "\u001B[1m225/225\u001B[0m \u001B[32m━━━━━━━━━━━━━━━━━━━━\u001B[0m\u001B[37m\u001B[0m \u001B[1m4s\u001B[0m 18ms/step - loss: 0.0061 - mae: 0.0237\n",
      "Epoch 27/50\n",
      "\u001B[1m225/225\u001B[0m \u001B[32m━━━━━━━━━━━━━━━━━━━━\u001B[0m\u001B[37m\u001B[0m \u001B[1m4s\u001B[0m 18ms/step - loss: 0.0060 - mae: 0.0232\n",
      "Epoch 28/50\n",
      "\u001B[1m225/225\u001B[0m \u001B[32m━━━━━━━━━━━━━━━━━━━━\u001B[0m\u001B[37m\u001B[0m \u001B[1m4s\u001B[0m 18ms/step - loss: 0.0059 - mae: 0.0233\n",
      "Epoch 29/50\n",
      "\u001B[1m225/225\u001B[0m \u001B[32m━━━━━━━━━━━━━━━━━━━━\u001B[0m\u001B[37m\u001B[0m \u001B[1m4s\u001B[0m 17ms/step - loss: 0.0057 - mae: 0.0226\n",
      "Epoch 30/50\n",
      "\u001B[1m225/225\u001B[0m \u001B[32m━━━━━━━━━━━━━━━━━━━━\u001B[0m\u001B[37m\u001B[0m \u001B[1m4s\u001B[0m 17ms/step - loss: 0.0057 - mae: 0.0224\n",
      "Epoch 31/50\n",
      "\u001B[1m225/225\u001B[0m \u001B[32m━━━━━━━━━━━━━━━━━━━━\u001B[0m\u001B[37m\u001B[0m \u001B[1m4s\u001B[0m 17ms/step - loss: 0.0057 - mae: 0.0229\n",
      "Epoch 32/50\n",
      "\u001B[1m225/225\u001B[0m \u001B[32m━━━━━━━━━━━━━━━━━━━━\u001B[0m\u001B[37m\u001B[0m \u001B[1m4s\u001B[0m 18ms/step - loss: 0.0057 - mae: 0.0222\n",
      "Epoch 33/50\n",
      "\u001B[1m225/225\u001B[0m \u001B[32m━━━━━━━━━━━━━━━━━━━━\u001B[0m\u001B[37m\u001B[0m \u001B[1m4s\u001B[0m 17ms/step - loss: 0.0056 - mae: 0.0224\n",
      "Epoch 34/50\n",
      "\u001B[1m225/225\u001B[0m \u001B[32m━━━━━━━━━━━━━━━━━━━━\u001B[0m\u001B[37m\u001B[0m \u001B[1m4s\u001B[0m 17ms/step - loss: 0.0055 - mae: 0.0222\n",
      "Epoch 35/50\n",
      "\u001B[1m225/225\u001B[0m \u001B[32m━━━━━━━━━━━━━━━━━━━━\u001B[0m\u001B[37m\u001B[0m \u001B[1m4s\u001B[0m 18ms/step - loss: 0.0054 - mae: 0.0218\n",
      "Epoch 36/50\n",
      "\u001B[1m225/225\u001B[0m \u001B[32m━━━━━━━━━━━━━━━━━━━━\u001B[0m\u001B[37m\u001B[0m \u001B[1m4s\u001B[0m 18ms/step - loss: 0.0055 - mae: 0.0219\n",
      "Epoch 37/50\n",
      "\u001B[1m225/225\u001B[0m \u001B[32m━━━━━━━━━━━━━━━━━━━━\u001B[0m\u001B[37m\u001B[0m \u001B[1m4s\u001B[0m 16ms/step - loss: 0.0054 - mae: 0.0221\n",
      "Epoch 38/50\n",
      "\u001B[1m225/225\u001B[0m \u001B[32m━━━━━━━━━━━━━━━━━━━━\u001B[0m\u001B[37m\u001B[0m \u001B[1m4s\u001B[0m 16ms/step - loss: 0.0053 - mae: 0.0216\n",
      "Epoch 39/50\n",
      "\u001B[1m225/225\u001B[0m \u001B[32m━━━━━━━━━━━━━━━━━━━━\u001B[0m\u001B[37m\u001B[0m \u001B[1m4s\u001B[0m 17ms/step - loss: 0.0051 - mae: 0.0210\n",
      "Epoch 40/50\n",
      "\u001B[1m225/225\u001B[0m \u001B[32m━━━━━━━━━━━━━━━━━━━━\u001B[0m\u001B[37m\u001B[0m \u001B[1m4s\u001B[0m 16ms/step - loss: 0.0053 - mae: 0.0215\n",
      "Epoch 41/50\n",
      "\u001B[1m225/225\u001B[0m \u001B[32m━━━━━━━━━━━━━━━━━━━━\u001B[0m\u001B[37m\u001B[0m \u001B[1m4s\u001B[0m 17ms/step - loss: 0.0052 - mae: 0.0213\n",
      "Epoch 42/50\n",
      "\u001B[1m225/225\u001B[0m \u001B[32m━━━━━━━━━━━━━━━━━━━━\u001B[0m\u001B[37m\u001B[0m \u001B[1m4s\u001B[0m 17ms/step - loss: 0.0054 - mae: 0.0217\n",
      "Epoch 43/50\n",
      "\u001B[1m225/225\u001B[0m \u001B[32m━━━━━━━━━━━━━━━━━━━━\u001B[0m\u001B[37m\u001B[0m \u001B[1m4s\u001B[0m 17ms/step - loss: 0.0052 - mae: 0.0210\n",
      "Epoch 44/50\n",
      "\u001B[1m225/225\u001B[0m \u001B[32m━━━━━━━━━━━━━━━━━━━━\u001B[0m\u001B[37m\u001B[0m \u001B[1m4s\u001B[0m 16ms/step - loss: 0.0052 - mae: 0.0213\n",
      "Epoch 45/50\n",
      "\u001B[1m225/225\u001B[0m \u001B[32m━━━━━━━━━━━━━━━━━━━━\u001B[0m\u001B[37m\u001B[0m \u001B[1m4s\u001B[0m 18ms/step - loss: 0.0050 - mae: 0.0207\n",
      "Epoch 46/50\n",
      "\u001B[1m225/225\u001B[0m \u001B[32m━━━━━━━━━━━━━━━━━━━━\u001B[0m\u001B[37m\u001B[0m \u001B[1m4s\u001B[0m 17ms/step - loss: 0.0052 - mae: 0.0213\n",
      "Epoch 47/50\n",
      "\u001B[1m225/225\u001B[0m \u001B[32m━━━━━━━━━━━━━━━━━━━━\u001B[0m\u001B[37m\u001B[0m \u001B[1m4s\u001B[0m 17ms/step - loss: 0.0051 - mae: 0.0208\n",
      "Epoch 48/50\n",
      "\u001B[1m225/225\u001B[0m \u001B[32m━━━━━━━━━━━━━━━━━━━━\u001B[0m\u001B[37m\u001B[0m \u001B[1m4s\u001B[0m 18ms/step - loss: 0.0055 - mae: 0.0215\n",
      "Epoch 49/50\n",
      "\u001B[1m225/225\u001B[0m \u001B[32m━━━━━━━━━━━━━━━━━━━━\u001B[0m\u001B[37m\u001B[0m \u001B[1m4s\u001B[0m 17ms/step - loss: 0.0053 - mae: 0.0213\n",
      "Epoch 50/50\n",
      "\u001B[1m225/225\u001B[0m \u001B[32m━━━━━━━━━━━━━━━━━━━━\u001B[0m\u001B[37m\u001B[0m \u001B[1m4s\u001B[0m 16ms/step - loss: 0.0049 - mae: 0.0203\n"
     ]
    }
   ],
   "execution_count": 63
  },
  {
   "metadata": {
    "ExecuteTime": {
     "end_time": "2024-11-26T23:28:32.648433Z",
     "start_time": "2024-11-26T23:28:32.604868Z"
    }
   },
   "cell_type": "code",
   "source": "model_II.summary()",
   "id": "a934e87493baa466",
   "outputs": [
    {
     "data": {
      "text/plain": [
       "\u001B[1mModel: \"sequential_5\"\u001B[0m\n"
      ],
      "text/html": [
       "<pre style=\"white-space:pre;overflow-x:auto;line-height:normal;font-family:Menlo,'DejaVu Sans Mono',consolas,'Courier New',monospace\"><span style=\"font-weight: bold\">Model: \"sequential_5\"</span>\n",
       "</pre>\n"
      ]
     },
     "metadata": {},
     "output_type": "display_data"
    },
    {
     "data": {
      "text/plain": [
       "┏━━━━━━━━━━━━━━━━━━━━━━━━━━━━━━━━━┳━━━━━━━━━━━━━━━━━━━━━━━━┳━━━━━━━━━━━━━━━┓\n",
       "┃\u001B[1m \u001B[0m\u001B[1mLayer (type)                   \u001B[0m\u001B[1m \u001B[0m┃\u001B[1m \u001B[0m\u001B[1mOutput Shape          \u001B[0m\u001B[1m \u001B[0m┃\u001B[1m \u001B[0m\u001B[1m      Param #\u001B[0m\u001B[1m \u001B[0m┃\n",
       "┡━━━━━━━━━━━━━━━━━━━━━━━━━━━━━━━━━╇━━━━━━━━━━━━━━━━━━━━━━━━╇━━━━━━━━━━━━━━━┩\n",
       "│ lstm_5 (\u001B[38;5;33mLSTM\u001B[0m)                   │ (\u001B[38;5;45mNone\u001B[0m, \u001B[38;5;34m10\u001B[0m, \u001B[38;5;34m64\u001B[0m)         │       \u001B[38;5;34m148,480\u001B[0m │\n",
       "├─────────────────────────────────┼────────────────────────┼───────────────┤\n",
       "│ dense_10 (\u001B[38;5;33mDense\u001B[0m)                │ (\u001B[38;5;45mNone\u001B[0m, \u001B[38;5;34m10\u001B[0m, \u001B[38;5;34m32\u001B[0m)         │         \u001B[38;5;34m2,080\u001B[0m │\n",
       "├─────────────────────────────────┼────────────────────────┼───────────────┤\n",
       "│ dense_11 (\u001B[38;5;33mDense\u001B[0m)                │ (\u001B[38;5;45mNone\u001B[0m, \u001B[38;5;34m10\u001B[0m, \u001B[38;5;34m6\u001B[0m)          │           \u001B[38;5;34m198\u001B[0m │\n",
       "└─────────────────────────────────┴────────────────────────┴───────────────┘\n"
      ],
      "text/html": [
       "<pre style=\"white-space:pre;overflow-x:auto;line-height:normal;font-family:Menlo,'DejaVu Sans Mono',consolas,'Courier New',monospace\">┏━━━━━━━━━━━━━━━━━━━━━━━━━━━━━━━━━┳━━━━━━━━━━━━━━━━━━━━━━━━┳━━━━━━━━━━━━━━━┓\n",
       "┃<span style=\"font-weight: bold\"> Layer (type)                    </span>┃<span style=\"font-weight: bold\"> Output Shape           </span>┃<span style=\"font-weight: bold\">       Param # </span>┃\n",
       "┡━━━━━━━━━━━━━━━━━━━━━━━━━━━━━━━━━╇━━━━━━━━━━━━━━━━━━━━━━━━╇━━━━━━━━━━━━━━━┩\n",
       "│ lstm_5 (<span style=\"color: #0087ff; text-decoration-color: #0087ff\">LSTM</span>)                   │ (<span style=\"color: #00d7ff; text-decoration-color: #00d7ff\">None</span>, <span style=\"color: #00af00; text-decoration-color: #00af00\">10</span>, <span style=\"color: #00af00; text-decoration-color: #00af00\">64</span>)         │       <span style=\"color: #00af00; text-decoration-color: #00af00\">148,480</span> │\n",
       "├─────────────────────────────────┼────────────────────────┼───────────────┤\n",
       "│ dense_10 (<span style=\"color: #0087ff; text-decoration-color: #0087ff\">Dense</span>)                │ (<span style=\"color: #00d7ff; text-decoration-color: #00d7ff\">None</span>, <span style=\"color: #00af00; text-decoration-color: #00af00\">10</span>, <span style=\"color: #00af00; text-decoration-color: #00af00\">32</span>)         │         <span style=\"color: #00af00; text-decoration-color: #00af00\">2,080</span> │\n",
       "├─────────────────────────────────┼────────────────────────┼───────────────┤\n",
       "│ dense_11 (<span style=\"color: #0087ff; text-decoration-color: #0087ff\">Dense</span>)                │ (<span style=\"color: #00d7ff; text-decoration-color: #00d7ff\">None</span>, <span style=\"color: #00af00; text-decoration-color: #00af00\">10</span>, <span style=\"color: #00af00; text-decoration-color: #00af00\">6</span>)          │           <span style=\"color: #00af00; text-decoration-color: #00af00\">198</span> │\n",
       "└─────────────────────────────────┴────────────────────────┴───────────────┘\n",
       "</pre>\n"
      ]
     },
     "metadata": {},
     "output_type": "display_data"
    },
    {
     "data": {
      "text/plain": [
       "\u001B[1m Total params: \u001B[0m\u001B[38;5;34m452,276\u001B[0m (1.73 MB)\n"
      ],
      "text/html": [
       "<pre style=\"white-space:pre;overflow-x:auto;line-height:normal;font-family:Menlo,'DejaVu Sans Mono',consolas,'Courier New',monospace\"><span style=\"font-weight: bold\"> Total params: </span><span style=\"color: #00af00; text-decoration-color: #00af00\">452,276</span> (1.73 MB)\n",
       "</pre>\n"
      ]
     },
     "metadata": {},
     "output_type": "display_data"
    },
    {
     "data": {
      "text/plain": [
       "\u001B[1m Trainable params: \u001B[0m\u001B[38;5;34m150,758\u001B[0m (588.90 KB)\n"
      ],
      "text/html": [
       "<pre style=\"white-space:pre;overflow-x:auto;line-height:normal;font-family:Menlo,'DejaVu Sans Mono',consolas,'Courier New',monospace\"><span style=\"font-weight: bold\"> Trainable params: </span><span style=\"color: #00af00; text-decoration-color: #00af00\">150,758</span> (588.90 KB)\n",
       "</pre>\n"
      ]
     },
     "metadata": {},
     "output_type": "display_data"
    },
    {
     "data": {
      "text/plain": [
       "\u001B[1m Non-trainable params: \u001B[0m\u001B[38;5;34m0\u001B[0m (0.00 B)\n"
      ],
      "text/html": [
       "<pre style=\"white-space:pre;overflow-x:auto;line-height:normal;font-family:Menlo,'DejaVu Sans Mono',consolas,'Courier New',monospace\"><span style=\"font-weight: bold\"> Non-trainable params: </span><span style=\"color: #00af00; text-decoration-color: #00af00\">0</span> (0.00 B)\n",
       "</pre>\n"
      ]
     },
     "metadata": {},
     "output_type": "display_data"
    },
    {
     "data": {
      "text/plain": [
       "\u001B[1m Optimizer params: \u001B[0m\u001B[38;5;34m301,518\u001B[0m (1.15 MB)\n"
      ],
      "text/html": [
       "<pre style=\"white-space:pre;overflow-x:auto;line-height:normal;font-family:Menlo,'DejaVu Sans Mono',consolas,'Courier New',monospace\"><span style=\"font-weight: bold\"> Optimizer params: </span><span style=\"color: #00af00; text-decoration-color: #00af00\">301,518</span> (1.15 MB)\n",
       "</pre>\n"
      ]
     },
     "metadata": {},
     "output_type": "display_data"
    }
   ],
   "execution_count": 64
  },
  {
   "metadata": {
    "ExecuteTime": {
     "end_time": "2024-11-26T23:28:35.993762Z",
     "start_time": "2024-11-26T23:28:32.790172Z"
    }
   },
   "cell_type": "code",
   "source": [
    "# Evaluate the model\n",
    "loss, acc = model_II.evaluate(MAAP_test_method_II, verbose=2)\n",
    "print(\"Untrained model, coherence: {:5.2f}%\".format(100 * (1-acc)))"
   ],
   "id": "5d5d5465ef467740",
   "outputs": [
    {
     "name": "stdout",
     "output_type": "stream",
     "text": [
      "72/72 - 3s - 44ms/step - loss: 0.0120 - mae: 0.0367\n",
      "Untrained model, coherence: 96.33%\n"
     ]
    }
   ],
   "execution_count": 65
  },
  {
   "metadata": {
    "ExecuteTime": {
     "end_time": "2024-11-26T23:28:36.389984Z",
     "start_time": "2024-11-26T23:28:36.081329Z"
    }
   },
   "cell_type": "code",
   "source": "model_II.save(os.path.join(path, 'model_method_II/model.keras'))",
   "id": "4f814446e3673c61",
   "outputs": [],
   "execution_count": 66
  },
  {
   "metadata": {},
   "cell_type": "markdown",
   "source": "",
   "id": "ef738c8d809ab7ef"
  }
 ],
 "metadata": {
  "kernelspec": {
   "display_name": "Python 3",
   "language": "python",
   "name": "python3"
  },
  "language_info": {
   "codemirror_mode": {
    "name": "ipython",
    "version": 2
   },
   "file_extension": ".py",
   "mimetype": "text/x-python",
   "name": "python",
   "nbconvert_exporter": "python",
   "pygments_lexer": "ipython2",
   "version": "2.7.6"
  }
 },
 "nbformat": 4,
 "nbformat_minor": 5
}
