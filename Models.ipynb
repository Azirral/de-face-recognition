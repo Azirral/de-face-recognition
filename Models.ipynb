{
 "cells": [
  {
   "metadata": {
    "ExecuteTime": {
     "end_time": "2024-12-07T17:50:03.736888Z",
     "start_time": "2024-12-07T17:49:47.329423Z"
    }
   },
   "cell_type": "code",
   "source": [
    "import numpy as np\n",
    "import pandas as pd\n",
    "import tensorflow as tf\n",
    "import glob\n",
    "import os\n",
    "from sklearn.model_selection import train_test_split\n",
    "from sklearn.preprocessing import OneHotEncoder\n",
    "from sklearn.utils import compute_class_weight\n",
    "from collections import Counter\n",
    "import keras"
   ],
   "id": "d9c56d637ad6750d",
   "outputs": [],
   "execution_count": 1
  },
  {
   "metadata": {},
   "cell_type": "markdown",
   "source": "Get the input and label files from CSVs",
   "id": "64eb4c47b082c4d0"
  },
  {
   "metadata": {
    "ExecuteTime": {
     "end_time": "2024-12-03T19:35:30.670965Z",
     "start_time": "2024-12-03T19:35:30.659744Z"
    }
   },
   "cell_type": "code",
   "source": [
    "def filter_sequences(x_sequences, y_sequences, model):\n",
    "    filtered_x_sequences = []\n",
    "    filtered_y_sequences = []\n",
    "    if model == 'Model I':\n",
    "        for x_seq, y_seq in zip(x_sequences, y_sequences):\n",
    "            if np.any(y_seq[:, 1:] != 0) or (np.sum(y_seq[:, 0] != 0) < 2 and np.any(y_seq[:, 0] != 0)):\n",
    "                filtered_x_sequences.append(x_seq)\n",
    "                filtered_y_sequences.append(y_seq)\n",
    "    else:\n",
    "        for x_seq, y_seq in zip(x_sequences, y_sequences):\n",
    "            if np.any(y_seq[:, 1:] != 0):\n",
    "                filtered_x_sequences.append(x_seq)\n",
    "                filtered_y_sequences.append(y_seq)\n",
    "            \n",
    "    return filtered_x_sequences,filtered_y_sequences\n",
    "    "
   ],
   "id": "c185cf12d8d2d2fc",
   "outputs": [],
   "execution_count": 35
  },
  {
   "metadata": {
    "ExecuteTime": {
     "end_time": "2024-12-03T19:35:30.733215Z",
     "start_time": "2024-12-03T19:35:30.713488Z"
    }
   },
   "cell_type": "code",
   "source": [
    "def get_train_test_splitted_data(label_files, input_files, global_mean, global_std, test_size=0.2, random_state=42):\n",
    "    # Initialize lists to hold all sequences\n",
    "    all_x_sequences = []\n",
    "    all_y_sequences = []\n",
    "    # Process each pair of input and label files\n",
    "    for input_file, label_file in zip(input_files, label_files):\n",
    "        # Load data\n",
    "        input_df = pd.read_csv(input_file)\n",
    "        if label_file.endswith('BORIS_method_II.csv'):\n",
    "            model = 'Model II'\n",
    "            label_df = pd.read_csv(label_file)\n",
    "            labels = label_df.values / 100\n",
    "        else:\n",
    "            model = 'Model I'\n",
    "            label_df = pd.read_csv(label_file, dtype=str, na_values=[])   \n",
    "            column_names = ['Happy', 'Sad', 'Scared', 'Disgusted', 'Surprised', 'Angry']\n",
    "\n",
    "            # Create a OneHotEncoder with predefined categories\n",
    "            encoder = OneHotEncoder(categories=[column_names], handle_unknown='ignore')\n",
    "\n",
    "            # Fit and transform the label data\n",
    "            labels = pd.DataFrame(\n",
    "                encoder.fit_transform(label_df).toarray(),\n",
    "                columns=encoder.get_feature_names_out()\n",
    "            )\n",
    "        # Prepare features and labels\n",
    "        features = (input_df.values - global_mean) / global_std\n",
    "        \n",
    "        # Ensure alignment of frames\n",
    "        if features.shape[0] != labels.shape[0]:\n",
    "            print(f\"Mismatch in frames: {input_file}, {label_file}\")\n",
    "            continue\n",
    "            \n",
    "        # Sample sequences\n",
    "        x_sequences, y_sequences = create_sequences(features, labels, SEQUENCE_LENGTH, STRIDE)\n",
    "        filtered_x_sequences, filtered_y_sequences = filter_sequences(x_sequences, y_sequences, model)\n",
    "        # Append to global lists\n",
    "        if filtered_x_sequences and filtered_y_sequences:\n",
    "            all_x_sequences.append(filtered_x_sequences)\n",
    "            all_y_sequences.append(filtered_y_sequences)\n",
    "            \n",
    "    all_x_sequences = np.concatenate(all_x_sequences, axis=0)\n",
    "    all_y_sequences = np.concatenate(all_y_sequences, axis=0)\n",
    "    # Split into train and test sets\n",
    "    X_train, X_test, y_train, y_test = train_test_split(\n",
    "        all_x_sequences, all_y_sequences, test_size=test_size, random_state=random_state\n",
    "    )\n",
    "\n",
    "    # Convert to TensorFlow datasets\n",
    "    train_dataset = tf.data.Dataset.from_tensor_slices((X_train, y_train))\n",
    "    test_dataset = tf.data.Dataset.from_tensor_slices((X_test, y_test))\n",
    "\n",
    "    # Shuffle, batch, and prefetch\n",
    "    train_dataset = train_dataset.shuffle(buffer_size=10000).batch(BATCH_SIZE).prefetch(tf.data.experimental.AUTOTUNE)\n",
    "    test_dataset = test_dataset.batch(BATCH_SIZE).prefetch(tf.data.experimental.AUTOTUNE)\n",
    "\n",
    "    return train_dataset, test_dataset"
   ],
   "id": "ae434e5ae1f7eb17",
   "outputs": [],
   "execution_count": 36
  },
  {
   "metadata": {
    "ExecuteTime": {
     "end_time": "2024-12-03T19:45:09.760425Z",
     "start_time": "2024-12-03T19:44:10.750122Z"
    }
   },
   "cell_type": "code",
   "source": [
    "def count_method_I(all_y_sequences):\n",
    "    label_counts = Counter()\n",
    "    emotion_labels = ['Happy', 'Sad', 'Disgusted', 'Surprised', 'Angry', 'Scared']\n",
    "    # Loop through each y_sequence in all_y_sequences\n",
    "    for y_sequence in all_y_sequences:\n",
    "        # Loop through each label_vector (timestamp) in the sequence\n",
    "        if np.all(y_sequence == 0):\n",
    "            # Count as 'Neutral' if all values are zero\n",
    "            label_counts['Neutral'] += 1            \n",
    "        else:\n",
    "            # Find the label corresponding to the max value (one-hot or normalized)\n",
    "            label_index = np.argmax(y_sequence)\n",
    "            label_counts[emotion_labels[label_index]] += 1\n",
    "    \n",
    "    # Compute the total number of labels\n",
    "    total_labels = sum(label_counts.values())\n",
    "    \n",
    "    # Convert the Counter to a DataFrame\n",
    "    df = pd.DataFrame.from_dict(label_counts, orient='index', columns=['Count'])\n",
    "    \n",
    "    # Add a new column for percentage\n",
    "    df['Percentage'] = (df['Count'] / total_labels * 100).round(2).astype(str) + '%'  # Format as percentage\n",
    "    \n",
    "    # Reset the index to have labels as a column\n",
    "    df = df.reset_index().rename(columns={'index': 'Label'})\n",
    "    \n",
    "    return df\n",
    "\n",
    "gut_sequences = get_train_test_splitted_data(GUT_path_label_method_I, GUT_path_input, global_mean, global_std, test_size=0.3)\n",
    "ituyu_sequences = get_train_test_splitted_data(ITU_YU_path_label_method_I, ITU_YU_path_input, global_mean, global_std, test_size=0.3)\n",
    "maap_sequences = get_train_test_splitted_data(MAAP_path_label_method_I, MAAP_path_input, global_mean, global_std, test_size=0.3)\n",
    "y_sequences = np.concatenate((gut_sequences, ituyu_sequences, maap_sequences))\n",
    "print(count_method_I(y_sequences.reshape(-1,6)))"
   ],
   "id": "baa1b0a66acb77ba",
   "outputs": [
    {
     "name": "stdout",
     "output_type": "stream",
     "text": [
      "       Label  Count Percentage\n",
      "0    Neutral   5557      75.3%\n",
      "1        Sad    613      8.31%\n",
      "2      Happy    348      4.72%\n",
      "3  Surprised     42      0.57%\n",
      "4      Angry     94      1.27%\n",
      "5     Scared     94      1.27%\n",
      "6  Disgusted    632      8.56%\n"
     ]
    }
   ],
   "execution_count": 46
  },
  {
   "metadata": {
    "ExecuteTime": {
     "end_time": "2024-12-07T17:59:26.049392Z",
     "start_time": "2024-12-07T17:59:26.029958Z"
    }
   },
   "cell_type": "code",
   "source": [
    "def count_method_II(all_y_sequences):\n",
    "    \n",
    "    combined_df = pd.DataFrame(all_y_sequences)\n",
    "\n",
    "    emotion_labels = ['Happy', 'Sad', 'Disgusted', 'Surprised', 'Angry', 'Scared']\n",
    "    \n",
    "    # Calculate the number of rows where each emotion is non-zero\n",
    "    non_zero_counts = (combined_df != 0).sum()  # Counts of non-zero values per column\n",
    "    total_rows = len(combined_df)  # Total number of rows\n",
    "    print(total_rows)\n",
    "    # Calculate the \"Neutral\" count (rows where all values are zero)\n",
    "    neutral_count = (combined_df.sum(axis=1) == 0).sum()\n",
    "    \n",
    "    # Add the \"Neutral\" category to the counts\n",
    "    non_zero_counts[\"Neutral\"] = neutral_count\n",
    "    \n",
    "    result_df = pd.DataFrame(non_zero_counts.items(), columns=['Label', 'Count'])\n",
    "    # Calculate the percentage for each label\n",
    "    result_df['Percentage'] = ((result_df['Count'] / total_rows) * 100).round(2).astype(str) + '%'\n",
    "\n",
    "        # Create a mapping from numbers to emotion labels\n",
    "    label_mapping = {i: emotion_labels[i] for i in range(len(emotion_labels))}\n",
    "    \n",
    "    # Replace the numerical labels with the corresponding emotion labels\n",
    "    result_df['Label'] = result_df['Label'].replace(label_mapping)\n",
    "    \n",
    "    # Display the result\n",
    "    return(result_df)"
   ],
   "id": "9e31a2d0c255647b",
   "outputs": [],
   "execution_count": 18
  },
  {
   "metadata": {
    "ExecuteTime": {
     "end_time": "2024-12-07T17:50:03.784134Z",
     "start_time": "2024-12-07T17:50:03.773710Z"
    }
   },
   "cell_type": "code",
   "source": [
    "# Constants\n",
    "SEQUENCE_LENGTH = 20\n",
    "STRIDE = 10\n",
    "BATCH_SIZE = 32\n",
    "INPUT_DIM = 515  # Number of features per frame (e.g., biosignals + embeddings)\n",
    "OUTPUT_DIM = 6 "
   ],
   "id": "fd9e239e08954ed1",
   "outputs": [],
   "execution_count": 2
  },
  {
   "metadata": {
    "ExecuteTime": {
     "end_time": "2024-12-03T19:14:35.188497Z",
     "start_time": "2024-12-03T19:13:31.063475Z"
    }
   },
   "cell_type": "code",
   "source": [
    "# Helper function to create random sequences\n",
    "def create_sequences(features, labels, sequence_length, stride):\n",
    "    x_sequences, y_sequences = [], []\n",
    "    for i in range(0, len(features) - sequence_length + 1, stride):\n",
    "        x_sequences.append(features[i:i + sequence_length])\n",
    "        y_sequences.append(labels[i:i + sequence_length])\n",
    "    return np.array(x_sequences), np.array(y_sequences)\n",
    "\n",
    "# Initialize lists to hold all sequences\n",
    "all_x_sequences = []\n",
    "all_y_sequences = []\n",
    "all_features = []\n",
    "\n",
    "sources = [\"GUT\", \"ITU-YU\", \"MAAP\"]\n",
    "base_path = \"//153.19.52.107/emboa/IO3-sessions/NEW STRUCTURE/de-earlyfusionthesis/\"\n",
    "input_files, label_files = [], []\n",
    "\n",
    "for source in sources:\n",
    "    input_files.extend(glob.glob(os.path.join(base_path, source, '*_input.csv')))\n",
    "    label_files.extend(glob.glob(os.path.join(base_path, source, '*_BORIS.csv')))\n",
    "\n",
    "input_files.sort()\n",
    "label_files.sort()\n",
    "\n",
    "i = 0\n",
    "for input_file in input_files:\n",
    "    input_df = pd.read_csv(input_file)\n",
    "    all_features.append(input_df.values)\n",
    "\n",
    "# Concatenate all features from all files to compute global mean and std\n",
    "all_features = np.concatenate(all_features, axis=0)\n",
    "\n",
    "num_columns = all_features.shape[1]\n",
    "global_mean_zero = np.zeros(num_columns)\n",
    "global_std_zero = np.zeros(num_columns)\n",
    "\n",
    "# Compute column-wise statistics ignoring zeros\n",
    "for col in range(num_columns):\n",
    "    non_zero_col = all_features[:, col][all_features[:, col] != 0]  # Filter non-zero values\n",
    "    if non_zero_col.size > 0:  # Avoid empty arrays\n",
    "        global_mean_zero[col] = np.mean(non_zero_col)\n",
    "        global_std_zero[col] = np.std(non_zero_col, ddof=1)  # Use sample std dev\n",
    "    else:\n",
    "        global_mean_zero[col] = 0  # Default if no non-zero elements\n",
    "        global_std_zero[col] = 0\n",
    "\n",
    "# Output results as ndarray\n",
    "global_mean = np.array(global_mean_zero)\n",
    "global_std = np.array(global_std_zero)\n"
   ],
   "id": "3269ede97309fd73",
   "outputs": [],
   "execution_count": 7
  },
  {
   "metadata": {
    "ExecuteTime": {
     "end_time": "2024-12-03T19:13:05.588040Z",
     "start_time": "2024-12-03T19:13:05.185704Z"
    }
   },
   "cell_type": "code",
   "source": [
    "GUT_path_input = sorted(glob.glob('//153.19.52.107/emboa/IO3-sessions/NEW STRUCTURE/de-earlyfusionthesis/GUT/*_input.csv'))\n",
    "ITU_YU_path_input = sorted(glob.glob('//153.19.52.107/emboa/IO3-sessions/NEW STRUCTURE/de-earlyfusionthesis/ITU-YU/*_input.csv'))\n",
    "MAAP_path_input = sorted(glob.glob('//153.19.52.107/emboa/IO3-sessions/NEW STRUCTURE/de-earlyfusionthesis/MAAP/*_input.csv'))\n",
    "\n",
    "GUT_path_label_method_I = sorted(glob.glob('//153.19.52.107/emboa/IO3-sessions/NEW STRUCTURE/de-earlyfusionthesis/GUT/*_BORIS_method_I.csv'))\n",
    "ITU_YU_path_label_method_I = sorted(glob.glob('//153.19.52.107/emboa/IO3-sessions/NEW STRUCTURE/de-earlyfusionthesis/ITU-YU/*_BORIS_method_I.csv'))\n",
    "MAAP_path_label_method_I = sorted(glob.glob('//153.19.52.107/emboa/IO3-sessions/NEW STRUCTURE/de-earlyfusionthesis/MAAP/*_BORIS_method_I.csv'))\n",
    "\n",
    "GUT_path_label_method_II = sorted(glob.glob('//153.19.52.107/emboa/IO3-sessions/NEW STRUCTURE/de-earlyfusionthesis/GUT/*_BORIS_method_II.csv'))\n",
    "ITU_YU_path_label_method_II = sorted(glob.glob('//153.19.52.107/emboa/IO3-sessions/NEW STRUCTURE/de-earlyfusionthesis/ITU-YU/*_BORIS_method_II.csv'))\n",
    "MAAP_path_label_method_II = sorted(glob.glob('//153.19.52.107/emboa/IO3-sessions/NEW STRUCTURE/de-earlyfusionthesis/MAAP/*_BORIS_method_II.csv'))\n"
   ],
   "id": "42105060863388e",
   "outputs": [],
   "execution_count": 6
  },
  {
   "metadata": {},
   "cell_type": "code",
   "outputs": [],
   "execution_count": null,
   "source": [
    "GUT_train_method_I, GUT_test_method_I = get_train_test_splitted_data(GUT_path_label_method_I, GUT_path_input, global_mean, global_std, test_size=0.3)\n",
    "ITU_YU_train_method_I, ITU_YU_test_method_I = get_train_test_splitted_data(ITU_YU_path_label_method_I, ITU_YU_path_input, global_mean, global_std, test_size=0.3)\n",
    "MAAP_train_method_I, MAAP_test_method_I = get_train_test_splitted_data(MAAP_path_label_method_I, MAAP_path_input, global_mean, global_std, test_size=0.3)\n",
    "\n",
    "GUT_train_method_II, GUT_test_method_II = get_train_test_splitted_data(GUT_path_label_method_II, GUT_path_input, global_mean, global_std, test_size=0.3)\n",
    "ITU_YU_train_method_II, ITU_YU_test_method_II = get_train_test_splitted_data(ITU_YU_path_label_method_II, ITU_YU_path_input, global_mean, global_std, test_size=0.3)\n",
    "MAAP_train_method_II, MAAP_test_method_II = get_train_test_splitted_data(MAAP_path_label_method_II, MAAP_path_input, global_mean, global_std, test_size=0.3)\n",
    "\n",
    "dataset_method_I = GUT_train_method_I.concatenate(ITU_YU_train_method_I).concatenate(MAAP_train_method_I)\n",
    "dataset_method_II = GUT_train_method_II.concatenate(ITU_YU_train_method_II).concatenate(MAAP_train_method_II)"
   ],
   "id": "ced92d6981d5c78a"
  },
  {
   "metadata": {
    "ExecuteTime": {
     "end_time": "2024-11-27T13:31:11.404634Z",
     "start_time": "2024-11-27T13:30:21.482241Z"
    }
   },
   "cell_type": "code",
   "source": [
    "import pandas as pd\n",
    "import numpy as np\n",
    "\n",
    "all_features = []\n",
    "\n",
    "for input_file in input_files:\n",
    "    input_df = pd.read_csv(input_file)\n",
    "    \n",
    "    # Check if the DataFrame contains any NaN\n",
    "    if input_df.isnull().values.any():\n",
    "        print(f\"NaN found in file: {input_file}\")\n",
    "    \n",
    "    all_features.append(input_df.values)"
   ],
   "id": "e5a0b0d60d0c3b67",
   "outputs": [],
   "execution_count": 16
  },
  {
   "metadata": {
    "ExecuteTime": {
     "end_time": "2024-11-28T16:40:04.529479Z",
     "start_time": "2024-11-28T16:26:19.796129Z"
    }
   },
   "cell_type": "code",
   "source": [
    "# Zakomentowane bo się cykam\n",
    "# path = r'S:\\IO3-sessions\\NEW STRUCTURE\\de-earlyfusionthesis\\Datasets'\n",
    "# \n",
    "# tf.data.Dataset.save(dataset_method_I ,os.path.join(path, 'train_dataset_method_I'))\n",
    "# tf.data.Dataset.save(GUT_train_method_I, os.path.join(path, 'GUT_train_method_I'))\n",
    "# tf.data.Dataset.save(GUT_test_method_I, os.path.join(path, 'GUT_test_method_I'))\n",
    "# tf.data.Dataset.save(ITU_YU_train_method_I, os.path.join(path, 'ITU_YU_train_method_I'))\n",
    "# tf.data.Dataset.save(ITU_YU_test_method_I, os.path.join(path, 'ITU_YU_test_method_I'))\n",
    "# tf.data.Dataset.save(MAAP_train_method_I, os.path.join(path, 'MAAP_train_method_I'))\n",
    "# tf.data.Dataset.save(MAAP_test_method_I, os.path.join(path, 'MAAP_test_method_I'))\n",
    "# \n",
    "# tf.data.Dataset.save(dataset_method_II ,os.path.join(path, 'train_dataset_method_II'))\n",
    "# tf.data.Dataset.save(GUT_train_method_II, os.path.join(path, 'GUT_train_method_II'))\n",
    "# tf.data.Dataset.save(GUT_test_method_II, os.path.join(path, 'GUT_test_method_II'))\n",
    "# tf.data.Dataset.save(ITU_YU_train_method_II, os.path.join(path, 'ITU_YU_train_method_II'))\n",
    "# tf.data.Dataset.save(ITU_YU_test_method_II, os.path.join(path, 'ITU_YU_test_method_II'))\n",
    "# tf.data.Dataset.save(MAAP_train_method_II, os.path.join(path, 'MAAP_train_method_II'))\n",
    "# tf.data.Dataset.save(MAAP_test_method_II, os.path.join(path, 'MAAP_test_method_II'))"
   ],
   "id": "aa09b06f19e78fe6",
   "outputs": [],
   "execution_count": 13
  },
  {
   "metadata": {
    "ExecuteTime": {
     "end_time": "2024-12-03T15:27:55.101416Z",
     "start_time": "2024-12-03T15:27:04.040073Z"
    }
   },
   "cell_type": "code",
   "source": [
    "path = r'S:\\IO3-sessions\\NEW STRUCTURE\\de-earlyfusionthesis\\Datasets'\n",
    "\n",
    "tf.data.Dataset.save(dataset_method_I ,os.path.join(path, 'train_dataset_method_I_balanced'))\n",
    "tf.data.Dataset.save(GUT_train_method_I, os.path.join(path, 'GUT_train_method_I_balanced'))\n",
    "tf.data.Dataset.save(GUT_test_method_I, os.path.join(path, 'GUT_test_method_I_balanced'))\n",
    "tf.data.Dataset.save(ITU_YU_train_method_I, os.path.join(path, 'ITU_YU_train_method_I_balanced'))\n",
    "tf.data.Dataset.save(ITU_YU_test_method_I, os.path.join(path, 'ITU_YU_test_method_I_balanced'))\n",
    "tf.data.Dataset.save(MAAP_train_method_I, os.path.join(path, 'MAAP_train_method_I_balanced'))\n",
    "tf.data.Dataset.save(MAAP_test_method_I, os.path.join(path, 'MAAP_test_method_I_balanced'))\n",
    "\n",
    "tf.data.Dataset.save(dataset_method_II ,os.path.join(path, 'train_dataset_method_II_balanced'))\n",
    "tf.data.Dataset.save(GUT_train_method_II, os.path.join(path, 'GUT_train_method_II_balanced'))\n",
    "tf.data.Dataset.save(GUT_test_method_II, os.path.join(path, 'GUT_test_method_II_balanced'))\n",
    "tf.data.Dataset.save(ITU_YU_train_method_II, os.path.join(path, 'ITU_YU_train_method_II_balanced'))\n",
    "tf.data.Dataset.save(ITU_YU_test_method_II, os.path.join(path, 'ITU_YU_test_method_II_balanced'))\n",
    "tf.data.Dataset.save(MAAP_train_method_II, os.path.join(path, 'MAAP_train_method_II_balanced'))\n",
    "tf.data.Dataset.save(MAAP_test_method_II, os.path.join(path, 'MAAP_test_method_II_balanced'))"
   ],
   "id": "819133b94da11c45",
   "outputs": [],
   "execution_count": 342
  },
  {
   "metadata": {
    "ExecuteTime": {
     "end_time": "2024-12-07T17:50:06.166958Z",
     "start_time": "2024-12-07T17:50:06.158163Z"
    }
   },
   "cell_type": "code",
   "source": "path = r'S:\\IO3-sessions\\NEW STRUCTURE\\de-earlyfusionthesis\\Models'",
   "id": "f5858e51c3ae1e4",
   "outputs": [],
   "execution_count": 4
  },
  {
   "metadata": {
    "ExecuteTime": {
     "end_time": "2024-12-07T17:50:04.742519Z",
     "start_time": "2024-12-07T17:50:03.797823Z"
    }
   },
   "cell_type": "code",
   "source": [
    "path = r'S:\\IO3-sessions\\NEW STRUCTURE\\de-earlyfusionthesis\\Datasets'\n",
    "\n",
    "train_dataset_path_I = os.path.abspath(os.path.join(path, 'train_dataset_method_I_balanced'))\n",
    "GUT_test_path_I = os.path.join(path, 'GUT_test_method_I_balanced').replace(\"\\\\\", \"/\")\n",
    "ITU_YU_test_path_I = os.path.join(path, 'ITU_YU_test_method_I_balanced').replace(\"\\\\\", \"/\")\n",
    "MAAP_test_path_I = os.path.join(path, 'MAAP_test_method_I_balanced').replace(\"\\\\\", \"/\")\n",
    "\n",
    "train_dataset_path_II = os.path.abspath(os.path.join(path, 'train_dataset_method_II_balanced'))\n",
    "GUT_test_path_II = os.path.join(path, 'GUT_test_method_II_balanced').replace(\"\\\\\", \"/\")\n",
    "ITU_YU_test_path_II = os.path.join(path, 'ITU_YU_test_method_II_balanced').replace(\"\\\\\", \"/\")\n",
    "MAAP_test_path_II = os.path.join(path, 'MAAP_test_method_II_balanced').replace(\"\\\\\", \"/\")\n",
    "\n",
    "# Load datasets\n",
    "train_I = tf.data.Dataset.load(train_dataset_path_I)\n",
    "GUT_test_I = tf.data.Dataset.load(GUT_test_path_I)\n",
    "ITU_YU_test_I = tf.data.Dataset.load(ITU_YU_test_path_I)\n",
    "MAAP_test_I = tf.data.Dataset.load(MAAP_test_path_I)\n",
    "\n",
    "train_II = tf.data.Dataset.load(train_dataset_path_II)\n",
    "GUT_test_II = tf.data.Dataset.load(GUT_test_path_II)\n",
    "ITU_YU_test_II = tf.data.Dataset.load(ITU_YU_test_path_II)\n",
    "MAAP_test_II = tf.data.Dataset.load(MAAP_test_path_II)\n",
    "\n",
    "full_test_I = GUT_test_I.concatenate(ITU_YU_test_I).concatenate(MAAP_test_I)\n",
    "full_test_II = GUT_test_II.concatenate(ITU_YU_test_II).concatenate(MAAP_test_II)"
   ],
   "id": "411b72f4e6451888",
   "outputs": [],
   "execution_count": 3
  },
  {
   "metadata": {},
   "cell_type": "markdown",
   "source": "## MODEL I",
   "id": "dd354b421e7b7df1"
  },
  {
   "metadata": {
    "ExecuteTime": {
     "end_time": "2024-12-04T16:55:24.941987Z",
     "start_time": "2024-12-04T16:55:24.602550Z"
    }
   },
   "cell_type": "code",
   "source": [
    "@keras.saving.register_keras_serializable(package=\"my_package\", name=\"custom_fn\")\n",
    "def masked_categorical_crossentropy(y_true, y_pred):\n",
    "    \"\"\"\n",
    "    y_true: true labels, one-hot encoded. Shape (batch_size, sequence_length, OUTPUT_DIM)\n",
    "    y_pred: predicted probabilities. Shape (batch_size, sequence_length, OUTPUT_DIM)\n",
    "    \"\"\"\n",
    "    # Create a mask: 1 for valid labels (non-[0, 0, 0]), 0 for \"Unknown\" ([0, 0, 0])\n",
    "    mask = tf.reduce_sum(y_true, axis=-1) > 0  # Shape: (batch_size, sequence_length)\n",
    "    mask = tf.cast(mask, tf.float32)  # Convert boolean mask to float32 for multiplication\n",
    "    \n",
    "    # Compute categorical cross-entropy loss\n",
    "    loss = tf.keras.losses.categorical_crossentropy(y_true, y_pred)\n",
    "    \n",
    "    # Apply the mask to the loss\n",
    "    loss = loss * mask  # Zero out loss for \"Unknown\" labels\n",
    "    \n",
    "    # Return mean loss over valid labels\n",
    "    return tf.reduce_sum(loss) / tf.reduce_sum(mask)"
   ],
   "id": "635a676d94b6b81a",
   "outputs": [],
   "execution_count": 16
  },
  {
   "metadata": {
    "ExecuteTime": {
     "end_time": "2024-12-04T16:55:28.568766Z",
     "start_time": "2024-12-04T16:55:25.532156Z"
    }
   },
   "cell_type": "code",
   "source": [
    "model_I = tf.keras.Sequential([\n",
    "    tf.keras.layers.Input(shape=(SEQUENCE_LENGTH, INPUT_DIM)),    # Input shape: (sequence_length, features)\n",
    "    tf.keras.layers.Bidirectional(tf.keras.layers.LSTM(64, return_sequences=True)),  # LSTM layer to capture temporal patterns\n",
    "    tf.keras.layers.Dense(64, activation='relu'),  \n",
    "    tf.keras.layers.Dense(32, activation='relu'),                 # Dense layer to reduce dimensionality\n",
    "    tf.keras.layers.Dense(OUTPUT_DIM, activation='softmax')       # Output layer with sigmoid for continuous values between 0 and 1\n",
    "])"
   ],
   "id": "e2ad7b207850414f",
   "outputs": [],
   "execution_count": 17
  },
  {
   "metadata": {
    "ExecuteTime": {
     "end_time": "2024-12-04T16:55:28.635777Z",
     "start_time": "2024-12-04T16:55:28.578312Z"
    }
   },
   "cell_type": "code",
   "source": "model_I.compile(optimizer='adam', loss=masked_categorical_crossentropy, metrics=['accuracy'])",
   "id": "4345228311c05d21",
   "outputs": [],
   "execution_count": 18
  },
  {
   "metadata": {
    "ExecuteTime": {
     "end_time": "2024-12-04T16:56:07.859373Z",
     "start_time": "2024-12-04T16:55:28.687348Z"
    }
   },
   "cell_type": "code",
   "source": "history = model_I.fit(train_I, epochs=100, batch_size=BATCH_SIZE)",
   "id": "99155401195790ad",
   "outputs": [
    {
     "name": "stdout",
     "output_type": "stream",
     "text": [
      "Epoch 1/100\n",
      "\u001B[1m10/10\u001B[0m \u001B[32m━━━━━━━━━━━━━━━━━━━━\u001B[0m\u001B[37m\u001B[0m \u001B[1m12s\u001B[0m 204ms/step - accuracy: 0.0858 - loss: 1.8065\n",
      "Epoch 2/100\n",
      "\u001B[1m10/10\u001B[0m \u001B[32m━━━━━━━━━━━━━━━━━━━━\u001B[0m\u001B[37m\u001B[0m \u001B[1m0s\u001B[0m 18ms/step - accuracy: 0.1227 - loss: 1.4991\n",
      "Epoch 3/100\n",
      "\u001B[1m10/10\u001B[0m \u001B[32m━━━━━━━━━━━━━━━━━━━━\u001B[0m\u001B[37m\u001B[0m \u001B[1m0s\u001B[0m 21ms/step - accuracy: 0.1570 - loss: 1.3751\n",
      "Epoch 4/100\n",
      "\u001B[1m10/10\u001B[0m \u001B[32m━━━━━━━━━━━━━━━━━━━━\u001B[0m\u001B[37m\u001B[0m \u001B[1m0s\u001B[0m 22ms/step - accuracy: 0.2160 - loss: 1.2438\n",
      "Epoch 5/100\n",
      "\u001B[1m10/10\u001B[0m \u001B[32m━━━━━━━━━━━━━━━━━━━━\u001B[0m\u001B[37m\u001B[0m \u001B[1m0s\u001B[0m 18ms/step - accuracy: 0.3162 - loss: 1.0700\n",
      "Epoch 6/100\n",
      "\u001B[1m10/10\u001B[0m \u001B[32m━━━━━━━━━━━━━━━━━━━━\u001B[0m\u001B[37m\u001B[0m \u001B[1m0s\u001B[0m 18ms/step - accuracy: 0.4682 - loss: 0.9031\n",
      "Epoch 7/100\n",
      "\u001B[1m10/10\u001B[0m \u001B[32m━━━━━━━━━━━━━━━━━━━━\u001B[0m\u001B[37m\u001B[0m \u001B[1m0s\u001B[0m 16ms/step - accuracy: 0.5208 - loss: 0.6871\n",
      "Epoch 8/100\n",
      "\u001B[1m10/10\u001B[0m \u001B[32m━━━━━━━━━━━━━━━━━━━━\u001B[0m\u001B[37m\u001B[0m \u001B[1m0s\u001B[0m 17ms/step - accuracy: 0.6234 - loss: 0.5253\n",
      "Epoch 9/100\n",
      "\u001B[1m10/10\u001B[0m \u001B[32m━━━━━━━━━━━━━━━━━━━━\u001B[0m\u001B[37m\u001B[0m \u001B[1m0s\u001B[0m 18ms/step - accuracy: 0.6198 - loss: 0.4390\n",
      "Epoch 10/100\n",
      "\u001B[1m10/10\u001B[0m \u001B[32m━━━━━━━━━━━━━━━━━━━━\u001B[0m\u001B[37m\u001B[0m \u001B[1m0s\u001B[0m 16ms/step - accuracy: 0.6482 - loss: 0.3256\n",
      "Epoch 11/100\n",
      "\u001B[1m10/10\u001B[0m \u001B[32m━━━━━━━━━━━━━━━━━━━━\u001B[0m\u001B[37m\u001B[0m \u001B[1m0s\u001B[0m 20ms/step - accuracy: 0.6534 - loss: 0.2517\n",
      "Epoch 12/100\n",
      "\u001B[1m10/10\u001B[0m \u001B[32m━━━━━━━━━━━━━━━━━━━━\u001B[0m\u001B[37m\u001B[0m \u001B[1m0s\u001B[0m 18ms/step - accuracy: 0.6361 - loss: 0.2074\n",
      "Epoch 13/100\n",
      "\u001B[1m10/10\u001B[0m \u001B[32m━━━━━━━━━━━━━━━━━━━━\u001B[0m\u001B[37m\u001B[0m \u001B[1m0s\u001B[0m 18ms/step - accuracy: 0.6752 - loss: 0.1753\n",
      "Epoch 14/100\n",
      "\u001B[1m10/10\u001B[0m \u001B[32m━━━━━━━━━━━━━━━━━━━━\u001B[0m\u001B[37m\u001B[0m \u001B[1m0s\u001B[0m 20ms/step - accuracy: 0.6500 - loss: 0.1376\n",
      "Epoch 15/100\n",
      "\u001B[1m10/10\u001B[0m \u001B[32m━━━━━━━━━━━━━━━━━━━━\u001B[0m\u001B[37m\u001B[0m \u001B[1m0s\u001B[0m 18ms/step - accuracy: 0.6362 - loss: 0.1286\n",
      "Epoch 16/100\n",
      "\u001B[1m10/10\u001B[0m \u001B[32m━━━━━━━━━━━━━━━━━━━━\u001B[0m\u001B[37m\u001B[0m \u001B[1m0s\u001B[0m 38ms/step - accuracy: 0.6808 - loss: 0.1168\n",
      "Epoch 17/100\n",
      "\u001B[1m10/10\u001B[0m \u001B[32m━━━━━━━━━━━━━━━━━━━━\u001B[0m\u001B[37m\u001B[0m \u001B[1m0s\u001B[0m 22ms/step - accuracy: 0.6262 - loss: 0.1208\n",
      "Epoch 18/100\n",
      "\u001B[1m10/10\u001B[0m \u001B[32m━━━━━━━━━━━━━━━━━━━━\u001B[0m\u001B[37m\u001B[0m \u001B[1m0s\u001B[0m 24ms/step - accuracy: 0.6805 - loss: 0.1068\n",
      "Epoch 19/100\n",
      "\u001B[1m10/10\u001B[0m \u001B[32m━━━━━━━━━━━━━━━━━━━━\u001B[0m\u001B[37m\u001B[0m \u001B[1m0s\u001B[0m 20ms/step - accuracy: 0.6271 - loss: 0.0985\n",
      "Epoch 20/100\n",
      "\u001B[1m10/10\u001B[0m \u001B[32m━━━━━━━━━━━━━━━━━━━━\u001B[0m\u001B[37m\u001B[0m \u001B[1m0s\u001B[0m 20ms/step - accuracy: 0.6734 - loss: 0.0827\n",
      "Epoch 21/100\n",
      "\u001B[1m10/10\u001B[0m \u001B[32m━━━━━━━━━━━━━━━━━━━━\u001B[0m\u001B[37m\u001B[0m \u001B[1m0s\u001B[0m 30ms/step - accuracy: 0.6568 - loss: 0.0711\n",
      "Epoch 22/100\n",
      "\u001B[1m10/10\u001B[0m \u001B[32m━━━━━━━━━━━━━━━━━━━━\u001B[0m\u001B[37m\u001B[0m \u001B[1m0s\u001B[0m 16ms/step - accuracy: 0.6705 - loss: 0.0646\n",
      "Epoch 23/100\n",
      "\u001B[1m10/10\u001B[0m \u001B[32m━━━━━━━━━━━━━━━━━━━━\u001B[0m\u001B[37m\u001B[0m \u001B[1m0s\u001B[0m 20ms/step - accuracy: 0.6600 - loss: 0.0562\n",
      "Epoch 24/100\n",
      "\u001B[1m10/10\u001B[0m \u001B[32m━━━━━━━━━━━━━━━━━━━━\u001B[0m\u001B[37m\u001B[0m \u001B[1m0s\u001B[0m 15ms/step - accuracy: 0.6575 - loss: 0.0503\n",
      "Epoch 25/100\n",
      "\u001B[1m10/10\u001B[0m \u001B[32m━━━━━━━━━━━━━━━━━━━━\u001B[0m\u001B[37m\u001B[0m \u001B[1m0s\u001B[0m 22ms/step - accuracy: 0.6629 - loss: 0.0532\n",
      "Epoch 26/100\n",
      "\u001B[1m10/10\u001B[0m \u001B[32m━━━━━━━━━━━━━━━━━━━━\u001B[0m\u001B[37m\u001B[0m \u001B[1m0s\u001B[0m 19ms/step - accuracy: 0.6609 - loss: 0.0472\n",
      "Epoch 27/100\n",
      "\u001B[1m10/10\u001B[0m \u001B[32m━━━━━━━━━━━━━━━━━━━━\u001B[0m\u001B[37m\u001B[0m \u001B[1m0s\u001B[0m 20ms/step - accuracy: 0.6530 - loss: 0.0459\n",
      "Epoch 28/100\n",
      "\u001B[1m10/10\u001B[0m \u001B[32m━━━━━━━━━━━━━━━━━━━━\u001B[0m\u001B[37m\u001B[0m \u001B[1m0s\u001B[0m 19ms/step - accuracy: 0.6774 - loss: 0.0501\n",
      "Epoch 29/100\n",
      "\u001B[1m10/10\u001B[0m \u001B[32m━━━━━━━━━━━━━━━━━━━━\u001B[0m\u001B[37m\u001B[0m \u001B[1m0s\u001B[0m 23ms/step - accuracy: 0.6524 - loss: 0.0471\n",
      "Epoch 30/100\n",
      "\u001B[1m10/10\u001B[0m \u001B[32m━━━━━━━━━━━━━━━━━━━━\u001B[0m\u001B[37m\u001B[0m \u001B[1m0s\u001B[0m 18ms/step - accuracy: 0.6768 - loss: 0.0468\n",
      "Epoch 31/100\n",
      "\u001B[1m10/10\u001B[0m \u001B[32m━━━━━━━━━━━━━━━━━━━━\u001B[0m\u001B[37m\u001B[0m \u001B[1m0s\u001B[0m 20ms/step - accuracy: 0.6312 - loss: 0.0503\n",
      "Epoch 32/100\n",
      "\u001B[1m10/10\u001B[0m \u001B[32m━━━━━━━━━━━━━━━━━━━━\u001B[0m\u001B[37m\u001B[0m \u001B[1m0s\u001B[0m 17ms/step - accuracy: 0.6771 - loss: 0.0416\n",
      "Epoch 33/100\n",
      "\u001B[1m10/10\u001B[0m \u001B[32m━━━━━━━━━━━━━━━━━━━━\u001B[0m\u001B[37m\u001B[0m \u001B[1m0s\u001B[0m 16ms/step - accuracy: 0.6635 - loss: 0.0448\n",
      "Epoch 34/100\n",
      "\u001B[1m10/10\u001B[0m \u001B[32m━━━━━━━━━━━━━━━━━━━━\u001B[0m\u001B[37m\u001B[0m \u001B[1m0s\u001B[0m 15ms/step - accuracy: 0.6585 - loss: 0.0380\n",
      "Epoch 35/100\n",
      "\u001B[1m10/10\u001B[0m \u001B[32m━━━━━━━━━━━━━━━━━━━━\u001B[0m\u001B[37m\u001B[0m \u001B[1m0s\u001B[0m 17ms/step - accuracy: 0.6729 - loss: 0.0483\n",
      "Epoch 36/100\n",
      "\u001B[1m10/10\u001B[0m \u001B[32m━━━━━━━━━━━━━━━━━━━━\u001B[0m\u001B[37m\u001B[0m \u001B[1m0s\u001B[0m 16ms/step - accuracy: 0.6499 - loss: 0.0415\n",
      "Epoch 37/100\n",
      "\u001B[1m10/10\u001B[0m \u001B[32m━━━━━━━━━━━━━━━━━━━━\u001B[0m\u001B[37m\u001B[0m \u001B[1m0s\u001B[0m 17ms/step - accuracy: 0.6697 - loss: 0.0587\n",
      "Epoch 38/100\n",
      "\u001B[1m10/10\u001B[0m \u001B[32m━━━━━━━━━━━━━━━━━━━━\u001B[0m\u001B[37m\u001B[0m \u001B[1m0s\u001B[0m 18ms/step - accuracy: 0.6381 - loss: 0.0616\n",
      "Epoch 39/100\n",
      "\u001B[1m10/10\u001B[0m \u001B[32m━━━━━━━━━━━━━━━━━━━━\u001B[0m\u001B[37m\u001B[0m \u001B[1m0s\u001B[0m 18ms/step - accuracy: 0.6665 - loss: 0.0943\n",
      "Epoch 40/100\n",
      "\u001B[1m10/10\u001B[0m \u001B[32m━━━━━━━━━━━━━━━━━━━━\u001B[0m\u001B[37m\u001B[0m \u001B[1m0s\u001B[0m 16ms/step - accuracy: 0.6565 - loss: 0.0489\n",
      "Epoch 41/100\n",
      "\u001B[1m10/10\u001B[0m \u001B[32m━━━━━━━━━━━━━━━━━━━━\u001B[0m\u001B[37m\u001B[0m \u001B[1m0s\u001B[0m 16ms/step - accuracy: 0.6627 - loss: 0.0465\n",
      "Epoch 42/100\n",
      "\u001B[1m10/10\u001B[0m \u001B[32m━━━━━━━━━━━━━━━━━━━━\u001B[0m\u001B[37m\u001B[0m \u001B[1m0s\u001B[0m 16ms/step - accuracy: 0.6694 - loss: 0.0459\n",
      "Epoch 43/100\n",
      "\u001B[1m10/10\u001B[0m \u001B[32m━━━━━━━━━━━━━━━━━━━━\u001B[0m\u001B[37m\u001B[0m \u001B[1m0s\u001B[0m 16ms/step - accuracy: 0.6631 - loss: 0.0418\n",
      "Epoch 44/100\n",
      "\u001B[1m10/10\u001B[0m \u001B[32m━━━━━━━━━━━━━━━━━━━━\u001B[0m\u001B[37m\u001B[0m \u001B[1m0s\u001B[0m 16ms/step - accuracy: 0.6772 - loss: 0.0356\n",
      "Epoch 45/100\n",
      "\u001B[1m10/10\u001B[0m \u001B[32m━━━━━━━━━━━━━━━━━━━━\u001B[0m\u001B[37m\u001B[0m \u001B[1m0s\u001B[0m 19ms/step - accuracy: 0.6691 - loss: 0.0425\n",
      "Epoch 46/100\n",
      "\u001B[1m10/10\u001B[0m \u001B[32m━━━━━━━━━━━━━━━━━━━━\u001B[0m\u001B[37m\u001B[0m \u001B[1m0s\u001B[0m 17ms/step - accuracy: 0.6689 - loss: 0.0368\n",
      "Epoch 47/100\n",
      "\u001B[1m10/10\u001B[0m \u001B[32m━━━━━━━━━━━━━━━━━━━━\u001B[0m\u001B[37m\u001B[0m \u001B[1m0s\u001B[0m 27ms/step - accuracy: 0.6688 - loss: 0.0574\n",
      "Epoch 48/100\n",
      "\u001B[1m10/10\u001B[0m \u001B[32m━━━━━━━━━━━━━━━━━━━━\u001B[0m\u001B[37m\u001B[0m \u001B[1m0s\u001B[0m 26ms/step - accuracy: 0.6380 - loss: 0.0624\n",
      "Epoch 49/100\n",
      "\u001B[1m10/10\u001B[0m \u001B[32m━━━━━━━━━━━━━━━━━━━━\u001B[0m\u001B[37m\u001B[0m \u001B[1m0s\u001B[0m 19ms/step - accuracy: 0.6690 - loss: 0.0759\n",
      "Epoch 50/100\n",
      "\u001B[1m10/10\u001B[0m \u001B[32m━━━━━━━━━━━━━━━━━━━━\u001B[0m\u001B[37m\u001B[0m \u001B[1m0s\u001B[0m 21ms/step - accuracy: 0.6521 - loss: 0.0592\n",
      "Epoch 51/100\n",
      "\u001B[1m10/10\u001B[0m \u001B[32m━━━━━━━━━━━━━━━━━━━━\u001B[0m\u001B[37m\u001B[0m \u001B[1m0s\u001B[0m 27ms/step - accuracy: 0.6539 - loss: 0.0506\n",
      "Epoch 52/100\n",
      "\u001B[1m10/10\u001B[0m \u001B[32m━━━━━━━━━━━━━━━━━━━━\u001B[0m\u001B[37m\u001B[0m \u001B[1m0s\u001B[0m 27ms/step - accuracy: 0.6765 - loss: 0.0362\n",
      "Epoch 53/100\n",
      "\u001B[1m10/10\u001B[0m \u001B[32m━━━━━━━━━━━━━━━━━━━━\u001B[0m\u001B[37m\u001B[0m \u001B[1m0s\u001B[0m 25ms/step - accuracy: 0.6699 - loss: 0.0351\n",
      "Epoch 54/100\n",
      "\u001B[1m10/10\u001B[0m \u001B[32m━━━━━━━━━━━━━━━━━━━━\u001B[0m\u001B[37m\u001B[0m \u001B[1m0s\u001B[0m 22ms/step - accuracy: 0.6694 - loss: 0.0351\n",
      "Epoch 55/100\n",
      "\u001B[1m10/10\u001B[0m \u001B[32m━━━━━━━━━━━━━━━━━━━━\u001B[0m\u001B[37m\u001B[0m \u001B[1m0s\u001B[0m 19ms/step - accuracy: 0.6725 - loss: 0.0307\n",
      "Epoch 56/100\n",
      "\u001B[1m10/10\u001B[0m \u001B[32m━━━━━━━━━━━━━━━━━━━━\u001B[0m\u001B[37m\u001B[0m \u001B[1m0s\u001B[0m 18ms/step - accuracy: 0.6703 - loss: 0.0305\n",
      "Epoch 57/100\n",
      "\u001B[1m10/10\u001B[0m \u001B[32m━━━━━━━━━━━━━━━━━━━━\u001B[0m\u001B[37m\u001B[0m \u001B[1m0s\u001B[0m 17ms/step - accuracy: 0.6717 - loss: 0.0285\n",
      "Epoch 58/100\n",
      "\u001B[1m10/10\u001B[0m \u001B[32m━━━━━━━━━━━━━━━━━━━━\u001B[0m\u001B[37m\u001B[0m \u001B[1m0s\u001B[0m 22ms/step - accuracy: 0.6576 - loss: 0.0336\n",
      "Epoch 59/100\n",
      "\u001B[1m10/10\u001B[0m \u001B[32m━━━━━━━━━━━━━━━━━━━━\u001B[0m\u001B[37m\u001B[0m \u001B[1m0s\u001B[0m 40ms/step - accuracy: 0.6721 - loss: 0.0298\n",
      "Epoch 60/100\n",
      "\u001B[1m10/10\u001B[0m \u001B[32m━━━━━━━━━━━━━━━━━━━━\u001B[0m\u001B[37m\u001B[0m \u001B[1m0s\u001B[0m 29ms/step - accuracy: 0.6537 - loss: 0.0355\n",
      "Epoch 61/100\n",
      "\u001B[1m10/10\u001B[0m \u001B[32m━━━━━━━━━━━━━━━━━━━━\u001B[0m\u001B[37m\u001B[0m \u001B[1m1s\u001B[0m 27ms/step - accuracy: 0.6704 - loss: 0.0290\n",
      "Epoch 62/100\n",
      "\u001B[1m10/10\u001B[0m \u001B[32m━━━━━━━━━━━━━━━━━━━━\u001B[0m\u001B[37m\u001B[0m \u001B[1m0s\u001B[0m 24ms/step - accuracy: 0.6719 - loss: 0.0277\n",
      "Epoch 63/100\n",
      "\u001B[1m10/10\u001B[0m \u001B[32m━━━━━━━━━━━━━━━━━━━━\u001B[0m\u001B[37m\u001B[0m \u001B[1m0s\u001B[0m 28ms/step - accuracy: 0.6750 - loss: 0.0302\n",
      "Epoch 64/100\n",
      "\u001B[1m10/10\u001B[0m \u001B[32m━━━━━━━━━━━━━━━━━━━━\u001B[0m\u001B[37m\u001B[0m \u001B[1m0s\u001B[0m 23ms/step - accuracy: 0.6713 - loss: 0.0261\n",
      "Epoch 65/100\n",
      "\u001B[1m10/10\u001B[0m \u001B[32m━━━━━━━━━━━━━━━━━━━━\u001B[0m\u001B[37m\u001B[0m \u001B[1m0s\u001B[0m 21ms/step - accuracy: 0.6734 - loss: 0.0321\n",
      "Epoch 66/100\n",
      "\u001B[1m10/10\u001B[0m \u001B[32m━━━━━━━━━━━━━━━━━━━━\u001B[0m\u001B[37m\u001B[0m \u001B[1m0s\u001B[0m 21ms/step - accuracy: 0.6650 - loss: 0.0307\n",
      "Epoch 67/100\n",
      "\u001B[1m10/10\u001B[0m \u001B[32m━━━━━━━━━━━━━━━━━━━━\u001B[0m\u001B[37m\u001B[0m \u001B[1m0s\u001B[0m 21ms/step - accuracy: 0.6800 - loss: 0.0373\n",
      "Epoch 68/100\n",
      "\u001B[1m10/10\u001B[0m \u001B[32m━━━━━━━━━━━━━━━━━━━━\u001B[0m\u001B[37m\u001B[0m \u001B[1m0s\u001B[0m 22ms/step - accuracy: 0.6389 - loss: 0.0374\n",
      "Epoch 69/100\n",
      "\u001B[1m10/10\u001B[0m \u001B[32m━━━━━━━━━━━━━━━━━━━━\u001B[0m\u001B[37m\u001B[0m \u001B[1m0s\u001B[0m 22ms/step - accuracy: 0.6637 - loss: 0.0317\n",
      "Epoch 70/100\n",
      "\u001B[1m10/10\u001B[0m \u001B[32m━━━━━━━━━━━━━━━━━━━━\u001B[0m\u001B[37m\u001B[0m \u001B[1m0s\u001B[0m 21ms/step - accuracy: 0.6862 - loss: 0.0273\n",
      "Epoch 71/100\n",
      "\u001B[1m10/10\u001B[0m \u001B[32m━━━━━━━━━━━━━━━━━━━━\u001B[0m\u001B[37m\u001B[0m \u001B[1m0s\u001B[0m 25ms/step - accuracy: 0.6734 - loss: 0.0278\n",
      "Epoch 72/100\n",
      "\u001B[1m10/10\u001B[0m \u001B[32m━━━━━━━━━━━━━━━━━━━━\u001B[0m\u001B[37m\u001B[0m \u001B[1m0s\u001B[0m 18ms/step - accuracy: 0.6780 - loss: 0.0247\n",
      "Epoch 73/100\n",
      "\u001B[1m10/10\u001B[0m \u001B[32m━━━━━━━━━━━━━━━━━━━━\u001B[0m\u001B[37m\u001B[0m \u001B[1m0s\u001B[0m 21ms/step - accuracy: 0.6696 - loss: 0.0321\n",
      "Epoch 74/100\n",
      "\u001B[1m10/10\u001B[0m \u001B[32m━━━━━━━━━━━━━━━━━━━━\u001B[0m\u001B[37m\u001B[0m \u001B[1m0s\u001B[0m 29ms/step - accuracy: 0.6812 - loss: 0.0252\n",
      "Epoch 75/100\n",
      "\u001B[1m10/10\u001B[0m \u001B[32m━━━━━━━━━━━━━━━━━━━━\u001B[0m\u001B[37m\u001B[0m \u001B[1m0s\u001B[0m 22ms/step - accuracy: 0.6667 - loss: 0.0289\n",
      "Epoch 76/100\n",
      "\u001B[1m10/10\u001B[0m \u001B[32m━━━━━━━━━━━━━━━━━━━━\u001B[0m\u001B[37m\u001B[0m \u001B[1m0s\u001B[0m 19ms/step - accuracy: 0.6784 - loss: 0.0244\n",
      "Epoch 77/100\n",
      "\u001B[1m10/10\u001B[0m \u001B[32m━━━━━━━━━━━━━━━━━━━━\u001B[0m\u001B[37m\u001B[0m \u001B[1m0s\u001B[0m 23ms/step - accuracy: 0.6667 - loss: 0.0258\n",
      "Epoch 78/100\n",
      "\u001B[1m10/10\u001B[0m \u001B[32m━━━━━━━━━━━━━━━━━━━━\u001B[0m\u001B[37m\u001B[0m \u001B[1m0s\u001B[0m 18ms/step - accuracy: 0.6788 - loss: 0.0243\n",
      "Epoch 79/100\n",
      "\u001B[1m10/10\u001B[0m \u001B[32m━━━━━━━━━━━━━━━━━━━━\u001B[0m\u001B[37m\u001B[0m \u001B[1m0s\u001B[0m 23ms/step - accuracy: 0.6761 - loss: 0.0246\n",
      "Epoch 80/100\n",
      "\u001B[1m10/10\u001B[0m \u001B[32m━━━━━━━━━━━━━━━━━━━━\u001B[0m\u001B[37m\u001B[0m \u001B[1m0s\u001B[0m 22ms/step - accuracy: 0.6726 - loss: 0.0232\n",
      "Epoch 81/100\n",
      "\u001B[1m10/10\u001B[0m \u001B[32m━━━━━━━━━━━━━━━━━━━━\u001B[0m\u001B[37m\u001B[0m \u001B[1m0s\u001B[0m 35ms/step - accuracy: 0.6734 - loss: 0.0266\n",
      "Epoch 82/100\n",
      "\u001B[1m10/10\u001B[0m \u001B[32m━━━━━━━━━━━━━━━━━━━━\u001B[0m\u001B[37m\u001B[0m \u001B[1m0s\u001B[0m 20ms/step - accuracy: 0.6763 - loss: 0.0280\n",
      "Epoch 83/100\n",
      "\u001B[1m10/10\u001B[0m \u001B[32m━━━━━━━━━━━━━━━━━━━━\u001B[0m\u001B[37m\u001B[0m \u001B[1m0s\u001B[0m 19ms/step - accuracy: 0.6645 - loss: 0.0283\n",
      "Epoch 84/100\n",
      "\u001B[1m10/10\u001B[0m \u001B[32m━━━━━━━━━━━━━━━━━━━━\u001B[0m\u001B[37m\u001B[0m \u001B[1m0s\u001B[0m 21ms/step - accuracy: 0.6831 - loss: 0.0361\n",
      "Epoch 85/100\n",
      "\u001B[1m10/10\u001B[0m \u001B[32m━━━━━━━━━━━━━━━━━━━━\u001B[0m\u001B[37m\u001B[0m \u001B[1m0s\u001B[0m 22ms/step - accuracy: 0.6457 - loss: 0.0303\n",
      "Epoch 86/100\n",
      "\u001B[1m10/10\u001B[0m \u001B[32m━━━━━━━━━━━━━━━━━━━━\u001B[0m\u001B[37m\u001B[0m \u001B[1m0s\u001B[0m 25ms/step - accuracy: 0.6609 - loss: 0.0299\n",
      "Epoch 87/100\n",
      "\u001B[1m10/10\u001B[0m \u001B[32m━━━━━━━━━━━━━━━━━━━━\u001B[0m\u001B[37m\u001B[0m \u001B[1m0s\u001B[0m 20ms/step - accuracy: 0.6927 - loss: 0.0243\n",
      "Epoch 88/100\n",
      "\u001B[1m10/10\u001B[0m \u001B[32m━━━━━━━━━━━━━━━━━━━━\u001B[0m\u001B[37m\u001B[0m \u001B[1m0s\u001B[0m 21ms/step - accuracy: 0.6547 - loss: 0.0280\n",
      "Epoch 89/100\n",
      "\u001B[1m10/10\u001B[0m \u001B[32m━━━━━━━━━━━━━━━━━━━━\u001B[0m\u001B[37m\u001B[0m \u001B[1m0s\u001B[0m 22ms/step - accuracy: 0.6688 - loss: 0.0222\n",
      "Epoch 90/100\n",
      "\u001B[1m10/10\u001B[0m \u001B[32m━━━━━━━━━━━━━━━━━━━━\u001B[0m\u001B[37m\u001B[0m \u001B[1m0s\u001B[0m 21ms/step - accuracy: 0.6633 - loss: 0.0276\n",
      "Epoch 91/100\n",
      "\u001B[1m10/10\u001B[0m \u001B[32m━━━━━━━━━━━━━━━━━━━━\u001B[0m\u001B[37m\u001B[0m \u001B[1m0s\u001B[0m 18ms/step - accuracy: 0.6801 - loss: 0.0213\n",
      "Epoch 92/100\n",
      "\u001B[1m10/10\u001B[0m \u001B[32m━━━━━━━━━━━━━━━━━━━━\u001B[0m\u001B[37m\u001B[0m \u001B[1m0s\u001B[0m 20ms/step - accuracy: 0.6783 - loss: 0.0259\n",
      "Epoch 93/100\n",
      "\u001B[1m10/10\u001B[0m \u001B[32m━━━━━━━━━━━━━━━━━━━━\u001B[0m\u001B[37m\u001B[0m \u001B[1m0s\u001B[0m 24ms/step - accuracy: 0.6771 - loss: 0.0208\n",
      "Epoch 94/100\n",
      "\u001B[1m10/10\u001B[0m \u001B[32m━━━━━━━━━━━━━━━━━━━━\u001B[0m\u001B[37m\u001B[0m \u001B[1m0s\u001B[0m 33ms/step - accuracy: 0.6751 - loss: 0.0216\n",
      "Epoch 95/100\n",
      "\u001B[1m10/10\u001B[0m \u001B[32m━━━━━━━━━━━━━━━━━━━━\u001B[0m\u001B[37m\u001B[0m \u001B[1m0s\u001B[0m 20ms/step - accuracy: 0.6761 - loss: 0.0221\n",
      "Epoch 96/100\n",
      "\u001B[1m10/10\u001B[0m \u001B[32m━━━━━━━━━━━━━━━━━━━━\u001B[0m\u001B[37m\u001B[0m \u001B[1m0s\u001B[0m 23ms/step - accuracy: 0.6651 - loss: 0.0256\n",
      "Epoch 97/100\n",
      "\u001B[1m10/10\u001B[0m \u001B[32m━━━━━━━━━━━━━━━━━━━━\u001B[0m\u001B[37m\u001B[0m \u001B[1m0s\u001B[0m 18ms/step - accuracy: 0.6664 - loss: 0.0302\n",
      "Epoch 98/100\n",
      "\u001B[1m10/10\u001B[0m \u001B[32m━━━━━━━━━━━━━━━━━━━━\u001B[0m\u001B[37m\u001B[0m \u001B[1m0s\u001B[0m 34ms/step - accuracy: 0.6766 - loss: 0.0343\n",
      "Epoch 99/100\n",
      "\u001B[1m10/10\u001B[0m \u001B[32m━━━━━━━━━━━━━━━━━━━━\u001B[0m\u001B[37m\u001B[0m \u001B[1m0s\u001B[0m 19ms/step - accuracy: 0.6708 - loss: 0.0411\n",
      "Epoch 100/100\n",
      "\u001B[1m10/10\u001B[0m \u001B[32m━━━━━━━━━━━━━━━━━━━━\u001B[0m\u001B[37m\u001B[0m \u001B[1m0s\u001B[0m 16ms/step - accuracy: 0.6455 - loss: 0.2133\n"
     ]
    }
   ],
   "execution_count": 19
  },
  {
   "metadata": {
    "ExecuteTime": {
     "end_time": "2024-12-04T16:56:08.498820Z",
     "start_time": "2024-12-04T16:56:08.464158Z"
    }
   },
   "cell_type": "code",
   "source": "model_I.summary()",
   "id": "6235f654319c897",
   "outputs": [
    {
     "data": {
      "text/plain": [
       "\u001B[1mModel: \"sequential_1\"\u001B[0m\n"
      ],
      "text/html": [
       "<pre style=\"white-space:pre;overflow-x:auto;line-height:normal;font-family:Menlo,'DejaVu Sans Mono',consolas,'Courier New',monospace\"><span style=\"font-weight: bold\">Model: \"sequential_1\"</span>\n",
       "</pre>\n"
      ]
     },
     "metadata": {},
     "output_type": "display_data"
    },
    {
     "data": {
      "text/plain": [
       "┏━━━━━━━━━━━━━━━━━━━━━━━━━━━━━━━━━┳━━━━━━━━━━━━━━━━━━━━━━━━┳━━━━━━━━━━━━━━━┓\n",
       "┃\u001B[1m \u001B[0m\u001B[1mLayer (type)                   \u001B[0m\u001B[1m \u001B[0m┃\u001B[1m \u001B[0m\u001B[1mOutput Shape          \u001B[0m\u001B[1m \u001B[0m┃\u001B[1m \u001B[0m\u001B[1m      Param #\u001B[0m\u001B[1m \u001B[0m┃\n",
       "┡━━━━━━━━━━━━━━━━━━━━━━━━━━━━━━━━━╇━━━━━━━━━━━━━━━━━━━━━━━━╇━━━━━━━━━━━━━━━┩\n",
       "│ bidirectional_1 (\u001B[38;5;33mBidirectional\u001B[0m) │ (\u001B[38;5;45mNone\u001B[0m, \u001B[38;5;34m20\u001B[0m, \u001B[38;5;34m128\u001B[0m)        │       \u001B[38;5;34m296,960\u001B[0m │\n",
       "├─────────────────────────────────┼────────────────────────┼───────────────┤\n",
       "│ dense_3 (\u001B[38;5;33mDense\u001B[0m)                 │ (\u001B[38;5;45mNone\u001B[0m, \u001B[38;5;34m20\u001B[0m, \u001B[38;5;34m64\u001B[0m)         │         \u001B[38;5;34m8,256\u001B[0m │\n",
       "├─────────────────────────────────┼────────────────────────┼───────────────┤\n",
       "│ dense_4 (\u001B[38;5;33mDense\u001B[0m)                 │ (\u001B[38;5;45mNone\u001B[0m, \u001B[38;5;34m20\u001B[0m, \u001B[38;5;34m32\u001B[0m)         │         \u001B[38;5;34m2,080\u001B[0m │\n",
       "├─────────────────────────────────┼────────────────────────┼───────────────┤\n",
       "│ dense_5 (\u001B[38;5;33mDense\u001B[0m)                 │ (\u001B[38;5;45mNone\u001B[0m, \u001B[38;5;34m20\u001B[0m, \u001B[38;5;34m6\u001B[0m)          │           \u001B[38;5;34m198\u001B[0m │\n",
       "└─────────────────────────────────┴────────────────────────┴───────────────┘\n"
      ],
      "text/html": [
       "<pre style=\"white-space:pre;overflow-x:auto;line-height:normal;font-family:Menlo,'DejaVu Sans Mono',consolas,'Courier New',monospace\">┏━━━━━━━━━━━━━━━━━━━━━━━━━━━━━━━━━┳━━━━━━━━━━━━━━━━━━━━━━━━┳━━━━━━━━━━━━━━━┓\n",
       "┃<span style=\"font-weight: bold\"> Layer (type)                    </span>┃<span style=\"font-weight: bold\"> Output Shape           </span>┃<span style=\"font-weight: bold\">       Param # </span>┃\n",
       "┡━━━━━━━━━━━━━━━━━━━━━━━━━━━━━━━━━╇━━━━━━━━━━━━━━━━━━━━━━━━╇━━━━━━━━━━━━━━━┩\n",
       "│ bidirectional_1 (<span style=\"color: #0087ff; text-decoration-color: #0087ff\">Bidirectional</span>) │ (<span style=\"color: #00d7ff; text-decoration-color: #00d7ff\">None</span>, <span style=\"color: #00af00; text-decoration-color: #00af00\">20</span>, <span style=\"color: #00af00; text-decoration-color: #00af00\">128</span>)        │       <span style=\"color: #00af00; text-decoration-color: #00af00\">296,960</span> │\n",
       "├─────────────────────────────────┼────────────────────────┼───────────────┤\n",
       "│ dense_3 (<span style=\"color: #0087ff; text-decoration-color: #0087ff\">Dense</span>)                 │ (<span style=\"color: #00d7ff; text-decoration-color: #00d7ff\">None</span>, <span style=\"color: #00af00; text-decoration-color: #00af00\">20</span>, <span style=\"color: #00af00; text-decoration-color: #00af00\">64</span>)         │         <span style=\"color: #00af00; text-decoration-color: #00af00\">8,256</span> │\n",
       "├─────────────────────────────────┼────────────────────────┼───────────────┤\n",
       "│ dense_4 (<span style=\"color: #0087ff; text-decoration-color: #0087ff\">Dense</span>)                 │ (<span style=\"color: #00d7ff; text-decoration-color: #00d7ff\">None</span>, <span style=\"color: #00af00; text-decoration-color: #00af00\">20</span>, <span style=\"color: #00af00; text-decoration-color: #00af00\">32</span>)         │         <span style=\"color: #00af00; text-decoration-color: #00af00\">2,080</span> │\n",
       "├─────────────────────────────────┼────────────────────────┼───────────────┤\n",
       "│ dense_5 (<span style=\"color: #0087ff; text-decoration-color: #0087ff\">Dense</span>)                 │ (<span style=\"color: #00d7ff; text-decoration-color: #00d7ff\">None</span>, <span style=\"color: #00af00; text-decoration-color: #00af00\">20</span>, <span style=\"color: #00af00; text-decoration-color: #00af00\">6</span>)          │           <span style=\"color: #00af00; text-decoration-color: #00af00\">198</span> │\n",
       "└─────────────────────────────────┴────────────────────────┴───────────────┘\n",
       "</pre>\n"
      ]
     },
     "metadata": {},
     "output_type": "display_data"
    },
    {
     "data": {
      "text/plain": [
       "\u001B[1m Total params: \u001B[0m\u001B[38;5;34m922,484\u001B[0m (3.52 MB)\n"
      ],
      "text/html": [
       "<pre style=\"white-space:pre;overflow-x:auto;line-height:normal;font-family:Menlo,'DejaVu Sans Mono',consolas,'Courier New',monospace\"><span style=\"font-weight: bold\"> Total params: </span><span style=\"color: #00af00; text-decoration-color: #00af00\">922,484</span> (3.52 MB)\n",
       "</pre>\n"
      ]
     },
     "metadata": {},
     "output_type": "display_data"
    },
    {
     "data": {
      "text/plain": [
       "\u001B[1m Trainable params: \u001B[0m\u001B[38;5;34m307,494\u001B[0m (1.17 MB)\n"
      ],
      "text/html": [
       "<pre style=\"white-space:pre;overflow-x:auto;line-height:normal;font-family:Menlo,'DejaVu Sans Mono',consolas,'Courier New',monospace\"><span style=\"font-weight: bold\"> Trainable params: </span><span style=\"color: #00af00; text-decoration-color: #00af00\">307,494</span> (1.17 MB)\n",
       "</pre>\n"
      ]
     },
     "metadata": {},
     "output_type": "display_data"
    },
    {
     "data": {
      "text/plain": [
       "\u001B[1m Non-trainable params: \u001B[0m\u001B[38;5;34m0\u001B[0m (0.00 B)\n"
      ],
      "text/html": [
       "<pre style=\"white-space:pre;overflow-x:auto;line-height:normal;font-family:Menlo,'DejaVu Sans Mono',consolas,'Courier New',monospace\"><span style=\"font-weight: bold\"> Non-trainable params: </span><span style=\"color: #00af00; text-decoration-color: #00af00\">0</span> (0.00 B)\n",
       "</pre>\n"
      ]
     },
     "metadata": {},
     "output_type": "display_data"
    },
    {
     "data": {
      "text/plain": [
       "\u001B[1m Optimizer params: \u001B[0m\u001B[38;5;34m614,990\u001B[0m (2.35 MB)\n"
      ],
      "text/html": [
       "<pre style=\"white-space:pre;overflow-x:auto;line-height:normal;font-family:Menlo,'DejaVu Sans Mono',consolas,'Courier New',monospace\"><span style=\"font-weight: bold\"> Optimizer params: </span><span style=\"color: #00af00; text-decoration-color: #00af00\">614,990</span> (2.35 MB)\n",
       "</pre>\n"
      ]
     },
     "metadata": {},
     "output_type": "display_data"
    }
   ],
   "execution_count": 20
  },
  {
   "metadata": {
    "ExecuteTime": {
     "end_time": "2024-12-04T16:56:11.674554Z",
     "start_time": "2024-12-04T16:56:09.680703Z"
    }
   },
   "cell_type": "code",
   "source": [
    "# Evaluate the model\n",
    "loss, acc = model_I.evaluate(full_test_I, verbose=2)\n",
    "print(\"Untrained model, accuracy: {:5.2f}%\".format(acc))"
   ],
   "id": "8b4a500ad36da8b3",
   "outputs": [
    {
     "name": "stdout",
     "output_type": "stream",
     "text": [
      "5/5 - 2s - 392ms/step - accuracy: 0.5433 - loss: 0.7468\n",
      "Untrained model, accuracy:  0.54%\n"
     ]
    }
   ],
   "execution_count": 21
  },
  {
   "metadata": {
    "ExecuteTime": {
     "end_time": "2024-12-04T16:56:12.349910Z",
     "start_time": "2024-12-04T16:56:11.797391Z"
    }
   },
   "cell_type": "code",
   "source": "model_I.save(os.path.join(path, 'model_method_I/model.keras'))",
   "id": "914d4b9b7968270e",
   "outputs": [],
   "execution_count": 22
  },
  {
   "metadata": {},
   "cell_type": "markdown",
   "source": "## MODEL II",
   "id": "b53443af5c334d33"
  },
  {
   "metadata": {
    "ExecuteTime": {
     "end_time": "2024-12-07T17:50:06.248257Z",
     "start_time": "2024-12-07T17:50:06.232976Z"
    }
   },
   "cell_type": "code",
   "source": [
    "@keras.saving.register_keras_serializable(package=\"my_package\", name=\"custom_fn\")\n",
    "def masked_mean_squared_error(y_true, y_pred):\n",
    "    \"\"\"\n",
    "    y_true: true labels, one-hot encoded. Shape (batch_size, sequence_length, OUTPUT_DIM)\n",
    "    y_pred: predicted probabilities. Shape (batch_size, sequence_length, OUTPUT_DIM)\n",
    "    \"\"\"\n",
    "    # Create a mask: 1 for valid labels (non-[0, 0, 0]), 0 for \"Unknown\" ([0, 0, 0])\n",
    "    mask = tf.reduce_sum(y_true, axis=-1) > 0  # Shape: (batch_size, sequence_length)\n",
    "    mask = tf.cast(mask, tf.float32)  # Convert boolean mask to float32 for multiplication\n",
    "    \n",
    "    # Compute categorical cross-entropy loss\n",
    "    loss = tf.square(y_true - y_pred)\n",
    "    \n",
    "    # Apply the mask to the loss\n",
    "    masked_loss = loss * mask[..., tf.newaxis]  # Zero out loss for \"Unknown\" labels\n",
    "    \n",
    "    # Return mean loss over valid labels\n",
    "    return tf.reduce_sum(masked_loss) / tf.reduce_sum(mask)"
   ],
   "id": "ff8b5456d0304274",
   "outputs": [],
   "execution_count": 5
  },
  {
   "metadata": {
    "ExecuteTime": {
     "end_time": "2024-12-07T17:50:06.937285Z",
     "start_time": "2024-12-07T17:50:06.308946Z"
    }
   },
   "cell_type": "code",
   "source": [
    "model_II = tf.keras.Sequential([\n",
    "    tf.keras.layers.Input(shape=(SEQUENCE_LENGTH, INPUT_DIM)),    # Input shape: (sequence_length, features)\n",
    "    tf.keras.layers.Bidirectional(tf.keras.layers.LSTM(64, return_sequences=True)),  # LSTM layer to capture temporal patterns\n",
    "    tf.keras.layers.Dense(64, activation='relu'),  \n",
    "    tf.keras.layers.Dense(32, activation='relu'),                # Dense layer to reduce dimensionality\n",
    "    tf.keras.layers.Dense(OUTPUT_DIM, activation='sigmoid')       # Output layer with sigmoid for continuous values between 0 and 1\n",
    "])"
   ],
   "id": "8ae51ea52a2bf3b6",
   "outputs": [],
   "execution_count": 6
  },
  {
   "metadata": {
    "ExecuteTime": {
     "end_time": "2024-12-07T17:50:07.903475Z",
     "start_time": "2024-12-07T17:50:07.816628Z"
    }
   },
   "cell_type": "code",
   "source": "model_II.compile(optimizer='adam', loss=masked_mean_squared_error, metrics=['mse'])",
   "id": "372ce70cf7533e58",
   "outputs": [],
   "execution_count": 7
  },
  {
   "metadata": {
    "ExecuteTime": {
     "end_time": "2024-12-07T17:50:16.371388Z",
     "start_time": "2024-12-07T17:50:08.099832Z"
    }
   },
   "cell_type": "code",
   "source": [
    "# Iterate through the dataset to extract labels\n",
    "labels = []\n",
    "\n",
    "for inputs, label in train_II:\n",
    "    labels.append(label)\n",
    "\n",
    "# Convert to a tensor or numpy array\n",
    "y_train = np.concatenate(labels, axis=0)  # Stack labels into a single array\n",
    "y_train_flat = y_train.reshape(-1, 6)  # Flattening the labels: (num_samples * 10, 6)\n",
    "y_train_classes = np.argmax(y_train_flat, axis=-1)  # Get the class labels for each timestep (0 to 5)\n",
    "\n",
    "# Calculate class weights based on the frequency of each class\n",
    "class_weights = compute_class_weight('balanced', classes=np.unique(y_train_classes), y=y_train_classes)\n",
    "\n",
    "# Convert class_weights into a dictionary format for fit() function\n",
    "class_weight_dict = {i: class_weights[i] for i in range(len(class_weights))}"
   ],
   "id": "e8a68eae2df2cb21",
   "outputs": [],
   "execution_count": 8
  },
  {
   "metadata": {
    "ExecuteTime": {
     "end_time": "2024-12-07T17:52:26.762017Z",
     "start_time": "2024-12-07T17:50:16.579620Z"
    }
   },
   "cell_type": "code",
   "source": "history = model_II.fit(train_II, epochs=100, batch_size=BATCH_SIZE, class_weight=class_weight_dict)",
   "id": "90c6f6be681e7739",
   "outputs": [
    {
     "name": "stdout",
     "output_type": "stream",
     "text": [
      "Epoch 1/100\n",
      "\u001B[1m27/27\u001B[0m \u001B[32m━━━━━━━━━━━━━━━━━━━━\u001B[0m\u001B[37m\u001B[0m \u001B[1m29s\u001B[0m 244ms/step - loss: 0.6162 - mse: 0.1136\n",
      "Epoch 2/100\n",
      "\u001B[1m27/27\u001B[0m \u001B[32m━━━━━━━━━━━━━━━━━━━━\u001B[0m\u001B[37m\u001B[0m \u001B[1m1s\u001B[0m 36ms/step - loss: 0.1795 - mse: 0.0212\n",
      "Epoch 3/100\n",
      "\u001B[1m27/27\u001B[0m \u001B[32m━━━━━━━━━━━━━━━━━━━━\u001B[0m\u001B[37m\u001B[0m \u001B[1m1s\u001B[0m 30ms/step - loss: 0.1628 - mse: 0.0200\n",
      "Epoch 4/100\n",
      "\u001B[1m27/27\u001B[0m \u001B[32m━━━━━━━━━━━━━━━━━━━━\u001B[0m\u001B[37m\u001B[0m \u001B[1m1s\u001B[0m 30ms/step - loss: 0.1514 - mse: 0.0191\n",
      "Epoch 5/100\n",
      "\u001B[1m27/27\u001B[0m \u001B[32m━━━━━━━━━━━━━━━━━━━━\u001B[0m\u001B[37m\u001B[0m \u001B[1m1s\u001B[0m 31ms/step - loss: 0.1417 - mse: 0.0182\n",
      "Epoch 6/100\n",
      "\u001B[1m27/27\u001B[0m \u001B[32m━━━━━━━━━━━━━━━━━━━━\u001B[0m\u001B[37m\u001B[0m \u001B[1m1s\u001B[0m 36ms/step - loss: 0.1294 - mse: 0.0182\n",
      "Epoch 7/100\n",
      "\u001B[1m27/27\u001B[0m \u001B[32m━━━━━━━━━━━━━━━━━━━━\u001B[0m\u001B[37m\u001B[0m \u001B[1m1s\u001B[0m 41ms/step - loss: 0.1229 - mse: 0.0173\n",
      "Epoch 8/100\n",
      "\u001B[1m27/27\u001B[0m \u001B[32m━━━━━━━━━━━━━━━━━━━━\u001B[0m\u001B[37m\u001B[0m \u001B[1m1s\u001B[0m 45ms/step - loss: 0.1199 - mse: 0.0169\n",
      "Epoch 9/100\n",
      "\u001B[1m27/27\u001B[0m \u001B[32m━━━━━━━━━━━━━━━━━━━━\u001B[0m\u001B[37m\u001B[0m \u001B[1m2s\u001B[0m 62ms/step - loss: 0.1141 - mse: 0.0165\n",
      "Epoch 10/100\n",
      "\u001B[1m27/27\u001B[0m \u001B[32m━━━━━━━━━━━━━━━━━━━━\u001B[0m\u001B[37m\u001B[0m \u001B[1m2s\u001B[0m 51ms/step - loss: 0.1069 - mse: 0.0158\n",
      "Epoch 11/100\n",
      "\u001B[1m27/27\u001B[0m \u001B[32m━━━━━━━━━━━━━━━━━━━━\u001B[0m\u001B[37m\u001B[0m \u001B[1m2s\u001B[0m 44ms/step - loss: 0.1081 - mse: 0.0171\n",
      "Epoch 12/100\n",
      "\u001B[1m27/27\u001B[0m \u001B[32m━━━━━━━━━━━━━━━━━━━━\u001B[0m\u001B[37m\u001B[0m \u001B[1m1s\u001B[0m 43ms/step - loss: 0.1029 - mse: 0.0161\n",
      "Epoch 13/100\n",
      "\u001B[1m27/27\u001B[0m \u001B[32m━━━━━━━━━━━━━━━━━━━━\u001B[0m\u001B[37m\u001B[0m \u001B[1m1s\u001B[0m 39ms/step - loss: 0.0922 - mse: 0.0162\n",
      "Epoch 14/100\n",
      "\u001B[1m27/27\u001B[0m \u001B[32m━━━━━━━━━━━━━━━━━━━━\u001B[0m\u001B[37m\u001B[0m \u001B[1m1s\u001B[0m 48ms/step - loss: 0.0896 - mse: 0.0151\n",
      "Epoch 15/100\n",
      "\u001B[1m27/27\u001B[0m \u001B[32m━━━━━━━━━━━━━━━━━━━━\u001B[0m\u001B[37m\u001B[0m \u001B[1m1s\u001B[0m 49ms/step - loss: 0.0875 - mse: 0.0155\n",
      "Epoch 16/100\n",
      "\u001B[1m27/27\u001B[0m \u001B[32m━━━━━━━━━━━━━━━━━━━━\u001B[0m\u001B[37m\u001B[0m \u001B[1m1s\u001B[0m 40ms/step - loss: 0.0869 - mse: 0.0147\n",
      "Epoch 17/100\n",
      "\u001B[1m27/27\u001B[0m \u001B[32m━━━━━━━━━━━━━━━━━━━━\u001B[0m\u001B[37m\u001B[0m \u001B[1m1s\u001B[0m 33ms/step - loss: 0.0865 - mse: 0.0165\n",
      "Epoch 18/100\n",
      "\u001B[1m27/27\u001B[0m \u001B[32m━━━━━━━━━━━━━━━━━━━━\u001B[0m\u001B[37m\u001B[0m \u001B[1m1s\u001B[0m 29ms/step - loss: 0.0814 - mse: 0.0143\n",
      "Epoch 19/100\n",
      "\u001B[1m27/27\u001B[0m \u001B[32m━━━━━━━━━━━━━━━━━━━━\u001B[0m\u001B[37m\u001B[0m \u001B[1m1s\u001B[0m 28ms/step - loss: 0.0813 - mse: 0.0166\n",
      "Epoch 20/100\n",
      "\u001B[1m27/27\u001B[0m \u001B[32m━━━━━━━━━━━━━━━━━━━━\u001B[0m\u001B[37m\u001B[0m \u001B[1m1s\u001B[0m 31ms/step - loss: 0.0894 - mse: 0.0152\n",
      "Epoch 21/100\n",
      "\u001B[1m27/27\u001B[0m \u001B[32m━━━━━━━━━━━━━━━━━━━━\u001B[0m\u001B[37m\u001B[0m \u001B[1m1s\u001B[0m 27ms/step - loss: 0.0723 - mse: 0.0147\n",
      "Epoch 22/100\n",
      "\u001B[1m27/27\u001B[0m \u001B[32m━━━━━━━━━━━━━━━━━━━━\u001B[0m\u001B[37m\u001B[0m \u001B[1m1s\u001B[0m 26ms/step - loss: 0.0685 - mse: 0.0148\n",
      "Epoch 23/100\n",
      "\u001B[1m27/27\u001B[0m \u001B[32m━━━━━━━━━━━━━━━━━━━━\u001B[0m\u001B[37m\u001B[0m \u001B[1m1s\u001B[0m 26ms/step - loss: 0.0721 - mse: 0.0150\n",
      "Epoch 24/100\n",
      "\u001B[1m27/27\u001B[0m \u001B[32m━━━━━━━━━━━━━━━━━━━━\u001B[0m\u001B[37m\u001B[0m \u001B[1m1s\u001B[0m 25ms/step - loss: 0.0712 - mse: 0.0144\n",
      "Epoch 25/100\n",
      "\u001B[1m27/27\u001B[0m \u001B[32m━━━━━━━━━━━━━━━━━━━━\u001B[0m\u001B[37m\u001B[0m \u001B[1m1s\u001B[0m 27ms/step - loss: 0.0726 - mse: 0.0150\n",
      "Epoch 26/100\n",
      "\u001B[1m27/27\u001B[0m \u001B[32m━━━━━━━━━━━━━━━━━━━━\u001B[0m\u001B[37m\u001B[0m \u001B[1m1s\u001B[0m 29ms/step - loss: 0.0773 - mse: 0.0145\n",
      "Epoch 27/100\n",
      "\u001B[1m27/27\u001B[0m \u001B[32m━━━━━━━━━━━━━━━━━━━━\u001B[0m\u001B[37m\u001B[0m \u001B[1m1s\u001B[0m 30ms/step - loss: 0.0690 - mse: 0.0160\n",
      "Epoch 28/100\n",
      "\u001B[1m27/27\u001B[0m \u001B[32m━━━━━━━━━━━━━━━━━━━━\u001B[0m\u001B[37m\u001B[0m \u001B[1m1s\u001B[0m 32ms/step - loss: 0.0782 - mse: 0.0143\n",
      "Epoch 29/100\n",
      "\u001B[1m27/27\u001B[0m \u001B[32m━━━━━━━━━━━━━━━━━━━━\u001B[0m\u001B[37m\u001B[0m \u001B[1m1s\u001B[0m 42ms/step - loss: 0.0689 - mse: 0.0149\n",
      "Epoch 30/100\n",
      "\u001B[1m27/27\u001B[0m \u001B[32m━━━━━━━━━━━━━━━━━━━━\u001B[0m\u001B[37m\u001B[0m \u001B[1m1s\u001B[0m 30ms/step - loss: 0.0634 - mse: 0.0122\n",
      "Epoch 31/100\n",
      "\u001B[1m27/27\u001B[0m \u001B[32m━━━━━━━━━━━━━━━━━━━━\u001B[0m\u001B[37m\u001B[0m \u001B[1m1s\u001B[0m 30ms/step - loss: 0.0647 - mse: 0.0144\n",
      "Epoch 32/100\n",
      "\u001B[1m27/27\u001B[0m \u001B[32m━━━━━━━━━━━━━━━━━━━━\u001B[0m\u001B[37m\u001B[0m \u001B[1m1s\u001B[0m 32ms/step - loss: 0.0551 - mse: 0.0125\n",
      "Epoch 33/100\n",
      "\u001B[1m27/27\u001B[0m \u001B[32m━━━━━━━━━━━━━━━━━━━━\u001B[0m\u001B[37m\u001B[0m \u001B[1m1s\u001B[0m 30ms/step - loss: 0.0539 - mse: 0.0142\n",
      "Epoch 34/100\n",
      "\u001B[1m27/27\u001B[0m \u001B[32m━━━━━━━━━━━━━━━━━━━━\u001B[0m\u001B[37m\u001B[0m \u001B[1m1s\u001B[0m 30ms/step - loss: 0.0533 - mse: 0.0132\n",
      "Epoch 35/100\n",
      "\u001B[1m27/27\u001B[0m \u001B[32m━━━━━━━━━━━━━━━━━━━━\u001B[0m\u001B[37m\u001B[0m \u001B[1m1s\u001B[0m 30ms/step - loss: 0.0482 - mse: 0.0127\n",
      "Epoch 36/100\n",
      "\u001B[1m27/27\u001B[0m \u001B[32m━━━━━━━━━━━━━━━━━━━━\u001B[0m\u001B[37m\u001B[0m \u001B[1m1s\u001B[0m 27ms/step - loss: 0.0489 - mse: 0.0120\n",
      "Epoch 37/100\n",
      "\u001B[1m27/27\u001B[0m \u001B[32m━━━━━━━━━━━━━━━━━━━━\u001B[0m\u001B[37m\u001B[0m \u001B[1m1s\u001B[0m 30ms/step - loss: 0.0489 - mse: 0.0118\n",
      "Epoch 38/100\n",
      "\u001B[1m27/27\u001B[0m \u001B[32m━━━━━━━━━━━━━━━━━━━━\u001B[0m\u001B[37m\u001B[0m \u001B[1m1s\u001B[0m 32ms/step - loss: 0.0456 - mse: 0.0120\n",
      "Epoch 39/100\n",
      "\u001B[1m27/27\u001B[0m \u001B[32m━━━━━━━━━━━━━━━━━━━━\u001B[0m\u001B[37m\u001B[0m \u001B[1m1s\u001B[0m 31ms/step - loss: 0.0484 - mse: 0.0123\n",
      "Epoch 40/100\n",
      "\u001B[1m27/27\u001B[0m \u001B[32m━━━━━━━━━━━━━━━━━━━━\u001B[0m\u001B[37m\u001B[0m \u001B[1m1s\u001B[0m 29ms/step - loss: 0.0447 - mse: 0.0118\n",
      "Epoch 41/100\n",
      "\u001B[1m27/27\u001B[0m \u001B[32m━━━━━━━━━━━━━━━━━━━━\u001B[0m\u001B[37m\u001B[0m \u001B[1m1s\u001B[0m 28ms/step - loss: 0.0446 - mse: 0.0126\n",
      "Epoch 42/100\n",
      "\u001B[1m27/27\u001B[0m \u001B[32m━━━━━━━━━━━━━━━━━━━━\u001B[0m\u001B[37m\u001B[0m \u001B[1m1s\u001B[0m 29ms/step - loss: 0.0487 - mse: 0.0136\n",
      "Epoch 43/100\n",
      "\u001B[1m27/27\u001B[0m \u001B[32m━━━━━━━━━━━━━━━━━━━━\u001B[0m\u001B[37m\u001B[0m \u001B[1m1s\u001B[0m 27ms/step - loss: 0.0555 - mse: 0.0140\n",
      "Epoch 44/100\n",
      "\u001B[1m27/27\u001B[0m \u001B[32m━━━━━━━━━━━━━━━━━━━━\u001B[0m\u001B[37m\u001B[0m \u001B[1m1s\u001B[0m 27ms/step - loss: 0.0451 - mse: 0.0133\n",
      "Epoch 45/100\n",
      "\u001B[1m27/27\u001B[0m \u001B[32m━━━━━━━━━━━━━━━━━━━━\u001B[0m\u001B[37m\u001B[0m \u001B[1m1s\u001B[0m 28ms/step - loss: 0.0502 - mse: 0.0121\n",
      "Epoch 46/100\n",
      "\u001B[1m27/27\u001B[0m \u001B[32m━━━━━━━━━━━━━━━━━━━━\u001B[0m\u001B[37m\u001B[0m \u001B[1m2s\u001B[0m 54ms/step - loss: 0.0476 - mse: 0.0125\n",
      "Epoch 47/100\n",
      "\u001B[1m27/27\u001B[0m \u001B[32m━━━━━━━━━━━━━━━━━━━━\u001B[0m\u001B[37m\u001B[0m \u001B[1m1s\u001B[0m 29ms/step - loss: 0.0448 - mse: 0.0113\n",
      "Epoch 48/100\n",
      "\u001B[1m27/27\u001B[0m \u001B[32m━━━━━━━━━━━━━━━━━━━━\u001B[0m\u001B[37m\u001B[0m \u001B[1m1s\u001B[0m 29ms/step - loss: 0.0463 - mse: 0.0134\n",
      "Epoch 49/100\n",
      "\u001B[1m27/27\u001B[0m \u001B[32m━━━━━━━━━━━━━━━━━━━━\u001B[0m\u001B[37m\u001B[0m \u001B[1m1s\u001B[0m 30ms/step - loss: 0.0487 - mse: 0.0132\n",
      "Epoch 50/100\n",
      "\u001B[1m27/27\u001B[0m \u001B[32m━━━━━━━━━━━━━━━━━━━━\u001B[0m\u001B[37m\u001B[0m \u001B[1m1s\u001B[0m 32ms/step - loss: 0.0465 - mse: 0.0134\n",
      "Epoch 51/100\n",
      "\u001B[1m27/27\u001B[0m \u001B[32m━━━━━━━━━━━━━━━━━━━━\u001B[0m\u001B[37m\u001B[0m \u001B[1m1s\u001B[0m 36ms/step - loss: 0.0421 - mse: 0.0121\n",
      "Epoch 52/100\n",
      "\u001B[1m27/27\u001B[0m \u001B[32m━━━━━━━━━━━━━━━━━━━━\u001B[0m\u001B[37m\u001B[0m \u001B[1m1s\u001B[0m 28ms/step - loss: 0.0383 - mse: 0.0107\n",
      "Epoch 53/100\n",
      "\u001B[1m27/27\u001B[0m \u001B[32m━━━━━━━━━━━━━━━━━━━━\u001B[0m\u001B[37m\u001B[0m \u001B[1m1s\u001B[0m 29ms/step - loss: 0.0366 - mse: 0.0116\n",
      "Epoch 54/100\n",
      "\u001B[1m27/27\u001B[0m \u001B[32m━━━━━━━━━━━━━━━━━━━━\u001B[0m\u001B[37m\u001B[0m \u001B[1m1s\u001B[0m 29ms/step - loss: 0.0354 - mse: 0.0112\n",
      "Epoch 55/100\n",
      "\u001B[1m27/27\u001B[0m \u001B[32m━━━━━━━━━━━━━━━━━━━━\u001B[0m\u001B[37m\u001B[0m \u001B[1m1s\u001B[0m 28ms/step - loss: 0.0358 - mse: 0.0120\n",
      "Epoch 56/100\n",
      "\u001B[1m27/27\u001B[0m \u001B[32m━━━━━━━━━━━━━━━━━━━━\u001B[0m\u001B[37m\u001B[0m \u001B[1m1s\u001B[0m 34ms/step - loss: 0.0368 - mse: 0.0120\n",
      "Epoch 57/100\n",
      "\u001B[1m27/27\u001B[0m \u001B[32m━━━━━━━━━━━━━━━━━━━━\u001B[0m\u001B[37m\u001B[0m \u001B[1m1s\u001B[0m 35ms/step - loss: 0.0378 - mse: 0.0122\n",
      "Epoch 58/100\n",
      "\u001B[1m27/27\u001B[0m \u001B[32m━━━━━━━━━━━━━━━━━━━━\u001B[0m\u001B[37m\u001B[0m \u001B[1m1s\u001B[0m 31ms/step - loss: 0.0352 - mse: 0.0118\n",
      "Epoch 59/100\n",
      "\u001B[1m27/27\u001B[0m \u001B[32m━━━━━━━━━━━━━━━━━━━━\u001B[0m\u001B[37m\u001B[0m \u001B[1m1s\u001B[0m 33ms/step - loss: 0.0332 - mse: 0.0110\n",
      "Epoch 60/100\n",
      "\u001B[1m27/27\u001B[0m \u001B[32m━━━━━━━━━━━━━━━━━━━━\u001B[0m\u001B[37m\u001B[0m \u001B[1m1s\u001B[0m 34ms/step - loss: 0.0345 - mse: 0.0112\n",
      "Epoch 61/100\n",
      "\u001B[1m27/27\u001B[0m \u001B[32m━━━━━━━━━━━━━━━━━━━━\u001B[0m\u001B[37m\u001B[0m \u001B[1m1s\u001B[0m 46ms/step - loss: 0.0347 - mse: 0.0106\n",
      "Epoch 62/100\n",
      "\u001B[1m27/27\u001B[0m \u001B[32m━━━━━━━━━━━━━━━━━━━━\u001B[0m\u001B[37m\u001B[0m \u001B[1m1s\u001B[0m 33ms/step - loss: 0.0443 - mse: 0.0138\n",
      "Epoch 63/100\n",
      "\u001B[1m27/27\u001B[0m \u001B[32m━━━━━━━━━━━━━━━━━━━━\u001B[0m\u001B[37m\u001B[0m \u001B[1m1s\u001B[0m 38ms/step - loss: 0.0434 - mse: 0.0124\n",
      "Epoch 64/100\n",
      "\u001B[1m27/27\u001B[0m \u001B[32m━━━━━━━━━━━━━━━━━━━━\u001B[0m\u001B[37m\u001B[0m \u001B[1m1s\u001B[0m 30ms/step - loss: 0.0369 - mse: 0.0130\n",
      "Epoch 65/100\n",
      "\u001B[1m27/27\u001B[0m \u001B[32m━━━━━━━━━━━━━━━━━━━━\u001B[0m\u001B[37m\u001B[0m \u001B[1m1s\u001B[0m 31ms/step - loss: 0.0397 - mse: 0.0118\n",
      "Epoch 66/100\n",
      "\u001B[1m27/27\u001B[0m \u001B[32m━━━━━━━━━━━━━━━━━━━━\u001B[0m\u001B[37m\u001B[0m \u001B[1m1s\u001B[0m 32ms/step - loss: 0.0328 - mse: 0.0113\n",
      "Epoch 67/100\n",
      "\u001B[1m27/27\u001B[0m \u001B[32m━━━━━━━━━━━━━━━━━━━━\u001B[0m\u001B[37m\u001B[0m \u001B[1m1s\u001B[0m 32ms/step - loss: 0.0313 - mse: 0.0106\n",
      "Epoch 68/100\n",
      "\u001B[1m27/27\u001B[0m \u001B[32m━━━━━━━━━━━━━━━━━━━━\u001B[0m\u001B[37m\u001B[0m \u001B[1m1s\u001B[0m 31ms/step - loss: 0.0349 - mse: 0.0121\n",
      "Epoch 69/100\n",
      "\u001B[1m27/27\u001B[0m \u001B[32m━━━━━━━━━━━━━━━━━━━━\u001B[0m\u001B[37m\u001B[0m \u001B[1m1s\u001B[0m 33ms/step - loss: 0.0318 - mse: 0.0119\n",
      "Epoch 70/100\n",
      "\u001B[1m27/27\u001B[0m \u001B[32m━━━━━━━━━━━━━━━━━━━━\u001B[0m\u001B[37m\u001B[0m \u001B[1m1s\u001B[0m 28ms/step - loss: 0.0308 - mse: 0.0121\n",
      "Epoch 71/100\n",
      "\u001B[1m27/27\u001B[0m \u001B[32m━━━━━━━━━━━━━━━━━━━━\u001B[0m\u001B[37m\u001B[0m \u001B[1m1s\u001B[0m 34ms/step - loss: 0.0310 - mse: 0.0110\n",
      "Epoch 72/100\n",
      "\u001B[1m27/27\u001B[0m \u001B[32m━━━━━━━━━━━━━━━━━━━━\u001B[0m\u001B[37m\u001B[0m \u001B[1m1s\u001B[0m 34ms/step - loss: 0.0295 - mse: 0.0107\n",
      "Epoch 73/100\n",
      "\u001B[1m27/27\u001B[0m \u001B[32m━━━━━━━━━━━━━━━━━━━━\u001B[0m\u001B[37m\u001B[0m \u001B[1m1s\u001B[0m 33ms/step - loss: 0.0297 - mse: 0.0106\n",
      "Epoch 74/100\n",
      "\u001B[1m27/27\u001B[0m \u001B[32m━━━━━━━━━━━━━━━━━━━━\u001B[0m\u001B[37m\u001B[0m \u001B[1m1s\u001B[0m 29ms/step - loss: 0.0311 - mse: 0.0117\n",
      "Epoch 75/100\n",
      "\u001B[1m27/27\u001B[0m \u001B[32m━━━━━━━━━━━━━━━━━━━━\u001B[0m\u001B[37m\u001B[0m \u001B[1m1s\u001B[0m 34ms/step - loss: 0.0313 - mse: 0.0119\n",
      "Epoch 76/100\n",
      "\u001B[1m27/27\u001B[0m \u001B[32m━━━━━━━━━━━━━━━━━━━━\u001B[0m\u001B[37m\u001B[0m \u001B[1m1s\u001B[0m 30ms/step - loss: 0.0359 - mse: 0.0128\n",
      "Epoch 77/100\n",
      "\u001B[1m27/27\u001B[0m \u001B[32m━━━━━━━━━━━━━━━━━━━━\u001B[0m\u001B[37m\u001B[0m \u001B[1m1s\u001B[0m 28ms/step - loss: 0.0318 - mse: 0.0115\n",
      "Epoch 78/100\n",
      "\u001B[1m27/27\u001B[0m \u001B[32m━━━━━━━━━━━━━━━━━━━━\u001B[0m\u001B[37m\u001B[0m \u001B[1m1s\u001B[0m 35ms/step - loss: 0.0316 - mse: 0.0105\n",
      "Epoch 79/100\n",
      "\u001B[1m27/27\u001B[0m \u001B[32m━━━━━━━━━━━━━━━━━━━━\u001B[0m\u001B[37m\u001B[0m \u001B[1m1s\u001B[0m 37ms/step - loss: 0.0321 - mse: 0.0114\n",
      "Epoch 80/100\n",
      "\u001B[1m27/27\u001B[0m \u001B[32m━━━━━━━━━━━━━━━━━━━━\u001B[0m\u001B[37m\u001B[0m \u001B[1m1s\u001B[0m 31ms/step - loss: 0.0291 - mse: 0.0114\n",
      "Epoch 81/100\n",
      "\u001B[1m27/27\u001B[0m \u001B[32m━━━━━━━━━━━━━━━━━━━━\u001B[0m\u001B[37m\u001B[0m \u001B[1m1s\u001B[0m 25ms/step - loss: 0.0305 - mse: 0.0124\n",
      "Epoch 82/100\n",
      "\u001B[1m27/27\u001B[0m \u001B[32m━━━━━━━━━━━━━━━━━━━━\u001B[0m\u001B[37m\u001B[0m \u001B[1m1s\u001B[0m 25ms/step - loss: 0.0286 - mse: 0.0113\n",
      "Epoch 83/100\n",
      "\u001B[1m27/27\u001B[0m \u001B[32m━━━━━━━━━━━━━━━━━━━━\u001B[0m\u001B[37m\u001B[0m \u001B[1m1s\u001B[0m 27ms/step - loss: 0.0267 - mse: 0.0106\n",
      "Epoch 84/100\n",
      "\u001B[1m27/27\u001B[0m \u001B[32m━━━━━━━━━━━━━━━━━━━━\u001B[0m\u001B[37m\u001B[0m \u001B[1m1s\u001B[0m 35ms/step - loss: 0.0274 - mse: 0.0106\n",
      "Epoch 85/100\n",
      "\u001B[1m27/27\u001B[0m \u001B[32m━━━━━━━━━━━━━━━━━━━━\u001B[0m\u001B[37m\u001B[0m \u001B[1m1s\u001B[0m 30ms/step - loss: 0.0274 - mse: 0.0112\n",
      "Epoch 86/100\n",
      "\u001B[1m27/27\u001B[0m \u001B[32m━━━━━━━━━━━━━━━━━━━━\u001B[0m\u001B[37m\u001B[0m \u001B[1m1s\u001B[0m 31ms/step - loss: 0.0277 - mse: 0.0118\n",
      "Epoch 87/100\n",
      "\u001B[1m27/27\u001B[0m \u001B[32m━━━━━━━━━━━━━━━━━━━━\u001B[0m\u001B[37m\u001B[0m \u001B[1m1s\u001B[0m 28ms/step - loss: 0.0291 - mse: 0.0123\n",
      "Epoch 88/100\n",
      "\u001B[1m27/27\u001B[0m \u001B[32m━━━━━━━━━━━━━━━━━━━━\u001B[0m\u001B[37m\u001B[0m \u001B[1m1s\u001B[0m 34ms/step - loss: 0.0283 - mse: 0.0107\n",
      "Epoch 89/100\n",
      "\u001B[1m27/27\u001B[0m \u001B[32m━━━━━━━━━━━━━━━━━━━━\u001B[0m\u001B[37m\u001B[0m \u001B[1m1s\u001B[0m 31ms/step - loss: 0.0270 - mse: 0.0108\n",
      "Epoch 90/100\n",
      "\u001B[1m27/27\u001B[0m \u001B[32m━━━━━━━━━━━━━━━━━━━━\u001B[0m\u001B[37m\u001B[0m \u001B[1m1s\u001B[0m 29ms/step - loss: 0.0271 - mse: 0.0102\n",
      "Epoch 91/100\n",
      "\u001B[1m27/27\u001B[0m \u001B[32m━━━━━━━━━━━━━━━━━━━━\u001B[0m\u001B[37m\u001B[0m \u001B[1m1s\u001B[0m 30ms/step - loss: 0.0318 - mse: 0.0127\n",
      "Epoch 92/100\n",
      "\u001B[1m27/27\u001B[0m \u001B[32m━━━━━━━━━━━━━━━━━━━━\u001B[0m\u001B[37m\u001B[0m \u001B[1m1s\u001B[0m 27ms/step - loss: 0.0326 - mse: 0.0119\n",
      "Epoch 93/100\n",
      "\u001B[1m27/27\u001B[0m \u001B[32m━━━━━━━━━━━━━━━━━━━━\u001B[0m\u001B[37m\u001B[0m \u001B[1m1s\u001B[0m 26ms/step - loss: 0.0301 - mse: 0.0119\n",
      "Epoch 94/100\n",
      "\u001B[1m27/27\u001B[0m \u001B[32m━━━━━━━━━━━━━━━━━━━━\u001B[0m\u001B[37m\u001B[0m \u001B[1m1s\u001B[0m 26ms/step - loss: 0.0278 - mse: 0.0108\n",
      "Epoch 95/100\n",
      "\u001B[1m27/27\u001B[0m \u001B[32m━━━━━━━━━━━━━━━━━━━━\u001B[0m\u001B[37m\u001B[0m \u001B[1m1s\u001B[0m 23ms/step - loss: 0.0252 - mse: 0.0108\n",
      "Epoch 96/100\n",
      "\u001B[1m27/27\u001B[0m \u001B[32m━━━━━━━━━━━━━━━━━━━━\u001B[0m\u001B[37m\u001B[0m \u001B[1m1s\u001B[0m 29ms/step - loss: 0.0247 - mse: 0.0104\n",
      "Epoch 97/100\n",
      "\u001B[1m27/27\u001B[0m \u001B[32m━━━━━━━━━━━━━━━━━━━━\u001B[0m\u001B[37m\u001B[0m \u001B[1m1s\u001B[0m 38ms/step - loss: 0.0266 - mse: 0.0118\n",
      "Epoch 98/100\n",
      "\u001B[1m27/27\u001B[0m \u001B[32m━━━━━━━━━━━━━━━━━━━━\u001B[0m\u001B[37m\u001B[0m \u001B[1m1s\u001B[0m 27ms/step - loss: 0.0268 - mse: 0.0112\n",
      "Epoch 99/100\n",
      "\u001B[1m27/27\u001B[0m \u001B[32m━━━━━━━━━━━━━━━━━━━━\u001B[0m\u001B[37m\u001B[0m \u001B[1m1s\u001B[0m 25ms/step - loss: 0.0272 - mse: 0.0120\n",
      "Epoch 100/100\n",
      "\u001B[1m27/27\u001B[0m \u001B[32m━━━━━━━━━━━━━━━━━━━━\u001B[0m\u001B[37m\u001B[0m \u001B[1m1s\u001B[0m 23ms/step - loss: 0.0245 - mse: 0.0105\n"
     ]
    }
   ],
   "execution_count": 9
  },
  {
   "metadata": {
    "ExecuteTime": {
     "end_time": "2024-12-07T17:52:26.890764Z",
     "start_time": "2024-12-07T17:52:26.827926Z"
    }
   },
   "cell_type": "code",
   "source": "model_II.summary()",
   "id": "a934e87493baa466",
   "outputs": [
    {
     "data": {
      "text/plain": [
       "\u001B[1mModel: \"sequential\"\u001B[0m\n"
      ],
      "text/html": [
       "<pre style=\"white-space:pre;overflow-x:auto;line-height:normal;font-family:Menlo,'DejaVu Sans Mono',consolas,'Courier New',monospace\"><span style=\"font-weight: bold\">Model: \"sequential\"</span>\n",
       "</pre>\n"
      ]
     },
     "metadata": {},
     "output_type": "display_data"
    },
    {
     "data": {
      "text/plain": [
       "┏━━━━━━━━━━━━━━━━━━━━━━━━━━━━━━━━━┳━━━━━━━━━━━━━━━━━━━━━━━━┳━━━━━━━━━━━━━━━┓\n",
       "┃\u001B[1m \u001B[0m\u001B[1mLayer (type)                   \u001B[0m\u001B[1m \u001B[0m┃\u001B[1m \u001B[0m\u001B[1mOutput Shape          \u001B[0m\u001B[1m \u001B[0m┃\u001B[1m \u001B[0m\u001B[1m      Param #\u001B[0m\u001B[1m \u001B[0m┃\n",
       "┡━━━━━━━━━━━━━━━━━━━━━━━━━━━━━━━━━╇━━━━━━━━━━━━━━━━━━━━━━━━╇━━━━━━━━━━━━━━━┩\n",
       "│ bidirectional (\u001B[38;5;33mBidirectional\u001B[0m)   │ (\u001B[38;5;45mNone\u001B[0m, \u001B[38;5;34m20\u001B[0m, \u001B[38;5;34m128\u001B[0m)        │       \u001B[38;5;34m296,960\u001B[0m │\n",
       "├─────────────────────────────────┼────────────────────────┼───────────────┤\n",
       "│ dense (\u001B[38;5;33mDense\u001B[0m)                   │ (\u001B[38;5;45mNone\u001B[0m, \u001B[38;5;34m20\u001B[0m, \u001B[38;5;34m64\u001B[0m)         │         \u001B[38;5;34m8,256\u001B[0m │\n",
       "├─────────────────────────────────┼────────────────────────┼───────────────┤\n",
       "│ dense_1 (\u001B[38;5;33mDense\u001B[0m)                 │ (\u001B[38;5;45mNone\u001B[0m, \u001B[38;5;34m20\u001B[0m, \u001B[38;5;34m32\u001B[0m)         │         \u001B[38;5;34m2,080\u001B[0m │\n",
       "├─────────────────────────────────┼────────────────────────┼───────────────┤\n",
       "│ dense_2 (\u001B[38;5;33mDense\u001B[0m)                 │ (\u001B[38;5;45mNone\u001B[0m, \u001B[38;5;34m20\u001B[0m, \u001B[38;5;34m6\u001B[0m)          │           \u001B[38;5;34m198\u001B[0m │\n",
       "└─────────────────────────────────┴────────────────────────┴───────────────┘\n"
      ],
      "text/html": [
       "<pre style=\"white-space:pre;overflow-x:auto;line-height:normal;font-family:Menlo,'DejaVu Sans Mono',consolas,'Courier New',monospace\">┏━━━━━━━━━━━━━━━━━━━━━━━━━━━━━━━━━┳━━━━━━━━━━━━━━━━━━━━━━━━┳━━━━━━━━━━━━━━━┓\n",
       "┃<span style=\"font-weight: bold\"> Layer (type)                    </span>┃<span style=\"font-weight: bold\"> Output Shape           </span>┃<span style=\"font-weight: bold\">       Param # </span>┃\n",
       "┡━━━━━━━━━━━━━━━━━━━━━━━━━━━━━━━━━╇━━━━━━━━━━━━━━━━━━━━━━━━╇━━━━━━━━━━━━━━━┩\n",
       "│ bidirectional (<span style=\"color: #0087ff; text-decoration-color: #0087ff\">Bidirectional</span>)   │ (<span style=\"color: #00d7ff; text-decoration-color: #00d7ff\">None</span>, <span style=\"color: #00af00; text-decoration-color: #00af00\">20</span>, <span style=\"color: #00af00; text-decoration-color: #00af00\">128</span>)        │       <span style=\"color: #00af00; text-decoration-color: #00af00\">296,960</span> │\n",
       "├─────────────────────────────────┼────────────────────────┼───────────────┤\n",
       "│ dense (<span style=\"color: #0087ff; text-decoration-color: #0087ff\">Dense</span>)                   │ (<span style=\"color: #00d7ff; text-decoration-color: #00d7ff\">None</span>, <span style=\"color: #00af00; text-decoration-color: #00af00\">20</span>, <span style=\"color: #00af00; text-decoration-color: #00af00\">64</span>)         │         <span style=\"color: #00af00; text-decoration-color: #00af00\">8,256</span> │\n",
       "├─────────────────────────────────┼────────────────────────┼───────────────┤\n",
       "│ dense_1 (<span style=\"color: #0087ff; text-decoration-color: #0087ff\">Dense</span>)                 │ (<span style=\"color: #00d7ff; text-decoration-color: #00d7ff\">None</span>, <span style=\"color: #00af00; text-decoration-color: #00af00\">20</span>, <span style=\"color: #00af00; text-decoration-color: #00af00\">32</span>)         │         <span style=\"color: #00af00; text-decoration-color: #00af00\">2,080</span> │\n",
       "├─────────────────────────────────┼────────────────────────┼───────────────┤\n",
       "│ dense_2 (<span style=\"color: #0087ff; text-decoration-color: #0087ff\">Dense</span>)                 │ (<span style=\"color: #00d7ff; text-decoration-color: #00d7ff\">None</span>, <span style=\"color: #00af00; text-decoration-color: #00af00\">20</span>, <span style=\"color: #00af00; text-decoration-color: #00af00\">6</span>)          │           <span style=\"color: #00af00; text-decoration-color: #00af00\">198</span> │\n",
       "└─────────────────────────────────┴────────────────────────┴───────────────┘\n",
       "</pre>\n"
      ]
     },
     "metadata": {},
     "output_type": "display_data"
    },
    {
     "data": {
      "text/plain": [
       "\u001B[1m Total params: \u001B[0m\u001B[38;5;34m922,484\u001B[0m (3.52 MB)\n"
      ],
      "text/html": [
       "<pre style=\"white-space:pre;overflow-x:auto;line-height:normal;font-family:Menlo,'DejaVu Sans Mono',consolas,'Courier New',monospace\"><span style=\"font-weight: bold\"> Total params: </span><span style=\"color: #00af00; text-decoration-color: #00af00\">922,484</span> (3.52 MB)\n",
       "</pre>\n"
      ]
     },
     "metadata": {},
     "output_type": "display_data"
    },
    {
     "data": {
      "text/plain": [
       "\u001B[1m Trainable params: \u001B[0m\u001B[38;5;34m307,494\u001B[0m (1.17 MB)\n"
      ],
      "text/html": [
       "<pre style=\"white-space:pre;overflow-x:auto;line-height:normal;font-family:Menlo,'DejaVu Sans Mono',consolas,'Courier New',monospace\"><span style=\"font-weight: bold\"> Trainable params: </span><span style=\"color: #00af00; text-decoration-color: #00af00\">307,494</span> (1.17 MB)\n",
       "</pre>\n"
      ]
     },
     "metadata": {},
     "output_type": "display_data"
    },
    {
     "data": {
      "text/plain": [
       "\u001B[1m Non-trainable params: \u001B[0m\u001B[38;5;34m0\u001B[0m (0.00 B)\n"
      ],
      "text/html": [
       "<pre style=\"white-space:pre;overflow-x:auto;line-height:normal;font-family:Menlo,'DejaVu Sans Mono',consolas,'Courier New',monospace\"><span style=\"font-weight: bold\"> Non-trainable params: </span><span style=\"color: #00af00; text-decoration-color: #00af00\">0</span> (0.00 B)\n",
       "</pre>\n"
      ]
     },
     "metadata": {},
     "output_type": "display_data"
    },
    {
     "data": {
      "text/plain": [
       "\u001B[1m Optimizer params: \u001B[0m\u001B[38;5;34m614,990\u001B[0m (2.35 MB)\n"
      ],
      "text/html": [
       "<pre style=\"white-space:pre;overflow-x:auto;line-height:normal;font-family:Menlo,'DejaVu Sans Mono',consolas,'Courier New',monospace\"><span style=\"font-weight: bold\"> Optimizer params: </span><span style=\"color: #00af00; text-decoration-color: #00af00\">614,990</span> (2.35 MB)\n",
       "</pre>\n"
      ]
     },
     "metadata": {},
     "output_type": "display_data"
    }
   ],
   "execution_count": 10
  },
  {
   "metadata": {
    "ExecuteTime": {
     "end_time": "2024-12-07T17:53:59.191416Z",
     "start_time": "2024-12-07T17:53:59.173972Z"
    }
   },
   "cell_type": "code",
   "source": [
    "history_dict = history.history\n",
    "print(history_dict.keys())"
   ],
   "id": "f77cb1b1a0a8016a",
   "outputs": [
    {
     "name": "stdout",
     "output_type": "stream",
     "text": [
      "dict_keys(['loss', 'mse'])\n"
     ]
    }
   ],
   "execution_count": 13
  },
  {
   "metadata": {
    "ExecuteTime": {
     "end_time": "2024-12-07T17:54:49.157904Z",
     "start_time": "2024-12-07T17:54:45.191354Z"
    }
   },
   "cell_type": "code",
   "source": [
    "import matplotlib.pyplot as plt\n",
    "\n",
    "# Extract metrics from history\n",
    "\n",
    "\n",
    "# Plotting Loss\n",
    "plt.figure(figsize=(12, 6))\n",
    "plt.plot(history_dict['loss'], label='Training Loss')\n",
    "\n",
    "plt.title('Training and Validation Loss')\n",
    "plt.xlabel('Epochs')\n",
    "plt.ylabel('Loss')\n",
    "plt.legend()\n",
    "plt.grid(True)\n",
    "plt.show()\n",
    "\n",
    "# Plotting Accuracy (if available)\n",
    "if 'mse' in history_dict:  # Use 'acc' if it's an older TensorFlow/Keras version\n",
    "    plt.figure(figsize=(12, 6))\n",
    "    plt.plot(history_dict['mse'], label='Training MSE')\n",
    "    plt.title('Training and Validation Accuracy')\n",
    "    plt.xlabel('Epochs')\n",
    "    plt.ylabel('Accuracy')\n",
    "    plt.legend()\n",
    "    plt.grid(True)\n",
    "    plt.show()"
   ],
   "id": "d2c863a07608ea81",
   "outputs": [
    {
     "data": {
      "text/plain": [
       "<Figure size 1200x600 with 1 Axes>"
      ],
      "image/png": "[encoded data removed]"
     },
     "metadata": {},
     "output_type": "display_data"
    },
    {
     "data": {
      "text/plain": [
       "<Figure size 1200x600 with 1 Axes>"
      ],
      "image/png": "[encoded data removed]"
     },
     "metadata": {},
     "output_type": "display_data"
    }
   ],
   "execution_count": 15
  },
  {
   "metadata": {
    "ExecuteTime": {
     "end_time": "2024-12-03T22:11:07.221124Z",
     "start_time": "2024-12-03T22:11:01.530860Z"
    }
   },
   "cell_type": "code",
   "source": [
    "# Evaluate the model\n",
    "loss, acc = model_II.evaluate(full_test_II, verbose=2)\n",
    "print(\"Untrained model, coherence: {:5.2f}%\".format(100 * (1-acc)))"
   ],
   "id": "5d5d5465ef467740",
   "outputs": [
    {
     "name": "stdout",
     "output_type": "stream",
     "text": [
      "13/13 - 6s - 434ms/step - loss: 0.1238 - mse: 0.0220\n",
      "Untrained model, coherence: 97.80%\n"
     ]
    }
   ],
   "execution_count": 148
  },
  {
   "metadata": {
    "ExecuteTime": {
     "end_time": "2024-12-03T22:11:08.505761Z",
     "start_time": "2024-12-03T22:11:07.403955Z"
    }
   },
   "cell_type": "code",
   "source": "model_II.save(os.path.join(path, 'model_method_II/model.keras'))",
   "id": "4f814446e3673c61",
   "outputs": [],
   "execution_count": 149
  },
  {
   "metadata": {
    "ExecuteTime": {
     "end_time": "2024-12-07T18:00:35.895211Z",
     "start_time": "2024-12-07T18:00:35.670772Z"
    }
   },
   "cell_type": "code",
   "source": "print(count_method_II((tf.concat([y for _, y in train_II], axis=0)).numpy().reshape(-1,6)))",
   "id": "b94327d94a43763",
   "outputs": [
    {
     "name": "stdout",
     "output_type": "stream",
     "text": [
      "16260\n",
      "       Label  Count Percentage\n",
      "0      Happy   3828     23.54%\n",
      "1        Sad   2145     13.19%\n",
      "2  Disgusted   1587      9.76%\n",
      "3  Surprised    894       5.5%\n",
      "4      Angry    896      5.51%\n",
      "5     Scared    974      5.99%\n",
      "6    Neutral   7863     48.36%\n"
     ]
    }
   ],
   "execution_count": 21
  },
  {
   "metadata": {
    "ExecuteTime": {
     "end_time": "2024-12-07T18:01:01.387648Z",
     "start_time": "2024-12-07T18:00:57.841538Z"
    }
   },
   "cell_type": "code",
   "source": "print(count_method_II((tf.concat([y for _, y in full_test_II], axis=0)).numpy().reshape(-1,6)))",
   "id": "652477475a97e1fe",
   "outputs": [
    {
     "name": "stdout",
     "output_type": "stream",
     "text": [
      "7000\n",
      "       Label  Count Percentage\n",
      "0      Happy   1733     24.76%\n",
      "1        Sad   1020     14.57%\n",
      "2  Disgusted    764     10.91%\n",
      "3  Surprised    426      6.09%\n",
      "4      Angry    286      4.09%\n",
      "5     Scared    409      5.84%\n",
      "6    Neutral   3238     46.26%\n"
     ]
    }
   ],
   "execution_count": 23
  },
  {
   "metadata": {
    "ExecuteTime": {
     "end_time": "2024-12-07T18:02:58.840092Z",
     "start_time": "2024-12-07T18:02:58.834296Z"
    }
   },
   "cell_type": "code",
   "source": "emotions = ['Happy', 'Sad', 'Scared', 'Disgusted', 'Surprised', 'Angry']",
   "id": "48820bb501374d47",
   "outputs": [],
   "execution_count": 24
  },
  {
   "metadata": {
    "ExecuteTime": {
     "end_time": "2024-12-07T18:08:55.152205Z",
     "start_time": "2024-12-07T18:08:48.567289Z"
    }
   },
   "cell_type": "code",
   "source": [
    "test_set = full_test_II\n",
    "# Getting predictions (chat)\n",
    "y_pred = model_II.predict(test_set.map(lambda x, _: x))\n",
    "y_true = tf.concat([y for _, y in test_set], axis=0)\n",
    "# Helper function to compute metrics for a single emotion\n",
    "def compute_all_metrics(y_true, y_pred):\n",
    "    \"\"\"\n",
    "    Compute MAS, MSE, MAE, RMSE, and R² for masked values of y_true and y_pred.\n",
    "    \n",
    "    Args:\n",
    "        y_true (tf.Tensor): Ground truth values after masking.\n",
    "        y_pred (tf.Tensor): Predicted values after masking.\n",
    "    \n",
    "    Returns:\n",
    "        dict: A dictionary with computed metrics.\n",
    "    \"\"\"\n",
    "    def compute_mse(y_true, y_pred):\n",
    "        return tf.reduce_mean(tf.square(y_true - y_pred)).numpy()\n",
    "\n",
    "    def compute_mae(y_true, y_pred):\n",
    "        return tf.reduce_mean(tf.abs(y_true - y_pred)).numpy()\n",
    "\n",
    "    def compute_rmse(y_true, y_pred):\n",
    "        mse = tf.reduce_mean(tf.square(y_true - y_pred))\n",
    "        return tf.sqrt(mse).numpy()\n",
    "\n",
    "    def compute_r2(y_true, y_pred):\n",
    "        total_variance = tf.reduce_sum(tf.square(y_true - tf.reduce_mean(y_true)))\n",
    "        residual_variance = tf.reduce_sum(tf.square(y_true - y_pred))\n",
    "        return (1 - residual_variance / total_variance).numpy()\n",
    "\n",
    "    def compute_similarity(y_true, y_pred):\n",
    "        similarity = 1 - tf.abs(y_true - y_pred)\n",
    "        mas = tf.reduce_mean(similarity).numpy()\n",
    "        label_count = tf.size(y_true).numpy()\n",
    "        return mas, label_count\n",
    "\n",
    "    # Compute metrics\n",
    "    mse = compute_mse(y_true, y_pred)\n",
    "    mae = compute_mae(y_true, y_pred)\n",
    "    rmse = compute_rmse(y_true, y_pred)\n",
    "    r2 = compute_r2(y_true, y_pred)\n",
    "    mas, label_count = compute_similarity(y_true, y_pred)\n",
    "\n",
    "    return {\n",
    "        'Labels Used': label_count,\n",
    "        'MAS': mas,\n",
    "        'MSE': mse,\n",
    "        'MAE': mae,\n",
    "        'RMSE': rmse,\n",
    "        'R²': r2\n",
    "    }\n",
    "\n",
    "# Main loop to compute metrics for all emotions\n",
    "def compute_metrics_for_all_emotions(y_true, y_pred, emotions):\n",
    "    \"\"\"\n",
    "    Compute all metrics for each emotion.\n",
    "    \n",
    "    Args:\n",
    "        y_true (tf.Tensor): Ground truth values (shape: [batch_size, sequence_length, num_emotions]).\n",
    "        y_pred (tf.Tensor): Predicted values (shape: [batch_size, sequence_length, num_emotions]).\n",
    "        emotions (list): List of emotion names.\n",
    "    \n",
    "    Returns:\n",
    "        list: A list of dictionaries containing metrics for each emotion.\n",
    "    \"\"\"\n",
    "    metric_results = []\n",
    "\n",
    "    for i, emotion in enumerate(emotions):\n",
    "        # Extract true and predicted values for the specific emotion\n",
    "        true_values = tf.cast(y_true[:, :, i], tf.float32)\n",
    "        pred_values = tf.cast(y_pred[:, :, i], tf.float32)\n",
    "        \n",
    "        # Mask non-zero true values\n",
    "        mask = tf.not_equal(true_values, 0)\n",
    "        true_values_masked = tf.boolean_mask(true_values, mask)\n",
    "        pred_values_masked = tf.boolean_mask(pred_values, mask)\n",
    "        \n",
    "        # Compute all metrics using the helper function\n",
    "        metrics = compute_all_metrics(true_values_masked, pred_values_masked)\n",
    "        metrics['emotion'] = emotion  # Add emotion name to the result\n",
    "        \n",
    "        # Append to results\n",
    "        metric_results.append(metrics)\n",
    "\n",
    "        # Print for immediate feedback\n",
    "        print(f\"Emotion: {emotion}, Metrics: {metrics}\")\n",
    "\n",
    "    return metric_results\n",
    "\n",
    "# Example Usage\n",
    "# Assuming `emotions` is a list of emotion names, and `y_true` and `y_pred` are already defined\n",
    "results = compute_metrics_for_all_emotions(y_true, y_pred, emotions)\n",
    "\n",
    "# Results are already printed inside the loop\n"
   ],
   "id": "99adda2ca3f5fe8a",
   "outputs": [
    {
     "name": "stdout",
     "output_type": "stream",
     "text": [
      "\u001B[1m13/13\u001B[0m \u001B[32m━━━━━━━━━━━━━━━━━━━━\u001B[0m\u001B[37m\u001B[0m \u001B[1m4s\u001B[0m 211ms/step\n",
      "Emotion: Happy, Metrics: {'Labels Used': 1733, 'MAS': 0.73960924, 'MSE': 0.10900406, 'MAE': 0.26039082, 'RMSE': 0.33015764, 'R²': -0.83478, 'emotion': 'Happy'}\n",
      "Emotion: Sad, Metrics: {'Labels Used': 1020, 'MAS': 0.7949587, 'MSE': 0.065217994, 'MAE': 0.2050413, 'RMSE': 0.25537813, 'R²': -2.193512, 'emotion': 'Sad'}\n",
      "Emotion: Scared, Metrics: {'Labels Used': 764, 'MAS': 0.8178042, 'MSE': 0.05166823, 'MAE': 0.18219577, 'RMSE': 0.22730647, 'R²': -0.036802053, 'emotion': 'Scared'}\n",
      "Emotion: Disgusted, Metrics: {'Labels Used': 426, 'MAS': 0.8025926, 'MSE': 0.050165273, 'MAE': 0.19740742, 'RMSE': 0.22397606, 'R²': -12.885164, 'emotion': 'Disgusted'}\n",
      "Emotion: Surprised, Metrics: {'Labels Used': 286, 'MAS': 0.805816, 'MSE': 0.051775187, 'MAE': 0.19418405, 'RMSE': 0.22754161, 'R²': -4.8947544, 'emotion': 'Surprised'}\n",
      "Emotion: Angry, Metrics: {'Labels Used': 409, 'MAS': 0.7948996, 'MSE': 0.057080906, 'MAE': 0.20510055, 'RMSE': 0.2389161, 'R²': -4.9530554, 'emotion': 'Angry'}\n"
     ]
    }
   ],
   "execution_count": 27
  },
  {
   "metadata": {
    "ExecuteTime": {
     "end_time": "2024-12-07T18:28:20.059375Z",
     "start_time": "2024-12-07T18:28:19.832969Z"
    }
   },
   "cell_type": "code",
   "source": [
    "import pandas as pd\n",
    "def compute_residuals_for_all_emotions(y_true, y_pred, emotions):\n",
    "    residuals = pd.DataFrame(columns=emotions)\n",
    "\n",
    "    for i, emotion in enumerate(emotions):\n",
    "        # Extract true and predicted values for the specific emotion\n",
    "        true_values = pd.Series(tf.cast(y_true[:, :, i], tf.float32))\n",
    "        pred_values = pd.Series(tf.cast(y_pred[:, :, i], tf.float32))\n",
    "        \n",
    "        residuals[emotion] = true_values - pred_values\n",
    "        \n",
    "    return residuals\n",
    "\n",
    "# Example Usage\n",
    "residuals = compute_residuals_for_all_emotions(y_true, y_pred, emotions)\n",
    "print(residuals.head())"
   ],
   "id": "fa826799dc63889d",
   "outputs": [
    {
     "ename": "ValueError",
     "evalue": "Data must be 1-dimensional, got ndarray of shape (350, 20) instead",
     "output_type": "error",
     "traceback": [
      "\u001B[1;31m---------------------------------------------------------------------------\u001B[0m",
      "\u001B[1;31mValueError\u001B[0m                                Traceback (most recent call last)",
      "Cell \u001B[1;32mIn[29], line 15\u001B[0m\n\u001B[0;32m     12\u001B[0m     \u001B[38;5;28;01mreturn\u001B[39;00m residuals\n\u001B[0;32m     14\u001B[0m \u001B[38;5;66;03m# Example Usage\u001B[39;00m\n\u001B[1;32m---> 15\u001B[0m residuals \u001B[38;5;241m=\u001B[39m \u001B[43mcompute_residuals_for_all_emotions\u001B[49m\u001B[43m(\u001B[49m\u001B[43my_true\u001B[49m\u001B[43m,\u001B[49m\u001B[43m \u001B[49m\u001B[43my_pred\u001B[49m\u001B[43m,\u001B[49m\u001B[43m \u001B[49m\u001B[43memotions\u001B[49m\u001B[43m)\u001B[49m\n\u001B[0;32m     16\u001B[0m \u001B[38;5;28mprint\u001B[39m(residuals\u001B[38;5;241m.\u001B[39mhead())\n",
      "Cell \u001B[1;32mIn[29], line 7\u001B[0m, in \u001B[0;36mcompute_residuals_for_all_emotions\u001B[1;34m(y_true, y_pred, emotions)\u001B[0m\n\u001B[0;32m      3\u001B[0m residuals \u001B[38;5;241m=\u001B[39m pd\u001B[38;5;241m.\u001B[39mDataFrame(columns\u001B[38;5;241m=\u001B[39memotions)\n\u001B[0;32m      5\u001B[0m \u001B[38;5;28;01mfor\u001B[39;00m i, emotion \u001B[38;5;129;01min\u001B[39;00m \u001B[38;5;28menumerate\u001B[39m(emotions):\n\u001B[0;32m      6\u001B[0m     \u001B[38;5;66;03m# Extract true and predicted values for the specific emotion\u001B[39;00m\n\u001B[1;32m----> 7\u001B[0m     true_values \u001B[38;5;241m=\u001B[39m \u001B[43mpd\u001B[49m\u001B[38;5;241;43m.\u001B[39;49m\u001B[43mSeries\u001B[49m\u001B[43m(\u001B[49m\u001B[43mtf\u001B[49m\u001B[38;5;241;43m.\u001B[39;49m\u001B[43mcast\u001B[49m\u001B[43m(\u001B[49m\u001B[43my_true\u001B[49m\u001B[43m[\u001B[49m\u001B[43m:\u001B[49m\u001B[43m,\u001B[49m\u001B[43m \u001B[49m\u001B[43m:\u001B[49m\u001B[43m,\u001B[49m\u001B[43m \u001B[49m\u001B[43mi\u001B[49m\u001B[43m]\u001B[49m\u001B[43m,\u001B[49m\u001B[43m \u001B[49m\u001B[43mtf\u001B[49m\u001B[38;5;241;43m.\u001B[39;49m\u001B[43mfloat32\u001B[49m\u001B[43m)\u001B[49m\u001B[43m)\u001B[49m\n\u001B[0;32m      8\u001B[0m     pred_values \u001B[38;5;241m=\u001B[39m pd\u001B[38;5;241m.\u001B[39mSeries(tf\u001B[38;5;241m.\u001B[39mcast(y_pred[:, :, i], tf\u001B[38;5;241m.\u001B[39mfloat32))\n\u001B[0;32m     10\u001B[0m     residuals[emotion] \u001B[38;5;241m=\u001B[39m true_values \u001B[38;5;241m-\u001B[39m pred_values\n",
      "File \u001B[1;32m~\\PycharmProjects\\InżynierkaSandbox\\venv\\Lib\\site-packages\\pandas\\core\\series.py:584\u001B[0m, in \u001B[0;36mSeries.__init__\u001B[1;34m(self, data, index, dtype, name, copy, fastpath)\u001B[0m\n\u001B[0;32m    582\u001B[0m         data \u001B[38;5;241m=\u001B[39m data\u001B[38;5;241m.\u001B[39mcopy()\n\u001B[0;32m    583\u001B[0m \u001B[38;5;28;01melse\u001B[39;00m:\n\u001B[1;32m--> 584\u001B[0m     data \u001B[38;5;241m=\u001B[39m \u001B[43msanitize_array\u001B[49m\u001B[43m(\u001B[49m\u001B[43mdata\u001B[49m\u001B[43m,\u001B[49m\u001B[43m \u001B[49m\u001B[43mindex\u001B[49m\u001B[43m,\u001B[49m\u001B[43m \u001B[49m\u001B[43mdtype\u001B[49m\u001B[43m,\u001B[49m\u001B[43m \u001B[49m\u001B[43mcopy\u001B[49m\u001B[43m)\u001B[49m\n\u001B[0;32m    586\u001B[0m     manager \u001B[38;5;241m=\u001B[39m _get_option(\u001B[38;5;124m\"\u001B[39m\u001B[38;5;124mmode.data_manager\u001B[39m\u001B[38;5;124m\"\u001B[39m, silent\u001B[38;5;241m=\u001B[39m\u001B[38;5;28;01mTrue\u001B[39;00m)\n\u001B[0;32m    587\u001B[0m     \u001B[38;5;28;01mif\u001B[39;00m manager \u001B[38;5;241m==\u001B[39m \u001B[38;5;124m\"\u001B[39m\u001B[38;5;124mblock\u001B[39m\u001B[38;5;124m\"\u001B[39m:\n",
      "File \u001B[1;32m~\\PycharmProjects\\InżynierkaSandbox\\venv\\Lib\\site-packages\\pandas\\core\\construction.py:633\u001B[0m, in \u001B[0;36msanitize_array\u001B[1;34m(data, index, dtype, copy, allow_2d)\u001B[0m\n\u001B[0;32m    631\u001B[0m     \u001B[38;5;28;01melse\u001B[39;00m:\n\u001B[0;32m    632\u001B[0m         data \u001B[38;5;241m=\u001B[39m np\u001B[38;5;241m.\u001B[39marray(data, copy\u001B[38;5;241m=\u001B[39mcopy)\n\u001B[1;32m--> 633\u001B[0m     \u001B[38;5;28;01mreturn\u001B[39;00m \u001B[43msanitize_array\u001B[49m\u001B[43m(\u001B[49m\n\u001B[0;32m    634\u001B[0m \u001B[43m        \u001B[49m\u001B[43mdata\u001B[49m\u001B[43m,\u001B[49m\n\u001B[0;32m    635\u001B[0m \u001B[43m        \u001B[49m\u001B[43mindex\u001B[49m\u001B[38;5;241;43m=\u001B[39;49m\u001B[43mindex\u001B[49m\u001B[43m,\u001B[49m\n\u001B[0;32m    636\u001B[0m \u001B[43m        \u001B[49m\u001B[43mdtype\u001B[49m\u001B[38;5;241;43m=\u001B[39;49m\u001B[43mdtype\u001B[49m\u001B[43m,\u001B[49m\n\u001B[0;32m    637\u001B[0m \u001B[43m        \u001B[49m\u001B[43mcopy\u001B[49m\u001B[38;5;241;43m=\u001B[39;49m\u001B[38;5;28;43;01mFalse\u001B[39;49;00m\u001B[43m,\u001B[49m\n\u001B[0;32m    638\u001B[0m \u001B[43m        \u001B[49m\u001B[43mallow_2d\u001B[49m\u001B[38;5;241;43m=\u001B[39;49m\u001B[43mallow_2d\u001B[49m\u001B[43m,\u001B[49m\n\u001B[0;32m    639\u001B[0m \u001B[43m    \u001B[49m\u001B[43m)\u001B[49m\n\u001B[0;32m    641\u001B[0m \u001B[38;5;28;01melse\u001B[39;00m:\n\u001B[0;32m    642\u001B[0m     _sanitize_non_ordered(data)\n",
      "File \u001B[1;32m~\\PycharmProjects\\InżynierkaSandbox\\venv\\Lib\\site-packages\\pandas\\core\\construction.py:659\u001B[0m, in \u001B[0;36msanitize_array\u001B[1;34m(data, index, dtype, copy, allow_2d)\u001B[0m\n\u001B[0;32m    656\u001B[0m             subarr \u001B[38;5;241m=\u001B[39m cast(np\u001B[38;5;241m.\u001B[39mndarray, subarr)\n\u001B[0;32m    657\u001B[0m             subarr \u001B[38;5;241m=\u001B[39m maybe_infer_to_datetimelike(subarr)\n\u001B[1;32m--> 659\u001B[0m subarr \u001B[38;5;241m=\u001B[39m \u001B[43m_sanitize_ndim\u001B[49m\u001B[43m(\u001B[49m\u001B[43msubarr\u001B[49m\u001B[43m,\u001B[49m\u001B[43m \u001B[49m\u001B[43mdata\u001B[49m\u001B[43m,\u001B[49m\u001B[43m \u001B[49m\u001B[43mdtype\u001B[49m\u001B[43m,\u001B[49m\u001B[43m \u001B[49m\u001B[43mindex\u001B[49m\u001B[43m,\u001B[49m\u001B[43m \u001B[49m\u001B[43mallow_2d\u001B[49m\u001B[38;5;241;43m=\u001B[39;49m\u001B[43mallow_2d\u001B[49m\u001B[43m)\u001B[49m\n\u001B[0;32m    661\u001B[0m \u001B[38;5;28;01mif\u001B[39;00m \u001B[38;5;28misinstance\u001B[39m(subarr, np\u001B[38;5;241m.\u001B[39mndarray):\n\u001B[0;32m    662\u001B[0m     \u001B[38;5;66;03m# at this point we should have dtype be None or subarr.dtype == dtype\u001B[39;00m\n\u001B[0;32m    663\u001B[0m     dtype \u001B[38;5;241m=\u001B[39m cast(np\u001B[38;5;241m.\u001B[39mdtype, dtype)\n",
      "File \u001B[1;32m~\\PycharmProjects\\InżynierkaSandbox\\venv\\Lib\\site-packages\\pandas\\core\\construction.py:718\u001B[0m, in \u001B[0;36m_sanitize_ndim\u001B[1;34m(result, data, dtype, index, allow_2d)\u001B[0m\n\u001B[0;32m    716\u001B[0m     \u001B[38;5;28;01mif\u001B[39;00m allow_2d:\n\u001B[0;32m    717\u001B[0m         \u001B[38;5;28;01mreturn\u001B[39;00m result\n\u001B[1;32m--> 718\u001B[0m     \u001B[38;5;28;01mraise\u001B[39;00m \u001B[38;5;167;01mValueError\u001B[39;00m(\n\u001B[0;32m    719\u001B[0m         \u001B[38;5;124mf\u001B[39m\u001B[38;5;124m\"\u001B[39m\u001B[38;5;124mData must be 1-dimensional, got ndarray of shape \u001B[39m\u001B[38;5;132;01m{\u001B[39;00mdata\u001B[38;5;241m.\u001B[39mshape\u001B[38;5;132;01m}\u001B[39;00m\u001B[38;5;124m instead\u001B[39m\u001B[38;5;124m\"\u001B[39m\n\u001B[0;32m    720\u001B[0m     )\n\u001B[0;32m    721\u001B[0m \u001B[38;5;28;01mif\u001B[39;00m is_object_dtype(dtype) \u001B[38;5;129;01mand\u001B[39;00m \u001B[38;5;28misinstance\u001B[39m(dtype, ExtensionDtype):\n\u001B[0;32m    722\u001B[0m     \u001B[38;5;66;03m# i.e. NumpyEADtype(\"O\")\u001B[39;00m\n\u001B[0;32m    724\u001B[0m     result \u001B[38;5;241m=\u001B[39m com\u001B[38;5;241m.\u001B[39masarray_tuplesafe(data, dtype\u001B[38;5;241m=\u001B[39mnp\u001B[38;5;241m.\u001B[39mdtype(\u001B[38;5;124m\"\u001B[39m\u001B[38;5;124mobject\u001B[39m\u001B[38;5;124m\"\u001B[39m))\n",
      "\u001B[1;31mValueError\u001B[0m: Data must be 1-dimensional, got ndarray of shape (350, 20) instead"
     ]
    }
   ],
   "execution_count": 29
  },
  {
   "metadata": {},
   "cell_type": "code",
   "outputs": [],
   "execution_count": null,
   "source": "",
   "id": "68bfa25bb2e0f9c0"
  }
 ],
 "metadata": {
  "kernelspec": {
   "display_name": "Python 3",
   "language": "python",
   "name": "python3"
  },
  "language_info": {
   "codemirror_mode": {
    "name": "ipython",
    "version": 2
   },
   "file_extension": ".py",
   "mimetype": "text/x-python",
   "name": "python",
   "nbconvert_exporter": "python",
   "pygments_lexer": "ipython2",
   "version": "2.7.6"
  }
 },
 "nbformat": 4,
 "nbformat_minor": 5
}
