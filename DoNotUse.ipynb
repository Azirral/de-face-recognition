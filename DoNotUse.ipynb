{
 "cells": [
  {
   "metadata": {},
   "cell_type": "code",
   "outputs": [],
   "execution_count": null,
   "source": "import pandas as pd",
   "id": "fd5c3bc53d7d2f66"
  },
  {
   "cell_type": "code",
   "execution_count": null,
   "id": "initial_id",
   "metadata": {
    "collapsed": true
   },
   "outputs": [],
   "source": [
    "paths = ['//153.19.52.107/emboa/IO3-sessions/NEW STRUCTURE/de-earlyfusionthesis/MAAP/MAAP_S03_C01_input.csv',\n",
    "         '//153.19.52.107/emboa/IO3-sessions/NEW STRUCTURE/de-earlyfusionthesis/MAAP/MAAP_S08_C09_input.csv',\n",
    "         '//153.19.52.107/emboa/IO3-sessions/NEW STRUCTURE/de-earlyfusionthesis/MAAP/MAAP_S03_C01_BORIS.csv',\n",
    "         '//153.19.52.107/emboa/IO3-sessions/NEW STRUCTURE/de-earlyfusionthesis/MAAP/MAAP_S08_C09_BORIS.csv']\n",
    "\n",
    "s_03_c_01_input = pd.read_csv(paths[0])\n",
    "s_08_c_09_input = pd.read_csv(paths[1])\n",
    "\n",
    "s_03_c_01_boris = pd.read_csv(paths[2])\n",
    "s_08_c_09_boris = pd.read_csv(paths[3])\n",
    "\n",
    "s_03_c_01_input = s_03_c_01_input[:-1]\n",
    "s_08_c_09_input = s_08_c_09_input[:-1]\n",
    "\n",
    "s_03_c_01_boris = s_03_c_01_boris[:-1]\n",
    "s_08_c_09_boris = s_08_c_09_boris[:-1]\n",
    "\n",
    "# save new csv files\n",
    "s_03_c_01_input.to_csv(paths[0], index=False, sep=',')\n",
    "s_08_c_09_input.to_csv(paths[1], index=False, sep=',')\n",
    "\n",
    "s_03_c_01_boris.to_csv(paths[2], index=False, sep=',')\n",
    "s_08_c_09_boris.to_csv(paths[3], index=False, sep=',')"
   ]
  }
 ],
 "metadata": {
  "kernelspec": {
   "display_name": "Python 3",
   "language": "python",
   "name": "python3"
  },
  "language_info": {
   "codemirror_mode": {
    "name": "ipython",
    "version": 2
   },
   "file_extension": ".py",
   "mimetype": "text/x-python",
   "name": "python",
   "nbconvert_exporter": "python",
   "pygments_lexer": "ipython2",
   "version": "2.7.6"
  }
 },
 "nbformat": 4,
 "nbformat_minor": 5
}
