{
 "cells": [
  {
   "metadata": {
    "ExecuteTime": {
     "end_time": "2024-11-26T23:13:09.797238Z",
     "start_time": "2024-11-26T23:13:09.786797Z"
    }
   },
   "cell_type": "code",
   "source": "import pandas as pd",
   "id": "fd5c3bc53d7d2f66",
   "outputs": [],
   "execution_count": 5
  },
  {
   "cell_type": "code",
   "id": "initial_id",
   "metadata": {
    "collapsed": true,
    "ExecuteTime": {
     "end_time": "2024-11-26T17:53:04.717384Z",
     "start_time": "2024-11-26T17:52:59.547507Z"
    }
   },
   "source": [
    "paths = ['//153.19.52.107/emboa/IO3-sessions/NEW STRUCTURE/de-earlyfusionthesis/MAAP/MAAP_S03_C01_input.csv',\n",
    "         '//153.19.52.107/emboa/IO3-sessions/NEW STRUCTURE/de-earlyfusionthesis/MAAP/MAAP_S08_C09_input.csv',\n",
    "         '//153.19.52.107/emboa/IO3-sessions/NEW STRUCTURE/de-earlyfusionthesis/MAAP/MAAP_S03_C01_BORIS.csv',\n",
    "         '//153.19.52.107/emboa/IO3-sessions/NEW STRUCTURE/de-earlyfusionthesis/MAAP/MAAP_S08_C09_BORIS.csv']\n",
    "\n",
    "s_03_c_01_input = pd.read_csv(paths[0])\n",
    "s_08_c_09_input = pd.read_csv(paths[1])\n",
    "\n",
    "s_03_c_01_boris = pd.read_csv(paths[2])\n",
    "s_08_c_09_boris = pd.read_csv(paths[3])\n",
    "\n",
    "s_03_c_01_input = s_03_c_01_input[:-1]\n",
    "s_08_c_09_input = s_08_c_09_input[:-1]\n",
    "\n",
    "s_03_c_01_boris = s_03_c_01_boris[:-1]\n",
    "s_08_c_09_boris = s_08_c_09_boris[:-1]\n",
    "\n",
    "# save new csv files\n",
    "s_03_c_01_input.to_csv(paths[0], index=False, sep=',')\n",
    "s_08_c_09_input.to_csv(paths[1], index=False, sep=',')\n",
    "\n",
    "s_03_c_01_boris.to_csv(paths[2], index=False, sep=',')\n",
    "s_08_c_09_boris.to_csv(paths[3], index=False, sep=',')"
   ],
   "outputs": [],
   "execution_count": 3
  },
  {
   "metadata": {
    "ExecuteTime": {
     "end_time": "2024-11-26T23:13:11.509063Z",
     "start_time": "2024-11-26T23:13:11.501778Z"
    }
   },
   "cell_type": "code",
   "source": [
    "def cutting_boris(path):\n",
    "    allowed_nans = ['', '#N/A', '#N/A N/A', '#NA', '-1.#IND', '-1.#QNAN',\n",
    "                '-NaN', '-nan', '1.#IND', '1.#QNAN', '<NA>', 'N/A', 'NA',\n",
    "                'NULL', 'NaN', 'n/a', 'nan', 'null']\n",
    "    \n",
    "    boris = pd.read_csv(path, na_values=allowed_nans, keep_default_na=False)\n",
    "    boris = boris[:-1]\n",
    "    boris.to_csv(path, index=False)"
   ],
   "id": "79766fb4974658d8",
   "outputs": [],
   "execution_count": 6
  },
  {
   "metadata": {
    "ExecuteTime": {
     "end_time": "2024-11-26T23:13:25.097375Z",
     "start_time": "2024-11-26T23:13:21.004799Z"
    }
   },
   "cell_type": "code",
   "source": [
    "paths = ['//153.19.52.107/emboa/IO3-sessions/NEW STRUCTURE/de-earlyfusionthesis/MAAP/MAAP_S03_C01_input.csv',\n",
    "         '//153.19.52.107/emboa/IO3-sessions/NEW STRUCTURE/de-earlyfusionthesis/MAAP/MAAP_S08_C09_input.csv',\n",
    "         '//153.19.52.107/emboa/IO3-sessions/NEW STRUCTURE/de-earlyfusionthesis/MAAP/MAAP_S03_C01_BORIS_method_I.csv',\n",
    "         '//153.19.52.107/emboa/IO3-sessions/NEW STRUCTURE/de-earlyfusionthesis/MAAP/MAAP_S08_C09_BORIS_method_I.csv',\n",
    "         '//153.19.52.107/emboa/IO3-sessions/NEW STRUCTURE/de-earlyfusionthesis/MAAP/MAAP_S03_C01_BORIS_method_II.csv',\n",
    "         '//153.19.52.107/emboa/IO3-sessions/NEW STRUCTURE/de-earlyfusionthesis/MAAP/MAAP_S08_C09_BORIS_method_II.csv']\n",
    "\n",
    "for path in paths:\n",
    "    cutting_boris(path)"
   ],
   "id": "f30f9c0d83365708",
   "outputs": [],
   "execution_count": 8
  },
  {
   "metadata": {},
   "cell_type": "code",
   "outputs": [],
   "execution_count": null,
   "source": "",
   "id": "34426f837481e24c"
  }
 ],
 "metadata": {
  "kernelspec": {
   "display_name": "Python 3",
   "language": "python",
   "name": "python3"
  },
  "language_info": {
   "codemirror_mode": {
    "name": "ipython",
    "version": 2
   },
   "file_extension": ".py",
   "mimetype": "text/x-python",
   "name": "python",
   "nbconvert_exporter": "python",
   "pygments_lexer": "ipython2",
   "version": "2.7.6"
  }
 },
 "nbformat": 4,
 "nbformat_minor": 5
}
