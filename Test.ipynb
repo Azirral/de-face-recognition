{
 "cells": [
  {
   "metadata": {
    "ExecuteTime": {
     "end_time": "2024-11-18T15:16:35.218540Z",
     "start_time": "2024-11-18T15:16:23.577050Z"
    }
   },
   "cell_type": "code",
   "source": [
    "from deepface import DeepFace\n",
    "import cv2\n",
    "import numpy as np\n",
    "import pandas as pd\n",
    "import csv, os, re, time, logging, cv2, torch\n",
    "from pathlib import Path\n",
    "from importlib.metadata import version\n",
    "from facenet_pytorch import InceptionResnetV1, MTCNN\n",
    "from PIL import Image\n",
    "from moviepy.editor import VideoFileClip"
   ],
   "id": "95b04144a3993352",
   "outputs": [
    {
     "ename": "ValueError",
     "evalue": "You have tensorflow 2.18.0 and this requires tf-keras package. Please run `pip install tf-keras` or downgrade your tensorflow.",
     "output_type": "error",
     "traceback": [
      "\u001B[1;31m---------------------------------------------------------------------------\u001B[0m",
      "\u001B[1;31mModuleNotFoundError\u001B[0m                       Traceback (most recent call last)",
      "File \u001B[1;32mC:\\StudiaMoje\\Semestr6\\ProjektInżynierski\\.venv\\Lib\\site-packages\\retinaface\\commons\\package_utils.py:19\u001B[0m, in \u001B[0;36mvalidate_for_keras3\u001B[1;34m()\u001B[0m\n\u001B[0;32m     18\u001B[0m \u001B[38;5;28;01mtry\u001B[39;00m:\n\u001B[1;32m---> 19\u001B[0m     \u001B[38;5;28;01mimport\u001B[39;00m \u001B[38;5;21;01mtf_keras\u001B[39;00m\n\u001B[0;32m     21\u001B[0m     logger\u001B[38;5;241m.\u001B[39mdebug(\u001B[38;5;124mf\u001B[39m\u001B[38;5;124m\"\u001B[39m\u001B[38;5;124mtf_keras is already available - \u001B[39m\u001B[38;5;132;01m{\u001B[39;00mtf_keras\u001B[38;5;241m.\u001B[39m__version__\u001B[38;5;132;01m}\u001B[39;00m\u001B[38;5;124m\"\u001B[39m)\n",
      "\u001B[1;31mModuleNotFoundError\u001B[0m: No module named 'tf_keras'",
      "\nThe above exception was the direct cause of the following exception:\n",
      "\u001B[1;31mValueError\u001B[0m                                Traceback (most recent call last)",
      "Cell \u001B[1;32mIn[1], line 1\u001B[0m\n\u001B[1;32m----> 1\u001B[0m \u001B[38;5;28;01mfrom\u001B[39;00m \u001B[38;5;21;01mdeepface\u001B[39;00m \u001B[38;5;28;01mimport\u001B[39;00m DeepFace\n\u001B[0;32m      2\u001B[0m \u001B[38;5;28;01mimport\u001B[39;00m \u001B[38;5;21;01mcv2\u001B[39;00m\n\u001B[0;32m      3\u001B[0m \u001B[38;5;28;01mimport\u001B[39;00m \u001B[38;5;21;01mnumpy\u001B[39;00m \u001B[38;5;28;01mas\u001B[39;00m \u001B[38;5;21;01mnp\u001B[39;00m\n",
      "File \u001B[1;32mC:\\StudiaMoje\\Semestr6\\ProjektInżynierski\\.venv\\Lib\\site-packages\\deepface\\DeepFace.py:20\u001B[0m\n\u001B[0;32m     18\u001B[0m \u001B[38;5;28;01mfrom\u001B[39;00m \u001B[38;5;21;01mdeepface\u001B[39;00m\u001B[38;5;21;01m.\u001B[39;00m\u001B[38;5;21;01mcommons\u001B[39;00m \u001B[38;5;28;01mimport\u001B[39;00m package_utils, folder_utils\n\u001B[0;32m     19\u001B[0m \u001B[38;5;28;01mfrom\u001B[39;00m \u001B[38;5;21;01mdeepface\u001B[39;00m\u001B[38;5;21;01m.\u001B[39;00m\u001B[38;5;21;01mcommons\u001B[39;00m\u001B[38;5;21;01m.\u001B[39;00m\u001B[38;5;21;01mlogger\u001B[39;00m \u001B[38;5;28;01mimport\u001B[39;00m Logger\n\u001B[1;32m---> 20\u001B[0m \u001B[38;5;28;01mfrom\u001B[39;00m \u001B[38;5;21;01mdeepface\u001B[39;00m\u001B[38;5;21;01m.\u001B[39;00m\u001B[38;5;21;01mmodules\u001B[39;00m \u001B[38;5;28;01mimport\u001B[39;00m (\n\u001B[0;32m     21\u001B[0m     modeling,\n\u001B[0;32m     22\u001B[0m     representation,\n\u001B[0;32m     23\u001B[0m     verification,\n\u001B[0;32m     24\u001B[0m     recognition,\n\u001B[0;32m     25\u001B[0m     demography,\n\u001B[0;32m     26\u001B[0m     detection,\n\u001B[0;32m     27\u001B[0m     streaming,\n\u001B[0;32m     28\u001B[0m     preprocessing,\n\u001B[0;32m     29\u001B[0m )\n\u001B[0;32m     30\u001B[0m \u001B[38;5;28;01mfrom\u001B[39;00m \u001B[38;5;21;01mdeepface\u001B[39;00m \u001B[38;5;28;01mimport\u001B[39;00m __version__\n\u001B[0;32m     32\u001B[0m logger \u001B[38;5;241m=\u001B[39m Logger()\n",
      "File \u001B[1;32mC:\\StudiaMoje\\Semestr6\\ProjektInżynierski\\.venv\\Lib\\site-packages\\deepface\\modules\\modeling.py:16\u001B[0m\n\u001B[0;32m      4\u001B[0m \u001B[38;5;66;03m# project dependencies\u001B[39;00m\n\u001B[0;32m      5\u001B[0m \u001B[38;5;28;01mfrom\u001B[39;00m \u001B[38;5;21;01mdeepface\u001B[39;00m\u001B[38;5;21;01m.\u001B[39;00m\u001B[38;5;21;01mmodels\u001B[39;00m\u001B[38;5;21;01m.\u001B[39;00m\u001B[38;5;21;01mfacial_recognition\u001B[39;00m \u001B[38;5;28;01mimport\u001B[39;00m (\n\u001B[0;32m      6\u001B[0m     VGGFace,\n\u001B[0;32m      7\u001B[0m     OpenFace,\n\u001B[1;32m   (...)\u001B[0m\n\u001B[0;32m     14\u001B[0m     GhostFaceNet,\n\u001B[0;32m     15\u001B[0m )\n\u001B[1;32m---> 16\u001B[0m \u001B[38;5;28;01mfrom\u001B[39;00m \u001B[38;5;21;01mdeepface\u001B[39;00m\u001B[38;5;21;01m.\u001B[39;00m\u001B[38;5;21;01mmodels\u001B[39;00m\u001B[38;5;21;01m.\u001B[39;00m\u001B[38;5;21;01mface_detection\u001B[39;00m \u001B[38;5;28;01mimport\u001B[39;00m (\n\u001B[0;32m     17\u001B[0m     FastMtCnn,\n\u001B[0;32m     18\u001B[0m     MediaPipe,\n\u001B[0;32m     19\u001B[0m     MtCnn,\n\u001B[0;32m     20\u001B[0m     OpenCv,\n\u001B[0;32m     21\u001B[0m     Dlib \u001B[38;5;28;01mas\u001B[39;00m DlibDetector,\n\u001B[0;32m     22\u001B[0m     RetinaFace,\n\u001B[0;32m     23\u001B[0m     Ssd,\n\u001B[0;32m     24\u001B[0m     Yolo,\n\u001B[0;32m     25\u001B[0m     YuNet,\n\u001B[0;32m     26\u001B[0m     CenterFace,\n\u001B[0;32m     27\u001B[0m )\n\u001B[0;32m     28\u001B[0m \u001B[38;5;28;01mfrom\u001B[39;00m \u001B[38;5;21;01mdeepface\u001B[39;00m\u001B[38;5;21;01m.\u001B[39;00m\u001B[38;5;21;01mmodels\u001B[39;00m\u001B[38;5;21;01m.\u001B[39;00m\u001B[38;5;21;01mdemography\u001B[39;00m \u001B[38;5;28;01mimport\u001B[39;00m Age, Gender, Race, Emotion\n\u001B[0;32m     29\u001B[0m \u001B[38;5;28;01mfrom\u001B[39;00m \u001B[38;5;21;01mdeepface\u001B[39;00m\u001B[38;5;21;01m.\u001B[39;00m\u001B[38;5;21;01mmodels\u001B[39;00m\u001B[38;5;21;01m.\u001B[39;00m\u001B[38;5;21;01mspoofing\u001B[39;00m \u001B[38;5;28;01mimport\u001B[39;00m FasNet\n",
      "File \u001B[1;32mC:\\StudiaMoje\\Semestr6\\ProjektInżynierski\\.venv\\Lib\\site-packages\\deepface\\models\\face_detection\\RetinaFace.py:3\u001B[0m\n\u001B[0;32m      1\u001B[0m \u001B[38;5;28;01mfrom\u001B[39;00m \u001B[38;5;21;01mtyping\u001B[39;00m \u001B[38;5;28;01mimport\u001B[39;00m List\n\u001B[0;32m      2\u001B[0m \u001B[38;5;28;01mimport\u001B[39;00m \u001B[38;5;21;01mnumpy\u001B[39;00m \u001B[38;5;28;01mas\u001B[39;00m \u001B[38;5;21;01mnp\u001B[39;00m\n\u001B[1;32m----> 3\u001B[0m \u001B[38;5;28;01mfrom\u001B[39;00m \u001B[38;5;21;01mretinaface\u001B[39;00m \u001B[38;5;28;01mimport\u001B[39;00m RetinaFace \u001B[38;5;28;01mas\u001B[39;00m rf\n\u001B[0;32m      4\u001B[0m \u001B[38;5;28;01mfrom\u001B[39;00m \u001B[38;5;21;01mdeepface\u001B[39;00m\u001B[38;5;21;01m.\u001B[39;00m\u001B[38;5;21;01mmodels\u001B[39;00m\u001B[38;5;21;01m.\u001B[39;00m\u001B[38;5;21;01mDetector\u001B[39;00m \u001B[38;5;28;01mimport\u001B[39;00m Detector, FacialAreaRegion\n\u001B[0;32m      6\u001B[0m \u001B[38;5;66;03m# pylint: disable=too-few-public-methods\u001B[39;00m\n",
      "File \u001B[1;32mC:\\StudiaMoje\\Semestr6\\ProjektInżynierski\\.venv\\Lib\\site-packages\\retinaface\\RetinaFace.py:20\u001B[0m\n\u001B[0;32m     17\u001B[0m \u001B[38;5;28;01mfrom\u001B[39;00m \u001B[38;5;21;01mretinaface\u001B[39;00m\u001B[38;5;21;01m.\u001B[39;00m\u001B[38;5;21;01mcommons\u001B[39;00m \u001B[38;5;28;01mimport\u001B[39;00m package_utils\n\u001B[0;32m     19\u001B[0m \u001B[38;5;66;03m# users should install tf_keras package if they are using tf 2.16 or later versions\u001B[39;00m\n\u001B[1;32m---> 20\u001B[0m \u001B[43mpackage_utils\u001B[49m\u001B[38;5;241;43m.\u001B[39;49m\u001B[43mvalidate_for_keras3\u001B[49m\u001B[43m(\u001B[49m\u001B[43m)\u001B[49m\n\u001B[0;32m     22\u001B[0m logger \u001B[38;5;241m=\u001B[39m Logger(module\u001B[38;5;241m=\u001B[39m\u001B[38;5;124m\"\u001B[39m\u001B[38;5;124mretinaface/RetinaFace.py\u001B[39m\u001B[38;5;124m\"\u001B[39m)\n\u001B[0;32m     24\u001B[0m \u001B[38;5;66;03m# pylint: disable=global-variable-undefined, no-name-in-module, unused-import, too-many-locals, redefined-outer-name, too-many-statements, too-many-arguments\u001B[39;00m\n\u001B[0;32m     25\u001B[0m \n\u001B[0;32m     26\u001B[0m \u001B[38;5;66;03m# ---------------------------\u001B[39;00m\n\u001B[0;32m     27\u001B[0m \n\u001B[0;32m     28\u001B[0m \u001B[38;5;66;03m# configurations\u001B[39;00m\n",
      "File \u001B[1;32mC:\\StudiaMoje\\Semestr6\\ProjektInżynierski\\.venv\\Lib\\site-packages\\retinaface\\commons\\package_utils.py:24\u001B[0m, in \u001B[0;36mvalidate_for_keras3\u001B[1;34m()\u001B[0m\n\u001B[0;32m     21\u001B[0m     logger\u001B[38;5;241m.\u001B[39mdebug(\u001B[38;5;124mf\u001B[39m\u001B[38;5;124m\"\u001B[39m\u001B[38;5;124mtf_keras is already available - \u001B[39m\u001B[38;5;132;01m{\u001B[39;00mtf_keras\u001B[38;5;241m.\u001B[39m__version__\u001B[38;5;132;01m}\u001B[39;00m\u001B[38;5;124m\"\u001B[39m)\n\u001B[0;32m     22\u001B[0m \u001B[38;5;28;01mexcept\u001B[39;00m \u001B[38;5;167;01mImportError\u001B[39;00m \u001B[38;5;28;01mas\u001B[39;00m err:\n\u001B[0;32m     23\u001B[0m     \u001B[38;5;66;03m# you may consider to install that package here\u001B[39;00m\n\u001B[1;32m---> 24\u001B[0m     \u001B[38;5;28;01mraise\u001B[39;00m \u001B[38;5;167;01mValueError\u001B[39;00m(\n\u001B[0;32m     25\u001B[0m         \u001B[38;5;124mf\u001B[39m\u001B[38;5;124m\"\u001B[39m\u001B[38;5;124mYou have tensorflow \u001B[39m\u001B[38;5;132;01m{\u001B[39;00mtf\u001B[38;5;241m.\u001B[39m__version__\u001B[38;5;132;01m}\u001B[39;00m\u001B[38;5;124m and this requires \u001B[39m\u001B[38;5;124m\"\u001B[39m\n\u001B[0;32m     26\u001B[0m         \u001B[38;5;124m\"\u001B[39m\u001B[38;5;124mtf-keras package. Please run `pip install tf-keras` \u001B[39m\u001B[38;5;124m\"\u001B[39m\n\u001B[0;32m     27\u001B[0m         \u001B[38;5;124m\"\u001B[39m\u001B[38;5;124mor downgrade your tensorflow.\u001B[39m\u001B[38;5;124m\"\u001B[39m\n\u001B[0;32m     28\u001B[0m     ) \u001B[38;5;28;01mfrom\u001B[39;00m \u001B[38;5;21;01merr\u001B[39;00m\n",
      "\u001B[1;31mValueError\u001B[0m: You have tensorflow 2.18.0 and this requires tf-keras package. Please run `pip install tf-keras` or downgrade your tensorflow."
     ]
    }
   ],
   "execution_count": 1
  },
  {
   "metadata": {
    "ExecuteTime": {
     "end_time": "2024-11-18T17:23:11.463568Z",
     "start_time": "2024-11-18T17:23:11.459663Z"
    }
   },
   "cell_type": "code",
   "source": [
    "import numpy as np\n",
    "import pandas as pd\n",
    "import tensorflow as tf\n",
    "import glob\n",
    "from sklearn.model_selection import train_test_split\n",
    "import os"
   ],
   "id": "d9c56d637ad6750d",
   "outputs": [],
   "execution_count": 21
  },
  {
   "metadata": {
    "ExecuteTime": {
     "end_time": "2024-11-18T15:49:59.009245Z",
     "start_time": "2024-11-18T15:49:55.627242Z"
    }
   },
   "cell_type": "code",
   "source": [
    "input_files = sorted(\n",
    "    glob.glob('//153.19.52.107/emboa/IO3-sessions/NEW STRUCTURE/de-earlyfusionthesis/GUT/*_input.csv') + \n",
    "    glob.glob('//153.19.52.107/emboa/IO3-sessions/NEW STRUCTURE/de-earlyfusionthesis/ITU-YU/*_input.csv') + \n",
    "    glob.glob('//153.19.52.107/emboa/IO3-sessions/NEW STRUCTURE/de-earlyfusionthesis/MAAP/*_input.csv')\n",
    "    )\n",
    "label_files = sorted(\n",
    "    glob.glob('//153.19.52.107/emboa/IO3-sessions/NEW STRUCTURE/de-earlyfusionthesis/GUT/*_BORIS.csv') +\n",
    "    glob.glob('//153.19.52.107/emboa/IO3-sessions/NEW STRUCTURE/de-earlyfusionthesis/ITU-YU/*_BORIS.csv') +\n",
    "    glob.glob('//153.19.52.107/emboa/IO3-sessions/NEW STRUCTURE/de-earlyfusionthesis/MAAP/*_BORIS.csv')\n",
    "    )\n",
    "\n",
    "# First pass to calculate global mean and std\n"
   ],
   "id": "91ea4036d64ca1f6",
   "outputs": [],
   "execution_count": 3
  },
  {
   "metadata": {
    "ExecuteTime": {
     "end_time": "2024-11-18T17:19:07.331001Z",
     "start_time": "2024-11-18T17:19:07.319497Z"
    }
   },
   "cell_type": "code",
   "source": [
    "def get_train_test_splitted_data(label_files, input_files, global_mean, global_std, test_size=0.2, random_state=42):\n",
    "    # Initialize lists to hold all sequences\n",
    "    all_x_sequences = []\n",
    "    all_y_sequences = []\n",
    "\n",
    "    # Process each pair of input and label files\n",
    "    for input_file, label_file in zip(input_files, label_files):\n",
    "        # Load data\n",
    "        input_df = pd.read_csv(input_file)\n",
    "        label_df = pd.read_csv(label_file)\n",
    "\n",
    "        # Prepare features and labels\n",
    "        features = (input_df.values - global_mean) / global_std\n",
    "        labels = label_df.values / 100\n",
    "\n",
    "        # Ensure alignment of frames\n",
    "        if features.shape[0] != labels.shape[0]:\n",
    "            print(f\"Mismatch in frames: {input_file}, {label_file}\")\n",
    "            continue\n",
    "\n",
    "        # Sample sequences\n",
    "        x_sequences, y_sequences = create_sequences(features, labels, SEQUENCE_LENGTH, STRIDE)\n",
    "\n",
    "        # Append to global lists\n",
    "        all_x_sequences.append(x_sequences)\n",
    "        all_y_sequences.append(y_sequences)\n",
    "\n",
    "    # Concatenate all sequences from all files\n",
    "    all_x_sequences = np.concatenate(all_x_sequences, axis=0)\n",
    "    all_y_sequences = np.concatenate(all_y_sequences, axis=0)\n",
    "\n",
    "    # Split into train and test sets\n",
    "    X_train, X_test, y_train, y_test = train_test_split(\n",
    "        all_x_sequences, all_y_sequences, test_size=test_size, random_state=random_state\n",
    "    )\n",
    "\n",
    "    # Convert to TensorFlow datasets\n",
    "    train_dataset = tf.data.Dataset.from_tensor_slices((X_train, y_train))\n",
    "    test_dataset = tf.data.Dataset.from_tensor_slices((X_test, y_test))\n",
    "\n",
    "    # Shuffle, batch, and prefetch\n",
    "    train_dataset = train_dataset.shuffle(buffer_size=10000).batch(BATCH_SIZE).prefetch(tf.data.experimental.AUTOTUNE)\n",
    "    test_dataset = test_dataset.batch(BATCH_SIZE).prefetch(tf.data.experimental.AUTOTUNE)\n",
    "\n",
    "    return train_dataset, test_dataset"
   ],
   "id": "ae434e5ae1f7eb17",
   "outputs": [],
   "execution_count": 17
  },
  {
   "metadata": {
    "ExecuteTime": {
     "end_time": "2024-11-18T17:20:43.137951Z",
     "start_time": "2024-11-18T17:19:09.077778Z"
    }
   },
   "cell_type": "code",
   "source": [
    "# Constants\n",
    "SEQUENCE_LENGTH = 10\n",
    "STRIDE = 5\n",
    "BATCH_SIZE = 32\n",
    "\n",
    "# Helper function to create random sequences\n",
    "def create_sequences(features, labels, sequence_length, stride):\n",
    "    x_sequences, y_sequences = [], []\n",
    "    for i in range(0, len(features) - sequence_length + 1, stride):\n",
    "        x_sequences.append(features[i:i + sequence_length])\n",
    "        y_sequences.append(labels[i:i + sequence_length])\n",
    "    return np.array(x_sequences), np.array(y_sequences)\n",
    "\n",
    "# Initialize lists to hold all sequences\n",
    "all_x_sequences = []\n",
    "all_y_sequences = []\n",
    "all_features = []\n",
    "\n",
    "sources = [\"GUT\", \"ITU-YU\", \"MAAP\"]\n",
    "base_path = \"//153.19.52.107/emboa/IO3-sessions/NEW STRUCTURE/de-earlyfusionthesis/\"\n",
    "input_files, label_files = [], []\n",
    "\n",
    "for source in sources:\n",
    "    input_files.extend(glob.glob(os.path.join(base_path, source, '*_input.csv')))\n",
    "    label_files.extend(glob.glob(os.path.join(base_path, source, '*_BORIS.csv')))\n",
    "\n",
    "input_files.sort()\n",
    "label_files.sort()\n",
    "\n",
    "\n",
    "for input_file in input_files:\n",
    "    input_df = pd.read_csv(input_file)\n",
    "    all_features.append(input_df.values)\n",
    "\n",
    "# Concatenate all features from all files to compute global mean and std\n",
    "all_features = np.concatenate(all_features, axis=0)\n",
    "global_mean = all_features.mean(axis=0)\n",
    "global_std = all_features.std(axis=0)\n",
    "\n",
    "# Ensure no division by zero\n",
    "global_std[global_std == 0] = 1\n",
    "\n",
    "GUT_path_input = sorted(glob.glob('//153.19.52.107/emboa/IO3-sessions/NEW STRUCTURE/de-earlyfusionthesis/GUT/*_input.csv'))\n",
    "ITU_YU_path_input = sorted(glob.glob('//153.19.52.107/emboa/IO3-sessions/NEW STRUCTURE/de-earlyfusionthesis/ITU-YU/*_input.csv'))\n",
    "MAAP_path_input = sorted(glob.glob('//153.19.52.107/emboa/IO3-sessions/NEW STRUCTURE/de-earlyfusionthesis/MAAP/*_input.csv'))\n",
    "\n",
    "GUT_path_label = sorted(glob.glob('//153.19.52.107/emboa/IO3-sessions/NEW STRUCTURE/de-earlyfusionthesis/GUT/*_BORIS.csv'))\n",
    "ITU_YU_path_label = sorted(glob.glob('//153.19.52.107/emboa/IO3-sessions/NEW STRUCTURE/de-earlyfusionthesis/ITU-YU/*_BORIS.csv'))\n",
    "MAAP_path_label = sorted(glob.glob('//153.19.52.107/emboa/IO3-sessions/NEW STRUCTURE/de-earlyfusionthesis/MAAP/*_BORIS.csv'))\n",
    "\n",
    "GUT_train, GUT_test = get_train_test_splitted_data(GUT_path_label, GUT_path_input, global_mean, global_std, test_size=0.3)\n",
    "ITU_YU_train, ITU_YU_test = get_train_test_splitted_data(ITU_YU_path_label, ITU_YU_path_input, global_mean, global_std, test_size=0.3)\n",
    "MAAP_train, MAAP_test = get_train_test_splitted_data(MAAP_path_label, MAAP_path_input, global_mean, global_std, test_size=0.3)\n",
    "\n",
    "dataset = GUT_train.concatenate(ITU_YU_train).concatenate(MAAP_train)\n",
    "\n",
    "# Verify the dataset\n",
    "for x_batch, y_batch in dataset.take(1):\n",
    "    print(f'Feature batch shape: {x_batch.shape}')\n",
    "    print(f'Label batch shape: {y_batch.shape}')\n"
   ],
   "id": "3269ede97309fd73",
   "outputs": [
    {
     "name": "stdout",
     "output_type": "stream",
     "text": [
      "Feature batch shape: (32, 10, 515)\n",
      "Label batch shape: (32, 10, 6)\n"
     ]
    }
   ],
   "execution_count": 18
  },
  {
   "metadata": {
    "ExecuteTime": {
     "end_time": "2024-11-18T18:06:47.334936Z",
     "start_time": "2024-11-18T18:05:26.484199Z"
    }
   },
   "cell_type": "code",
   "source": [
    "path = r'Z:\\IO3-sessions\\NEW STRUCTURE\\de-earlyfusionthesis\\Datasets'\n",
    "tf.data.experimental.save(dataset ,os.path.join(path, 'train_dataset'))\n",
    "tf.data.experimental.save(GUT_train, os.path.join(path, 'GUT_train'))\n",
    "tf.data.experimental.save(GUT_test, os.path.join(path, 'GUT_test'))\n",
    "tf.data.experimental.save(ITU_YU_train, os.path.join(path, 'ITU_YU_train'))\n",
    "tf.data.experimental.save(ITU_YU_test, os.path.join(path, 'ITU_YU_test'))\n",
    "tf.data.experimental.save(MAAP_train, os.path.join(path, 'MAAP_train'))\n",
    "tf.data.experimental.save(MAAP_test, os.path.join(path, 'MAAP_test'))"
   ],
   "id": "aa09b06f19e78fe6",
   "outputs": [],
   "execution_count": 49
  },
  {
   "metadata": {
    "ExecuteTime": {
     "end_time": "2024-11-11T14:36:59.369828Z",
     "start_time": "2024-11-11T14:36:59.354362Z"
    }
   },
   "cell_type": "code",
   "source": "dataset.cardinality().numpy()",
   "id": "505f7568b967b339",
   "outputs": [
    {
     "data": {
      "text/plain": [
       "320"
      ]
     },
     "execution_count": 8,
     "metadata": {},
     "output_type": "execute_result"
    }
   ],
   "execution_count": 8
  },
  {
   "metadata": {
    "ExecuteTime": {
     "end_time": "2024-11-18T17:22:38.346588Z",
     "start_time": "2024-11-18T17:22:38.252728Z"
    }
   },
   "cell_type": "code",
   "source": [
    "for x_batch, y_batch in dataset.take(30):\n",
    "    print(f'Feature batch shape: {x_batch.shape}')\n",
    "    print(f'Label batch shape: {y_batch.shape}')"
   ],
   "id": "f5858e51c3ae1e4",
   "outputs": [
    {
     "name": "stdout",
     "output_type": "stream",
     "text": [
      "Feature batch shape: (32, 10, 515)\n",
      "Label batch shape: (32, 10, 6)\n",
      "Feature batch shape: (32, 10, 515)\n",
      "Label batch shape: (32, 10, 6)\n",
      "Feature batch shape: (32, 10, 515)\n",
      "Label batch shape: (32, 10, 6)\n",
      "Feature batch shape: (32, 10, 515)\n",
      "Label batch shape: (32, 10, 6)\n",
      "Feature batch shape: (32, 10, 515)\n",
      "Label batch shape: (32, 10, 6)\n",
      "Feature batch shape: (32, 10, 515)\n",
      "Label batch shape: (32, 10, 6)\n",
      "Feature batch shape: (32, 10, 515)\n",
      "Label batch shape: (32, 10, 6)\n",
      "Feature batch shape: (32, 10, 515)\n",
      "Label batch shape: (32, 10, 6)\n",
      "Feature batch shape: (32, 10, 515)\n",
      "Label batch shape: (32, 10, 6)\n",
      "Feature batch shape: (32, 10, 515)\n",
      "Label batch shape: (32, 10, 6)\n",
      "Feature batch shape: (32, 10, 515)\n",
      "Label batch shape: (32, 10, 6)\n",
      "Feature batch shape: (32, 10, 515)\n",
      "Label batch shape: (32, 10, 6)\n",
      "Feature batch shape: (32, 10, 515)\n",
      "Label batch shape: (32, 10, 6)\n",
      "Feature batch shape: (32, 10, 515)\n",
      "Label batch shape: (32, 10, 6)\n",
      "Feature batch shape: (32, 10, 515)\n",
      "Label batch shape: (32, 10, 6)\n",
      "Feature batch shape: (32, 10, 515)\n",
      "Label batch shape: (32, 10, 6)\n",
      "Feature batch shape: (32, 10, 515)\n",
      "Label batch shape: (32, 10, 6)\n",
      "Feature batch shape: (32, 10, 515)\n",
      "Label batch shape: (32, 10, 6)\n",
      "Feature batch shape: (32, 10, 515)\n",
      "Label batch shape: (32, 10, 6)\n",
      "Feature batch shape: (32, 10, 515)\n",
      "Label batch shape: (32, 10, 6)\n",
      "Feature batch shape: (15, 10, 515)\n",
      "Label batch shape: (15, 10, 6)\n",
      "Feature batch shape: (32, 10, 515)\n",
      "Label batch shape: (32, 10, 6)\n",
      "Feature batch shape: (32, 10, 515)\n",
      "Label batch shape: (32, 10, 6)\n",
      "Feature batch shape: (32, 10, 515)\n",
      "Label batch shape: (32, 10, 6)\n",
      "Feature batch shape: (32, 10, 515)\n",
      "Label batch shape: (32, 10, 6)\n",
      "Feature batch shape: (32, 10, 515)\n",
      "Label batch shape: (32, 10, 6)\n",
      "Feature batch shape: (32, 10, 515)\n",
      "Label batch shape: (32, 10, 6)\n",
      "Feature batch shape: (32, 10, 515)\n",
      "Label batch shape: (32, 10, 6)\n",
      "Feature batch shape: (32, 10, 515)\n",
      "Label batch shape: (32, 10, 6)\n",
      "Feature batch shape: (32, 10, 515)\n",
      "Label batch shape: (32, 10, 6)\n"
     ]
    }
   ],
   "execution_count": 19
  },
  {
   "metadata": {
    "ExecuteTime": {
     "end_time": "2024-11-18T18:07:46.832897Z",
     "start_time": "2024-11-18T18:07:46.810526Z"
    }
   },
   "cell_type": "code",
   "source": [
    "INPUT_DIM = 515  # Number of features per frame (e.g., biosignals + embeddings)\n",
    "OUTPUT_DIM = 6 "
   ],
   "id": "43fbf8a83f3cc8ef",
   "outputs": [
    {
     "ename": "AttributeError",
     "evalue": "'list' object has no attribute 'shape'",
     "output_type": "error",
     "traceback": [
      "\u001B[1;31m---------------------------------------------------------------------------\u001B[0m",
      "\u001B[1;31mAttributeError\u001B[0m                            Traceback (most recent call last)",
      "Cell \u001B[1;32mIn[50], line 1\u001B[0m\n\u001B[1;32m----> 1\u001B[0m INPUT_DIM \u001B[38;5;241m=\u001B[39m \u001B[43mall_x_sequences\u001B[49m\u001B[38;5;241;43m.\u001B[39;49m\u001B[43mshape\u001B[49m[\u001B[38;5;241m2\u001B[39m]  \u001B[38;5;66;03m# Number of features per frame (e.g., biosignals + embeddings)\u001B[39;00m\n\u001B[0;32m      2\u001B[0m OUTPUT_DIM \u001B[38;5;241m=\u001B[39m all_y_sequences\u001B[38;5;241m.\u001B[39mshape[\u001B[38;5;241m2\u001B[39m] \n",
      "\u001B[1;31mAttributeError\u001B[0m: 'list' object has no attribute 'shape'"
     ]
    }
   ],
   "execution_count": 50
  },
  {
   "metadata": {
    "ExecuteTime": {
     "end_time": "2024-11-11T14:37:10.066466Z",
     "start_time": "2024-11-11T14:37:08.870536Z"
    }
   },
   "cell_type": "code",
   "source": [
    "model = tf.keras.Sequential([\n",
    "    tf.keras.layers.Input(shape=(SEQUENCE_LENGTH, INPUT_DIM)),    # Input shape: (sequence_length, features)\n",
    "    tf.keras.layers.LSTM(64, return_sequences=True),              # LSTM layer to capture temporal patterns\n",
    "    tf.keras.layers.Dense(32, activation='relu'),                 # Dense layer to reduce dimensionality\n",
    "    tf.keras.layers.Dense(OUTPUT_DIM, activation='sigmoid')       # Output layer with sigmoid for continuous values between 0 and 1\n",
    "])"
   ],
   "id": "8ae51ea52a2bf3b6",
   "outputs": [],
   "execution_count": 11
  },
  {
   "metadata": {
    "ExecuteTime": {
     "end_time": "2024-11-11T14:37:14.117246Z",
     "start_time": "2024-11-11T14:37:14.093588Z"
    }
   },
   "cell_type": "code",
   "source": "model.compile(optimizer='adam', loss='mean_squared_error', metrics=['mae'])",
   "id": "372ce70cf7533e58",
   "outputs": [],
   "execution_count": 12
  },
  {
   "metadata": {
    "ExecuteTime": {
     "end_time": "2024-11-11T14:42:43.509728Z",
     "start_time": "2024-11-11T14:37:15.402446Z"
    }
   },
   "cell_type": "code",
   "source": "history = model.fit(dataset, epochs=50)",
   "id": "90c6f6be681e7739",
   "outputs": [
    {
     "name": "stdout",
     "output_type": "stream",
     "text": [
      "Epoch 1/50\n",
      "\u001B[1m320/320\u001B[0m \u001B[32m━━━━━━━━━━━━━━━━━━━━\u001B[0m\u001B[37m\u001B[0m \u001B[1m10s\u001B[0m 14ms/step - loss: 0.0796 - mae: 0.1932\n",
      "Epoch 2/50\n",
      "\u001B[1m320/320\u001B[0m \u001B[32m━━━━━━━━━━━━━━━━━━━━\u001B[0m\u001B[37m\u001B[0m \u001B[1m5s\u001B[0m 14ms/step - loss: 0.0362 - mae: 0.0760\n",
      "Epoch 3/50\n",
      "\u001B[1m320/320\u001B[0m \u001B[32m━━━━━━━━━━━━━━━━━━━━\u001B[0m\u001B[37m\u001B[0m \u001B[1m5s\u001B[0m 14ms/step - loss: 0.0344 - mae: 0.0721\n",
      "Epoch 4/50\n",
      "\u001B[1m320/320\u001B[0m \u001B[32m━━━━━━━━━━━━━━━━━━━━\u001B[0m\u001B[37m\u001B[0m \u001B[1m5s\u001B[0m 15ms/step - loss: 0.0329 - mae: 0.0695\n",
      "Epoch 5/50\n",
      "\u001B[1m320/320\u001B[0m \u001B[32m━━━━━━━━━━━━━━━━━━━━\u001B[0m\u001B[37m\u001B[0m \u001B[1m5s\u001B[0m 14ms/step - loss: 0.0315 - mae: 0.0666\n",
      "Epoch 6/50\n",
      "\u001B[1m320/320\u001B[0m \u001B[32m━━━━━━━━━━━━━━━━━━━━\u001B[0m\u001B[37m\u001B[0m \u001B[1m5s\u001B[0m 14ms/step - loss: 0.0309 - mae: 0.0648\n",
      "Epoch 7/50\n",
      "\u001B[1m320/320\u001B[0m \u001B[32m━━━━━━━━━━━━━━━━━━━━\u001B[0m\u001B[37m\u001B[0m \u001B[1m6s\u001B[0m 19ms/step - loss: 0.0292 - mae: 0.0615\n",
      "Epoch 8/50\n",
      "\u001B[1m320/320\u001B[0m \u001B[32m━━━━━━━━━━━━━━━━━━━━\u001B[0m\u001B[37m\u001B[0m \u001B[1m5s\u001B[0m 16ms/step - loss: 0.0286 - mae: 0.0596\n",
      "Epoch 9/50\n",
      "\u001B[1m320/320\u001B[0m \u001B[32m━━━━━━━━━━━━━━━━━━━━\u001B[0m\u001B[37m\u001B[0m \u001B[1m5s\u001B[0m 14ms/step - loss: 0.0279 - mae: 0.0586\n",
      "Epoch 10/50\n",
      "\u001B[1m320/320\u001B[0m \u001B[32m━━━━━━━━━━━━━━━━━━━━\u001B[0m\u001B[37m\u001B[0m \u001B[1m5s\u001B[0m 14ms/step - loss: 0.0270 - mae: 0.0562\n",
      "Epoch 11/50\n",
      "\u001B[1m320/320\u001B[0m \u001B[32m━━━━━━━━━━━━━━━━━━━━\u001B[0m\u001B[37m\u001B[0m \u001B[1m5s\u001B[0m 14ms/step - loss: 0.0264 - mae: 0.0547\n",
      "Epoch 12/50\n",
      "\u001B[1m320/320\u001B[0m \u001B[32m━━━━━━━━━━━━━━━━━━━━\u001B[0m\u001B[37m\u001B[0m \u001B[1m5s\u001B[0m 15ms/step - loss: 0.0259 - mae: 0.0540\n",
      "Epoch 13/50\n",
      "\u001B[1m320/320\u001B[0m \u001B[32m━━━━━━━━━━━━━━━━━━━━\u001B[0m\u001B[37m\u001B[0m \u001B[1m5s\u001B[0m 14ms/step - loss: 0.0250 - mae: 0.0524\n",
      "Epoch 14/50\n",
      "\u001B[1m320/320\u001B[0m \u001B[32m━━━━━━━━━━━━━━━━━━━━\u001B[0m\u001B[37m\u001B[0m \u001B[1m5s\u001B[0m 14ms/step - loss: 0.0246 - mae: 0.0504\n",
      "Epoch 15/50\n",
      "\u001B[1m320/320\u001B[0m \u001B[32m━━━━━━━━━━━━━━━━━━━━\u001B[0m\u001B[37m\u001B[0m \u001B[1m5s\u001B[0m 15ms/step - loss: 0.0237 - mae: 0.0490\n",
      "Epoch 16/50\n",
      "\u001B[1m320/320\u001B[0m \u001B[32m━━━━━━━━━━━━━━━━━━━━\u001B[0m\u001B[37m\u001B[0m \u001B[1m6s\u001B[0m 15ms/step - loss: 0.0234 - mae: 0.0482\n",
      "Epoch 17/50\n",
      "\u001B[1m320/320\u001B[0m \u001B[32m━━━━━━━━━━━━━━━━━━━━\u001B[0m\u001B[37m\u001B[0m \u001B[1m4s\u001B[0m 13ms/step - loss: 0.0231 - mae: 0.0481\n",
      "Epoch 18/50\n",
      "\u001B[1m320/320\u001B[0m \u001B[32m━━━━━━━━━━━━━━━━━━━━\u001B[0m\u001B[37m\u001B[0m \u001B[1m5s\u001B[0m 14ms/step - loss: 0.0228 - mae: 0.0468\n",
      "Epoch 19/50\n",
      "\u001B[1m320/320\u001B[0m \u001B[32m━━━━━━━━━━━━━━━━━━━━\u001B[0m\u001B[37m\u001B[0m \u001B[1m5s\u001B[0m 14ms/step - loss: 0.0223 - mae: 0.0452\n",
      "Epoch 20/50\n",
      "\u001B[1m320/320\u001B[0m \u001B[32m━━━━━━━━━━━━━━━━━━━━\u001B[0m\u001B[37m\u001B[0m \u001B[1m5s\u001B[0m 14ms/step - loss: 0.0223 - mae: 0.0453\n",
      "Epoch 21/50\n",
      "\u001B[1m320/320\u001B[0m \u001B[32m━━━━━━━━━━━━━━━━━━━━\u001B[0m\u001B[37m\u001B[0m \u001B[1m6s\u001B[0m 17ms/step - loss: 0.0217 - mae: 0.0444\n",
      "Epoch 22/50\n",
      "\u001B[1m320/320\u001B[0m \u001B[32m━━━━━━━━━━━━━━━━━━━━\u001B[0m\u001B[37m\u001B[0m \u001B[1m6s\u001B[0m 19ms/step - loss: 0.0215 - mae: 0.0443\n",
      "Epoch 23/50\n",
      "\u001B[1m320/320\u001B[0m \u001B[32m━━━━━━━━━━━━━━━━━━━━\u001B[0m\u001B[37m\u001B[0m \u001B[1m6s\u001B[0m 16ms/step - loss: 0.0211 - mae: 0.0431\n",
      "Epoch 24/50\n",
      "\u001B[1m320/320\u001B[0m \u001B[32m━━━━━━━━━━━━━━━━━━━━\u001B[0m\u001B[37m\u001B[0m \u001B[1m6s\u001B[0m 17ms/step - loss: 0.0215 - mae: 0.0439\n",
      "Epoch 25/50\n",
      "\u001B[1m320/320\u001B[0m \u001B[32m━━━━━━━━━━━━━━━━━━━━\u001B[0m\u001B[37m\u001B[0m \u001B[1m6s\u001B[0m 17ms/step - loss: 0.0210 - mae: 0.0429\n",
      "Epoch 26/50\n",
      "\u001B[1m320/320\u001B[0m \u001B[32m━━━━━━━━━━━━━━━━━━━━\u001B[0m\u001B[37m\u001B[0m \u001B[1m6s\u001B[0m 19ms/step - loss: 0.0205 - mae: 0.0418\n",
      "Epoch 27/50\n",
      "\u001B[1m320/320\u001B[0m \u001B[32m━━━━━━━━━━━━━━━━━━━━\u001B[0m\u001B[37m\u001B[0m \u001B[1m5s\u001B[0m 16ms/step - loss: 0.0207 - mae: 0.0422\n",
      "Epoch 28/50\n",
      "\u001B[1m320/320\u001B[0m \u001B[32m━━━━━━━━━━━━━━━━━━━━\u001B[0m\u001B[37m\u001B[0m \u001B[1m5s\u001B[0m 16ms/step - loss: 0.0200 - mae: 0.0409\n",
      "Epoch 29/50\n",
      "\u001B[1m320/320\u001B[0m \u001B[32m━━━━━━━━━━━━━━━━━━━━\u001B[0m\u001B[37m\u001B[0m \u001B[1m7s\u001B[0m 20ms/step - loss: 0.0201 - mae: 0.0409\n",
      "Epoch 30/50\n",
      "\u001B[1m320/320\u001B[0m \u001B[32m━━━━━━━━━━━━━━━━━━━━\u001B[0m\u001B[37m\u001B[0m \u001B[1m6s\u001B[0m 18ms/step - loss: 0.0201 - mae: 0.0411\n",
      "Epoch 31/50\n",
      "\u001B[1m320/320\u001B[0m \u001B[32m━━━━━━━━━━━━━━━━━━━━\u001B[0m\u001B[37m\u001B[0m \u001B[1m6s\u001B[0m 19ms/step - loss: 0.0201 - mae: 0.0409\n",
      "Epoch 32/50\n",
      "\u001B[1m320/320\u001B[0m \u001B[32m━━━━━━━━━━━━━━━━━━━━\u001B[0m\u001B[37m\u001B[0m \u001B[1m6s\u001B[0m 19ms/step - loss: 0.0202 - mae: 0.0404\n",
      "Epoch 33/50\n",
      "\u001B[1m320/320\u001B[0m \u001B[32m━━━━━━━━━━━━━━━━━━━━\u001B[0m\u001B[37m\u001B[0m \u001B[1m7s\u001B[0m 18ms/step - loss: 0.0196 - mae: 0.0398\n",
      "Epoch 34/50\n",
      "\u001B[1m320/320\u001B[0m \u001B[32m━━━━━━━━━━━━━━━━━━━━\u001B[0m\u001B[37m\u001B[0m \u001B[1m6s\u001B[0m 15ms/step - loss: 0.0194 - mae: 0.0396\n",
      "Epoch 35/50\n",
      "\u001B[1m320/320\u001B[0m \u001B[32m━━━━━━━━━━━━━━━━━━━━\u001B[0m\u001B[37m\u001B[0m \u001B[1m5s\u001B[0m 14ms/step - loss: 0.0190 - mae: 0.0382\n",
      "Epoch 36/50\n",
      "\u001B[1m320/320\u001B[0m \u001B[32m━━━━━━━━━━━━━━━━━━━━\u001B[0m\u001B[37m\u001B[0m \u001B[1m7s\u001B[0m 21ms/step - loss: 0.0191 - mae: 0.0391\n",
      "Epoch 37/50\n",
      "\u001B[1m320/320\u001B[0m \u001B[32m━━━━━━━━━━━━━━━━━━━━\u001B[0m\u001B[37m\u001B[0m \u001B[1m10s\u001B[0m 27ms/step - loss: 0.0192 - mae: 0.0382\n",
      "Epoch 38/50\n",
      "\u001B[1m320/320\u001B[0m \u001B[32m━━━━━━━━━━━━━━━━━━━━\u001B[0m\u001B[37m\u001B[0m \u001B[1m13s\u001B[0m 37ms/step - loss: 0.0192 - mae: 0.0391\n",
      "Epoch 39/50\n",
      "\u001B[1m320/320\u001B[0m \u001B[32m━━━━━━━━━━━━━━━━━━━━\u001B[0m\u001B[37m\u001B[0m \u001B[1m15s\u001B[0m 33ms/step - loss: 0.0186 - mae: 0.0376\n",
      "Epoch 40/50\n",
      "\u001B[1m320/320\u001B[0m \u001B[32m━━━━━━━━━━━━━━━━━━━━\u001B[0m\u001B[37m\u001B[0m \u001B[1m15s\u001B[0m 40ms/step - loss: 0.0186 - mae: 0.0373\n",
      "Epoch 41/50\n",
      "\u001B[1m320/320\u001B[0m \u001B[32m━━━━━━━━━━━━━━━━━━━━\u001B[0m\u001B[37m\u001B[0m \u001B[1m11s\u001B[0m 29ms/step - loss: 0.0192 - mae: 0.0389\n",
      "Epoch 42/50\n",
      "\u001B[1m320/320\u001B[0m \u001B[32m━━━━━━━━━━━━━━━━━━━━\u001B[0m\u001B[37m\u001B[0m \u001B[1m8s\u001B[0m 24ms/step - loss: 0.0185 - mae: 0.0369\n",
      "Epoch 43/50\n",
      "\u001B[1m320/320\u001B[0m \u001B[32m━━━━━━━━━━━━━━━━━━━━\u001B[0m\u001B[37m\u001B[0m \u001B[1m9s\u001B[0m 26ms/step - loss: 0.0187 - mae: 0.0374\n",
      "Epoch 44/50\n",
      "\u001B[1m320/320\u001B[0m \u001B[32m━━━━━━━━━━━━━━━━━━━━\u001B[0m\u001B[37m\u001B[0m \u001B[1m6s\u001B[0m 17ms/step - loss: 0.0186 - mae: 0.0371\n",
      "Epoch 45/50\n",
      "\u001B[1m320/320\u001B[0m \u001B[32m━━━━━━━━━━━━━━━━━━━━\u001B[0m\u001B[37m\u001B[0m \u001B[1m6s\u001B[0m 16ms/step - loss: 0.0180 - mae: 0.0357\n",
      "Epoch 46/50\n",
      "\u001B[1m320/320\u001B[0m \u001B[32m━━━━━━━━━━━━━━━━━━━━\u001B[0m\u001B[37m\u001B[0m \u001B[1m6s\u001B[0m 17ms/step - loss: 0.0187 - mae: 0.0379\n",
      "Epoch 47/50\n",
      "\u001B[1m320/320\u001B[0m \u001B[32m━━━━━━━━━━━━━━━━━━━━\u001B[0m\u001B[37m\u001B[0m \u001B[1m6s\u001B[0m 19ms/step - loss: 0.0182 - mae: 0.0366\n",
      "Epoch 48/50\n",
      "\u001B[1m320/320\u001B[0m \u001B[32m━━━━━━━━━━━━━━━━━━━━\u001B[0m\u001B[37m\u001B[0m \u001B[1m7s\u001B[0m 20ms/step - loss: 0.0180 - mae: 0.0363\n",
      "Epoch 49/50\n",
      "\u001B[1m320/320\u001B[0m \u001B[32m━━━━━━━━━━━━━━━━━━━━\u001B[0m\u001B[37m\u001B[0m \u001B[1m8s\u001B[0m 22ms/step - loss: 0.0178 - mae: 0.0357\n",
      "Epoch 50/50\n",
      "\u001B[1m320/320\u001B[0m \u001B[32m━━━━━━━━━━━━━━━━━━━━\u001B[0m\u001B[37m\u001B[0m \u001B[1m9s\u001B[0m 24ms/step - loss: 0.0184 - mae: 0.0367\n"
     ]
    }
   ],
   "execution_count": 13
  },
  {
   "metadata": {
    "ExecuteTime": {
     "end_time": "2024-11-11T14:43:12.252342Z",
     "start_time": "2024-11-11T14:43:06.810494Z"
    }
   },
   "cell_type": "code",
   "source": [
    "# Make predictions for a few batches\n",
    "for x_batch, y_batch in dataset.take(3):  # Take 3 batches as an example\n",
    "    predictions = model.predict(x_batch)\n",
    "\n",
    "    print(\"\\nPredicted values:\")\n",
    "    print(predictions[:5])  # Show predictions for the first 5 sequences in the batch\n",
    "    \n",
    "    print(\"\\nActual values:\")\n",
    "    print(y_batch.numpy()[:5])  # Show actual values for the first 5 sequences in the batch\n",
    "\n",
    "    # Break after showing 3 batches\n",
    "    break"
   ],
   "id": "b93a844aa14e5e83",
   "outputs": [
    {
     "name": "stdout",
     "output_type": "stream",
     "text": [
      "\u001B[1m1/1\u001B[0m \u001B[32m━━━━━━━━━━━━━━━━━━━━\u001B[0m\u001B[37m\u001B[0m \u001B[1m1s\u001B[0m 932ms/step\n",
      "\n",
      "Predicted values:\n",
      "[[[2.14254454e-01 2.68538934e-05 2.71015073e-04 3.79311736e-04\n",
      "   8.48542433e-03 1.30747759e-03]\n",
      "  [8.32569957e-01 9.93957394e-04 1.01484759e-02 5.03722928e-04\n",
      "   3.69755253e-02 2.95633171e-03]\n",
      "  [7.05895800e-05 5.67830148e-06 6.75103802e-05 2.03465373e-04\n",
      "   3.09151150e-02 3.59592703e-03]\n",
      "  [5.81636210e-04 8.24715025e-05 2.56612984e-04 2.14598863e-03\n",
      "   2.39315312e-02 3.88722471e-03]\n",
      "  [2.15481668e-06 2.10925933e-07 1.95157718e-05 1.38337578e-04\n",
      "   1.94880236e-02 5.00190654e-04]\n",
      "  [8.15365468e-07 4.14499664e-06 2.36032338e-05 2.89502117e-04\n",
      "   3.67476908e-03 4.28278901e-04]\n",
      "  [2.45048545e-06 1.85768002e-07 3.22316782e-06 3.44231594e-05\n",
      "   4.70558181e-03 1.94439388e-04]\n",
      "  [4.63135242e-02 6.92949925e-07 2.80280619e-06 1.34816755e-05\n",
      "   3.27992113e-03 1.17756172e-04]\n",
      "  [1.52712209e-06 8.15158108e-10 8.93652441e-09 6.85469388e-07\n",
      "   2.70390068e-03 4.54664441e-05]\n",
      "  [8.29165583e-05 1.26270197e-06 1.05928358e-07 4.21930927e-05\n",
      "   3.83678242e-03 9.08884103e-05]]\n",
      "\n",
      " [[4.87548004e-06 3.30255367e-03 2.98949773e-04 9.79456827e-02\n",
      "   2.38719955e-02 2.14953441e-02]\n",
      "  [2.55964696e-03 1.22857455e-03 4.19297663e-04 9.26503260e-03\n",
      "   7.11534231e-04 1.58215326e-03]\n",
      "  [6.06908106e-05 2.25730799e-03 2.35454887e-02 4.91638593e-02\n",
      "   7.34673161e-03 1.72967631e-02]\n",
      "  [7.90604274e-04 1.05400395e-03 4.60307114e-04 2.15837434e-02\n",
      "   4.89947991e-03 9.38628335e-03]\n",
      "  [7.74197048e-04 1.52196863e-03 5.50841971e-04 2.37894952e-02\n",
      "   1.77350838e-03 1.26701249e-02]\n",
      "  [1.35020353e-03 1.69738475e-03 7.18496740e-04 1.67826638e-02\n",
      "   1.41079910e-03 1.43194329e-02]\n",
      "  [2.18619150e-03 1.90963852e-03 9.92449117e-04 1.47745898e-02\n",
      "   1.34060229e-03 1.56168239e-02]\n",
      "  [2.93351710e-03 2.16129771e-03 1.24536664e-03 1.40166543e-02\n",
      "   1.28946011e-03 1.63632222e-02]\n",
      "  [1.04751030e-03 1.72971488e-06 1.28994952e-05 2.14531916e-04\n",
      "   2.21511349e-03 5.35844767e-04]\n",
      "  [1.02263065e-02 8.98100188e-05 3.34974029e-05 1.29590428e-03\n",
      "   1.98873645e-03 2.71925027e-03]]\n",
      "\n",
      " [[1.42017230e-01 1.72024115e-03 3.80744023e-04 1.77926640e-03\n",
      "   6.06022123e-03 3.32196010e-03]\n",
      "  [9.97921961e-06 5.44743998e-05 6.56638122e-06 1.45981926e-03\n",
      "   5.30396635e-03 3.35906097e-03]\n",
      "  [2.03072541e-05 5.04325590e-06 7.42880729e-06 4.82958305e-04\n",
      "   1.78327842e-03 1.10528537e-03]\n",
      "  [5.78057382e-07 3.09336319e-05 4.42306828e-06 4.66617174e-04\n",
      "   2.11652066e-03 2.99847475e-03]\n",
      "  [2.26090651e-05 4.63337492e-05 1.85129886e-06 3.00213898e-04\n",
      "   5.10776695e-03 8.70592950e-04]\n",
      "  [3.25910214e-08 3.25717065e-06 1.22477297e-06 1.81964817e-04\n",
      "   1.26018040e-02 6.50205277e-03]\n",
      "  [3.44328032e-06 9.67524829e-06 3.14076010e-06 4.12083391e-05\n",
      "   2.47086794e-03 9.15390963e-04]\n",
      "  [3.79530547e-07 3.28040733e-06 6.83165879e-08 1.11033469e-05\n",
      "   2.62170983e-03 1.48231874e-03]\n",
      "  [1.69361374e-05 4.90214063e-07 1.41935402e-07 5.19651667e-06\n",
      "   1.91116892e-03 5.83694258e-04]\n",
      "  [3.52966708e-07 8.25874963e-07 4.23296456e-07 7.03806654e-05\n",
      "   3.27581610e-03 2.00697384e-03]]\n",
      "\n",
      " [[2.19880766e-03 1.17212498e-04 8.59659538e-03 1.47744757e-03\n",
      "   6.66325614e-02 1.17542148e-02]\n",
      "  [9.76754308e-01 1.43350824e-03 1.10394955e-01 7.81529758e-04\n",
      "   4.23600606e-04 3.70078790e-03]\n",
      "  [9.81061876e-01 1.56848284e-04 1.98286958e-03 2.87726661e-03\n",
      "   3.00406304e-04 2.31669843e-03]\n",
      "  [5.09114121e-04 2.84240343e-07 9.79544348e-05 1.37644965e-04\n",
      "   3.50979972e-03 1.47484214e-04]\n",
      "  [4.64110775e-03 1.23959410e-07 3.11030931e-06 1.35623457e-04\n",
      "   1.77452317e-03 9.32630792e-05]\n",
      "  [2.45294198e-02 3.67663887e-07 5.74318165e-06 1.63640419e-04\n",
      "   1.36369222e-03 1.26234940e-04]\n",
      "  [3.21708322e-02 7.31376986e-07 1.07096739e-05 2.75005470e-04\n",
      "   1.57906255e-03 1.96905996e-04]\n",
      "  [2.83568706e-02 1.29465820e-06 1.68096158e-05 4.16386349e-04\n",
      "   1.87200133e-03 2.99328181e-04]\n",
      "  [2.60115210e-02 1.77949448e-06 2.06765144e-05 5.32947772e-04\n",
      "   2.01883819e-03 3.64596635e-04]\n",
      "  [2.56984495e-02 2.07770722e-06 2.26574593e-05 5.97750244e-04\n",
      "   2.05562916e-03 3.95328854e-04]]\n",
      "\n",
      " [[1.77025970e-03 7.01246376e-04 9.72667651e-04 5.10683609e-03\n",
      "   2.17319168e-02 3.07735568e-03]\n",
      "  [1.11451782e-02 2.74620601e-04 5.64906048e-04 8.29667505e-03\n",
      "   2.25229356e-02 1.51569035e-03]\n",
      "  [9.59097028e-01 1.18154312e-05 1.42426856e-04 1.44498260e-03\n",
      "   2.44947872e-03 2.27310848e-05]\n",
      "  [9.98822033e-01 4.47636609e-07 4.58530076e-06 2.15619616e-06\n",
      "   2.91217375e-03 9.99936856e-06]\n",
      "  [9.99999881e-01 7.91186085e-06 3.91835056e-06 3.27510907e-06\n",
      "   1.01460470e-03 2.99578596e-06]\n",
      "  [1.00000000e+00 1.08628953e-07 3.67953241e-08 1.93936231e-07\n",
      "   1.21571888e-04 7.54108598e-08]\n",
      "  [1.00000000e+00 7.30850047e-08 8.23456716e-08 4.03142650e-07\n",
      "   1.27241146e-04 2.97055806e-07]\n",
      "  [9.99997020e-01 3.58257284e-06 1.16966771e-06 1.81077314e-06\n",
      "   1.17877685e-03 2.66361872e-06]\n",
      "  [8.68179977e-01 1.78527031e-07 8.63739956e-07 4.77513765e-07\n",
      "   9.03879479e-03 1.46522734e-05]\n",
      "  [9.99942839e-01 4.27263512e-06 1.45450633e-06 3.02910530e-06\n",
      "   1.46755145e-03 2.33846295e-05]]]\n",
      "\n",
      "Actual values:\n",
      "[[[1. 0. 0. 0. 0. 0.]\n",
      "  [1. 0. 0. 0. 0. 0.]\n",
      "  [0. 0. 0. 0. 0. 0.]\n",
      "  [0. 0. 0. 0. 0. 0.]\n",
      "  [0. 0. 0. 0. 0. 0.]\n",
      "  [0. 0. 0. 0. 0. 0.]\n",
      "  [0. 0. 0. 0. 0. 0.]\n",
      "  [0. 0. 0. 0. 0. 0.]\n",
      "  [0. 0. 0. 0. 0. 0.]\n",
      "  [0. 0. 0. 0. 0. 0.]]\n",
      "\n",
      " [[0. 0. 0. 0. 0. 0.]\n",
      "  [0. 0. 0. 0. 0. 0.]\n",
      "  [0. 0. 0. 0. 0. 0.]\n",
      "  [0. 0. 0. 0. 0. 0.]\n",
      "  [0. 0. 0. 0. 0. 0.]\n",
      "  [0. 0. 0. 0. 0. 0.]\n",
      "  [0. 0. 0. 0. 0. 0.]\n",
      "  [0. 0. 0. 0. 0. 0.]\n",
      "  [0. 0. 0. 0. 0. 0.]\n",
      "  [0. 0. 0. 0. 0. 0.]]\n",
      "\n",
      " [[0. 0. 0. 0. 0. 0.]\n",
      "  [0. 0. 0. 0. 0. 0.]\n",
      "  [0. 0. 0. 0. 0. 0.]\n",
      "  [0. 0. 0. 0. 0. 0.]\n",
      "  [0. 0. 0. 0. 0. 0.]\n",
      "  [0. 0. 0. 0. 0. 0.]\n",
      "  [0. 0. 0. 0. 0. 0.]\n",
      "  [0. 0. 0. 0. 0. 0.]\n",
      "  [0. 0. 0. 0. 0. 0.]\n",
      "  [0. 0. 0. 0. 0. 0.]]\n",
      "\n",
      " [[0. 0. 0. 0. 0. 0.]\n",
      "  [1. 0. 0. 0. 0. 0.]\n",
      "  [1. 0. 0. 0. 0. 0.]\n",
      "  [0. 0. 0. 0. 0. 0.]\n",
      "  [0. 0. 0. 0. 0. 0.]\n",
      "  [0. 0. 0. 0. 0. 0.]\n",
      "  [0. 0. 0. 0. 0. 0.]\n",
      "  [0. 0. 0. 0. 0. 0.]\n",
      "  [0. 0. 0. 0. 0. 0.]\n",
      "  [0. 0. 0. 0. 0. 0.]]\n",
      "\n",
      " [[0. 0. 0. 0. 0. 0.]\n",
      "  [0. 0. 0. 0. 0. 0.]\n",
      "  [1. 0. 0. 0. 0. 0.]\n",
      "  [1. 0. 0. 0. 0. 0.]\n",
      "  [1. 0. 0. 0. 0. 0.]\n",
      "  [1. 0. 0. 0. 0. 0.]\n",
      "  [1. 0. 0. 0. 0. 0.]\n",
      "  [1. 0. 0. 0. 0. 0.]\n",
      "  [0. 0. 0. 0. 0. 0.]\n",
      "  [1. 0. 0. 0. 0. 0.]]]\n"
     ]
    }
   ],
   "execution_count": 15
  },
  {
   "metadata": {
    "ExecuteTime": {
     "end_time": "2024-11-08T11:59:31.783493Z",
     "start_time": "2024-11-08T11:59:31.735661Z"
    }
   },
   "cell_type": "code",
   "source": "model.summary()",
   "id": "a934e87493baa466",
   "outputs": [
    {
     "data": {
      "text/plain": [
       "\u001B[1mModel: \"sequential_1\"\u001B[0m\n"
      ],
      "text/html": [
       "<pre style=\"white-space:pre;overflow-x:auto;line-height:normal;font-family:Menlo,'DejaVu Sans Mono',consolas,'Courier New',monospace\"><span style=\"font-weight: bold\">Model: \"sequential_1\"</span>\n",
       "</pre>\n"
      ]
     },
     "metadata": {},
     "output_type": "display_data"
    },
    {
     "data": {
      "text/plain": [
       "┏━━━━━━━━━━━━━━━━━━━━━━━━━━━━━━━━━┳━━━━━━━━━━━━━━━━━━━━━━━━┳━━━━━━━━━━━━━━━┓\n",
       "┃\u001B[1m \u001B[0m\u001B[1mLayer (type)                   \u001B[0m\u001B[1m \u001B[0m┃\u001B[1m \u001B[0m\u001B[1mOutput Shape          \u001B[0m\u001B[1m \u001B[0m┃\u001B[1m \u001B[0m\u001B[1m      Param #\u001B[0m\u001B[1m \u001B[0m┃\n",
       "┡━━━━━━━━━━━━━━━━━━━━━━━━━━━━━━━━━╇━━━━━━━━━━━━━━━━━━━━━━━━╇━━━━━━━━━━━━━━━┩\n",
       "│ lstm_1 (\u001B[38;5;33mLSTM\u001B[0m)                   │ (\u001B[38;5;45mNone\u001B[0m, \u001B[38;5;34m10\u001B[0m, \u001B[38;5;34m64\u001B[0m)         │       \u001B[38;5;34m148,480\u001B[0m │\n",
       "├─────────────────────────────────┼────────────────────────┼───────────────┤\n",
       "│ dense_2 (\u001B[38;5;33mDense\u001B[0m)                 │ (\u001B[38;5;45mNone\u001B[0m, \u001B[38;5;34m10\u001B[0m, \u001B[38;5;34m32\u001B[0m)         │         \u001B[38;5;34m2,080\u001B[0m │\n",
       "├─────────────────────────────────┼────────────────────────┼───────────────┤\n",
       "│ dense_3 (\u001B[38;5;33mDense\u001B[0m)                 │ (\u001B[38;5;45mNone\u001B[0m, \u001B[38;5;34m10\u001B[0m, \u001B[38;5;34m6\u001B[0m)          │           \u001B[38;5;34m198\u001B[0m │\n",
       "└─────────────────────────────────┴────────────────────────┴───────────────┘\n"
      ],
      "text/html": [
       "<pre style=\"white-space:pre;overflow-x:auto;line-height:normal;font-family:Menlo,'DejaVu Sans Mono',consolas,'Courier New',monospace\">┏━━━━━━━━━━━━━━━━━━━━━━━━━━━━━━━━━┳━━━━━━━━━━━━━━━━━━━━━━━━┳━━━━━━━━━━━━━━━┓\n",
       "┃<span style=\"font-weight: bold\"> Layer (type)                    </span>┃<span style=\"font-weight: bold\"> Output Shape           </span>┃<span style=\"font-weight: bold\">       Param # </span>┃\n",
       "┡━━━━━━━━━━━━━━━━━━━━━━━━━━━━━━━━━╇━━━━━━━━━━━━━━━━━━━━━━━━╇━━━━━━━━━━━━━━━┩\n",
       "│ lstm_1 (<span style=\"color: #0087ff; text-decoration-color: #0087ff\">LSTM</span>)                   │ (<span style=\"color: #00d7ff; text-decoration-color: #00d7ff\">None</span>, <span style=\"color: #00af00; text-decoration-color: #00af00\">10</span>, <span style=\"color: #00af00; text-decoration-color: #00af00\">64</span>)         │       <span style=\"color: #00af00; text-decoration-color: #00af00\">148,480</span> │\n",
       "├─────────────────────────────────┼────────────────────────┼───────────────┤\n",
       "│ dense_2 (<span style=\"color: #0087ff; text-decoration-color: #0087ff\">Dense</span>)                 │ (<span style=\"color: #00d7ff; text-decoration-color: #00d7ff\">None</span>, <span style=\"color: #00af00; text-decoration-color: #00af00\">10</span>, <span style=\"color: #00af00; text-decoration-color: #00af00\">32</span>)         │         <span style=\"color: #00af00; text-decoration-color: #00af00\">2,080</span> │\n",
       "├─────────────────────────────────┼────────────────────────┼───────────────┤\n",
       "│ dense_3 (<span style=\"color: #0087ff; text-decoration-color: #0087ff\">Dense</span>)                 │ (<span style=\"color: #00d7ff; text-decoration-color: #00d7ff\">None</span>, <span style=\"color: #00af00; text-decoration-color: #00af00\">10</span>, <span style=\"color: #00af00; text-decoration-color: #00af00\">6</span>)          │           <span style=\"color: #00af00; text-decoration-color: #00af00\">198</span> │\n",
       "└─────────────────────────────────┴────────────────────────┴───────────────┘\n",
       "</pre>\n"
      ]
     },
     "metadata": {},
     "output_type": "display_data"
    },
    {
     "data": {
      "text/plain": [
       "\u001B[1m Total params: \u001B[0m\u001B[38;5;34m452,276\u001B[0m (1.73 MB)\n"
      ],
      "text/html": [
       "<pre style=\"white-space:pre;overflow-x:auto;line-height:normal;font-family:Menlo,'DejaVu Sans Mono',consolas,'Courier New',monospace\"><span style=\"font-weight: bold\"> Total params: </span><span style=\"color: #00af00; text-decoration-color: #00af00\">452,276</span> (1.73 MB)\n",
       "</pre>\n"
      ]
     },
     "metadata": {},
     "output_type": "display_data"
    },
    {
     "data": {
      "text/plain": [
       "\u001B[1m Trainable params: \u001B[0m\u001B[38;5;34m150,758\u001B[0m (588.90 KB)\n"
      ],
      "text/html": [
       "<pre style=\"white-space:pre;overflow-x:auto;line-height:normal;font-family:Menlo,'DejaVu Sans Mono',consolas,'Courier New',monospace\"><span style=\"font-weight: bold\"> Trainable params: </span><span style=\"color: #00af00; text-decoration-color: #00af00\">150,758</span> (588.90 KB)\n",
       "</pre>\n"
      ]
     },
     "metadata": {},
     "output_type": "display_data"
    },
    {
     "data": {
      "text/plain": [
       "\u001B[1m Non-trainable params: \u001B[0m\u001B[38;5;34m0\u001B[0m (0.00 B)\n"
      ],
      "text/html": [
       "<pre style=\"white-space:pre;overflow-x:auto;line-height:normal;font-family:Menlo,'DejaVu Sans Mono',consolas,'Courier New',monospace\"><span style=\"font-weight: bold\"> Non-trainable params: </span><span style=\"color: #00af00; text-decoration-color: #00af00\">0</span> (0.00 B)\n",
       "</pre>\n"
      ]
     },
     "metadata": {},
     "output_type": "display_data"
    },
    {
     "data": {
      "text/plain": [
       "\u001B[1m Optimizer params: \u001B[0m\u001B[38;5;34m301,518\u001B[0m (1.15 MB)\n"
      ],
      "text/html": [
       "<pre style=\"white-space:pre;overflow-x:auto;line-height:normal;font-family:Menlo,'DejaVu Sans Mono',consolas,'Courier New',monospace\"><span style=\"font-weight: bold\"> Optimizer params: </span><span style=\"color: #00af00; text-decoration-color: #00af00\">301,518</span> (1.15 MB)\n",
       "</pre>\n"
      ]
     },
     "metadata": {},
     "output_type": "display_data"
    }
   ],
   "execution_count": 20
  },
  {
   "metadata": {
    "ExecuteTime": {
     "end_time": "2024-11-11T14:42:55.766073Z",
     "start_time": "2024-11-11T14:42:50.482807Z"
    }
   },
   "cell_type": "code",
   "source": [
    "import matplotlib.pyplot as plt\n",
    "\n",
    "# After training, 'history' holds the metrics for each epoch\n",
    "# Plot MAE from the training history\n",
    "\n",
    "# Access 'mae' values for each epoch\n",
    "mae = history.history['mae']  # MAE for training data\n",
    "# If you had validation data, access validation MAE as well\n",
    "# val_mae = history.history['val_mae']\n",
    "\n",
    "# Plot training MAE\n",
    "plt.plot(mae, label='Training MAE')\n",
    "# Uncomment below if you have validation data to compare\n",
    "# plt.plot(val_mae, label='Validation MAE')\n",
    "plt.xlabel('Epoch')\n",
    "plt.ylabel('Mean Absolute Error (MAE)')\n",
    "plt.title('Model MAE over Epochs')\n",
    "plt.legend()\n",
    "plt.grid()\n",
    "plt.show()\n"
   ],
   "id": "142b001988524938",
   "outputs": [
    {
     "data": {
      "text/plain": [
       "<Figure size 640x480 with 1 Axes>"
      ],
      "image/png": "[encoded data removed]"
     },
     "metadata": {},
     "output_type": "display_data"
    }
   ],
   "execution_count": 14
  },
  {
   "metadata": {},
   "cell_type": "code",
   "source": "    ",
   "id": "258108f1a2b068b5",
   "outputs": [],
   "execution_count": null
  }
 ],
 "metadata": {
  "kernelspec": {
   "display_name": "Python 3",
   "language": "python",
   "name": "python3"
  },
  "language_info": {
   "codemirror_mode": {
    "name": "ipython",
    "version": 2
   },
   "file_extension": ".py",
   "mimetype": "text/x-python",
   "name": "python",
   "nbconvert_exporter": "python",
   "pygments_lexer": "ipython2",
   "version": "2.7.6"
  }
 },
 "nbformat": 4,
 "nbformat_minor": 5
}
