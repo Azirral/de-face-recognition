{
 "cells": [
  {
   "metadata": {
    "ExecuteTime": {
     "end_time": "2024-11-18T15:16:35.218540Z",
     "start_time": "2024-11-18T15:16:23.577050Z"
    }
   },
   "cell_type": "code",
   "source": [
    "from deepface import DeepFace\n",
    "import cv2\n",
    "import numpy as np\n",
    "import pandas as pd\n",
    "import csv, os, re, time, logging, cv2, torch\n",
    "from pathlib import Path\n",
    "from importlib.metadata import version\n",
    "from facenet_pytorch import InceptionResnetV1, MTCNN\n",
    "from PIL import Image\n",
    "from moviepy.editor import VideoFileClip"
   ],
   "id": "95b04144a3993352",
   "outputs": [
    {
     "ename": "ValueError",
     "evalue": "You have tensorflow 2.18.0 and this requires tf-keras package. Please run `pip install tf-keras` or downgrade your tensorflow.",
     "output_type": "error",
     "traceback": [
      "\u001B[1;31m---------------------------------------------------------------------------\u001B[0m",
      "\u001B[1;31mModuleNotFoundError\u001B[0m                       Traceback (most recent call last)",
      "File \u001B[1;32mC:\\StudiaMoje\\Semestr6\\ProjektInżynierski\\.venv\\Lib\\site-packages\\retinaface\\commons\\package_utils.py:19\u001B[0m, in \u001B[0;36mvalidate_for_keras3\u001B[1;34m()\u001B[0m\n\u001B[0;32m     18\u001B[0m \u001B[38;5;28;01mtry\u001B[39;00m:\n\u001B[1;32m---> 19\u001B[0m     \u001B[38;5;28;01mimport\u001B[39;00m \u001B[38;5;21;01mtf_keras\u001B[39;00m\n\u001B[0;32m     21\u001B[0m     logger\u001B[38;5;241m.\u001B[39mdebug(\u001B[38;5;124mf\u001B[39m\u001B[38;5;124m\"\u001B[39m\u001B[38;5;124mtf_keras is already available - \u001B[39m\u001B[38;5;132;01m{\u001B[39;00mtf_keras\u001B[38;5;241m.\u001B[39m__version__\u001B[38;5;132;01m}\u001B[39;00m\u001B[38;5;124m\"\u001B[39m)\n",
      "\u001B[1;31mModuleNotFoundError\u001B[0m: No module named 'tf_keras'",
      "\nThe above exception was the direct cause of the following exception:\n",
      "\u001B[1;31mValueError\u001B[0m                                Traceback (most recent call last)",
      "Cell \u001B[1;32mIn[1], line 1\u001B[0m\n\u001B[1;32m----> 1\u001B[0m \u001B[38;5;28;01mfrom\u001B[39;00m \u001B[38;5;21;01mdeepface\u001B[39;00m \u001B[38;5;28;01mimport\u001B[39;00m DeepFace\n\u001B[0;32m      2\u001B[0m \u001B[38;5;28;01mimport\u001B[39;00m \u001B[38;5;21;01mcv2\u001B[39;00m\n\u001B[0;32m      3\u001B[0m \u001B[38;5;28;01mimport\u001B[39;00m \u001B[38;5;21;01mnumpy\u001B[39;00m \u001B[38;5;28;01mas\u001B[39;00m \u001B[38;5;21;01mnp\u001B[39;00m\n",
      "File \u001B[1;32mC:\\StudiaMoje\\Semestr6\\ProjektInżynierski\\.venv\\Lib\\site-packages\\deepface\\DeepFace.py:20\u001B[0m\n\u001B[0;32m     18\u001B[0m \u001B[38;5;28;01mfrom\u001B[39;00m \u001B[38;5;21;01mdeepface\u001B[39;00m\u001B[38;5;21;01m.\u001B[39;00m\u001B[38;5;21;01mcommons\u001B[39;00m \u001B[38;5;28;01mimport\u001B[39;00m package_utils, folder_utils\n\u001B[0;32m     19\u001B[0m \u001B[38;5;28;01mfrom\u001B[39;00m \u001B[38;5;21;01mdeepface\u001B[39;00m\u001B[38;5;21;01m.\u001B[39;00m\u001B[38;5;21;01mcommons\u001B[39;00m\u001B[38;5;21;01m.\u001B[39;00m\u001B[38;5;21;01mlogger\u001B[39;00m \u001B[38;5;28;01mimport\u001B[39;00m Logger\n\u001B[1;32m---> 20\u001B[0m \u001B[38;5;28;01mfrom\u001B[39;00m \u001B[38;5;21;01mdeepface\u001B[39;00m\u001B[38;5;21;01m.\u001B[39;00m\u001B[38;5;21;01mmodules\u001B[39;00m \u001B[38;5;28;01mimport\u001B[39;00m (\n\u001B[0;32m     21\u001B[0m     modeling,\n\u001B[0;32m     22\u001B[0m     representation,\n\u001B[0;32m     23\u001B[0m     verification,\n\u001B[0;32m     24\u001B[0m     recognition,\n\u001B[0;32m     25\u001B[0m     demography,\n\u001B[0;32m     26\u001B[0m     detection,\n\u001B[0;32m     27\u001B[0m     streaming,\n\u001B[0;32m     28\u001B[0m     preprocessing,\n\u001B[0;32m     29\u001B[0m )\n\u001B[0;32m     30\u001B[0m \u001B[38;5;28;01mfrom\u001B[39;00m \u001B[38;5;21;01mdeepface\u001B[39;00m \u001B[38;5;28;01mimport\u001B[39;00m __version__\n\u001B[0;32m     32\u001B[0m logger \u001B[38;5;241m=\u001B[39m Logger()\n",
      "File \u001B[1;32mC:\\StudiaMoje\\Semestr6\\ProjektInżynierski\\.venv\\Lib\\site-packages\\deepface\\modules\\modeling.py:16\u001B[0m\n\u001B[0;32m      4\u001B[0m \u001B[38;5;66;03m# project dependencies\u001B[39;00m\n\u001B[0;32m      5\u001B[0m \u001B[38;5;28;01mfrom\u001B[39;00m \u001B[38;5;21;01mdeepface\u001B[39;00m\u001B[38;5;21;01m.\u001B[39;00m\u001B[38;5;21;01mmodels\u001B[39;00m\u001B[38;5;21;01m.\u001B[39;00m\u001B[38;5;21;01mfacial_recognition\u001B[39;00m \u001B[38;5;28;01mimport\u001B[39;00m (\n\u001B[0;32m      6\u001B[0m     VGGFace,\n\u001B[0;32m      7\u001B[0m     OpenFace,\n\u001B[1;32m   (...)\u001B[0m\n\u001B[0;32m     14\u001B[0m     GhostFaceNet,\n\u001B[0;32m     15\u001B[0m )\n\u001B[1;32m---> 16\u001B[0m \u001B[38;5;28;01mfrom\u001B[39;00m \u001B[38;5;21;01mdeepface\u001B[39;00m\u001B[38;5;21;01m.\u001B[39;00m\u001B[38;5;21;01mmodels\u001B[39;00m\u001B[38;5;21;01m.\u001B[39;00m\u001B[38;5;21;01mface_detection\u001B[39;00m \u001B[38;5;28;01mimport\u001B[39;00m (\n\u001B[0;32m     17\u001B[0m     FastMtCnn,\n\u001B[0;32m     18\u001B[0m     MediaPipe,\n\u001B[0;32m     19\u001B[0m     MtCnn,\n\u001B[0;32m     20\u001B[0m     OpenCv,\n\u001B[0;32m     21\u001B[0m     Dlib \u001B[38;5;28;01mas\u001B[39;00m DlibDetector,\n\u001B[0;32m     22\u001B[0m     RetinaFace,\n\u001B[0;32m     23\u001B[0m     Ssd,\n\u001B[0;32m     24\u001B[0m     Yolo,\n\u001B[0;32m     25\u001B[0m     YuNet,\n\u001B[0;32m     26\u001B[0m     CenterFace,\n\u001B[0;32m     27\u001B[0m )\n\u001B[0;32m     28\u001B[0m \u001B[38;5;28;01mfrom\u001B[39;00m \u001B[38;5;21;01mdeepface\u001B[39;00m\u001B[38;5;21;01m.\u001B[39;00m\u001B[38;5;21;01mmodels\u001B[39;00m\u001B[38;5;21;01m.\u001B[39;00m\u001B[38;5;21;01mdemography\u001B[39;00m \u001B[38;5;28;01mimport\u001B[39;00m Age, Gender, Race, Emotion\n\u001B[0;32m     29\u001B[0m \u001B[38;5;28;01mfrom\u001B[39;00m \u001B[38;5;21;01mdeepface\u001B[39;00m\u001B[38;5;21;01m.\u001B[39;00m\u001B[38;5;21;01mmodels\u001B[39;00m\u001B[38;5;21;01m.\u001B[39;00m\u001B[38;5;21;01mspoofing\u001B[39;00m \u001B[38;5;28;01mimport\u001B[39;00m FasNet\n",
      "File \u001B[1;32mC:\\StudiaMoje\\Semestr6\\ProjektInżynierski\\.venv\\Lib\\site-packages\\deepface\\models\\face_detection\\RetinaFace.py:3\u001B[0m\n\u001B[0;32m      1\u001B[0m \u001B[38;5;28;01mfrom\u001B[39;00m \u001B[38;5;21;01mtyping\u001B[39;00m \u001B[38;5;28;01mimport\u001B[39;00m List\n\u001B[0;32m      2\u001B[0m \u001B[38;5;28;01mimport\u001B[39;00m \u001B[38;5;21;01mnumpy\u001B[39;00m \u001B[38;5;28;01mas\u001B[39;00m \u001B[38;5;21;01mnp\u001B[39;00m\n\u001B[1;32m----> 3\u001B[0m \u001B[38;5;28;01mfrom\u001B[39;00m \u001B[38;5;21;01mretinaface\u001B[39;00m \u001B[38;5;28;01mimport\u001B[39;00m RetinaFace \u001B[38;5;28;01mas\u001B[39;00m rf\n\u001B[0;32m      4\u001B[0m \u001B[38;5;28;01mfrom\u001B[39;00m \u001B[38;5;21;01mdeepface\u001B[39;00m\u001B[38;5;21;01m.\u001B[39;00m\u001B[38;5;21;01mmodels\u001B[39;00m\u001B[38;5;21;01m.\u001B[39;00m\u001B[38;5;21;01mDetector\u001B[39;00m \u001B[38;5;28;01mimport\u001B[39;00m Detector, FacialAreaRegion\n\u001B[0;32m      6\u001B[0m \u001B[38;5;66;03m# pylint: disable=too-few-public-methods\u001B[39;00m\n",
      "File \u001B[1;32mC:\\StudiaMoje\\Semestr6\\ProjektInżynierski\\.venv\\Lib\\site-packages\\retinaface\\RetinaFace.py:20\u001B[0m\n\u001B[0;32m     17\u001B[0m \u001B[38;5;28;01mfrom\u001B[39;00m \u001B[38;5;21;01mretinaface\u001B[39;00m\u001B[38;5;21;01m.\u001B[39;00m\u001B[38;5;21;01mcommons\u001B[39;00m \u001B[38;5;28;01mimport\u001B[39;00m package_utils\n\u001B[0;32m     19\u001B[0m \u001B[38;5;66;03m# users should install tf_keras package if they are using tf 2.16 or later versions\u001B[39;00m\n\u001B[1;32m---> 20\u001B[0m \u001B[43mpackage_utils\u001B[49m\u001B[38;5;241;43m.\u001B[39;49m\u001B[43mvalidate_for_keras3\u001B[49m\u001B[43m(\u001B[49m\u001B[43m)\u001B[49m\n\u001B[0;32m     22\u001B[0m logger \u001B[38;5;241m=\u001B[39m Logger(module\u001B[38;5;241m=\u001B[39m\u001B[38;5;124m\"\u001B[39m\u001B[38;5;124mretinaface/RetinaFace.py\u001B[39m\u001B[38;5;124m\"\u001B[39m)\n\u001B[0;32m     24\u001B[0m \u001B[38;5;66;03m# pylint: disable=global-variable-undefined, no-name-in-module, unused-import, too-many-locals, redefined-outer-name, too-many-statements, too-many-arguments\u001B[39;00m\n\u001B[0;32m     25\u001B[0m \n\u001B[0;32m     26\u001B[0m \u001B[38;5;66;03m# ---------------------------\u001B[39;00m\n\u001B[0;32m     27\u001B[0m \n\u001B[0;32m     28\u001B[0m \u001B[38;5;66;03m# configurations\u001B[39;00m\n",
      "File \u001B[1;32mC:\\StudiaMoje\\Semestr6\\ProjektInżynierski\\.venv\\Lib\\site-packages\\retinaface\\commons\\package_utils.py:24\u001B[0m, in \u001B[0;36mvalidate_for_keras3\u001B[1;34m()\u001B[0m\n\u001B[0;32m     21\u001B[0m     logger\u001B[38;5;241m.\u001B[39mdebug(\u001B[38;5;124mf\u001B[39m\u001B[38;5;124m\"\u001B[39m\u001B[38;5;124mtf_keras is already available - \u001B[39m\u001B[38;5;132;01m{\u001B[39;00mtf_keras\u001B[38;5;241m.\u001B[39m__version__\u001B[38;5;132;01m}\u001B[39;00m\u001B[38;5;124m\"\u001B[39m)\n\u001B[0;32m     22\u001B[0m \u001B[38;5;28;01mexcept\u001B[39;00m \u001B[38;5;167;01mImportError\u001B[39;00m \u001B[38;5;28;01mas\u001B[39;00m err:\n\u001B[0;32m     23\u001B[0m     \u001B[38;5;66;03m# you may consider to install that package here\u001B[39;00m\n\u001B[1;32m---> 24\u001B[0m     \u001B[38;5;28;01mraise\u001B[39;00m \u001B[38;5;167;01mValueError\u001B[39;00m(\n\u001B[0;32m     25\u001B[0m         \u001B[38;5;124mf\u001B[39m\u001B[38;5;124m\"\u001B[39m\u001B[38;5;124mYou have tensorflow \u001B[39m\u001B[38;5;132;01m{\u001B[39;00mtf\u001B[38;5;241m.\u001B[39m__version__\u001B[38;5;132;01m}\u001B[39;00m\u001B[38;5;124m and this requires \u001B[39m\u001B[38;5;124m\"\u001B[39m\n\u001B[0;32m     26\u001B[0m         \u001B[38;5;124m\"\u001B[39m\u001B[38;5;124mtf-keras package. Please run `pip install tf-keras` \u001B[39m\u001B[38;5;124m\"\u001B[39m\n\u001B[0;32m     27\u001B[0m         \u001B[38;5;124m\"\u001B[39m\u001B[38;5;124mor downgrade your tensorflow.\u001B[39m\u001B[38;5;124m\"\u001B[39m\n\u001B[0;32m     28\u001B[0m     ) \u001B[38;5;28;01mfrom\u001B[39;00m \u001B[38;5;21;01merr\u001B[39;00m\n",
      "\u001B[1;31mValueError\u001B[0m: You have tensorflow 2.18.0 and this requires tf-keras package. Please run `pip install tf-keras` or downgrade your tensorflow."
     ]
    }
   ],
   "execution_count": 1
  },
  {
   "metadata": {
    "ExecuteTime": {
     "end_time": "2024-11-18T17:23:11.463568Z",
     "start_time": "2024-11-18T17:23:11.459663Z"
    }
   },
   "cell_type": "code",
   "source": [
    "import numpy as np\n",
    "import pandas as pd\n",
    "import tensorflow as tf\n",
    "import glob\n",
    "from sklearn.model_selection import train_test_split\n",
    "import os"
   ],
   "id": "d9c56d637ad6750d",
   "outputs": [],
   "execution_count": 21
  },
  {
   "metadata": {
    "ExecuteTime": {
     "end_time": "2024-11-18T15:49:59.009245Z",
     "start_time": "2024-11-18T15:49:55.627242Z"
    }
   },
   "cell_type": "code",
   "source": [
    "input_files = sorted(\n",
    "    glob.glob('//153.19.52.107/emboa/IO3-sessions/NEW STRUCTURE/de-earlyfusionthesis/GUT/*_input.csv') + \n",
    "    glob.glob('//153.19.52.107/emboa/IO3-sessions/NEW STRUCTURE/de-earlyfusionthesis/ITU-YU/*_input.csv') + \n",
    "    glob.glob('//153.19.52.107/emboa/IO3-sessions/NEW STRUCTURE/de-earlyfusionthesis/MAAP/*_input.csv')\n",
    "    )\n",
    "label_files = sorted(\n",
    "    glob.glob('//153.19.52.107/emboa/IO3-sessions/NEW STRUCTURE/de-earlyfusionthesis/GUT/*_BORIS.csv') +\n",
    "    glob.glob('//153.19.52.107/emboa/IO3-sessions/NEW STRUCTURE/de-earlyfusionthesis/ITU-YU/*_BORIS.csv') +\n",
    "    glob.glob('//153.19.52.107/emboa/IO3-sessions/NEW STRUCTURE/de-earlyfusionthesis/MAAP/*_BORIS.csv')\n",
    "    )\n",
    "\n",
    "# First pass to calculate global mean and std\n"
   ],
   "id": "91ea4036d64ca1f6",
   "outputs": [],
   "execution_count": 3
  },
  {
   "metadata": {
    "ExecuteTime": {
     "end_time": "2024-11-18T17:19:07.331001Z",
     "start_time": "2024-11-18T17:19:07.319497Z"
    }
   },
   "cell_type": "code",
   "source": [
    "def get_train_test_splitted_data(label_files, input_files, global_mean, global_std, test_size=0.2, random_state=42):\n",
    "    # Initialize lists to hold all sequences\n",
    "    all_x_sequences = []\n",
    "    all_y_sequences = []\n",
    "\n",
    "    # Process each pair of input and label files\n",
    "    for input_file, label_file in zip(input_files, label_files):\n",
    "        # Load data\n",
    "        input_df = pd.read_csv(input_file)\n",
    "        label_df = pd.read_csv(label_file)\n",
    "\n",
    "        # Prepare features and labels\n",
    "        features = (input_df.values - global_mean) / global_std\n",
    "        labels = label_df.values / 100\n",
    "\n",
    "        # Ensure alignment of frames\n",
    "        if features.shape[0] != labels.shape[0]:\n",
    "            print(f\"Mismatch in frames: {input_file}, {label_file}\")\n",
    "            continue\n",
    "\n",
    "        # Sample sequences\n",
    "        x_sequences, y_sequences = create_sequences(features, labels, SEQUENCE_LENGTH, STRIDE)\n",
    "\n",
    "        # Append to global lists\n",
    "        all_x_sequences.append(x_sequences)\n",
    "        all_y_sequences.append(y_sequences)\n",
    "\n",
    "    # Concatenate all sequences from all files\n",
    "    all_x_sequences = np.concatenate(all_x_sequences, axis=0)\n",
    "    all_y_sequences = np.concatenate(all_y_sequences, axis=0)\n",
    "\n",
    "    # Split into train and test sets\n",
    "    X_train, X_test, y_train, y_test = train_test_split(\n",
    "        all_x_sequences, all_y_sequences, test_size=test_size, random_state=random_state\n",
    "    )\n",
    "\n",
    "    # Convert to TensorFlow datasets\n",
    "    train_dataset = tf.data.Dataset.from_tensor_slices((X_train, y_train))\n",
    "    test_dataset = tf.data.Dataset.from_tensor_slices((X_test, y_test))\n",
    "\n",
    "    # Shuffle, batch, and prefetch\n",
    "    train_dataset = train_dataset.shuffle(buffer_size=10000).batch(BATCH_SIZE).prefetch(tf.data.experimental.AUTOTUNE)\n",
    "    test_dataset = test_dataset.batch(BATCH_SIZE).prefetch(tf.data.experimental.AUTOTUNE)\n",
    "\n",
    "    return train_dataset, test_dataset"
   ],
   "id": "ae434e5ae1f7eb17",
   "outputs": [],
   "execution_count": 17
  },
  {
   "metadata": {
    "ExecuteTime": {
     "end_time": "2024-11-18T17:20:43.137951Z",
     "start_time": "2024-11-18T17:19:09.077778Z"
    }
   },
   "cell_type": "code",
   "source": [
    "# Constants\n",
    "SEQUENCE_LENGTH = 10\n",
    "STRIDE = 5\n",
    "BATCH_SIZE = 32\n",
    "\n",
    "# Helper function to create random sequences\n",
    "def create_sequences(features, labels, sequence_length, stride):\n",
    "    x_sequences, y_sequences = [], []\n",
    "    for i in range(0, len(features) - sequence_length + 1, stride):\n",
    "        x_sequences.append(features[i:i + sequence_length])\n",
    "        y_sequences.append(labels[i:i + sequence_length])\n",
    "    return np.array(x_sequences), np.array(y_sequences)\n",
    "\n",
    "# Initialize lists to hold all sequences\n",
    "all_x_sequences = []\n",
    "all_y_sequences = []\n",
    "all_features = []\n",
    "\n",
    "sources = [\"GUT\", \"ITU-YU\", \"MAAP\"]\n",
    "base_path = \"//153.19.52.107/emboa/IO3-sessions/NEW STRUCTURE/de-earlyfusionthesis/\"\n",
    "input_files, label_files = [], []\n",
    "\n",
    "for source in sources:\n",
    "    input_files.extend(glob.glob(os.path.join(base_path, source, '*_input.csv')))\n",
    "    label_files.extend(glob.glob(os.path.join(base_path, source, '*_BORIS.csv')))\n",
    "\n",
    "input_files.sort()\n",
    "label_files.sort()\n",
    "\n",
    "\n",
    "for input_file in input_files:\n",
    "    input_df = pd.read_csv(input_file)\n",
    "    all_features.append(input_df.values)\n",
    "\n",
    "# Concatenate all features from all files to compute global mean and std\n",
    "all_features = np.concatenate(all_features, axis=0)\n",
    "global_mean = all_features.mean(axis=0)\n",
    "global_std = all_features.std(axis=0)\n",
    "\n",
    "# Ensure no division by zero\n",
    "global_std[global_std == 0] = 1\n",
    "\n",
    "GUT_path_input = sorted(glob.glob('//153.19.52.107/emboa/IO3-sessions/NEW STRUCTURE/de-earlyfusionthesis/GUT/*_input.csv'))\n",
    "ITU_YU_path_input = sorted(glob.glob('//153.19.52.107/emboa/IO3-sessions/NEW STRUCTURE/de-earlyfusionthesis/ITU-YU/*_input.csv'))\n",
    "MAAP_path_input = sorted(glob.glob('//153.19.52.107/emboa/IO3-sessions/NEW STRUCTURE/de-earlyfusionthesis/MAAP/*_input.csv'))\n",
    "\n",
    "GUT_path_label = sorted(glob.glob('//153.19.52.107/emboa/IO3-sessions/NEW STRUCTURE/de-earlyfusionthesis/GUT/*_BORIS.csv'))\n",
    "ITU_YU_path_label = sorted(glob.glob('//153.19.52.107/emboa/IO3-sessions/NEW STRUCTURE/de-earlyfusionthesis/ITU-YU/*_BORIS.csv'))\n",
    "MAAP_path_label = sorted(glob.glob('//153.19.52.107/emboa/IO3-sessions/NEW STRUCTURE/de-earlyfusionthesis/MAAP/*_BORIS.csv'))\n",
    "\n",
    "GUT_train, GUT_test = get_train_test_splitted_data(GUT_path_label, GUT_path_input, global_mean, global_std, test_size=0.3)\n",
    "ITU_YU_train, ITU_YU_test = get_train_test_splitted_data(ITU_YU_path_label, ITU_YU_path_input, global_mean, global_std, test_size=0.3)\n",
    "MAAP_train, MAAP_test = get_train_test_splitted_data(MAAP_path_label, MAAP_path_input, global_mean, global_std, test_size=0.3)\n",
    "\n",
    "dataset = GUT_train.concatenate(ITU_YU_train).concatenate(MAAP_train)\n",
    "\n",
    "# Verify the dataset\n",
    "for x_batch, y_batch in dataset.take(1):\n",
    "    print(f'Feature batch shape: {x_batch.shape}')\n",
    "    print(f'Label batch shape: {y_batch.shape}')\n"
   ],
   "id": "3269ede97309fd73",
   "outputs": [
    {
     "name": "stdout",
     "output_type": "stream",
     "text": [
      "Feature batch shape: (32, 10, 515)\n",
      "Label batch shape: (32, 10, 6)\n"
     ]
    }
   ],
   "execution_count": 18
  },
  {
   "metadata": {
    "ExecuteTime": {
     "end_time": "2024-11-18T18:06:47.334936Z",
     "start_time": "2024-11-18T18:05:26.484199Z"
    }
   },
   "cell_type": "code",
   "source": [
    "path = r'Z:\\IO3-sessions\\NEW STRUCTURE\\de-earlyfusionthesis\\Datasets'\n",
    "tf.data.experimental.save(dataset ,os.path.join(path, 'train_dataset'))\n",
    "tf.data.experimental.save(GUT_train, os.path.join(path, 'GUT_train'))\n",
    "tf.data.experimental.save(GUT_test, os.path.join(path, 'GUT_test'))\n",
    "tf.data.experimental.save(ITU_YU_train, os.path.join(path, 'ITU_YU_train'))\n",
    "tf.data.experimental.save(ITU_YU_test, os.path.join(path, 'ITU_YU_test'))\n",
    "tf.data.experimental.save(MAAP_train, os.path.join(path, 'MAAP_train'))\n",
    "tf.data.experimental.save(MAAP_test, os.path.join(path, 'MAAP_test'))"
   ],
   "id": "aa09b06f19e78fe6",
   "outputs": [],
   "execution_count": 49
  },
  {
   "metadata": {
    "ExecuteTime": {
     "end_time": "2024-11-11T14:36:59.369828Z",
     "start_time": "2024-11-11T14:36:59.354362Z"
    }
   },
   "cell_type": "code",
   "source": "dataset.cardinality().numpy()",
   "id": "505f7568b967b339",
   "outputs": [
    {
     "data": {
      "text/plain": [
       "320"
      ]
     },
     "execution_count": 8,
     "metadata": {},
     "output_type": "execute_result"
    }
   ],
   "execution_count": 8
  },
  {
   "metadata": {
    "ExecuteTime": {
     "end_time": "2024-11-18T17:22:38.346588Z",
     "start_time": "2024-11-18T17:22:38.252728Z"
    }
   },
   "cell_type": "code",
   "source": [
    "for x_batch, y_batch in dataset.take(30):\n",
    "    print(f'Feature batch shape: {x_batch.shape}')\n",
    "    print(f'Label batch shape: {y_batch.shape}')"
   ],
   "id": "f5858e51c3ae1e4",
   "outputs": [
    {
     "name": "stdout",
     "output_type": "stream",
     "text": [
      "Feature batch shape: (32, 10, 515)\n",
      "Label batch shape: (32, 10, 6)\n",
      "Feature batch shape: (32, 10, 515)\n",
      "Label batch shape: (32, 10, 6)\n",
      "Feature batch shape: (32, 10, 515)\n",
      "Label batch shape: (32, 10, 6)\n",
      "Feature batch shape: (32, 10, 515)\n",
      "Label batch shape: (32, 10, 6)\n",
      "Feature batch shape: (32, 10, 515)\n",
      "Label batch shape: (32, 10, 6)\n",
      "Feature batch shape: (32, 10, 515)\n",
      "Label batch shape: (32, 10, 6)\n",
      "Feature batch shape: (32, 10, 515)\n",
      "Label batch shape: (32, 10, 6)\n",
      "Feature batch shape: (32, 10, 515)\n",
      "Label batch shape: (32, 10, 6)\n",
      "Feature batch shape: (32, 10, 515)\n",
      "Label batch shape: (32, 10, 6)\n",
      "Feature batch shape: (32, 10, 515)\n",
      "Label batch shape: (32, 10, 6)\n",
      "Feature batch shape: (32, 10, 515)\n",
      "Label batch shape: (32, 10, 6)\n",
      "Feature batch shape: (32, 10, 515)\n",
      "Label batch shape: (32, 10, 6)\n",
      "Feature batch shape: (32, 10, 515)\n",
      "Label batch shape: (32, 10, 6)\n",
      "Feature batch shape: (32, 10, 515)\n",
      "Label batch shape: (32, 10, 6)\n",
      "Feature batch shape: (32, 10, 515)\n",
      "Label batch shape: (32, 10, 6)\n",
      "Feature batch shape: (32, 10, 515)\n",
      "Label batch shape: (32, 10, 6)\n",
      "Feature batch shape: (32, 10, 515)\n",
      "Label batch shape: (32, 10, 6)\n",
      "Feature batch shape: (32, 10, 515)\n",
      "Label batch shape: (32, 10, 6)\n",
      "Feature batch shape: (32, 10, 515)\n",
      "Label batch shape: (32, 10, 6)\n",
      "Feature batch shape: (32, 10, 515)\n",
      "Label batch shape: (32, 10, 6)\n",
      "Feature batch shape: (15, 10, 515)\n",
      "Label batch shape: (15, 10, 6)\n",
      "Feature batch shape: (32, 10, 515)\n",
      "Label batch shape: (32, 10, 6)\n",
      "Feature batch shape: (32, 10, 515)\n",
      "Label batch shape: (32, 10, 6)\n",
      "Feature batch shape: (32, 10, 515)\n",
      "Label batch shape: (32, 10, 6)\n",
      "Feature batch shape: (32, 10, 515)\n",
      "Label batch shape: (32, 10, 6)\n",
      "Feature batch shape: (32, 10, 515)\n",
      "Label batch shape: (32, 10, 6)\n",
      "Feature batch shape: (32, 10, 515)\n",
      "Label batch shape: (32, 10, 6)\n",
      "Feature batch shape: (32, 10, 515)\n",
      "Label batch shape: (32, 10, 6)\n",
      "Feature batch shape: (32, 10, 515)\n",
      "Label batch shape: (32, 10, 6)\n",
      "Feature batch shape: (32, 10, 515)\n",
      "Label batch shape: (32, 10, 6)\n"
     ]
    }
   ],
   "execution_count": 19
  },
  {
   "metadata": {
    "ExecuteTime": {
     "end_time": "2024-11-18T18:16:54.996674Z",
     "start_time": "2024-11-18T18:16:54.992673Z"
    }
   },
   "cell_type": "code",
   "source": [
    "INPUT_DIM = 515  # Number of features per frame (e.g., biosignals + embeddings)\n",
    "OUTPUT_DIM = 6 "
   ],
   "id": "43fbf8a83f3cc8ef",
   "outputs": [],
   "execution_count": 51
  },
  {
   "metadata": {
    "ExecuteTime": {
     "end_time": "2024-11-18T18:17:00.962573Z",
     "start_time": "2024-11-18T18:17:00.769514Z"
    }
   },
   "cell_type": "code",
   "source": [
    "model = tf.keras.Sequential([\n",
    "    tf.keras.layers.Input(shape=(SEQUENCE_LENGTH, INPUT_DIM)),    # Input shape: (sequence_length, features)\n",
    "    tf.keras.layers.LSTM(64, return_sequences=True),              # LSTM layer to capture temporal patterns\n",
    "    tf.keras.layers.Dense(32, activation='relu'),                 # Dense layer to reduce dimensionality\n",
    "    tf.keras.layers.Dense(OUTPUT_DIM, activation='sigmoid')       # Output layer with sigmoid for continuous values between 0 and 1\n",
    "])"
   ],
   "id": "8ae51ea52a2bf3b6",
   "outputs": [],
   "execution_count": 52
  },
  {
   "metadata": {
    "ExecuteTime": {
     "end_time": "2024-11-18T18:18:21.559541Z",
     "start_time": "2024-11-18T18:18:21.523935Z"
    }
   },
   "cell_type": "code",
   "source": "model.compile(optimizer='adam', loss='mean_squared_error', metrics=['mae'])",
   "id": "372ce70cf7533e58",
   "outputs": [],
   "execution_count": 53
  },
  {
   "metadata": {
    "ExecuteTime": {
     "end_time": "2024-11-18T18:23:09.580504Z",
     "start_time": "2024-11-18T18:21:50.445898Z"
    }
   },
   "cell_type": "code",
   "source": "history = model.fit(dataset, epochs=50)",
   "id": "90c6f6be681e7739",
   "outputs": [
    {
     "name": "stdout",
     "output_type": "stream",
     "text": [
      "Epoch 1/50\n",
      "\u001B[1m225/225\u001B[0m \u001B[32m━━━━━━━━━━━━━━━━━━━━\u001B[0m\u001B[37m\u001B[0m \u001B[1m3s\u001B[0m 7ms/step - loss: 0.0922 - mae: 0.2263\n",
      "Epoch 2/50\n",
      "\u001B[1m225/225\u001B[0m \u001B[32m━━━━━━━━━━━━━━━━━━━━\u001B[0m\u001B[37m\u001B[0m \u001B[1m1s\u001B[0m 6ms/step - loss: 0.0359 - mae: 0.0771\n",
      "Epoch 3/50\n",
      "\u001B[1m225/225\u001B[0m \u001B[32m━━━━━━━━━━━━━━━━━━━━\u001B[0m\u001B[37m\u001B[0m \u001B[1m2s\u001B[0m 7ms/step - loss: 0.0339 - mae: 0.0707\n",
      "Epoch 4/50\n",
      "\u001B[1m225/225\u001B[0m \u001B[32m━━━━━━━━━━━━━━━━━━━━\u001B[0m\u001B[37m\u001B[0m \u001B[1m1s\u001B[0m 6ms/step - loss: 0.0324 - mae: 0.0672\n",
      "Epoch 5/50\n",
      "\u001B[1m225/225\u001B[0m \u001B[32m━━━━━━━━━━━━━━━━━━━━\u001B[0m\u001B[37m\u001B[0m \u001B[1m1s\u001B[0m 6ms/step - loss: 0.0314 - mae: 0.0639\n",
      "Epoch 6/50\n",
      "\u001B[1m225/225\u001B[0m \u001B[32m━━━━━━━━━━━━━━━━━━━━\u001B[0m\u001B[37m\u001B[0m \u001B[1m1s\u001B[0m 6ms/step - loss: 0.0301 - mae: 0.0625\n",
      "Epoch 7/50\n",
      "\u001B[1m225/225\u001B[0m \u001B[32m━━━━━━━━━━━━━━━━━━━━\u001B[0m\u001B[37m\u001B[0m \u001B[1m1s\u001B[0m 6ms/step - loss: 0.0291 - mae: 0.0615\n",
      "Epoch 8/50\n",
      "\u001B[1m225/225\u001B[0m \u001B[32m━━━━━━━━━━━━━━━━━━━━\u001B[0m\u001B[37m\u001B[0m \u001B[1m1s\u001B[0m 6ms/step - loss: 0.0284 - mae: 0.0590\n",
      "Epoch 9/50\n",
      "\u001B[1m225/225\u001B[0m \u001B[32m━━━━━━━━━━━━━━━━━━━━\u001B[0m\u001B[37m\u001B[0m \u001B[1m1s\u001B[0m 6ms/step - loss: 0.0279 - mae: 0.0579\n",
      "Epoch 10/50\n",
      "\u001B[1m225/225\u001B[0m \u001B[32m━━━━━━━━━━━━━━━━━━━━\u001B[0m\u001B[37m\u001B[0m \u001B[1m1s\u001B[0m 6ms/step - loss: 0.0272 - mae: 0.0560\n",
      "Epoch 11/50\n",
      "\u001B[1m225/225\u001B[0m \u001B[32m━━━━━━━━━━━━━━━━━━━━\u001B[0m\u001B[37m\u001B[0m \u001B[1m1s\u001B[0m 6ms/step - loss: 0.0265 - mae: 0.0537\n",
      "Epoch 12/50\n",
      "\u001B[1m225/225\u001B[0m \u001B[32m━━━━━━━━━━━━━━━━━━━━\u001B[0m\u001B[37m\u001B[0m \u001B[1m1s\u001B[0m 6ms/step - loss: 0.0261 - mae: 0.0530\n",
      "Epoch 13/50\n",
      "\u001B[1m225/225\u001B[0m \u001B[32m━━━━━━━━━━━━━━━━━━━━\u001B[0m\u001B[37m\u001B[0m \u001B[1m2s\u001B[0m 7ms/step - loss: 0.0251 - mae: 0.0515\n",
      "Epoch 14/50\n",
      "\u001B[1m225/225\u001B[0m \u001B[32m━━━━━━━━━━━━━━━━━━━━\u001B[0m\u001B[37m\u001B[0m \u001B[1m1s\u001B[0m 6ms/step - loss: 0.0245 - mae: 0.0509\n",
      "Epoch 15/50\n",
      "\u001B[1m225/225\u001B[0m \u001B[32m━━━━━━━━━━━━━━━━━━━━\u001B[0m\u001B[37m\u001B[0m \u001B[1m2s\u001B[0m 7ms/step - loss: 0.0244 - mae: 0.0489\n",
      "Epoch 16/50\n",
      "\u001B[1m225/225\u001B[0m \u001B[32m━━━━━━━━━━━━━━━━━━━━\u001B[0m\u001B[37m\u001B[0m \u001B[1m2s\u001B[0m 7ms/step - loss: 0.0232 - mae: 0.0479\n",
      "Epoch 17/50\n",
      "\u001B[1m225/225\u001B[0m \u001B[32m━━━━━━━━━━━━━━━━━━━━\u001B[0m\u001B[37m\u001B[0m \u001B[1m2s\u001B[0m 7ms/step - loss: 0.0234 - mae: 0.0469\n",
      "Epoch 18/50\n",
      "\u001B[1m225/225\u001B[0m \u001B[32m━━━━━━━━━━━━━━━━━━━━\u001B[0m\u001B[37m\u001B[0m \u001B[1m2s\u001B[0m 7ms/step - loss: 0.0242 - mae: 0.0476\n",
      "Epoch 19/50\n",
      "\u001B[1m225/225\u001B[0m \u001B[32m━━━━━━━━━━━━━━━━━━━━\u001B[0m\u001B[37m\u001B[0m \u001B[1m1s\u001B[0m 7ms/step - loss: 0.0224 - mae: 0.0449\n",
      "Epoch 20/50\n",
      "\u001B[1m225/225\u001B[0m \u001B[32m━━━━━━━━━━━━━━━━━━━━\u001B[0m\u001B[37m\u001B[0m \u001B[1m1s\u001B[0m 7ms/step - loss: 0.0221 - mae: 0.0446\n",
      "Epoch 21/50\n",
      "\u001B[1m225/225\u001B[0m \u001B[32m━━━━━━━━━━━━━━━━━━━━\u001B[0m\u001B[37m\u001B[0m \u001B[1m2s\u001B[0m 7ms/step - loss: 0.0214 - mae: 0.0432\n",
      "Epoch 22/50\n",
      "\u001B[1m225/225\u001B[0m \u001B[32m━━━━━━━━━━━━━━━━━━━━\u001B[0m\u001B[37m\u001B[0m \u001B[1m1s\u001B[0m 7ms/step - loss: 0.0212 - mae: 0.0428\n",
      "Epoch 23/50\n",
      "\u001B[1m225/225\u001B[0m \u001B[32m━━━━━━━━━━━━━━━━━━━━\u001B[0m\u001B[37m\u001B[0m \u001B[1m2s\u001B[0m 7ms/step - loss: 0.0212 - mae: 0.0427\n",
      "Epoch 24/50\n",
      "\u001B[1m225/225\u001B[0m \u001B[32m━━━━━━━━━━━━━━━━━━━━\u001B[0m\u001B[37m\u001B[0m \u001B[1m2s\u001B[0m 7ms/step - loss: 0.0205 - mae: 0.0415\n",
      "Epoch 25/50\n",
      "\u001B[1m225/225\u001B[0m \u001B[32m━━━━━━━━━━━━━━━━━━━━\u001B[0m\u001B[37m\u001B[0m \u001B[1m2s\u001B[0m 7ms/step - loss: 0.0202 - mae: 0.0412\n",
      "Epoch 26/50\n",
      "\u001B[1m225/225\u001B[0m \u001B[32m━━━━━━━━━━━━━━━━━━━━\u001B[0m\u001B[37m\u001B[0m \u001B[1m2s\u001B[0m 7ms/step - loss: 0.0201 - mae: 0.0399\n",
      "Epoch 27/50\n",
      "\u001B[1m225/225\u001B[0m \u001B[32m━━━━━━━━━━━━━━━━━━━━\u001B[0m\u001B[37m\u001B[0m \u001B[1m2s\u001B[0m 7ms/step - loss: 0.0197 - mae: 0.0394\n",
      "Epoch 28/50\n",
      "\u001B[1m225/225\u001B[0m \u001B[32m━━━━━━━━━━━━━━━━━━━━\u001B[0m\u001B[37m\u001B[0m \u001B[1m2s\u001B[0m 7ms/step - loss: 0.0200 - mae: 0.0397\n",
      "Epoch 29/50\n",
      "\u001B[1m225/225\u001B[0m \u001B[32m━━━━━━━━━━━━━━━━━━━━\u001B[0m\u001B[37m\u001B[0m \u001B[1m2s\u001B[0m 7ms/step - loss: 0.0199 - mae: 0.0394\n",
      "Epoch 30/50\n",
      "\u001B[1m225/225\u001B[0m \u001B[32m━━━━━━━━━━━━━━━━━━━━\u001B[0m\u001B[37m\u001B[0m \u001B[1m2s\u001B[0m 7ms/step - loss: 0.0192 - mae: 0.0384\n",
      "Epoch 31/50\n",
      "\u001B[1m225/225\u001B[0m \u001B[32m━━━━━━━━━━━━━━━━━━━━\u001B[0m\u001B[37m\u001B[0m \u001B[1m2s\u001B[0m 7ms/step - loss: 0.0192 - mae: 0.0384\n",
      "Epoch 32/50\n",
      "\u001B[1m225/225\u001B[0m \u001B[32m━━━━━━━━━━━━━━━━━━━━\u001B[0m\u001B[37m\u001B[0m \u001B[1m2s\u001B[0m 7ms/step - loss: 0.0185 - mae: 0.0379\n",
      "Epoch 33/50\n",
      "\u001B[1m225/225\u001B[0m \u001B[32m━━━━━━━━━━━━━━━━━━━━\u001B[0m\u001B[37m\u001B[0m \u001B[1m2s\u001B[0m 7ms/step - loss: 0.0191 - mae: 0.0379\n",
      "Epoch 34/50\n",
      "\u001B[1m225/225\u001B[0m \u001B[32m━━━━━━━━━━━━━━━━━━━━\u001B[0m\u001B[37m\u001B[0m \u001B[1m2s\u001B[0m 7ms/step - loss: 0.0188 - mae: 0.0372\n",
      "Epoch 35/50\n",
      "\u001B[1m225/225\u001B[0m \u001B[32m━━━━━━━━━━━━━━━━━━━━\u001B[0m\u001B[37m\u001B[0m \u001B[1m2s\u001B[0m 7ms/step - loss: 0.0186 - mae: 0.0371\n",
      "Epoch 36/50\n",
      "\u001B[1m225/225\u001B[0m \u001B[32m━━━━━━━━━━━━━━━━━━━━\u001B[0m\u001B[37m\u001B[0m \u001B[1m2s\u001B[0m 7ms/step - loss: 0.0197 - mae: 0.0387\n",
      "Epoch 37/50\n",
      "\u001B[1m225/225\u001B[0m \u001B[32m━━━━━━━━━━━━━━━━━━━━\u001B[0m\u001B[37m\u001B[0m \u001B[1m2s\u001B[0m 7ms/step - loss: 0.0188 - mae: 0.0374\n",
      "Epoch 38/50\n",
      "\u001B[1m225/225\u001B[0m \u001B[32m━━━━━━━━━━━━━━━━━━━━\u001B[0m\u001B[37m\u001B[0m \u001B[1m2s\u001B[0m 7ms/step - loss: 0.0183 - mae: 0.0363\n",
      "Epoch 39/50\n",
      "\u001B[1m225/225\u001B[0m \u001B[32m━━━━━━━━━━━━━━━━━━━━\u001B[0m\u001B[37m\u001B[0m \u001B[1m2s\u001B[0m 8ms/step - loss: 0.0177 - mae: 0.0359\n",
      "Epoch 40/50\n",
      "\u001B[1m225/225\u001B[0m \u001B[32m━━━━━━━━━━━━━━━━━━━━\u001B[0m\u001B[37m\u001B[0m \u001B[1m2s\u001B[0m 7ms/step - loss: 0.0182 - mae: 0.0362\n",
      "Epoch 41/50\n",
      "\u001B[1m225/225\u001B[0m \u001B[32m━━━━━━━━━━━━━━━━━━━━\u001B[0m\u001B[37m\u001B[0m \u001B[1m2s\u001B[0m 7ms/step - loss: 0.0180 - mae: 0.0360\n",
      "Epoch 42/50\n",
      "\u001B[1m225/225\u001B[0m \u001B[32m━━━━━━━━━━━━━━━━━━━━\u001B[0m\u001B[37m\u001B[0m \u001B[1m2s\u001B[0m 7ms/step - loss: 0.0173 - mae: 0.0351\n",
      "Epoch 43/50\n",
      "\u001B[1m225/225\u001B[0m \u001B[32m━━━━━━━━━━━━━━━━━━━━\u001B[0m\u001B[37m\u001B[0m \u001B[1m2s\u001B[0m 7ms/step - loss: 0.0182 - mae: 0.0364\n",
      "Epoch 44/50\n",
      "\u001B[1m225/225\u001B[0m \u001B[32m━━━━━━━━━━━━━━━━━━━━\u001B[0m\u001B[37m\u001B[0m \u001B[1m2s\u001B[0m 7ms/step - loss: 0.0177 - mae: 0.0354\n",
      "Epoch 45/50\n",
      "\u001B[1m225/225\u001B[0m \u001B[32m━━━━━━━━━━━━━━━━━━━━\u001B[0m\u001B[37m\u001B[0m \u001B[1m2s\u001B[0m 7ms/step - loss: 0.0171 - mae: 0.0343\n",
      "Epoch 46/50\n",
      "\u001B[1m225/225\u001B[0m \u001B[32m━━━━━━━━━━━━━━━━━━━━\u001B[0m\u001B[37m\u001B[0m \u001B[1m2s\u001B[0m 7ms/step - loss: 0.0176 - mae: 0.0351\n",
      "Epoch 47/50\n",
      "\u001B[1m225/225\u001B[0m \u001B[32m━━━━━━━━━━━━━━━━━━━━\u001B[0m\u001B[37m\u001B[0m \u001B[1m1s\u001B[0m 7ms/step - loss: 0.0171 - mae: 0.0341\n",
      "Epoch 48/50\n",
      "\u001B[1m225/225\u001B[0m \u001B[32m━━━━━━━━━━━━━━━━━━━━\u001B[0m\u001B[37m\u001B[0m \u001B[1m2s\u001B[0m 8ms/step - loss: 0.0166 - mae: 0.0333\n",
      "Epoch 49/50\n",
      "\u001B[1m225/225\u001B[0m \u001B[32m━━━━━━━━━━━━━━━━━━━━\u001B[0m\u001B[37m\u001B[0m \u001B[1m2s\u001B[0m 7ms/step - loss: 0.0175 - mae: 0.0342\n",
      "Epoch 50/50\n",
      "\u001B[1m225/225\u001B[0m \u001B[32m━━━━━━━━━━━━━━━━━━━━\u001B[0m\u001B[37m\u001B[0m \u001B[1m2s\u001B[0m 7ms/step - loss: 0.0169 - mae: 0.0338\n"
     ]
    }
   ],
   "execution_count": 54
  },
  {
   "metadata": {
    "ExecuteTime": {
     "end_time": "2024-11-18T18:25:36.511912Z",
     "start_time": "2024-11-18T18:25:36.250791Z"
    }
   },
   "cell_type": "code",
   "source": [
    "# Make predictions for a few batches\n",
    "for x_batch, y_batch in GUT_test:  # Take 3 batches as an example\n",
    "    predictions = model.predict(x_batch)\n",
    "\n",
    "    print(\"\\nPredicted values:\")\n",
    "    print(predictions[:5])  # Show predictions for the first 5 sequences in the batch\n",
    "    \n",
    "    print(\"\\nActual values:\")\n",
    "    print(y_batch.numpy()[:5])  # Show actual values for the first 5 sequences in the batch\n",
    "\n",
    "    # Break after showing 3 batches\n",
    "    break"
   ],
   "id": "b93a844aa14e5e83",
   "outputs": [
    {
     "name": "stdout",
     "output_type": "stream",
     "text": [
      "\u001B[1m1/1\u001B[0m \u001B[32m━━━━━━━━━━━━━━━━━━━━\u001B[0m\u001B[37m\u001B[0m \u001B[1m0s\u001B[0m 160ms/step\n",
      "\n",
      "Predicted values:\n",
      "[[[3.94352386e-03 1.34392798e-01 1.40392901e-02 6.03646599e-03\n",
      "   1.52632063e-02 1.92120497e-03]\n",
      "  [4.02279850e-03 8.82497355e-02 8.08634236e-03 3.31659913e-02\n",
      "   1.37109328e-02 1.71824591e-03]\n",
      "  [1.25223669e-04 1.35691628e-01 1.74635220e-02 2.03310736e-02\n",
      "   3.61985015e-03 2.43393052e-03]\n",
      "  [2.44009942e-02 6.13778055e-01 2.17348803e-03 4.03376706e-02\n",
      "   4.79427399e-03 2.47836672e-03]\n",
      "  [1.63590461e-02 2.48925284e-01 2.33849557e-03 1.84787698e-02\n",
      "   4.95931366e-03 9.57985059e-04]\n",
      "  [2.05124356e-03 2.68029660e-01 2.78116250e-03 1.62254460e-02\n",
      "   7.86195975e-03 2.31883535e-03]\n",
      "  [2.57170759e-03 3.96721857e-03 9.40022699e-04 7.54383858e-03\n",
      "   9.37459432e-03 7.80111644e-04]\n",
      "  [7.87315774e-04 7.95203540e-03 1.86275283e-03 5.68171823e-03\n",
      "   6.80484530e-03 1.14375236e-03]\n",
      "  [1.03439891e-03 6.16254769e-02 1.83557032e-03 4.49236436e-03\n",
      "   4.04601125e-03 5.38329710e-04]\n",
      "  [3.06354580e-03 5.86372204e-02 1.57044595e-03 4.06839419e-03\n",
      "   3.63630452e-03 4.89075028e-04]]\n",
      "\n",
      " [[8.09361398e-01 1.13062758e-03 3.03630554e-03 1.04459689e-03\n",
      "   4.30794526e-03 4.81355703e-04]\n",
      "  [1.25950754e-01 2.27994239e-03 2.47115176e-03 1.87955855e-03\n",
      "   2.96126795e-03 3.65067914e-04]\n",
      "  [4.45064195e-02 4.24448438e-02 1.20719969e-02 1.35985641e-02\n",
      "   1.03044407e-02 1.39456161e-03]\n",
      "  [6.01368817e-03 1.08339672e-03 1.08350581e-02 4.64418205e-03\n",
      "   1.03271529e-02 8.34781851e-04]\n",
      "  [1.61390491e-02 3.79403937e-04 1.47034437e-03 1.02077879e-03\n",
      "   7.73755461e-03 2.84894952e-04]\n",
      "  [9.94744778e-01 3.47834748e-06 7.08463776e-05 7.68058744e-05\n",
      "   9.70096618e-04 4.69955194e-05]\n",
      "  [5.87810636e-01 1.06661594e-06 2.13069561e-05 1.95605637e-04\n",
      "   4.93446598e-03 2.75230941e-05]\n",
      "  [2.87233055e-01 3.33993812e-05 4.48118080e-05 1.21082754e-04\n",
      "   7.28259515e-03 2.83780118e-05]\n",
      "  [8.85662854e-01 4.05040464e-06 1.10974934e-05 3.86191314e-05\n",
      "   2.61423318e-03 1.26686036e-05]\n",
      "  [2.31499329e-01 1.18104972e-05 1.94217919e-05 1.57560295e-04\n",
      "   6.00126851e-03 3.33032367e-05]]\n",
      "\n",
      " [[8.72014463e-01 4.35416913e-03 1.04494970e-02 4.15563962e-04\n",
      "   2.95327995e-02 1.23528705e-03]\n",
      "  [9.33060348e-01 1.54117541e-03 4.25522681e-03 7.74712098e-05\n",
      "   1.46762962e-02 3.17138154e-04]\n",
      "  [9.35590029e-01 1.13718514e-03 3.20785167e-03 5.13988161e-05\n",
      "   1.48451859e-02 2.33455037e-04]\n",
      "  [9.71711993e-01 5.98594663e-04 2.75108917e-03 3.64827465e-05\n",
      "   1.09948348e-02 1.93481203e-04]\n",
      "  [9.41012502e-01 8.52387573e-04 2.66830367e-03 3.86403881e-05\n",
      "   1.45088341e-02 1.79903567e-04]\n",
      "  [8.06790113e-01 1.36788434e-03 1.62972661e-03 3.19156679e-05\n",
      "   1.61799714e-02 9.57697994e-05]\n",
      "  [5.29303432e-01 7.15660676e-03 4.07208316e-03 1.62553231e-04\n",
      "   4.00270447e-02 3.86947417e-04]\n",
      "  [7.60329187e-01 5.97631792e-03 3.95113230e-03 1.13297574e-04\n",
      "   1.61324237e-02 3.74620402e-04]\n",
      "  [9.16420400e-01 7.77360692e-04 1.27504894e-03 2.26925094e-05\n",
      "   1.23469094e-02 1.01668520e-04]\n",
      "  [8.87678027e-01 1.18357339e-03 1.33903977e-03 2.26071443e-05\n",
      "   1.32348593e-02 9.48466768e-05]]\n",
      "\n",
      " [[4.31019850e-02 1.49310988e-04 7.59369752e-04 4.56703710e-04\n",
      "   9.55480430e-03 2.57241336e-04]\n",
      "  [8.59830081e-02 8.32168909e-04 1.09338714e-03 1.22316729e-03\n",
      "   5.11588110e-03 1.25050102e-03]\n",
      "  [5.30155785e-02 3.26235755e-03 4.75021452e-03 2.72660074e-03\n",
      "   6.49167039e-03 3.54992761e-03]\n",
      "  [3.77459708e-03 9.11710522e-05 4.32748435e-04 2.80229113e-04\n",
      "   4.79798438e-03 2.96632788e-04]\n",
      "  [4.55763862e-02 9.87594714e-04 1.17463758e-03 1.62993895e-03\n",
      "   4.39186161e-03 2.26072408e-03]\n",
      "  [5.04394844e-02 2.17701122e-03 2.69464403e-03 2.83626630e-03\n",
      "   5.90303028e-03 4.03292989e-03]\n",
      "  [2.50291899e-02 2.68313079e-03 2.81749526e-03 3.59322526e-03\n",
      "   6.39263634e-03 5.85615961e-03]\n",
      "  [1.42914616e-02 2.91416096e-03 2.92603462e-03 3.94685054e-03\n",
      "   6.76804408e-03 7.02505279e-03]\n",
      "  [1.12725962e-02 3.25396610e-03 3.14855948e-03 4.02549328e-03\n",
      "   7.06879515e-03 7.69113190e-03]\n",
      "  [1.02969687e-02 3.71516892e-03 3.47742694e-03 4.07094322e-03\n",
      "   7.37815490e-03 8.22957791e-03]]\n",
      "\n",
      " [[2.96936780e-02 1.50407385e-03 5.17885666e-03 2.70559024e-02\n",
      "   3.27310786e-02 1.10176317e-02]\n",
      "  [2.22469270e-01 2.34613090e-05 1.53729424e-03 3.53940902e-03\n",
      "   5.26770577e-03 2.48457398e-03]\n",
      "  [6.33201301e-01 2.05504439e-05 1.42708188e-03 1.17653620e-03\n",
      "   3.19720712e-03 1.41609646e-03]\n",
      "  [1.84340000e-01 4.19857861e-05 3.67582915e-03 2.60312785e-03\n",
      "   7.76315713e-03 2.72910972e-03]\n",
      "  [9.81288433e-01 4.11353312e-06 1.36943505e-04 2.80757842e-04\n",
      "   2.57420074e-03 1.53845249e-04]\n",
      "  [9.08171892e-01 7.30417787e-06 2.21308524e-04 6.17107726e-04\n",
      "   5.45916846e-03 4.31663415e-04]\n",
      "  [9.23687592e-02 5.61795023e-05 3.92961316e-04 2.54424918e-03\n",
      "   2.19498482e-02 8.76536127e-04]\n",
      "  [9.41162825e-01 9.17240977e-03 3.42128724e-02 1.00382091e-02\n",
      "   5.91338100e-03 1.46680372e-02]\n",
      "  [1.49345314e-02 1.32148940e-04 1.64516072e-03 9.11380723e-03\n",
      "   1.34058353e-02 3.70115694e-03]\n",
      "  [1.77569799e-02 3.92295151e-05 3.81514954e-04 5.42826019e-03\n",
      "   1.79386586e-02 1.52400380e-03]]]\n",
      "\n",
      "Actual values:\n",
      "[[[1. 0. 0. 0. 0. 0.]\n",
      "  [0. 0. 0. 0. 0. 0.]\n",
      "  [0. 0. 0. 0. 0. 0.]\n",
      "  [0. 0. 0. 0. 0. 0.]\n",
      "  [0. 0. 0. 0. 0. 0.]\n",
      "  [0. 0. 0. 0. 0. 0.]\n",
      "  [0. 0. 0. 0. 0. 0.]\n",
      "  [0. 0. 0. 0. 0. 0.]\n",
      "  [0. 0. 0. 0. 0. 0.]\n",
      "  [0. 0. 0. 0. 0. 0.]]\n",
      "\n",
      " [[0. 0. 0. 0. 0. 0.]\n",
      "  [0. 0. 0. 0. 0. 0.]\n",
      "  [0. 0. 0. 0. 0. 0.]\n",
      "  [0. 0. 0. 0. 0. 0.]\n",
      "  [0. 0. 0. 0. 0. 0.]\n",
      "  [0. 0. 0. 0. 0. 0.]\n",
      "  [0. 0. 0. 0. 0. 0.]\n",
      "  [0. 0. 0. 0. 0. 0.]\n",
      "  [0. 0. 0. 0. 0. 0.]\n",
      "  [0. 0. 0. 0. 0. 0.]]\n",
      "\n",
      " [[1. 0. 0. 0. 0. 0.]\n",
      "  [0. 0. 0. 0. 0. 0.]\n",
      "  [0. 0. 0. 0. 0. 0.]\n",
      "  [0. 0. 0. 0. 0. 0.]\n",
      "  [0. 0. 0. 0. 0. 0.]\n",
      "  [0. 0. 0. 0. 0. 0.]\n",
      "  [1. 0. 0. 0. 0. 0.]\n",
      "  [1. 0. 0. 0. 0. 0.]\n",
      "  [1. 0. 0. 0. 0. 0.]\n",
      "  [1. 0. 0. 0. 0. 0.]]\n",
      "\n",
      " [[0. 0. 0. 0. 0. 0.]\n",
      "  [0. 0. 0. 0. 0. 0.]\n",
      "  [0. 0. 0. 0. 0. 0.]\n",
      "  [0. 0. 0. 0. 0. 0.]\n",
      "  [0. 0. 0. 0. 0. 0.]\n",
      "  [0. 0. 0. 0. 0. 0.]\n",
      "  [0. 0. 0. 0. 0. 0.]\n",
      "  [0. 0. 0. 0. 0. 0.]\n",
      "  [0. 0. 0. 0. 0. 0.]\n",
      "  [0. 0. 0. 0. 0. 0.]]\n",
      "\n",
      " [[0. 0. 0. 0. 0. 0.]\n",
      "  [0. 0. 0. 0. 0. 0.]\n",
      "  [0. 0. 0. 0. 0. 0.]\n",
      "  [1. 0. 0. 0. 0. 0.]\n",
      "  [1. 0. 0. 0. 0. 0.]\n",
      "  [1. 0. 0. 0. 0. 0.]\n",
      "  [1. 0. 0. 0. 0. 0.]\n",
      "  [1. 0. 0. 0. 0. 0.]\n",
      "  [1. 0. 0. 0. 0. 0.]\n",
      "  [0. 0. 0. 0. 0. 0.]]]\n"
     ]
    }
   ],
   "execution_count": 55
  },
  {
   "metadata": {
    "ExecuteTime": {
     "end_time": "2024-11-18T18:25:58.428789Z",
     "start_time": "2024-11-18T18:25:58.354217Z"
    }
   },
   "cell_type": "code",
   "source": "model.summary()",
   "id": "a934e87493baa466",
   "outputs": [
    {
     "data": {
      "text/plain": [
       "\u001B[1mModel: \"sequential\"\u001B[0m\n"
      ],
      "text/html": [
       "<pre style=\"white-space:pre;overflow-x:auto;line-height:normal;font-family:Menlo,'DejaVu Sans Mono',consolas,'Courier New',monospace\"><span style=\"font-weight: bold\">Model: \"sequential\"</span>\n",
       "</pre>\n"
      ]
     },
     "metadata": {},
     "output_type": "display_data"
    },
    {
     "data": {
      "text/plain": [
       "┏━━━━━━━━━━━━━━━━━━━━━━━━━━━━━━━━━┳━━━━━━━━━━━━━━━━━━━━━━━━┳━━━━━━━━━━━━━━━┓\n",
       "┃\u001B[1m \u001B[0m\u001B[1mLayer (type)                   \u001B[0m\u001B[1m \u001B[0m┃\u001B[1m \u001B[0m\u001B[1mOutput Shape          \u001B[0m\u001B[1m \u001B[0m┃\u001B[1m \u001B[0m\u001B[1m      Param #\u001B[0m\u001B[1m \u001B[0m┃\n",
       "┡━━━━━━━━━━━━━━━━━━━━━━━━━━━━━━━━━╇━━━━━━━━━━━━━━━━━━━━━━━━╇━━━━━━━━━━━━━━━┩\n",
       "│ lstm (\u001B[38;5;33mLSTM\u001B[0m)                     │ (\u001B[38;5;45mNone\u001B[0m, \u001B[38;5;34m10\u001B[0m, \u001B[38;5;34m64\u001B[0m)         │       \u001B[38;5;34m148,480\u001B[0m │\n",
       "├─────────────────────────────────┼────────────────────────┼───────────────┤\n",
       "│ dense (\u001B[38;5;33mDense\u001B[0m)                   │ (\u001B[38;5;45mNone\u001B[0m, \u001B[38;5;34m10\u001B[0m, \u001B[38;5;34m32\u001B[0m)         │         \u001B[38;5;34m2,080\u001B[0m │\n",
       "├─────────────────────────────────┼────────────────────────┼───────────────┤\n",
       "│ dense_1 (\u001B[38;5;33mDense\u001B[0m)                 │ (\u001B[38;5;45mNone\u001B[0m, \u001B[38;5;34m10\u001B[0m, \u001B[38;5;34m6\u001B[0m)          │           \u001B[38;5;34m198\u001B[0m │\n",
       "└─────────────────────────────────┴────────────────────────┴───────────────┘\n"
      ],
      "text/html": [
       "<pre style=\"white-space:pre;overflow-x:auto;line-height:normal;font-family:Menlo,'DejaVu Sans Mono',consolas,'Courier New',monospace\">┏━━━━━━━━━━━━━━━━━━━━━━━━━━━━━━━━━┳━━━━━━━━━━━━━━━━━━━━━━━━┳━━━━━━━━━━━━━━━┓\n",
       "┃<span style=\"font-weight: bold\"> Layer (type)                    </span>┃<span style=\"font-weight: bold\"> Output Shape           </span>┃<span style=\"font-weight: bold\">       Param # </span>┃\n",
       "┡━━━━━━━━━━━━━━━━━━━━━━━━━━━━━━━━━╇━━━━━━━━━━━━━━━━━━━━━━━━╇━━━━━━━━━━━━━━━┩\n",
       "│ lstm (<span style=\"color: #0087ff; text-decoration-color: #0087ff\">LSTM</span>)                     │ (<span style=\"color: #00d7ff; text-decoration-color: #00d7ff\">None</span>, <span style=\"color: #00af00; text-decoration-color: #00af00\">10</span>, <span style=\"color: #00af00; text-decoration-color: #00af00\">64</span>)         │       <span style=\"color: #00af00; text-decoration-color: #00af00\">148,480</span> │\n",
       "├─────────────────────────────────┼────────────────────────┼───────────────┤\n",
       "│ dense (<span style=\"color: #0087ff; text-decoration-color: #0087ff\">Dense</span>)                   │ (<span style=\"color: #00d7ff; text-decoration-color: #00d7ff\">None</span>, <span style=\"color: #00af00; text-decoration-color: #00af00\">10</span>, <span style=\"color: #00af00; text-decoration-color: #00af00\">32</span>)         │         <span style=\"color: #00af00; text-decoration-color: #00af00\">2,080</span> │\n",
       "├─────────────────────────────────┼────────────────────────┼───────────────┤\n",
       "│ dense_1 (<span style=\"color: #0087ff; text-decoration-color: #0087ff\">Dense</span>)                 │ (<span style=\"color: #00d7ff; text-decoration-color: #00d7ff\">None</span>, <span style=\"color: #00af00; text-decoration-color: #00af00\">10</span>, <span style=\"color: #00af00; text-decoration-color: #00af00\">6</span>)          │           <span style=\"color: #00af00; text-decoration-color: #00af00\">198</span> │\n",
       "└─────────────────────────────────┴────────────────────────┴───────────────┘\n",
       "</pre>\n"
      ]
     },
     "metadata": {},
     "output_type": "display_data"
    },
    {
     "data": {
      "text/plain": [
       "\u001B[1m Total params: \u001B[0m\u001B[38;5;34m452,276\u001B[0m (1.73 MB)\n"
      ],
      "text/html": [
       "<pre style=\"white-space:pre;overflow-x:auto;line-height:normal;font-family:Menlo,'DejaVu Sans Mono',consolas,'Courier New',monospace\"><span style=\"font-weight: bold\"> Total params: </span><span style=\"color: #00af00; text-decoration-color: #00af00\">452,276</span> (1.73 MB)\n",
       "</pre>\n"
      ]
     },
     "metadata": {},
     "output_type": "display_data"
    },
    {
     "data": {
      "text/plain": [
       "\u001B[1m Trainable params: \u001B[0m\u001B[38;5;34m150,758\u001B[0m (588.90 KB)\n"
      ],
      "text/html": [
       "<pre style=\"white-space:pre;overflow-x:auto;line-height:normal;font-family:Menlo,'DejaVu Sans Mono',consolas,'Courier New',monospace\"><span style=\"font-weight: bold\"> Trainable params: </span><span style=\"color: #00af00; text-decoration-color: #00af00\">150,758</span> (588.90 KB)\n",
       "</pre>\n"
      ]
     },
     "metadata": {},
     "output_type": "display_data"
    },
    {
     "data": {
      "text/plain": [
       "\u001B[1m Non-trainable params: \u001B[0m\u001B[38;5;34m0\u001B[0m (0.00 B)\n"
      ],
      "text/html": [
       "<pre style=\"white-space:pre;overflow-x:auto;line-height:normal;font-family:Menlo,'DejaVu Sans Mono',consolas,'Courier New',monospace\"><span style=\"font-weight: bold\"> Non-trainable params: </span><span style=\"color: #00af00; text-decoration-color: #00af00\">0</span> (0.00 B)\n",
       "</pre>\n"
      ]
     },
     "metadata": {},
     "output_type": "display_data"
    },
    {
     "data": {
      "text/plain": [
       "\u001B[1m Optimizer params: \u001B[0m\u001B[38;5;34m301,518\u001B[0m (1.15 MB)\n"
      ],
      "text/html": [
       "<pre style=\"white-space:pre;overflow-x:auto;line-height:normal;font-family:Menlo,'DejaVu Sans Mono',consolas,'Courier New',monospace\"><span style=\"font-weight: bold\"> Optimizer params: </span><span style=\"color: #00af00; text-decoration-color: #00af00\">301,518</span> (1.15 MB)\n",
       "</pre>\n"
      ]
     },
     "metadata": {},
     "output_type": "display_data"
    }
   ],
   "execution_count": 56
  },
  {
   "metadata": {
    "ExecuteTime": {
     "end_time": "2024-11-18T19:10:58.344177Z",
     "start_time": "2024-11-18T19:10:58.333657Z"
    }
   },
   "cell_type": "code",
   "source": "GUT_test",
   "id": "bd105ae2f9947873",
   "outputs": [
    {
     "data": {
      "text/plain": [
       "<_PrefetchDataset element_spec=(TensorSpec(shape=(None, 10, 515), dtype=tf.float64, name=None), TensorSpec(shape=(None, 10, 6), dtype=tf.float64, name=None))>"
      ]
     },
     "execution_count": 67,
     "metadata": {},
     "output_type": "execute_result"
    }
   ],
   "execution_count": 67
  },
  {
   "metadata": {},
   "cell_type": "code",
   "outputs": [],
   "execution_count": null,
   "source": "",
   "id": "737fcba71542a42c"
  },
  {
   "metadata": {
    "ExecuteTime": {
     "end_time": "2024-11-18T19:29:34.396626Z",
     "start_time": "2024-11-18T19:29:34.196230Z"
    }
   },
   "cell_type": "code",
   "source": [
    "# Evaluate the model\n",
    "loss, acc = model.evaluate(MAAP_test, verbose=2)\n",
    "print(\"Untrained model, accuracy: {:5.2f}%\".format(100 * (1-acc)))"
   ],
   "id": "5d5d5465ef467740",
   "outputs": [
    {
     "name": "stdout",
     "output_type": "stream",
     "text": [
      "72/72 - 0s - 3ms/step - loss: 0.0355 - mae: 0.0604\n",
      "Untrained model, accuracy: 93.96%\n"
     ]
    }
   ],
   "execution_count": 72
  },
  {
   "metadata": {
    "ExecuteTime": {
     "end_time": "2024-11-18T18:57:36.830016Z",
     "start_time": "2024-11-18T18:57:36.598876Z"
    }
   },
   "cell_type": "code",
   "source": "model.save(os.path.join(path, 'saved_model/model.keras'))",
   "id": "7e2636e1562c0634",
   "outputs": [],
   "execution_count": 66
  },
  {
   "metadata": {
    "ExecuteTime": {
     "end_time": "2024-11-18T18:26:32.968734Z",
     "start_time": "2024-11-18T18:26:31.204433Z"
    }
   },
   "cell_type": "code",
   "source": [
    "import matplotlib.pyplot as plt\n",
    "\n",
    "# After training, 'history' holds the metrics for each epoch\n",
    "# Plot MAE from the training history\n",
    "\n",
    "# Access 'mae' values for each epoch\n",
    "mae = history.history['mae']  # MAE for training data\n",
    "# If you had validation data, access validation MAE as well\n",
    "# val_mae = history.history['val_mae']\n",
    "\n",
    "# Plot training MAE\n",
    "plt.plot(mae, label='Training MAE')\n",
    "# Uncomment below if you have validation data to compare\n",
    "# plt.plot(val_mae, label='Validation MAE')\n",
    "plt.xlabel('Epoch')\n",
    "plt.ylabel('Mean Absolute Error (MAE)')\n",
    "plt.title('Model MAE over Epochs')\n",
    "plt.legend()\n",
    "plt.grid()\n",
    "plt.show()\n"
   ],
   "id": "142b001988524938",
   "outputs": [
    {
     "data": {
      "text/plain": [
       "<Figure size 640x480 with 1 Axes>"
      ],
      "image/png": "[encoded data removed]"
     },
     "metadata": {},
     "output_type": "display_data"
    }
   ],
   "execution_count": 57
  },
  {
   "metadata": {},
   "cell_type": "code",
   "source": "    ",
   "id": "258108f1a2b068b5",
   "outputs": [],
   "execution_count": null
  }
 ],
 "metadata": {
  "kernelspec": {
   "display_name": "Python 3",
   "language": "python",
   "name": "python3"
  },
  "language_info": {
   "codemirror_mode": {
    "name": "ipython",
    "version": 2
   },
   "file_extension": ".py",
   "mimetype": "text/x-python",
   "name": "python",
   "nbconvert_exporter": "python",
   "pygments_lexer": "ipython2",
   "version": "2.7.6"
  }
 },
 "nbformat": 4,
 "nbformat_minor": 5
}
