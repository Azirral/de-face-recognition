{
 "cells": [
  {
   "metadata": {
    "ExecuteTime": {
     "end_time": "2024-11-08T11:20:52.000566Z",
     "start_time": "2024-11-08T11:20:45.865905Z"
    }
   },
   "cell_type": "code",
   "source": [
    "from deepface import DeepFace\n",
    "import cv2\n",
    "import numpy as np\n",
    "import pandas as pd\n",
    "import csv, os, re, time, logging, cv2, torch\n",
    "from pathlib import Path\n",
    "from importlib.metadata import version\n",
    "from facenet_pytorch import InceptionResnetV1, MTCNN\n",
    "from PIL import Image\n",
    "from moviepy.editor import VideoFileClip"
   ],
   "id": "95b04144a3993352",
   "outputs": [
    {
     "ename": "ValueError",
     "evalue": "You have tensorflow 2.18.0 and this requires tf-keras package. Please run `pip install tf-keras` or downgrade your tensorflow.",
     "output_type": "error",
     "traceback": [
      "\u001B[1;31m---------------------------------------------------------------------------\u001B[0m",
      "\u001B[1;31mModuleNotFoundError\u001B[0m                       Traceback (most recent call last)",
      "File \u001B[1;32mC:\\StudiaMoje\\Semestr6\\ProjektInżynierski\\.venv\\Lib\\site-packages\\retinaface\\commons\\package_utils.py:19\u001B[0m, in \u001B[0;36mvalidate_for_keras3\u001B[1;34m()\u001B[0m\n\u001B[0;32m     18\u001B[0m \u001B[38;5;28;01mtry\u001B[39;00m:\n\u001B[1;32m---> 19\u001B[0m     \u001B[38;5;28;01mimport\u001B[39;00m \u001B[38;5;21;01mtf_keras\u001B[39;00m\n\u001B[0;32m     21\u001B[0m     logger\u001B[38;5;241m.\u001B[39mdebug(\u001B[38;5;124mf\u001B[39m\u001B[38;5;124m\"\u001B[39m\u001B[38;5;124mtf_keras is already available - \u001B[39m\u001B[38;5;132;01m{\u001B[39;00mtf_keras\u001B[38;5;241m.\u001B[39m__version__\u001B[38;5;132;01m}\u001B[39;00m\u001B[38;5;124m\"\u001B[39m)\n",
      "\u001B[1;31mModuleNotFoundError\u001B[0m: No module named 'tf_keras'",
      "\nThe above exception was the direct cause of the following exception:\n",
      "\u001B[1;31mValueError\u001B[0m                                Traceback (most recent call last)",
      "Cell \u001B[1;32mIn[1], line 1\u001B[0m\n\u001B[1;32m----> 1\u001B[0m \u001B[38;5;28;01mfrom\u001B[39;00m \u001B[38;5;21;01mdeepface\u001B[39;00m \u001B[38;5;28;01mimport\u001B[39;00m DeepFace\n\u001B[0;32m      2\u001B[0m \u001B[38;5;28;01mimport\u001B[39;00m \u001B[38;5;21;01mcv2\u001B[39;00m\n\u001B[0;32m      3\u001B[0m \u001B[38;5;28;01mimport\u001B[39;00m \u001B[38;5;21;01mnumpy\u001B[39;00m \u001B[38;5;28;01mas\u001B[39;00m \u001B[38;5;21;01mnp\u001B[39;00m\n",
      "File \u001B[1;32mC:\\StudiaMoje\\Semestr6\\ProjektInżynierski\\.venv\\Lib\\site-packages\\deepface\\DeepFace.py:20\u001B[0m\n\u001B[0;32m     18\u001B[0m \u001B[38;5;28;01mfrom\u001B[39;00m \u001B[38;5;21;01mdeepface\u001B[39;00m\u001B[38;5;21;01m.\u001B[39;00m\u001B[38;5;21;01mcommons\u001B[39;00m \u001B[38;5;28;01mimport\u001B[39;00m package_utils, folder_utils\n\u001B[0;32m     19\u001B[0m \u001B[38;5;28;01mfrom\u001B[39;00m \u001B[38;5;21;01mdeepface\u001B[39;00m\u001B[38;5;21;01m.\u001B[39;00m\u001B[38;5;21;01mcommons\u001B[39;00m\u001B[38;5;21;01m.\u001B[39;00m\u001B[38;5;21;01mlogger\u001B[39;00m \u001B[38;5;28;01mimport\u001B[39;00m Logger\n\u001B[1;32m---> 20\u001B[0m \u001B[38;5;28;01mfrom\u001B[39;00m \u001B[38;5;21;01mdeepface\u001B[39;00m\u001B[38;5;21;01m.\u001B[39;00m\u001B[38;5;21;01mmodules\u001B[39;00m \u001B[38;5;28;01mimport\u001B[39;00m (\n\u001B[0;32m     21\u001B[0m     modeling,\n\u001B[0;32m     22\u001B[0m     representation,\n\u001B[0;32m     23\u001B[0m     verification,\n\u001B[0;32m     24\u001B[0m     recognition,\n\u001B[0;32m     25\u001B[0m     demography,\n\u001B[0;32m     26\u001B[0m     detection,\n\u001B[0;32m     27\u001B[0m     streaming,\n\u001B[0;32m     28\u001B[0m     preprocessing,\n\u001B[0;32m     29\u001B[0m )\n\u001B[0;32m     30\u001B[0m \u001B[38;5;28;01mfrom\u001B[39;00m \u001B[38;5;21;01mdeepface\u001B[39;00m \u001B[38;5;28;01mimport\u001B[39;00m __version__\n\u001B[0;32m     32\u001B[0m logger \u001B[38;5;241m=\u001B[39m Logger()\n",
      "File \u001B[1;32mC:\\StudiaMoje\\Semestr6\\ProjektInżynierski\\.venv\\Lib\\site-packages\\deepface\\modules\\modeling.py:16\u001B[0m\n\u001B[0;32m      4\u001B[0m \u001B[38;5;66;03m# project dependencies\u001B[39;00m\n\u001B[0;32m      5\u001B[0m \u001B[38;5;28;01mfrom\u001B[39;00m \u001B[38;5;21;01mdeepface\u001B[39;00m\u001B[38;5;21;01m.\u001B[39;00m\u001B[38;5;21;01mmodels\u001B[39;00m\u001B[38;5;21;01m.\u001B[39;00m\u001B[38;5;21;01mfacial_recognition\u001B[39;00m \u001B[38;5;28;01mimport\u001B[39;00m (\n\u001B[0;32m      6\u001B[0m     VGGFace,\n\u001B[0;32m      7\u001B[0m     OpenFace,\n\u001B[1;32m   (...)\u001B[0m\n\u001B[0;32m     14\u001B[0m     GhostFaceNet,\n\u001B[0;32m     15\u001B[0m )\n\u001B[1;32m---> 16\u001B[0m \u001B[38;5;28;01mfrom\u001B[39;00m \u001B[38;5;21;01mdeepface\u001B[39;00m\u001B[38;5;21;01m.\u001B[39;00m\u001B[38;5;21;01mmodels\u001B[39;00m\u001B[38;5;21;01m.\u001B[39;00m\u001B[38;5;21;01mface_detection\u001B[39;00m \u001B[38;5;28;01mimport\u001B[39;00m (\n\u001B[0;32m     17\u001B[0m     FastMtCnn,\n\u001B[0;32m     18\u001B[0m     MediaPipe,\n\u001B[0;32m     19\u001B[0m     MtCnn,\n\u001B[0;32m     20\u001B[0m     OpenCv,\n\u001B[0;32m     21\u001B[0m     Dlib \u001B[38;5;28;01mas\u001B[39;00m DlibDetector,\n\u001B[0;32m     22\u001B[0m     RetinaFace,\n\u001B[0;32m     23\u001B[0m     Ssd,\n\u001B[0;32m     24\u001B[0m     Yolo,\n\u001B[0;32m     25\u001B[0m     YuNet,\n\u001B[0;32m     26\u001B[0m     CenterFace,\n\u001B[0;32m     27\u001B[0m )\n\u001B[0;32m     28\u001B[0m \u001B[38;5;28;01mfrom\u001B[39;00m \u001B[38;5;21;01mdeepface\u001B[39;00m\u001B[38;5;21;01m.\u001B[39;00m\u001B[38;5;21;01mmodels\u001B[39;00m\u001B[38;5;21;01m.\u001B[39;00m\u001B[38;5;21;01mdemography\u001B[39;00m \u001B[38;5;28;01mimport\u001B[39;00m Age, Gender, Race, Emotion\n\u001B[0;32m     29\u001B[0m \u001B[38;5;28;01mfrom\u001B[39;00m \u001B[38;5;21;01mdeepface\u001B[39;00m\u001B[38;5;21;01m.\u001B[39;00m\u001B[38;5;21;01mmodels\u001B[39;00m\u001B[38;5;21;01m.\u001B[39;00m\u001B[38;5;21;01mspoofing\u001B[39;00m \u001B[38;5;28;01mimport\u001B[39;00m FasNet\n",
      "File \u001B[1;32mC:\\StudiaMoje\\Semestr6\\ProjektInżynierski\\.venv\\Lib\\site-packages\\deepface\\models\\face_detection\\RetinaFace.py:3\u001B[0m\n\u001B[0;32m      1\u001B[0m \u001B[38;5;28;01mfrom\u001B[39;00m \u001B[38;5;21;01mtyping\u001B[39;00m \u001B[38;5;28;01mimport\u001B[39;00m List\n\u001B[0;32m      2\u001B[0m \u001B[38;5;28;01mimport\u001B[39;00m \u001B[38;5;21;01mnumpy\u001B[39;00m \u001B[38;5;28;01mas\u001B[39;00m \u001B[38;5;21;01mnp\u001B[39;00m\n\u001B[1;32m----> 3\u001B[0m \u001B[38;5;28;01mfrom\u001B[39;00m \u001B[38;5;21;01mretinaface\u001B[39;00m \u001B[38;5;28;01mimport\u001B[39;00m RetinaFace \u001B[38;5;28;01mas\u001B[39;00m rf\n\u001B[0;32m      4\u001B[0m \u001B[38;5;28;01mfrom\u001B[39;00m \u001B[38;5;21;01mdeepface\u001B[39;00m\u001B[38;5;21;01m.\u001B[39;00m\u001B[38;5;21;01mmodels\u001B[39;00m\u001B[38;5;21;01m.\u001B[39;00m\u001B[38;5;21;01mDetector\u001B[39;00m \u001B[38;5;28;01mimport\u001B[39;00m Detector, FacialAreaRegion\n\u001B[0;32m      6\u001B[0m \u001B[38;5;66;03m# pylint: disable=too-few-public-methods\u001B[39;00m\n",
      "File \u001B[1;32mC:\\StudiaMoje\\Semestr6\\ProjektInżynierski\\.venv\\Lib\\site-packages\\retinaface\\RetinaFace.py:20\u001B[0m\n\u001B[0;32m     17\u001B[0m \u001B[38;5;28;01mfrom\u001B[39;00m \u001B[38;5;21;01mretinaface\u001B[39;00m\u001B[38;5;21;01m.\u001B[39;00m\u001B[38;5;21;01mcommons\u001B[39;00m \u001B[38;5;28;01mimport\u001B[39;00m package_utils\n\u001B[0;32m     19\u001B[0m \u001B[38;5;66;03m# users should install tf_keras package if they are using tf 2.16 or later versions\u001B[39;00m\n\u001B[1;32m---> 20\u001B[0m \u001B[43mpackage_utils\u001B[49m\u001B[38;5;241;43m.\u001B[39;49m\u001B[43mvalidate_for_keras3\u001B[49m\u001B[43m(\u001B[49m\u001B[43m)\u001B[49m\n\u001B[0;32m     22\u001B[0m logger \u001B[38;5;241m=\u001B[39m Logger(module\u001B[38;5;241m=\u001B[39m\u001B[38;5;124m\"\u001B[39m\u001B[38;5;124mretinaface/RetinaFace.py\u001B[39m\u001B[38;5;124m\"\u001B[39m)\n\u001B[0;32m     24\u001B[0m \u001B[38;5;66;03m# pylint: disable=global-variable-undefined, no-name-in-module, unused-import, too-many-locals, redefined-outer-name, too-many-statements, too-many-arguments\u001B[39;00m\n\u001B[0;32m     25\u001B[0m \n\u001B[0;32m     26\u001B[0m \u001B[38;5;66;03m# ---------------------------\u001B[39;00m\n\u001B[0;32m     27\u001B[0m \n\u001B[0;32m     28\u001B[0m \u001B[38;5;66;03m# configurations\u001B[39;00m\n",
      "File \u001B[1;32mC:\\StudiaMoje\\Semestr6\\ProjektInżynierski\\.venv\\Lib\\site-packages\\retinaface\\commons\\package_utils.py:24\u001B[0m, in \u001B[0;36mvalidate_for_keras3\u001B[1;34m()\u001B[0m\n\u001B[0;32m     21\u001B[0m     logger\u001B[38;5;241m.\u001B[39mdebug(\u001B[38;5;124mf\u001B[39m\u001B[38;5;124m\"\u001B[39m\u001B[38;5;124mtf_keras is already available - \u001B[39m\u001B[38;5;132;01m{\u001B[39;00mtf_keras\u001B[38;5;241m.\u001B[39m__version__\u001B[38;5;132;01m}\u001B[39;00m\u001B[38;5;124m\"\u001B[39m)\n\u001B[0;32m     22\u001B[0m \u001B[38;5;28;01mexcept\u001B[39;00m \u001B[38;5;167;01mImportError\u001B[39;00m \u001B[38;5;28;01mas\u001B[39;00m err:\n\u001B[0;32m     23\u001B[0m     \u001B[38;5;66;03m# you may consider to install that package here\u001B[39;00m\n\u001B[1;32m---> 24\u001B[0m     \u001B[38;5;28;01mraise\u001B[39;00m \u001B[38;5;167;01mValueError\u001B[39;00m(\n\u001B[0;32m     25\u001B[0m         \u001B[38;5;124mf\u001B[39m\u001B[38;5;124m\"\u001B[39m\u001B[38;5;124mYou have tensorflow \u001B[39m\u001B[38;5;132;01m{\u001B[39;00mtf\u001B[38;5;241m.\u001B[39m__version__\u001B[38;5;132;01m}\u001B[39;00m\u001B[38;5;124m and this requires \u001B[39m\u001B[38;5;124m\"\u001B[39m\n\u001B[0;32m     26\u001B[0m         \u001B[38;5;124m\"\u001B[39m\u001B[38;5;124mtf-keras package. Please run `pip install tf-keras` \u001B[39m\u001B[38;5;124m\"\u001B[39m\n\u001B[0;32m     27\u001B[0m         \u001B[38;5;124m\"\u001B[39m\u001B[38;5;124mor downgrade your tensorflow.\u001B[39m\u001B[38;5;124m\"\u001B[39m\n\u001B[0;32m     28\u001B[0m     ) \u001B[38;5;28;01mfrom\u001B[39;00m \u001B[38;5;21;01merr\u001B[39;00m\n",
      "\u001B[1;31mValueError\u001B[0m: You have tensorflow 2.18.0 and this requires tf-keras package. Please run `pip install tf-keras` or downgrade your tensorflow."
     ]
    }
   ],
   "execution_count": 1
  },
  {
   "metadata": {
    "ExecuteTime": {
     "end_time": "2024-11-08T11:55:52.741331Z",
     "start_time": "2024-11-08T11:55:18.675081Z"
    }
   },
   "cell_type": "code",
   "source": [
    "import numpy as np\n",
    "import pandas as pd\n",
    "import tensorflow as tf\n",
    "import glob\n",
    "\n",
    "# Constants\n",
    "SEQUENCE_LENGTH = 10\n",
    "STRIDE = 5\n",
    "BATCH_SIZE = 32\n",
    "\n",
    "# Helper function to create random sequences\n",
    "def create_sequences(features, labels, sequence_length, stride):\n",
    "    x_sequences, y_sequences = [], []\n",
    "    for i in range(0, len(features) - sequence_length + 1, stride):\n",
    "        x_sequences.append(features[i:i + sequence_length])\n",
    "        y_sequences.append(labels[i:i + sequence_length])\n",
    "    return np.array(x_sequences), np.array(y_sequences)\n",
    "\n",
    "# Initialize lists to hold all sequences\n",
    "all_x_sequences = []\n",
    "all_y_sequences = []\n",
    "\n",
    "input_files = sorted(\n",
    "    glob.glob('//153.19.52.107/emboa/IO3-sessions/NEW STRUCTURE/de-earlyfusionthesis/GUT/*_input.csv') + \n",
    "    glob.glob('//153.19.52.107/emboa/IO3-sessions/NEW STRUCTURE/de-earlyfusionthesis/ITU-YU/*_input.csv') + \n",
    "    glob.glob('//153.19.52.107/emboa/IO3-sessions/NEW STRUCTURE/de-earlyfusionthesis/MAAP/*_input.csv')\n",
    "    )\n",
    "label_files = sorted(\n",
    "    glob.glob('//153.19.52.107/emboa/IO3-sessions/NEW STRUCTURE/de-earlyfusionthesis/GUT/*_BORIS.csv') +\n",
    "    glob.glob('//153.19.52.107/emboa/IO3-sessions/NEW STRUCTURE/de-earlyfusionthesis/ITU-YU/*_BORIS.csv') +\n",
    "    glob.glob('//153.19.52.107/emboa/IO3-sessions/NEW STRUCTURE/de-earlyfusionthesis/MAAP/*_BORIS.csv')\n",
    "    )\n",
    "\n",
    "# Process each pair of input and label files\n",
    "for input_file, label_file in zip(input_files, label_files):\n",
    "    # Load data\n",
    "    input_df = pd.read_csv(input_file)\n",
    "    label_df = pd.read_csv(label_file)\n",
    "    \n",
    "    # Prepare features and labels\n",
    "    features = input_df.values\n",
    "    labels = label_df.values\n",
    "    \n",
    "    # Ensure alignment of frames\n",
    "    if features.shape[0] != labels.shape[0]:\n",
    "        print(f\"Mismatch in frames: {input_file}, {label_file}\")\n",
    "        continue\n",
    "    \n",
    "    # Sample sequences\n",
    "    x_sequences, y_sequences = create_sequences(features, labels, SEQUENCE_LENGTH, STRIDE)\n",
    "    # Append to global lists\n",
    "    all_x_sequences.append(x_sequences)\n",
    "    all_y_sequences.append(y_sequences)\n",
    "\n",
    "\n",
    "# Concatenate all sequences from all files\n",
    "all_x_sequences = np.concatenate(all_x_sequences, axis=0)\n",
    "all_y_sequences = np.concatenate(all_y_sequences, axis=0)\n",
    "\n",
    "# Convert to TensorFlow dataset\n",
    "dataset = tf.data.Dataset.from_tensor_slices((all_x_sequences, all_y_sequences))\n",
    "dataset = dataset.shuffle(buffer_size=10000).batch(BATCH_SIZE).prefetch(tf.data.experimental.AUTOTUNE)\n",
    "\n",
    "# Verify the dataset\n",
    "for x_batch, y_batch in dataset.take(1):\n",
    "    print(f'Feature batch shape: {x_batch.shape}')\n",
    "    print(f'Label batch shape: {y_batch.shape}')\n"
   ],
   "id": "3269ede97309fd73",
   "outputs": [
    {
     "name": "stdout",
     "output_type": "stream",
     "text": [
      "Feature batch shape: (32, 10, 515)\n",
      "Label batch shape: (32, 10, 6)\n"
     ]
    }
   ],
   "execution_count": 13
  },
  {
   "metadata": {
    "ExecuteTime": {
     "end_time": "2024-11-08T11:56:03.360613Z",
     "start_time": "2024-11-08T11:56:03.352959Z"
    }
   },
   "cell_type": "code",
   "source": "dataset.cardinality().numpy()",
   "id": "505f7568b967b339",
   "outputs": [
    {
     "data": {
      "text/plain": [
       "320"
      ]
     },
     "execution_count": 14,
     "metadata": {},
     "output_type": "execute_result"
    }
   ],
   "execution_count": 14
  },
  {
   "metadata": {
    "ExecuteTime": {
     "end_time": "2024-11-08T11:56:05.462204Z",
     "start_time": "2024-11-08T11:56:04.947856Z"
    }
   },
   "cell_type": "code",
   "source": [
    "for x_batch, y_batch in dataset.take(30):\n",
    "    print(f'Feature batch shape: {x_batch.shape}')\n",
    "    print(f'Label batch shape: {y_batch.shape}')"
   ],
   "id": "f5858e51c3ae1e4",
   "outputs": [
    {
     "name": "stdout",
     "output_type": "stream",
     "text": [
      "Feature batch shape: (32, 10, 515)\n",
      "Label batch shape: (32, 10, 6)\n",
      "Feature batch shape: (32, 10, 515)\n",
      "Label batch shape: (32, 10, 6)\n",
      "Feature batch shape: (32, 10, 515)\n",
      "Label batch shape: (32, 10, 6)\n",
      "Feature batch shape: (32, 10, 515)\n",
      "Label batch shape: (32, 10, 6)\n",
      "Feature batch shape: (32, 10, 515)\n",
      "Label batch shape: (32, 10, 6)\n",
      "Feature batch shape: (32, 10, 515)\n",
      "Label batch shape: (32, 10, 6)\n",
      "Feature batch shape: (32, 10, 515)\n",
      "Label batch shape: (32, 10, 6)\n",
      "Feature batch shape: (32, 10, 515)\n",
      "Label batch shape: (32, 10, 6)\n",
      "Feature batch shape: (32, 10, 515)\n",
      "Label batch shape: (32, 10, 6)\n",
      "Feature batch shape: (32, 10, 515)\n",
      "Label batch shape: (32, 10, 6)\n",
      "Feature batch shape: (32, 10, 515)\n",
      "Label batch shape: (32, 10, 6)\n",
      "Feature batch shape: (32, 10, 515)\n",
      "Label batch shape: (32, 10, 6)\n",
      "Feature batch shape: (32, 10, 515)\n",
      "Label batch shape: (32, 10, 6)\n",
      "Feature batch shape: (32, 10, 515)\n",
      "Label batch shape: (32, 10, 6)\n",
      "Feature batch shape: (32, 10, 515)\n",
      "Label batch shape: (32, 10, 6)\n",
      "Feature batch shape: (32, 10, 515)\n",
      "Label batch shape: (32, 10, 6)\n",
      "Feature batch shape: (32, 10, 515)\n",
      "Label batch shape: (32, 10, 6)\n",
      "Feature batch shape: (32, 10, 515)\n",
      "Label batch shape: (32, 10, 6)\n",
      "Feature batch shape: (32, 10, 515)\n",
      "Label batch shape: (32, 10, 6)\n",
      "Feature batch shape: (32, 10, 515)\n",
      "Label batch shape: (32, 10, 6)\n",
      "Feature batch shape: (32, 10, 515)\n",
      "Label batch shape: (32, 10, 6)\n",
      "Feature batch shape: (32, 10, 515)\n",
      "Label batch shape: (32, 10, 6)\n",
      "Feature batch shape: (32, 10, 515)\n",
      "Label batch shape: (32, 10, 6)\n",
      "Feature batch shape: (32, 10, 515)\n",
      "Label batch shape: (32, 10, 6)\n",
      "Feature batch shape: (32, 10, 515)\n",
      "Label batch shape: (32, 10, 6)\n",
      "Feature batch shape: (32, 10, 515)\n",
      "Label batch shape: (32, 10, 6)\n",
      "Feature batch shape: (32, 10, 515)\n",
      "Label batch shape: (32, 10, 6)\n",
      "Feature batch shape: (32, 10, 515)\n",
      "Label batch shape: (32, 10, 6)\n",
      "Feature batch shape: (32, 10, 515)\n",
      "Label batch shape: (32, 10, 6)\n",
      "Feature batch shape: (32, 10, 515)\n",
      "Label batch shape: (32, 10, 6)\n"
     ]
    }
   ],
   "execution_count": 15
  },
  {
   "metadata": {
    "ExecuteTime": {
     "end_time": "2024-11-08T11:56:07.395321Z",
     "start_time": "2024-11-08T11:56:07.390841Z"
    }
   },
   "cell_type": "code",
   "source": [
    "INPUT_DIM = all_x_sequences.shape[2]  # Number of features per frame (e.g., biosignals + embeddings)\n",
    "OUTPUT_DIM = all_y_sequences.shape[2] "
   ],
   "id": "43fbf8a83f3cc8ef",
   "outputs": [],
   "execution_count": 16
  },
  {
   "metadata": {
    "ExecuteTime": {
     "end_time": "2024-11-08T11:56:12.231073Z",
     "start_time": "2024-11-08T11:56:12.181378Z"
    }
   },
   "cell_type": "code",
   "source": [
    "model = tf.keras.Sequential([\n",
    "    tf.keras.layers.Input(shape=(SEQUENCE_LENGTH, INPUT_DIM)),    # Input shape: (sequence_length, features)\n",
    "    tf.keras.layers.LSTM(64, return_sequences=True),              # LSTM layer to capture temporal patterns\n",
    "    tf.keras.layers.Dense(32, activation='relu'),                 # Dense layer to reduce dimensionality\n",
    "    tf.keras.layers.Dense(OUTPUT_DIM, activation='sigmoid')       # Output layer with sigmoid for continuous values between 0 and 1\n",
    "])"
   ],
   "id": "8ae51ea52a2bf3b6",
   "outputs": [],
   "execution_count": 17
  },
  {
   "metadata": {
    "ExecuteTime": {
     "end_time": "2024-11-08T11:56:13.661279Z",
     "start_time": "2024-11-08T11:56:13.648991Z"
    }
   },
   "cell_type": "code",
   "source": "model.compile(optimizer='adam', loss='mean_squared_error', metrics=['mae'])",
   "id": "372ce70cf7533e58",
   "outputs": [],
   "execution_count": 18
  },
  {
   "metadata": {
    "ExecuteTime": {
     "end_time": "2024-11-08T11:59:15.278836Z",
     "start_time": "2024-11-08T11:56:18.370608Z"
    }
   },
   "cell_type": "code",
   "source": "history = model.fit(dataset, epochs=50)",
   "id": "90c6f6be681e7739",
   "outputs": [
    {
     "name": "stdout",
     "output_type": "stream",
     "text": [
      "Epoch 1/50\n",
      "\u001B[1m320/320\u001B[0m \u001B[32m━━━━━━━━━━━━━━━━━━━━\u001B[0m\u001B[37m\u001B[0m \u001B[1m5s\u001B[0m 9ms/step - loss: 624.3658 - mae: 7.2392\n",
      "Epoch 2/50\n",
      "\u001B[1m320/320\u001B[0m \u001B[32m━━━━━━━━━━━━━━━━━━━━\u001B[0m\u001B[37m\u001B[0m \u001B[1m3s\u001B[0m 8ms/step - loss: 627.8065 - mae: 7.4621\n",
      "Epoch 3/50\n",
      "\u001B[1m320/320\u001B[0m \u001B[32m━━━━━━━━━━━━━━━━━━━━\u001B[0m\u001B[37m\u001B[0m \u001B[1m3s\u001B[0m 9ms/step - loss: 603.4449 - mae: 7.2242\n",
      "Epoch 4/50\n",
      "\u001B[1m320/320\u001B[0m \u001B[32m━━━━━━━━━━━━━━━━━━━━\u001B[0m\u001B[37m\u001B[0m \u001B[1m3s\u001B[0m 9ms/step - loss: 621.0538 - mae: 7.3922\n",
      "Epoch 5/50\n",
      "\u001B[1m320/320\u001B[0m \u001B[32m━━━━━━━━━━━━━━━━━━━━\u001B[0m\u001B[37m\u001B[0m \u001B[1m3s\u001B[0m 9ms/step - loss: 608.5828 - mae: 7.2533\n",
      "Epoch 6/50\n",
      "\u001B[1m320/320\u001B[0m \u001B[32m━━━━━━━━━━━━━━━━━━━━\u001B[0m\u001B[37m\u001B[0m \u001B[1m3s\u001B[0m 9ms/step - loss: 620.1223 - mae: 7.3947\n",
      "Epoch 7/50\n",
      "\u001B[1m320/320\u001B[0m \u001B[32m━━━━━━━━━━━━━━━━━━━━\u001B[0m\u001B[37m\u001B[0m \u001B[1m3s\u001B[0m 10ms/step - loss: 624.3995 - mae: 7.4059\n",
      "Epoch 8/50\n",
      "\u001B[1m320/320\u001B[0m \u001B[32m━━━━━━━━━━━━━━━━━━━━\u001B[0m\u001B[37m\u001B[0m \u001B[1m3s\u001B[0m 10ms/step - loss: 626.9338 - mae: 7.3767\n",
      "Epoch 9/50\n",
      "\u001B[1m320/320\u001B[0m \u001B[32m━━━━━━━━━━━━━━━━━━━━\u001B[0m\u001B[37m\u001B[0m \u001B[1m4s\u001B[0m 11ms/step - loss: 624.8537 - mae: 7.3023\n",
      "Epoch 10/50\n",
      "\u001B[1m320/320\u001B[0m \u001B[32m━━━━━━━━━━━━━━━━━━━━\u001B[0m\u001B[37m\u001B[0m \u001B[1m4s\u001B[0m 13ms/step - loss: 623.0442 - mae: 7.2657\n",
      "Epoch 11/50\n",
      "\u001B[1m320/320\u001B[0m \u001B[32m━━━━━━━━━━━━━━━━━━━━\u001B[0m\u001B[37m\u001B[0m \u001B[1m7s\u001B[0m 20ms/step - loss: 628.1061 - mae: 7.3193\n",
      "Epoch 12/50\n",
      "\u001B[1m320/320\u001B[0m \u001B[32m━━━━━━━━━━━━━━━━━━━━\u001B[0m\u001B[37m\u001B[0m \u001B[1m7s\u001B[0m 21ms/step - loss: 613.0936 - mae: 7.1671\n",
      "Epoch 13/50\n",
      "\u001B[1m320/320\u001B[0m \u001B[32m━━━━━━━━━━━━━━━━━━━━\u001B[0m\u001B[37m\u001B[0m \u001B[1m4s\u001B[0m 12ms/step - loss: 631.7526 - mae: 7.3171\n",
      "Epoch 14/50\n",
      "\u001B[1m320/320\u001B[0m \u001B[32m━━━━━━━━━━━━━━━━━━━━\u001B[0m\u001B[37m\u001B[0m \u001B[1m3s\u001B[0m 9ms/step - loss: 623.1233 - mae: 7.2029\n",
      "Epoch 15/50\n",
      "\u001B[1m320/320\u001B[0m \u001B[32m━━━━━━━━━━━━━━━━━━━━\u001B[0m\u001B[37m\u001B[0m \u001B[1m3s\u001B[0m 9ms/step - loss: 629.3325 - mae: 7.2448\n",
      "Epoch 16/50\n",
      "\u001B[1m320/320\u001B[0m \u001B[32m━━━━━━━━━━━━━━━━━━━━\u001B[0m\u001B[37m\u001B[0m \u001B[1m3s\u001B[0m 10ms/step - loss: 617.0422 - mae: 7.1745\n",
      "Epoch 17/50\n",
      "\u001B[1m320/320\u001B[0m \u001B[32m━━━━━━━━━━━━━━━━━━━━\u001B[0m\u001B[37m\u001B[0m \u001B[1m3s\u001B[0m 9ms/step - loss: 614.4937 - mae: 7.1127\n",
      "Epoch 18/50\n",
      "\u001B[1m320/320\u001B[0m \u001B[32m━━━━━━━━━━━━━━━━━━━━\u001B[0m\u001B[37m\u001B[0m \u001B[1m3s\u001B[0m 9ms/step - loss: 616.6330 - mae: 7.0976\n",
      "Epoch 19/50\n",
      "\u001B[1m320/320\u001B[0m \u001B[32m━━━━━━━━━━━━━━━━━━━━\u001B[0m\u001B[37m\u001B[0m \u001B[1m4s\u001B[0m 11ms/step - loss: 634.0522 - mae: 7.3144\n",
      "Epoch 20/50\n",
      "\u001B[1m320/320\u001B[0m \u001B[32m━━━━━━━━━━━━━━━━━━━━\u001B[0m\u001B[37m\u001B[0m \u001B[1m4s\u001B[0m 11ms/step - loss: 620.2805 - mae: 7.1154\n",
      "Epoch 21/50\n",
      "\u001B[1m320/320\u001B[0m \u001B[32m━━━━━━━━━━━━━━━━━━━━\u001B[0m\u001B[37m\u001B[0m \u001B[1m3s\u001B[0m 9ms/step - loss: 620.6163 - mae: 7.1409\n",
      "Epoch 22/50\n",
      "\u001B[1m320/320\u001B[0m \u001B[32m━━━━━━━━━━━━━━━━━━━━\u001B[0m\u001B[37m\u001B[0m \u001B[1m3s\u001B[0m 10ms/step - loss: 619.0903 - mae: 7.1286\n",
      "Epoch 23/50\n",
      "\u001B[1m320/320\u001B[0m \u001B[32m━━━━━━━━━━━━━━━━━━━━\u001B[0m\u001B[37m\u001B[0m \u001B[1m3s\u001B[0m 9ms/step - loss: 627.3298 - mae: 7.2022\n",
      "Epoch 24/50\n",
      "\u001B[1m320/320\u001B[0m \u001B[32m━━━━━━━━━━━━━━━━━━━━\u001B[0m\u001B[37m\u001B[0m \u001B[1m3s\u001B[0m 9ms/step - loss: 628.2172 - mae: 7.1999\n",
      "Epoch 25/50\n",
      "\u001B[1m320/320\u001B[0m \u001B[32m━━━━━━━━━━━━━━━━━━━━\u001B[0m\u001B[37m\u001B[0m \u001B[1m3s\u001B[0m 9ms/step - loss: 623.7864 - mae: 7.1329\n",
      "Epoch 26/50\n",
      "\u001B[1m320/320\u001B[0m \u001B[32m━━━━━━━━━━━━━━━━━━━━\u001B[0m\u001B[37m\u001B[0m \u001B[1m3s\u001B[0m 10ms/step - loss: 619.6049 - mae: 7.1080\n",
      "Epoch 27/50\n",
      "\u001B[1m320/320\u001B[0m \u001B[32m━━━━━━━━━━━━━━━━━━━━\u001B[0m\u001B[37m\u001B[0m \u001B[1m3s\u001B[0m 10ms/step - loss: 613.2884 - mae: 7.0329\n",
      "Epoch 28/50\n",
      "\u001B[1m320/320\u001B[0m \u001B[32m━━━━━━━━━━━━━━━━━━━━\u001B[0m\u001B[37m\u001B[0m \u001B[1m3s\u001B[0m 10ms/step - loss: 618.5527 - mae: 7.0511\n",
      "Epoch 29/50\n",
      "\u001B[1m320/320\u001B[0m \u001B[32m━━━━━━━━━━━━━━━━━━━━\u001B[0m\u001B[37m\u001B[0m \u001B[1m3s\u001B[0m 10ms/step - loss: 622.6951 - mae: 7.0985\n",
      "Epoch 30/50\n",
      "\u001B[1m320/320\u001B[0m \u001B[32m━━━━━━━━━━━━━━━━━━━━\u001B[0m\u001B[37m\u001B[0m \u001B[1m3s\u001B[0m 10ms/step - loss: 618.5830 - mae: 7.0601\n",
      "Epoch 31/50\n",
      "\u001B[1m320/320\u001B[0m \u001B[32m━━━━━━━━━━━━━━━━━━━━\u001B[0m\u001B[37m\u001B[0m \u001B[1m3s\u001B[0m 9ms/step - loss: 619.5761 - mae: 7.0530 \n",
      "Epoch 32/50\n",
      "\u001B[1m320/320\u001B[0m \u001B[32m━━━━━━━━━━━━━━━━━━━━\u001B[0m\u001B[37m\u001B[0m \u001B[1m4s\u001B[0m 11ms/step - loss: 622.0992 - mae: 7.0839\n",
      "Epoch 33/50\n",
      "\u001B[1m320/320\u001B[0m \u001B[32m━━━━━━━━━━━━━━━━━━━━\u001B[0m\u001B[37m\u001B[0m \u001B[1m3s\u001B[0m 10ms/step - loss: 627.7131 - mae: 7.1214\n",
      "Epoch 34/50\n",
      "\u001B[1m320/320\u001B[0m \u001B[32m━━━━━━━━━━━━━━━━━━━━\u001B[0m\u001B[37m\u001B[0m \u001B[1m4s\u001B[0m 11ms/step - loss: 620.7747 - mae: 7.0685\n",
      "Epoch 35/50\n",
      "\u001B[1m320/320\u001B[0m \u001B[32m━━━━━━━━━━━━━━━━━━━━\u001B[0m\u001B[37m\u001B[0m \u001B[1m4s\u001B[0m 12ms/step - loss: 625.4614 - mae: 7.1191\n",
      "Epoch 36/50\n",
      "\u001B[1m320/320\u001B[0m \u001B[32m━━━━━━━━━━━━━━━━━━━━\u001B[0m\u001B[37m\u001B[0m \u001B[1m3s\u001B[0m 10ms/step - loss: 624.7471 - mae: 7.1400\n",
      "Epoch 37/50\n",
      "\u001B[1m320/320\u001B[0m \u001B[32m━━━━━━━━━━━━━━━━━━━━\u001B[0m\u001B[37m\u001B[0m \u001B[1m3s\u001B[0m 10ms/step - loss: 627.5053 - mae: 7.1373\n",
      "Epoch 38/50\n",
      "\u001B[1m320/320\u001B[0m \u001B[32m━━━━━━━━━━━━━━━━━━━━\u001B[0m\u001B[37m\u001B[0m \u001B[1m3s\u001B[0m 10ms/step - loss: 623.7189 - mae: 7.0852\n",
      "Epoch 39/50\n",
      "\u001B[1m320/320\u001B[0m \u001B[32m━━━━━━━━━━━━━━━━━━━━\u001B[0m\u001B[37m\u001B[0m \u001B[1m3s\u001B[0m 10ms/step - loss: 614.0785 - mae: 6.9815\n",
      "Epoch 40/50\n",
      "\u001B[1m320/320\u001B[0m \u001B[32m━━━━━━━━━━━━━━━━━━━━\u001B[0m\u001B[37m\u001B[0m \u001B[1m3s\u001B[0m 10ms/step - loss: 623.3283 - mae: 7.0505\n",
      "Epoch 41/50\n",
      "\u001B[1m320/320\u001B[0m \u001B[32m━━━━━━━━━━━━━━━━━━━━\u001B[0m\u001B[37m\u001B[0m \u001B[1m3s\u001B[0m 10ms/step - loss: 620.1337 - mae: 7.0508\n",
      "Epoch 42/50\n",
      "\u001B[1m320/320\u001B[0m \u001B[32m━━━━━━━━━━━━━━━━━━━━\u001B[0m\u001B[37m\u001B[0m \u001B[1m3s\u001B[0m 10ms/step - loss: 614.7288 - mae: 6.9991\n",
      "Epoch 43/50\n",
      "\u001B[1m320/320\u001B[0m \u001B[32m━━━━━━━━━━━━━━━━━━━━\u001B[0m\u001B[37m\u001B[0m \u001B[1m4s\u001B[0m 10ms/step - loss: 626.9462 - mae: 7.0888\n",
      "Epoch 44/50\n",
      "\u001B[1m320/320\u001B[0m \u001B[32m━━━━━━━━━━━━━━━━━━━━\u001B[0m\u001B[37m\u001B[0m \u001B[1m3s\u001B[0m 10ms/step - loss: 630.7072 - mae: 7.1193\n",
      "Epoch 45/50\n",
      "\u001B[1m320/320\u001B[0m \u001B[32m━━━━━━━━━━━━━━━━━━━━\u001B[0m\u001B[37m\u001B[0m \u001B[1m3s\u001B[0m 10ms/step - loss: 611.3810 - mae: 6.9142\n",
      "Epoch 46/50\n",
      "\u001B[1m320/320\u001B[0m \u001B[32m━━━━━━━━━━━━━━━━━━━━\u001B[0m\u001B[37m\u001B[0m \u001B[1m3s\u001B[0m 10ms/step - loss: 619.2939 - mae: 7.0065\n",
      "Epoch 47/50\n",
      "\u001B[1m320/320\u001B[0m \u001B[32m━━━━━━━━━━━━━━━━━━━━\u001B[0m\u001B[37m\u001B[0m \u001B[1m4s\u001B[0m 12ms/step - loss: 631.3788 - mae: 7.1366\n",
      "Epoch 48/50\n",
      "\u001B[1m320/320\u001B[0m \u001B[32m━━━━━━━━━━━━━━━━━━━━\u001B[0m\u001B[37m\u001B[0m \u001B[1m3s\u001B[0m 10ms/step - loss: 615.7972 - mae: 6.9747\n",
      "Epoch 49/50\n",
      "\u001B[1m320/320\u001B[0m \u001B[32m━━━━━━━━━━━━━━━━━━━━\u001B[0m\u001B[37m\u001B[0m \u001B[1m3s\u001B[0m 9ms/step - loss: 622.6503 - mae: 7.0502\n",
      "Epoch 50/50\n",
      "\u001B[1m320/320\u001B[0m \u001B[32m━━━━━━━━━━━━━━━━━━━━\u001B[0m\u001B[37m\u001B[0m \u001B[1m4s\u001B[0m 11ms/step - loss: 614.0289 - mae: 6.9575\n"
     ]
    }
   ],
   "execution_count": 19
  },
  {
   "metadata": {
    "ExecuteTime": {
     "end_time": "2024-11-08T11:59:31.783493Z",
     "start_time": "2024-11-08T11:59:31.735661Z"
    }
   },
   "cell_type": "code",
   "source": "model.summary()",
   "id": "a934e87493baa466",
   "outputs": [
    {
     "data": {
      "text/plain": [
       "\u001B[1mModel: \"sequential_1\"\u001B[0m\n"
      ],
      "text/html": [
       "<pre style=\"white-space:pre;overflow-x:auto;line-height:normal;font-family:Menlo,'DejaVu Sans Mono',consolas,'Courier New',monospace\"><span style=\"font-weight: bold\">Model: \"sequential_1\"</span>\n",
       "</pre>\n"
      ]
     },
     "metadata": {},
     "output_type": "display_data"
    },
    {
     "data": {
      "text/plain": [
       "┏━━━━━━━━━━━━━━━━━━━━━━━━━━━━━━━━━┳━━━━━━━━━━━━━━━━━━━━━━━━┳━━━━━━━━━━━━━━━┓\n",
       "┃\u001B[1m \u001B[0m\u001B[1mLayer (type)                   \u001B[0m\u001B[1m \u001B[0m┃\u001B[1m \u001B[0m\u001B[1mOutput Shape          \u001B[0m\u001B[1m \u001B[0m┃\u001B[1m \u001B[0m\u001B[1m      Param #\u001B[0m\u001B[1m \u001B[0m┃\n",
       "┡━━━━━━━━━━━━━━━━━━━━━━━━━━━━━━━━━╇━━━━━━━━━━━━━━━━━━━━━━━━╇━━━━━━━━━━━━━━━┩\n",
       "│ lstm_1 (\u001B[38;5;33mLSTM\u001B[0m)                   │ (\u001B[38;5;45mNone\u001B[0m, \u001B[38;5;34m10\u001B[0m, \u001B[38;5;34m64\u001B[0m)         │       \u001B[38;5;34m148,480\u001B[0m │\n",
       "├─────────────────────────────────┼────────────────────────┼───────────────┤\n",
       "│ dense_2 (\u001B[38;5;33mDense\u001B[0m)                 │ (\u001B[38;5;45mNone\u001B[0m, \u001B[38;5;34m10\u001B[0m, \u001B[38;5;34m32\u001B[0m)         │         \u001B[38;5;34m2,080\u001B[0m │\n",
       "├─────────────────────────────────┼────────────────────────┼───────────────┤\n",
       "│ dense_3 (\u001B[38;5;33mDense\u001B[0m)                 │ (\u001B[38;5;45mNone\u001B[0m, \u001B[38;5;34m10\u001B[0m, \u001B[38;5;34m6\u001B[0m)          │           \u001B[38;5;34m198\u001B[0m │\n",
       "└─────────────────────────────────┴────────────────────────┴───────────────┘\n"
      ],
      "text/html": [
       "<pre style=\"white-space:pre;overflow-x:auto;line-height:normal;font-family:Menlo,'DejaVu Sans Mono',consolas,'Courier New',monospace\">┏━━━━━━━━━━━━━━━━━━━━━━━━━━━━━━━━━┳━━━━━━━━━━━━━━━━━━━━━━━━┳━━━━━━━━━━━━━━━┓\n",
       "┃<span style=\"font-weight: bold\"> Layer (type)                    </span>┃<span style=\"font-weight: bold\"> Output Shape           </span>┃<span style=\"font-weight: bold\">       Param # </span>┃\n",
       "┡━━━━━━━━━━━━━━━━━━━━━━━━━━━━━━━━━╇━━━━━━━━━━━━━━━━━━━━━━━━╇━━━━━━━━━━━━━━━┩\n",
       "│ lstm_1 (<span style=\"color: #0087ff; text-decoration-color: #0087ff\">LSTM</span>)                   │ (<span style=\"color: #00d7ff; text-decoration-color: #00d7ff\">None</span>, <span style=\"color: #00af00; text-decoration-color: #00af00\">10</span>, <span style=\"color: #00af00; text-decoration-color: #00af00\">64</span>)         │       <span style=\"color: #00af00; text-decoration-color: #00af00\">148,480</span> │\n",
       "├─────────────────────────────────┼────────────────────────┼───────────────┤\n",
       "│ dense_2 (<span style=\"color: #0087ff; text-decoration-color: #0087ff\">Dense</span>)                 │ (<span style=\"color: #00d7ff; text-decoration-color: #00d7ff\">None</span>, <span style=\"color: #00af00; text-decoration-color: #00af00\">10</span>, <span style=\"color: #00af00; text-decoration-color: #00af00\">32</span>)         │         <span style=\"color: #00af00; text-decoration-color: #00af00\">2,080</span> │\n",
       "├─────────────────────────────────┼────────────────────────┼───────────────┤\n",
       "│ dense_3 (<span style=\"color: #0087ff; text-decoration-color: #0087ff\">Dense</span>)                 │ (<span style=\"color: #00d7ff; text-decoration-color: #00d7ff\">None</span>, <span style=\"color: #00af00; text-decoration-color: #00af00\">10</span>, <span style=\"color: #00af00; text-decoration-color: #00af00\">6</span>)          │           <span style=\"color: #00af00; text-decoration-color: #00af00\">198</span> │\n",
       "└─────────────────────────────────┴────────────────────────┴───────────────┘\n",
       "</pre>\n"
      ]
     },
     "metadata": {},
     "output_type": "display_data"
    },
    {
     "data": {
      "text/plain": [
       "\u001B[1m Total params: \u001B[0m\u001B[38;5;34m452,276\u001B[0m (1.73 MB)\n"
      ],
      "text/html": [
       "<pre style=\"white-space:pre;overflow-x:auto;line-height:normal;font-family:Menlo,'DejaVu Sans Mono',consolas,'Courier New',monospace\"><span style=\"font-weight: bold\"> Total params: </span><span style=\"color: #00af00; text-decoration-color: #00af00\">452,276</span> (1.73 MB)\n",
       "</pre>\n"
      ]
     },
     "metadata": {},
     "output_type": "display_data"
    },
    {
     "data": {
      "text/plain": [
       "\u001B[1m Trainable params: \u001B[0m\u001B[38;5;34m150,758\u001B[0m (588.90 KB)\n"
      ],
      "text/html": [
       "<pre style=\"white-space:pre;overflow-x:auto;line-height:normal;font-family:Menlo,'DejaVu Sans Mono',consolas,'Courier New',monospace\"><span style=\"font-weight: bold\"> Trainable params: </span><span style=\"color: #00af00; text-decoration-color: #00af00\">150,758</span> (588.90 KB)\n",
       "</pre>\n"
      ]
     },
     "metadata": {},
     "output_type": "display_data"
    },
    {
     "data": {
      "text/plain": [
       "\u001B[1m Non-trainable params: \u001B[0m\u001B[38;5;34m0\u001B[0m (0.00 B)\n"
      ],
      "text/html": [
       "<pre style=\"white-space:pre;overflow-x:auto;line-height:normal;font-family:Menlo,'DejaVu Sans Mono',consolas,'Courier New',monospace\"><span style=\"font-weight: bold\"> Non-trainable params: </span><span style=\"color: #00af00; text-decoration-color: #00af00\">0</span> (0.00 B)\n",
       "</pre>\n"
      ]
     },
     "metadata": {},
     "output_type": "display_data"
    },
    {
     "data": {
      "text/plain": [
       "\u001B[1m Optimizer params: \u001B[0m\u001B[38;5;34m301,518\u001B[0m (1.15 MB)\n"
      ],
      "text/html": [
       "<pre style=\"white-space:pre;overflow-x:auto;line-height:normal;font-family:Menlo,'DejaVu Sans Mono',consolas,'Courier New',monospace\"><span style=\"font-weight: bold\"> Optimizer params: </span><span style=\"color: #00af00; text-decoration-color: #00af00\">301,518</span> (1.15 MB)\n",
       "</pre>\n"
      ]
     },
     "metadata": {},
     "output_type": "display_data"
    }
   ],
   "execution_count": 20
  },
  {
   "metadata": {
    "ExecuteTime": {
     "end_time": "2024-11-08T11:59:35.104267Z",
     "start_time": "2024-11-08T11:59:34.640687Z"
    }
   },
   "cell_type": "code",
   "source": [
    "import matplotlib.pyplot as plt\n",
    "\n",
    "# After training, 'history' holds the metrics for each epoch\n",
    "# Plot MAE from the training history\n",
    "\n",
    "# Access 'mae' values for each epoch\n",
    "mae = history.history['mae']  # MAE for training data\n",
    "# If you had validation data, access validation MAE as well\n",
    "# val_mae = history.history['val_mae']\n",
    "\n",
    "# Plot training MAE\n",
    "plt.plot(mae, label='Training MAE')\n",
    "# Uncomment below if you have validation data to compare\n",
    "# plt.plot(val_mae, label='Validation MAE')\n",
    "plt.xlabel('Epoch')\n",
    "plt.ylabel('Mean Absolute Error (MAE)')\n",
    "plt.title('Model MAE over Epochs')\n",
    "plt.legend()\n",
    "plt.grid()\n",
    "plt.show()\n"
   ],
   "id": "142b001988524938",
   "outputs": [
    {
     "data": {
      "text/plain": [
       "<Figure size 640x480 with 1 Axes>"
      ],
      "image/png": "[encoded data removed]"
     },
     "metadata": {},
     "output_type": "display_data"
    }
   ],
   "execution_count": 21
  },
  {
   "metadata": {},
   "cell_type": "code",
   "source": "    ",
   "id": "258108f1a2b068b5",
   "outputs": [],
   "execution_count": null
  }
 ],
 "metadata": {
  "kernelspec": {
   "display_name": "Python 3",
   "language": "python",
   "name": "python3"
  },
  "language_info": {
   "codemirror_mode": {
    "name": "ipython",
    "version": 2
   },
   "file_extension": ".py",
   "mimetype": "text/x-python",
   "name": "python",
   "nbconvert_exporter": "python",
   "pygments_lexer": "ipython2",
   "version": "2.7.6"
  }
 },
 "nbformat": 4,
 "nbformat_minor": 5
}
