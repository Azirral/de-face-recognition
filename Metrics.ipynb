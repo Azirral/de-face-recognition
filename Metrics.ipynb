{
 "cells": [
  {
   "metadata": {
    "ExecuteTime": {
     "end_time": "2024-12-03T10:05:32.712120Z",
     "start_time": "2024-12-03T10:05:32.637809Z"
    }
   },
   "cell_type": "code",
   "source": [
    "import os\n",
    "import tensorflow as tf\n",
    "import numpy as np\n",
    "import matplotlib.pyplot as plt\n",
    "from sklearn.metrics import confusion_matrix, ConfusionMatrixDisplay"
   ],
   "id": "24c79cc35059ab15",
   "outputs": [],
   "execution_count": 44
  },
  {
   "metadata": {
    "ExecuteTime": {
     "end_time": "2024-12-03T10:06:03.787612Z",
     "start_time": "2024-12-03T10:06:02.947752Z"
    }
   },
   "cell_type": "code",
   "source": [
    "path = r'S:\\IO3-sessions\\NEW STRUCTURE\\de-earlyfusionthesis\\Datasets'\n",
    "\n",
    "train_dataset_path_I = os.path.abspath(os.path.join(path, 'train_dataset_method_II'))\n",
    "GUT_test_path_I = os.path.join(path, 'GUT_test_method_I').replace(\"\\\\\", \"/\")\n",
    "ITU_YU_test_path_I = os.path.join(path, 'ITU_YU_test_method_I').replace(\"\\\\\", \"/\")\n",
    "MAAP_test_path_I = os.path.join(path, 'MAAP_test_method_I').replace(\"\\\\\", \"/\")\n",
    "\n",
    "train_dataset_path_II = os.path.abspath(os.path.join(path, 'train_dataset_method_II'))\n",
    "GUT_test_path_II = os.path.join(path, 'GUT_test_method_II').replace(\"\\\\\", \"/\")\n",
    "ITU_YU_test_path_II = os.path.join(path, 'ITU_YU_test_method_II').replace(\"\\\\\", \"/\")\n",
    "MAAP_test_path_II = os.path.join(path, 'MAAP_test_method_II').replace(\"\\\\\", \"/\")\n",
    "\n",
    "# Load datasets\n",
    "train_I = tf.data.Dataset.load(train_dataset_path_I)\n",
    "GUT_test_I = tf.data.Dataset.load(GUT_test_path_I)\n",
    "ITU_YU_test_I = tf.data.Dataset.load(ITU_YU_test_path_I)\n",
    "MAAP_test_I = tf.data.Dataset.load(MAAP_test_path_I)\n",
    "\n",
    "train_II = tf.data.Dataset.load(train_dataset_path_II)\n",
    "GUT_test_II = tf.data.Dataset.load(GUT_test_path_II)\n",
    "ITU_YU_test_II = tf.data.Dataset.load(ITU_YU_test_path_II)\n",
    "MAAP_test_II = tf.data.Dataset.load(MAAP_test_path_II)\n",
    "\n",
    "full_test_I = GUT_test_I.concatenate(ITU_YU_test_I).concatenate(MAAP_test_I)\n",
    "full_test_II = GUT_test_II.concatenate(ITU_YU_test_II).concatenate(MAAP_test_II)"
   ],
   "id": "ea3f186bf5baf876",
   "outputs": [],
   "execution_count": 47
  },
  {
   "metadata": {
    "ExecuteTime": {
     "end_time": "2024-12-03T10:06:05.011855Z",
     "start_time": "2024-12-03T10:06:04.993957Z"
    }
   },
   "cell_type": "code",
   "source": "emotions = [\"Happy\", \"Sad\", \"Angry\", \"Fear\", \"Disgusted\", \"Surprised\"]",
   "id": "c6c6e65ef3ff8d13",
   "outputs": [],
   "execution_count": 48
  },
  {
   "metadata": {},
   "cell_type": "markdown",
   "source": "## MODEL I",
   "id": "b5d7e7f5a05945e6"
  },
  {
   "metadata": {
    "ExecuteTime": {
     "end_time": "2024-11-28T16:44:19.982462Z",
     "start_time": "2024-11-28T16:44:19.967692Z"
    }
   },
   "cell_type": "code",
   "source": [
    "def custom_masking(inputs):\n",
    "    # Create a mask where any feature being 0 masks the entire time step\n",
    "    mask = tf.reduce_all(tf.not_equal(inputs, 0.0), axis=-1)  # True if no feature is 0\n",
    "    return tf.where(mask[:, :, tf.newaxis], inputs, tf.zeros_like(inputs))"
   ],
   "id": "b9ef495d1b462a28",
   "outputs": [],
   "execution_count": 4
  },
  {
   "metadata": {
    "ExecuteTime": {
     "end_time": "2024-11-28T16:44:23.637102Z",
     "start_time": "2024-11-28T16:44:20.206325Z"
    }
   },
   "cell_type": "code",
   "source": "model_method_I = tf.keras.models.load_model('//153.19.52.107/emboa/IO3-sessions/NEW STRUCTURE/de-earlyfusionthesis/Models/model_method_I/model.keras', custom_objects={'custom_masking': custom_masking})",
   "id": "113e9d51fdd22c8f",
   "outputs": [
    {
     "name": "stdout",
     "output_type": "stream",
     "text": [
      "WARNING:tensorflow:From C:\\Users\\oskik\\AppData\\Local\\Programs\\Python\\Python312\\Lib\\site-packages\\keras\\src\\backend\\tensorflow\\core.py:204: The name tf.placeholder is deprecated. Please use tf.compat.v1.placeholder instead.\n",
      "\n"
     ]
    }
   ],
   "execution_count": 5
  },
  {
   "metadata": {
    "ExecuteTime": {
     "end_time": "2024-11-28T16:44:23.785393Z",
     "start_time": "2024-11-28T16:44:23.733365Z"
    }
   },
   "cell_type": "code",
   "source": "model_method_I.summary()",
   "id": "6990e7d1402b6eba",
   "outputs": [
    {
     "data": {
      "text/plain": [
       "\u001B[1mModel: \"sequential_1\"\u001B[0m\n"
      ],
      "text/html": [
       "<pre style=\"white-space:pre;overflow-x:auto;line-height:normal;font-family:Menlo,'DejaVu Sans Mono',consolas,'Courier New',monospace\"><span style=\"font-weight: bold\">Model: \"sequential_1\"</span>\n",
       "</pre>\n"
      ]
     },
     "metadata": {},
     "output_type": "display_data"
    },
    {
     "data": {
      "text/plain": [
       "┏━━━━━━━━━━━━━━━━━━━━━━━━━━━━━━━━━┳━━━━━━━━━━━━━━━━━━━━━━━━┳━━━━━━━━━━━━━━━┓\n",
       "┃\u001B[1m \u001B[0m\u001B[1mLayer (type)                   \u001B[0m\u001B[1m \u001B[0m┃\u001B[1m \u001B[0m\u001B[1mOutput Shape          \u001B[0m\u001B[1m \u001B[0m┃\u001B[1m \u001B[0m\u001B[1m      Param #\u001B[0m\u001B[1m \u001B[0m┃\n",
       "┡━━━━━━━━━━━━━━━━━━━━━━━━━━━━━━━━━╇━━━━━━━━━━━━━━━━━━━━━━━━╇━━━━━━━━━━━━━━━┩\n",
       "│ lambda_1 (\u001B[38;5;33mLambda\u001B[0m)               │ (\u001B[38;5;45mNone\u001B[0m, \u001B[38;5;34m20\u001B[0m, \u001B[38;5;34m515\u001B[0m)        │             \u001B[38;5;34m0\u001B[0m │\n",
       "├─────────────────────────────────┼────────────────────────┼───────────────┤\n",
       "│ bidirectional_1 (\u001B[38;5;33mBidirectional\u001B[0m) │ (\u001B[38;5;45mNone\u001B[0m, \u001B[38;5;34m20\u001B[0m, \u001B[38;5;34m128\u001B[0m)        │       \u001B[38;5;34m296,960\u001B[0m │\n",
       "├─────────────────────────────────┼────────────────────────┼───────────────┤\n",
       "│ dense_2 (\u001B[38;5;33mDense\u001B[0m)                 │ (\u001B[38;5;45mNone\u001B[0m, \u001B[38;5;34m20\u001B[0m, \u001B[38;5;34m32\u001B[0m)         │         \u001B[38;5;34m4,128\u001B[0m │\n",
       "├─────────────────────────────────┼────────────────────────┼───────────────┤\n",
       "│ dense_3 (\u001B[38;5;33mDense\u001B[0m)                 │ (\u001B[38;5;45mNone\u001B[0m, \u001B[38;5;34m20\u001B[0m, \u001B[38;5;34m6\u001B[0m)          │           \u001B[38;5;34m198\u001B[0m │\n",
       "└─────────────────────────────────┴────────────────────────┴───────────────┘\n"
      ],
      "text/html": [
       "<pre style=\"white-space:pre;overflow-x:auto;line-height:normal;font-family:Menlo,'DejaVu Sans Mono',consolas,'Courier New',monospace\">┏━━━━━━━━━━━━━━━━━━━━━━━━━━━━━━━━━┳━━━━━━━━━━━━━━━━━━━━━━━━┳━━━━━━━━━━━━━━━┓\n",
       "┃<span style=\"font-weight: bold\"> Layer (type)                    </span>┃<span style=\"font-weight: bold\"> Output Shape           </span>┃<span style=\"font-weight: bold\">       Param # </span>┃\n",
       "┡━━━━━━━━━━━━━━━━━━━━━━━━━━━━━━━━━╇━━━━━━━━━━━━━━━━━━━━━━━━╇━━━━━━━━━━━━━━━┩\n",
       "│ lambda_1 (<span style=\"color: #0087ff; text-decoration-color: #0087ff\">Lambda</span>)               │ (<span style=\"color: #00d7ff; text-decoration-color: #00d7ff\">None</span>, <span style=\"color: #00af00; text-decoration-color: #00af00\">20</span>, <span style=\"color: #00af00; text-decoration-color: #00af00\">515</span>)        │             <span style=\"color: #00af00; text-decoration-color: #00af00\">0</span> │\n",
       "├─────────────────────────────────┼────────────────────────┼───────────────┤\n",
       "│ bidirectional_1 (<span style=\"color: #0087ff; text-decoration-color: #0087ff\">Bidirectional</span>) │ (<span style=\"color: #00d7ff; text-decoration-color: #00d7ff\">None</span>, <span style=\"color: #00af00; text-decoration-color: #00af00\">20</span>, <span style=\"color: #00af00; text-decoration-color: #00af00\">128</span>)        │       <span style=\"color: #00af00; text-decoration-color: #00af00\">296,960</span> │\n",
       "├─────────────────────────────────┼────────────────────────┼───────────────┤\n",
       "│ dense_2 (<span style=\"color: #0087ff; text-decoration-color: #0087ff\">Dense</span>)                 │ (<span style=\"color: #00d7ff; text-decoration-color: #00d7ff\">None</span>, <span style=\"color: #00af00; text-decoration-color: #00af00\">20</span>, <span style=\"color: #00af00; text-decoration-color: #00af00\">32</span>)         │         <span style=\"color: #00af00; text-decoration-color: #00af00\">4,128</span> │\n",
       "├─────────────────────────────────┼────────────────────────┼───────────────┤\n",
       "│ dense_3 (<span style=\"color: #0087ff; text-decoration-color: #0087ff\">Dense</span>)                 │ (<span style=\"color: #00d7ff; text-decoration-color: #00d7ff\">None</span>, <span style=\"color: #00af00; text-decoration-color: #00af00\">20</span>, <span style=\"color: #00af00; text-decoration-color: #00af00\">6</span>)          │           <span style=\"color: #00af00; text-decoration-color: #00af00\">198</span> │\n",
       "└─────────────────────────────────┴────────────────────────┴───────────────┘\n",
       "</pre>\n"
      ]
     },
     "metadata": {},
     "output_type": "display_data"
    },
    {
     "data": {
      "text/plain": [
       "\u001B[1m Total params: \u001B[0m\u001B[38;5;34m903,860\u001B[0m (3.45 MB)\n"
      ],
      "text/html": [
       "<pre style=\"white-space:pre;overflow-x:auto;line-height:normal;font-family:Menlo,'DejaVu Sans Mono',consolas,'Courier New',monospace\"><span style=\"font-weight: bold\"> Total params: </span><span style=\"color: #00af00; text-decoration-color: #00af00\">903,860</span> (3.45 MB)\n",
       "</pre>\n"
      ]
     },
     "metadata": {},
     "output_type": "display_data"
    },
    {
     "data": {
      "text/plain": [
       "\u001B[1m Trainable params: \u001B[0m\u001B[38;5;34m301,286\u001B[0m (1.15 MB)\n"
      ],
      "text/html": [
       "<pre style=\"white-space:pre;overflow-x:auto;line-height:normal;font-family:Menlo,'DejaVu Sans Mono',consolas,'Courier New',monospace\"><span style=\"font-weight: bold\"> Trainable params: </span><span style=\"color: #00af00; text-decoration-color: #00af00\">301,286</span> (1.15 MB)\n",
       "</pre>\n"
      ]
     },
     "metadata": {},
     "output_type": "display_data"
    },
    {
     "data": {
      "text/plain": [
       "\u001B[1m Non-trainable params: \u001B[0m\u001B[38;5;34m0\u001B[0m (0.00 B)\n"
      ],
      "text/html": [
       "<pre style=\"white-space:pre;overflow-x:auto;line-height:normal;font-family:Menlo,'DejaVu Sans Mono',consolas,'Courier New',monospace\"><span style=\"font-weight: bold\"> Non-trainable params: </span><span style=\"color: #00af00; text-decoration-color: #00af00\">0</span> (0.00 B)\n",
       "</pre>\n"
      ]
     },
     "metadata": {},
     "output_type": "display_data"
    },
    {
     "data": {
      "text/plain": [
       "\u001B[1m Optimizer params: \u001B[0m\u001B[38;5;34m602,574\u001B[0m (2.30 MB)\n"
      ],
      "text/html": [
       "<pre style=\"white-space:pre;overflow-x:auto;line-height:normal;font-family:Menlo,'DejaVu Sans Mono',consolas,'Courier New',monospace\"><span style=\"font-weight: bold\"> Optimizer params: </span><span style=\"color: #00af00; text-decoration-color: #00af00\">602,574</span> (2.30 MB)\n",
       "</pre>\n"
      ]
     },
     "metadata": {},
     "output_type": "display_data"
    }
   ],
   "execution_count": 6
  },
  {
   "metadata": {
    "ExecuteTime": {
     "end_time": "2024-11-28T16:45:19.692579Z",
     "start_time": "2024-11-28T16:44:28.137067Z"
    }
   },
   "cell_type": "code",
   "source": [
    "test_set = full_test_I\n",
    "# Getting predictions (chat)\n",
    "y_pred = model_method_I.predict(test_set.map(lambda x, _: x))\n",
    "y_true = tf.concat([y for _, y in test_set], axis=0)"
   ],
   "id": "4ed49f3738f5a79b",
   "outputs": [
    {
     "name": "stdout",
     "output_type": "stream",
     "text": [
      "\u001B[1m49/49\u001B[0m \u001B[32m━━━━━━━━━━━━━━━━━━━━\u001B[0m\u001B[37m\u001B[0m \u001B[1m33s\u001B[0m 663ms/step\n"
     ]
    }
   ],
   "execution_count": 7
  },
  {
   "metadata": {
    "ExecuteTime": {
     "end_time": "2024-11-28T16:45:19.742880Z",
     "start_time": "2024-11-28T16:45:19.702063Z"
    }
   },
   "cell_type": "code",
   "source": [
    "categorical_accuracy = tf.keras.metrics.CategoricalAccuracy()\n",
    "categorical_accuracy.update_state(y_true, y_pred)\n",
    "print(f\"Categorical Accuracy: {categorical_accuracy.result().numpy()}\")"
   ],
   "id": "2d0e9d57ba054cd5",
   "outputs": [
    {
     "name": "stdout",
     "output_type": "stream",
     "text": [
      "Categorical Accuracy: 0.9842696189880371\n"
     ]
    }
   ],
   "execution_count": 8
  },
  {
   "metadata": {
    "ExecuteTime": {
     "end_time": "2024-11-28T16:45:19.848118Z",
     "start_time": "2024-11-28T16:45:19.836933Z"
    }
   },
   "cell_type": "code",
   "source": [
    "y_true_indices = np.argmax(y_true.numpy(), axis=-1).flatten()\n",
    "y_pred_indices = np.argmax(y_pred, axis=-1).flatten()"
   ],
   "id": "acd96cfbc7963fc7",
   "outputs": [],
   "execution_count": 9
  },
  {
   "metadata": {
    "ExecuteTime": {
     "end_time": "2024-11-28T16:50:18.171553Z",
     "start_time": "2024-11-28T16:50:17.864699Z"
    }
   },
   "cell_type": "code",
   "source": [
    "cm = confusion_matrix(y_true_indices, y_pred_indices)\n",
    "disp = ConfusionMatrixDisplay(confusion_matrix=cm, display_labels=emotions)\n",
    "disp.plot(cmap='Blues', values_format='')\n",
    "plt.grid(False)\n",
    "plt.title(\"Confusion Matrix\")\n",
    "plt.show()"
   ],
   "id": "4340b5f4dfa6b98f",
   "outputs": [
    {
     "data": {
      "text/plain": [
       "<Figure size 640x480 with 2 Axes>"
      ],
      "image/png": "[encoded data removed]"
     },
     "metadata": {},
     "output_type": "display_data"
    }
   ],
   "execution_count": 19
  },
  {
   "metadata": {
    "ExecuteTime": {
     "end_time": "2024-11-27T14:01:23.832856Z",
     "start_time": "2024-11-27T14:01:23.781821Z"
    }
   },
   "cell_type": "code",
   "source": [
    "for i, emotion in enumerate(emotions):\n",
    "    \n",
    "    # Precision, Recall, F1 for this class\n",
    "    true_class = (y_true_indices == i)\n",
    "    pred_class = (y_pred_indices == i)\n",
    "    precision = np.sum(true_class & pred_class) / np.sum(pred_class)\n",
    "    recall = np.sum(true_class & pred_class) / np.sum(true_class)\n",
    "    f1 = 2 * (precision * recall) / (precision + recall)\n",
    "    \n",
    "    print(f\"Metrics for {emotion}:\")\n",
    "    print(f\"  Precision: {precision:.2f}, Recall: {recall:.2f}, F1-Score: {f1:.2f}\")"
   ],
   "id": "918c1e35072f5658",
   "outputs": [
    {
     "name": "stdout",
     "output_type": "stream",
     "text": [
      "Metrics for Happy:\n",
      "  Precision: 1.00, Recall: 1.00, F1-Score: 1.00\n",
      "Metrics for Sad:\n",
      "  Precision: nan, Recall: nan, F1-Score: nan\n",
      "Metrics for Angry:\n",
      "  Precision: nan, Recall: nan, F1-Score: nan\n",
      "Metrics for Fear:\n",
      "  Precision: nan, Recall: nan, F1-Score: nan\n",
      "Metrics for Disgusted:\n",
      "  Precision: nan, Recall: nan, F1-Score: nan\n",
      "Metrics for Surprised:\n",
      "  Precision: nan, Recall: nan, F1-Score: nan\n"
     ]
    },
    {
     "name": "stderr",
     "output_type": "stream",
     "text": [
      "C:\\Users\\oskik\\AppData\\Local\\Temp\\ipykernel_17356\\3298553603.py:6: RuntimeWarning: invalid value encountered in scalar divide\n",
      "  precision = np.sum(true_class & pred_class) / np.sum(pred_class)\n",
      "C:\\Users\\oskik\\AppData\\Local\\Temp\\ipykernel_17356\\3298553603.py:7: RuntimeWarning: invalid value encountered in scalar divide\n",
      "  recall = np.sum(true_class & pred_class) / np.sum(true_class)\n"
     ]
    }
   ],
   "execution_count": 23
  },
  {
   "metadata": {},
   "cell_type": "markdown",
   "source": "## MODEL II",
   "id": "6e728abaf9ce7ed8"
  },
  {
   "cell_type": "code",
   "id": "initial_id",
   "metadata": {
    "collapsed": true,
    "ExecuteTime": {
     "end_time": "2024-12-03T10:06:13.140875Z",
     "start_time": "2024-12-03T10:06:11.636473Z"
    }
   },
   "source": "model_method_II = tf.keras.models.load_model('//153.19.52.107/emboa/IO3-sessions/NEW STRUCTURE/de-earlyfusionthesis/Models/model_method_II/model.keras')",
   "outputs": [],
   "execution_count": 49
  },
  {
   "metadata": {
    "ExecuteTime": {
     "end_time": "2024-12-03T10:06:13.917693Z",
     "start_time": "2024-12-03T10:06:13.796028Z"
    }
   },
   "cell_type": "code",
   "source": "model_method_II.summary()",
   "id": "eccbf4f9b0a83a5a",
   "outputs": [
    {
     "data": {
      "text/plain": [
       "\u001B[1mModel: \"sequential_5\"\u001B[0m\n"
      ],
      "text/html": [
       "<pre style=\"white-space:pre;overflow-x:auto;line-height:normal;font-family:Menlo,'DejaVu Sans Mono',consolas,'Courier New',monospace\"><span style=\"font-weight: bold\">Model: \"sequential_5\"</span>\n",
       "</pre>\n"
      ]
     },
     "metadata": {},
     "output_type": "display_data"
    },
    {
     "data": {
      "text/plain": [
       "┏━━━━━━━━━━━━━━━━━━━━━━━━━━━━━━━━━┳━━━━━━━━━━━━━━━━━━━━━━━━┳━━━━━━━━━━━━━━━┓\n",
       "┃\u001B[1m \u001B[0m\u001B[1mLayer (type)                   \u001B[0m\u001B[1m \u001B[0m┃\u001B[1m \u001B[0m\u001B[1mOutput Shape          \u001B[0m\u001B[1m \u001B[0m┃\u001B[1m \u001B[0m\u001B[1m      Param #\u001B[0m\u001B[1m \u001B[0m┃\n",
       "┡━━━━━━━━━━━━━━━━━━━━━━━━━━━━━━━━━╇━━━━━━━━━━━━━━━━━━━━━━━━╇━━━━━━━━━━━━━━━┩\n",
       "│ lstm_5 (\u001B[38;5;33mLSTM\u001B[0m)                   │ (\u001B[38;5;45mNone\u001B[0m, \u001B[38;5;34m10\u001B[0m, \u001B[38;5;34m64\u001B[0m)         │       \u001B[38;5;34m148,480\u001B[0m │\n",
       "├─────────────────────────────────┼────────────────────────┼───────────────┤\n",
       "│ dense_10 (\u001B[38;5;33mDense\u001B[0m)                │ (\u001B[38;5;45mNone\u001B[0m, \u001B[38;5;34m10\u001B[0m, \u001B[38;5;34m32\u001B[0m)         │         \u001B[38;5;34m2,080\u001B[0m │\n",
       "├─────────────────────────────────┼────────────────────────┼───────────────┤\n",
       "│ dense_11 (\u001B[38;5;33mDense\u001B[0m)                │ (\u001B[38;5;45mNone\u001B[0m, \u001B[38;5;34m10\u001B[0m, \u001B[38;5;34m6\u001B[0m)          │           \u001B[38;5;34m198\u001B[0m │\n",
       "└─────────────────────────────────┴────────────────────────┴───────────────┘\n"
      ],
      "text/html": [
       "<pre style=\"white-space:pre;overflow-x:auto;line-height:normal;font-family:Menlo,'DejaVu Sans Mono',consolas,'Courier New',monospace\">┏━━━━━━━━━━━━━━━━━━━━━━━━━━━━━━━━━┳━━━━━━━━━━━━━━━━━━━━━━━━┳━━━━━━━━━━━━━━━┓\n",
       "┃<span style=\"font-weight: bold\"> Layer (type)                    </span>┃<span style=\"font-weight: bold\"> Output Shape           </span>┃<span style=\"font-weight: bold\">       Param # </span>┃\n",
       "┡━━━━━━━━━━━━━━━━━━━━━━━━━━━━━━━━━╇━━━━━━━━━━━━━━━━━━━━━━━━╇━━━━━━━━━━━━━━━┩\n",
       "│ lstm_5 (<span style=\"color: #0087ff; text-decoration-color: #0087ff\">LSTM</span>)                   │ (<span style=\"color: #00d7ff; text-decoration-color: #00d7ff\">None</span>, <span style=\"color: #00af00; text-decoration-color: #00af00\">10</span>, <span style=\"color: #00af00; text-decoration-color: #00af00\">64</span>)         │       <span style=\"color: #00af00; text-decoration-color: #00af00\">148,480</span> │\n",
       "├─────────────────────────────────┼────────────────────────┼───────────────┤\n",
       "│ dense_10 (<span style=\"color: #0087ff; text-decoration-color: #0087ff\">Dense</span>)                │ (<span style=\"color: #00d7ff; text-decoration-color: #00d7ff\">None</span>, <span style=\"color: #00af00; text-decoration-color: #00af00\">10</span>, <span style=\"color: #00af00; text-decoration-color: #00af00\">32</span>)         │         <span style=\"color: #00af00; text-decoration-color: #00af00\">2,080</span> │\n",
       "├─────────────────────────────────┼────────────────────────┼───────────────┤\n",
       "│ dense_11 (<span style=\"color: #0087ff; text-decoration-color: #0087ff\">Dense</span>)                │ (<span style=\"color: #00d7ff; text-decoration-color: #00d7ff\">None</span>, <span style=\"color: #00af00; text-decoration-color: #00af00\">10</span>, <span style=\"color: #00af00; text-decoration-color: #00af00\">6</span>)          │           <span style=\"color: #00af00; text-decoration-color: #00af00\">198</span> │\n",
       "└─────────────────────────────────┴────────────────────────┴───────────────┘\n",
       "</pre>\n"
      ]
     },
     "metadata": {},
     "output_type": "display_data"
    },
    {
     "data": {
      "text/plain": [
       "\u001B[1m Total params: \u001B[0m\u001B[38;5;34m452,276\u001B[0m (1.73 MB)\n"
      ],
      "text/html": [
       "<pre style=\"white-space:pre;overflow-x:auto;line-height:normal;font-family:Menlo,'DejaVu Sans Mono',consolas,'Courier New',monospace\"><span style=\"font-weight: bold\"> Total params: </span><span style=\"color: #00af00; text-decoration-color: #00af00\">452,276</span> (1.73 MB)\n",
       "</pre>\n"
      ]
     },
     "metadata": {},
     "output_type": "display_data"
    },
    {
     "data": {
      "text/plain": [
       "\u001B[1m Trainable params: \u001B[0m\u001B[38;5;34m150,758\u001B[0m (588.90 KB)\n"
      ],
      "text/html": [
       "<pre style=\"white-space:pre;overflow-x:auto;line-height:normal;font-family:Menlo,'DejaVu Sans Mono',consolas,'Courier New',monospace\"><span style=\"font-weight: bold\"> Trainable params: </span><span style=\"color: #00af00; text-decoration-color: #00af00\">150,758</span> (588.90 KB)\n",
       "</pre>\n"
      ]
     },
     "metadata": {},
     "output_type": "display_data"
    },
    {
     "data": {
      "text/plain": [
       "\u001B[1m Non-trainable params: \u001B[0m\u001B[38;5;34m0\u001B[0m (0.00 B)\n"
      ],
      "text/html": [
       "<pre style=\"white-space:pre;overflow-x:auto;line-height:normal;font-family:Menlo,'DejaVu Sans Mono',consolas,'Courier New',monospace\"><span style=\"font-weight: bold\"> Non-trainable params: </span><span style=\"color: #00af00; text-decoration-color: #00af00\">0</span> (0.00 B)\n",
       "</pre>\n"
      ]
     },
     "metadata": {},
     "output_type": "display_data"
    },
    {
     "data": {
      "text/plain": [
       "\u001B[1m Optimizer params: \u001B[0m\u001B[38;5;34m301,518\u001B[0m (1.15 MB)\n"
      ],
      "text/html": [
       "<pre style=\"white-space:pre;overflow-x:auto;line-height:normal;font-family:Menlo,'DejaVu Sans Mono',consolas,'Courier New',monospace\"><span style=\"font-weight: bold\"> Optimizer params: </span><span style=\"color: #00af00; text-decoration-color: #00af00\">301,518</span> (1.15 MB)\n",
       "</pre>\n"
      ]
     },
     "metadata": {},
     "output_type": "display_data"
    }
   ],
   "execution_count": 50
  },
  {
   "metadata": {
    "ExecuteTime": {
     "end_time": "2024-12-03T10:06:27.308629Z",
     "start_time": "2024-12-03T10:06:15.772121Z"
    }
   },
   "cell_type": "code",
   "outputs": [
    {
     "name": "stdout",
     "output_type": "stream",
     "text": [
      "\u001B[1m36/36\u001B[0m \u001B[32m━━━━━━━━━━━━━━━━━━━━\u001B[0m\u001B[37m\u001B[0m \u001B[1m11s\u001B[0m 236ms/step\n",
      "Similarity for Happy: 0.6910640001296997, Labels Used = 8554\n",
      "Similarity for Sad: 0.7129199504852295, Labels Used = 784\n",
      "Similarity for Angry: 0.6585703492164612, Labels Used = 572\n",
      "Similarity for Fear: 0.6640673875808716, Labels Used = 339\n",
      "Similarity for Disgusted: 0.6474618911743164, Labels Used = 261\n",
      "Similarity for Surprised: 0.6666855216026306, Labels Used = 341\n"
     ]
    }
   ],
   "execution_count": 51,
   "source": [
    "import tensorflow as tf\n",
    "test_set = MAAP_test_II\n",
    "# Getting predictions (chat)\n",
    "y_pred = model_method_II.predict(test_set.map(lambda x, _: x))\n",
    "y_true = tf.concat([y for _, y in test_set], axis=0)\n",
    "\n",
    "def compute_mse(y_true, y_pred):\n",
    "    \"\"\"Mean Squared Error\"\"\"\n",
    "    mse = tf.reduce_mean(tf.square(y_true - y_pred))\n",
    "    return mse.numpy()\n",
    "\n",
    "def compute_mae(y_true, y_pred):\n",
    "    \"\"\"Mean Absolute Error\"\"\"\n",
    "    mae = tf.reduce_mean(tf.abs(y_true - y_pred))\n",
    "    return mae.numpy()\n",
    "\n",
    "def compute_rmse(y_true, y_pred):\n",
    "    \"\"\"Root Mean Squared Error\"\"\"\n",
    "    mse = compute_mse(y_true, y_pred)\n",
    "    rmse = tf.sqrt(mse)\n",
    "    return rmse.numpy()\n",
    "\n",
    "def compute_r2(y_true, y_pred):\n",
    "    \"\"\"R² Score\"\"\"\n",
    "    total_variance = tf.reduce_sum(tf.square(y_true - tf.reduce_mean(y_true)))\n",
    "    residual_variance = tf.reduce_sum(tf.square(y_true - y_pred))\n",
    "    r2 = 1 - (residual_variance / total_variance)\n",
    "    return r2.numpy()\n",
    "\n",
    "def compute_similarity(y_true, y_pred):\n",
    "    \"\"\"Similarity\"\"\"\n",
    "        # Compute the similarity: 1 - |true - prediction|\n",
    "    similarity = 1 - tf.abs(y_true - y_pred)\n",
    "\n",
    "    # Compute Mean Average Similarity (MAS)\n",
    "    mas = tf.reduce_mean(similarity)\n",
    "    \n",
    "    return mas.numpy()\n",
    "    \n",
    "# Computing Metrics for Each Emotion\n",
    "metric_results = []\n",
    "# Function\n",
    "def compute_metrics(y_true, y_pred, emotion_index, metric_results):\n",
    "    # Ensure tensors are of the same type cause some bugs idk\n",
    "    y_true = tf.cast(y_true, tf.float32)\n",
    "    y_pred = tf.cast(y_pred, tf.float32)\n",
    "    \n",
    "    # Extract true and predicted values for the specific emotion\n",
    "    true_values = y_true[:, :, emotion_index]\n",
    "    pred_values = y_pred[:, :, emotion_index]\n",
    "    \n",
    "    # Create a mask for non-zero true values (bylo na wloskich zajeciach)\n",
    "    mask = tf.not_equal(true_values, 0)\n",
    "    \n",
    "    # Apply the mask\n",
    "    true_values_masked = tf.boolean_mask(true_values, mask)\n",
    "    pred_values_masked = tf.boolean_mask(pred_values, mask)\n",
    "    \n",
    "    mse = compute_mse(true_values_masked, pred_values_masked)\n",
    "    mae = compute_mae(true_values_masked, pred_values_masked)\n",
    "    rmse = compute_rmse(true_values_masked, pred_values_masked)\n",
    "    r2 = compute_r2(true_values_masked, pred_values_masked)\n",
    "    similarity = compute_similarity(true_values_masked, pred_values_masked)\n",
    "    \n",
    "    # Store results\n",
    "    metric_results.append({\n",
    "        'emotion': emotion,\n",
    "        'MSE': mse,\n",
    "        'MAE': mae,\n",
    "        'RMSE': rmse,\n",
    "        'R²': r2\n",
    "    })\n",
    "    \n",
    "    print(f\"Metrics for {emotion}: MSE = {mse}, MAE = {mae}, RMSE = {rmse}, R² = {r2}\")\n",
    "    \n",
    "    # How many labels were used for this metric\n",
    "    label_count = tf.size(true_values_masked).numpy()\n",
    "    \n",
    "    return label_count, metric_results\n",
    "\n",
    "# List for emotions\n",
    "label_counts = []\n",
    "\n",
    "\n",
    "    label_count = compute_metrics(y_true, y_pred, i, metric_results)\n",
    "    label_counts.append(label_count)\n",
    "    print(f\"Similarity for {emotion}: {mas}, Labels Used = {label_count}\")"
   ],
   "id": "d29a0174ad6999c6"
  },
  {
   "metadata": {
    "ExecuteTime": {
     "end_time": "2024-12-03T10:21:02.638651Z",
     "start_time": "2024-12-03T10:20:47.587317Z"
    }
   },
   "cell_type": "code",
   "source": [
    "test_set = full_test_II\n",
    "# Getting predictions (chat)\n",
    "y_pred = model_method_II.predict(test_set.map(lambda x, _: x))\n",
    "y_true = tf.concat([y for _, y in test_set], axis=0)\n",
    "# Helper function to compute metrics for a single emotion\n",
    "def compute_all_metrics(y_true, y_pred):\n",
    "    \"\"\"\n",
    "    Compute MAS, MSE, MAE, RMSE, and R² for masked values of y_true and y_pred.\n",
    "    \n",
    "    Args:\n",
    "        y_true (tf.Tensor): Ground truth values after masking.\n",
    "        y_pred (tf.Tensor): Predicted values after masking.\n",
    "    \n",
    "    Returns:\n",
    "        dict: A dictionary with computed metrics.\n",
    "    \"\"\"\n",
    "    def compute_mse(y_true, y_pred):\n",
    "        return tf.reduce_mean(tf.square(y_true - y_pred)).numpy()\n",
    "\n",
    "    def compute_mae(y_true, y_pred):\n",
    "        return tf.reduce_mean(tf.abs(y_true - y_pred)).numpy()\n",
    "\n",
    "    def compute_rmse(y_true, y_pred):\n",
    "        mse = tf.reduce_mean(tf.square(y_true - y_pred))\n",
    "        return tf.sqrt(mse).numpy()\n",
    "\n",
    "    def compute_r2(y_true, y_pred):\n",
    "        total_variance = tf.reduce_sum(tf.square(y_true - tf.reduce_mean(y_true)))\n",
    "        residual_variance = tf.reduce_sum(tf.square(y_true - y_pred))\n",
    "        return (1 - residual_variance / total_variance).numpy()\n",
    "\n",
    "    def compute_similarity(y_true, y_pred):\n",
    "        similarity = 1 - tf.abs(y_true - y_pred)\n",
    "        mas = tf.reduce_mean(similarity).numpy()\n",
    "        label_count = tf.size(y_true).numpy()\n",
    "        return mas, label_count\n",
    "\n",
    "    # Compute metrics\n",
    "    mse = compute_mse(y_true, y_pred)\n",
    "    mae = compute_mae(y_true, y_pred)\n",
    "    rmse = compute_rmse(y_true, y_pred)\n",
    "    r2 = compute_r2(y_true, y_pred)\n",
    "    mas, label_count = compute_similarity(y_true, y_pred)\n",
    "\n",
    "    return {\n",
    "        'MAS': mas,\n",
    "        'Labels Used': label_count,\n",
    "        'MSE': mse,\n",
    "        'MAE': mae,\n",
    "        'RMSE': rmse,\n",
    "        'R²': r2\n",
    "    }\n",
    "\n",
    "# Main loop to compute metrics for all emotions\n",
    "def compute_metrics_for_all_emotions(y_true, y_pred, emotions):\n",
    "    \"\"\"\n",
    "    Compute all metrics for each emotion.\n",
    "    \n",
    "    Args:\n",
    "        y_true (tf.Tensor): Ground truth values (shape: [batch_size, sequence_length, num_emotions]).\n",
    "        y_pred (tf.Tensor): Predicted values (shape: [batch_size, sequence_length, num_emotions]).\n",
    "        emotions (list): List of emotion names.\n",
    "    \n",
    "    Returns:\n",
    "        list: A list of dictionaries containing metrics for each emotion.\n",
    "    \"\"\"\n",
    "    metric_results = []\n",
    "\n",
    "    for i, emotion in enumerate(emotions):\n",
    "        # Extract true and predicted values for the specific emotion\n",
    "        true_values = tf.cast(y_true[:, :, i], tf.float32)\n",
    "        pred_values = tf.cast(y_pred[:, :, i], tf.float32)\n",
    "        \n",
    "        # Mask non-zero true values\n",
    "        # mask = tf.not_equal(true_values, 0)\n",
    "        # true_values_masked = tf.boolean_mask(true_values, mask)\n",
    "        # pred_values_masked = tf.boolean_mask(pred_values, mask)\n",
    "        \n",
    "        # Compute all metrics using the helper function\n",
    "        metrics = compute_all_metrics(true_values, pred_values)\n",
    "        metrics['emotion'] = emotion  # Add emotion name to the result\n",
    "        \n",
    "        # Append to results\n",
    "        metric_results.append(metrics)\n",
    "\n",
    "        # Print for immediate feedback\n",
    "        print(f\"Emotion: {emotion}, Metrics: {metrics}\")\n",
    "\n",
    "    return metric_results\n",
    "\n",
    "# Example Usage\n",
    "# Assuming `emotions` is a list of emotion names, and `y_true` and `y_pred` are already defined\n",
    "results = compute_metrics_for_all_emotions(y_true, y_pred, emotions)\n",
    "\n",
    "# Results are already printed inside the loop\n"
   ],
   "id": "1216bbf95ae134bc",
   "outputs": [
    {
     "name": "stdout",
     "output_type": "stream",
     "text": [
      "\u001B[1m49/49\u001B[0m \u001B[32m━━━━━━━━━━━━━━━━━━━━\u001B[0m\u001B[37m\u001B[0m \u001B[1m13s\u001B[0m 246ms/step\n",
      "Emotion: Happy, Metrics: {'MAS': 0.81424594, 'Labels Used': 30260, 'MSE': 0.07381781, 'MAE': 0.18575408, 'RMSE': 0.27169433, 'R²': 0.13560373, 'emotion': 'Happy'}\n",
      "Emotion: Sad, Metrics: {'MAS': 0.9765577, 'Labels Used': 30260, 'MSE': 0.0051208, 'MAE': 0.023442365, 'RMSE': 0.071559764, 'R²': -0.003008008, 'emotion': 'Sad'}\n",
      "Emotion: Angry, Metrics: {'MAS': 0.97591156, 'Labels Used': 30260, 'MSE': 0.0059645013, 'MAE': 0.024088474, 'RMSE': 0.077230185, 'R²': -0.0022090673, 'emotion': 'Angry'}\n",
      "Emotion: Fear, Metrics: {'MAS': 0.9866006, 'Labels Used': 30260, 'MSE': 0.0021546085, 'MAE': 0.013399397, 'RMSE': 0.04641776, 'R²': -0.20613396, 'emotion': 'Fear'}\n",
      "Emotion: Disgusted, Metrics: {'MAS': 0.99172884, 'Labels Used': 30260, 'MSE': 0.0020438137, 'MAE': 0.0082711745, 'RMSE': 0.04520856, 'R²': -0.16049123, 'emotion': 'Disgusted'}\n",
      "Emotion: Surprised, Metrics: {'MAS': 0.98520696, 'Labels Used': 30260, 'MSE': 0.0037332436, 'MAE': 0.014793016, 'RMSE': 0.061100274, 'R²': -0.5329946, 'emotion': 'Surprised'}\n"
     ]
    }
   ],
   "execution_count": 54
  },
  {
   "metadata": {},
   "cell_type": "code",
   "outputs": [],
   "execution_count": null,
   "source": "",
   "id": "8f655adbe5da4e34"
  }
 ],
 "metadata": {
  "kernelspec": {
   "display_name": "Python 3",
   "language": "python",
   "name": "python3"
  },
  "language_info": {
   "codemirror_mode": {
    "name": "ipython",
    "version": 2
   },
   "file_extension": ".py",
   "mimetype": "text/x-python",
   "name": "python",
   "nbconvert_exporter": "python",
   "pygments_lexer": "ipython2",
   "version": "2.7.6"
  }
 },
 "nbformat": 4,
 "nbformat_minor": 5
}
