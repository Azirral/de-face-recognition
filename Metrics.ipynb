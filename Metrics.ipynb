{
 "cells": [
  {
   "metadata": {
    "ExecuteTime": {
     "end_time": "2024-11-27T16:39:49.785624Z",
     "start_time": "2024-11-27T16:39:49.761873Z"
    }
   },
   "cell_type": "code",
   "source": [
    "import os\n",
    "import tensorflow as tf\n",
    "import numpy as np\n",
    "import matplotlib.pyplot as plt\n",
    "from sklearn.metrics import confusion_matrix, ConfusionMatrixDisplay"
   ],
   "id": "24c79cc35059ab15",
   "outputs": [],
   "execution_count": 43
  },
  {
   "metadata": {
    "ExecuteTime": {
     "end_time": "2024-11-27T16:39:51.096932Z",
     "start_time": "2024-11-27T16:39:50.047987Z"
    }
   },
   "cell_type": "code",
   "source": [
    "path = r'S:\\IO3-sessions\\NEW STRUCTURE\\de-earlyfusionthesis\\Datasets'\n",
    "\n",
    "train_dataset_path_I = os.path.abspath(os.path.join(path, 'train_dataset_method_II'))\n",
    "GUT_test_path_I = os.path.join(path, 'GUT_test_method_I').replace(\"\\\\\", \"/\")\n",
    "ITU_YU_test_path_I = os.path.join(path, 'ITU_YU_test_method_I').replace(\"\\\\\", \"/\")\n",
    "MAAP_test_path_I = os.path.join(path, 'MAAP_test_method_I').replace(\"\\\\\", \"/\")\n",
    "\n",
    "train_dataset_path_II = os.path.abspath(os.path.join(path, 'train_dataset_method_II'))\n",
    "GUT_test_path_II = os.path.join(path, 'GUT_test_method_II').replace(\"\\\\\", \"/\")\n",
    "ITU_YU_test_path_II = os.path.join(path, 'ITU_YU_test_method_II').replace(\"\\\\\", \"/\")\n",
    "MAAP_test_path_II = os.path.join(path, 'MAAP_test_method_II').replace(\"\\\\\", \"/\")\n",
    "\n",
    "# Load datasets\n",
    "train_I = tf.data.Dataset.load(train_dataset_path_I)\n",
    "GUT_test_I = tf.data.Dataset.load(GUT_test_path_I)\n",
    "ITU_YU_test_I = tf.data.Dataset.load(ITU_YU_test_path_I)\n",
    "MAAP_test_I = tf.data.Dataset.load(MAAP_test_path_I)\n",
    "\n",
    "train_II = tf.data.Dataset.load(train_dataset_path_II)\n",
    "GUT_test_II = tf.data.Dataset.load(GUT_test_path_II)\n",
    "ITU_YU_test_II = tf.data.Dataset.load(ITU_YU_test_path_II)\n",
    "MAAP_test_II = tf.data.Dataset.load(MAAP_test_path_II)"
   ],
   "id": "ea3f186bf5baf876",
   "outputs": [],
   "execution_count": 44
  },
  {
   "metadata": {
    "ExecuteTime": {
     "end_time": "2024-11-27T16:39:51.558368Z",
     "start_time": "2024-11-27T16:39:51.539123Z"
    }
   },
   "cell_type": "code",
   "source": "emotions = [\"Happy\", \"Sad\", \"Angry\", \"Fear\", \"Disgusted\", \"Surprised\"]",
   "id": "c6c6e65ef3ff8d13",
   "outputs": [],
   "execution_count": 45
  },
  {
   "metadata": {},
   "cell_type": "markdown",
   "source": "## MODEL I",
   "id": "b5d7e7f5a05945e6"
  },
  {
   "metadata": {
    "ExecuteTime": {
     "end_time": "2024-11-27T17:02:35.575933Z",
     "start_time": "2024-11-27T17:02:35.334640Z"
    }
   },
   "cell_type": "code",
   "source": [
    "def custom_masking(inputs):\n",
    "    # Create a mask where any feature being 0 masks the entire time step\n",
    "    mask = tf.reduce_all(tf.not_equal(inputs, 0.0), axis=-1)  # True if no feature is 0\n",
    "    return tf.where(mask[:, :, tf.newaxis], inputs, tf.zeros_like(inputs))"
   ],
   "id": "b9ef495d1b462a28",
   "outputs": [],
   "execution_count": 53
  },
  {
   "metadata": {
    "ExecuteTime": {
     "end_time": "2024-11-27T17:02:37.625235Z",
     "start_time": "2024-11-27T17:02:35.603118Z"
    }
   },
   "cell_type": "code",
   "source": "model_method_I = tf.keras.models.load_model('//153.19.52.107/emboa/IO3-sessions/NEW STRUCTURE/de-earlyfusionthesis/Models/model_method_I/model.keras', custom_objects={'custom_masking': custom_masking})",
   "id": "113e9d51fdd22c8f",
   "outputs": [],
   "execution_count": 54
  },
  {
   "metadata": {
    "ExecuteTime": {
     "end_time": "2024-11-27T17:02:37.825294Z",
     "start_time": "2024-11-27T17:02:37.728236Z"
    }
   },
   "cell_type": "code",
   "source": "model_method_I.summary()",
   "id": "6990e7d1402b6eba",
   "outputs": [
    {
     "data": {
      "text/plain": [
       "\u001B[1mModel: \"sequential\"\u001B[0m\n"
      ],
      "text/html": [
       "<pre style=\"white-space:pre;overflow-x:auto;line-height:normal;font-family:Menlo,'DejaVu Sans Mono',consolas,'Courier New',monospace\"><span style=\"font-weight: bold\">Model: \"sequential\"</span>\n",
       "</pre>\n"
      ]
     },
     "metadata": {},
     "output_type": "display_data"
    },
    {
     "data": {
      "text/plain": [
       "┏━━━━━━━━━━━━━━━━━━━━━━━━━━━━━━━━━┳━━━━━━━━━━━━━━━━━━━━━━━━┳━━━━━━━━━━━━━━━┓\n",
       "┃\u001B[1m \u001B[0m\u001B[1mLayer (type)                   \u001B[0m\u001B[1m \u001B[0m┃\u001B[1m \u001B[0m\u001B[1mOutput Shape          \u001B[0m\u001B[1m \u001B[0m┃\u001B[1m \u001B[0m\u001B[1m      Param #\u001B[0m\u001B[1m \u001B[0m┃\n",
       "┡━━━━━━━━━━━━━━━━━━━━━━━━━━━━━━━━━╇━━━━━━━━━━━━━━━━━━━━━━━━╇━━━━━━━━━━━━━━━┩\n",
       "│ lambda_9 (\u001B[38;5;33mLambda\u001B[0m)               │ (\u001B[38;5;45mNone\u001B[0m, \u001B[38;5;34m20\u001B[0m, \u001B[38;5;34m515\u001B[0m)        │             \u001B[38;5;34m0\u001B[0m │\n",
       "├─────────────────────────────────┼────────────────────────┼───────────────┤\n",
       "│ lstm_9 (\u001B[38;5;33mLSTM\u001B[0m)                   │ (\u001B[38;5;45mNone\u001B[0m, \u001B[38;5;34m20\u001B[0m, \u001B[38;5;34m64\u001B[0m)         │       \u001B[38;5;34m148,480\u001B[0m │\n",
       "├─────────────────────────────────┼────────────────────────┼───────────────┤\n",
       "│ dense_16 (\u001B[38;5;33mDense\u001B[0m)                │ (\u001B[38;5;45mNone\u001B[0m, \u001B[38;5;34m20\u001B[0m, \u001B[38;5;34m32\u001B[0m)         │         \u001B[38;5;34m2,080\u001B[0m │\n",
       "├─────────────────────────────────┼────────────────────────┼───────────────┤\n",
       "│ dense_17 (\u001B[38;5;33mDense\u001B[0m)                │ (\u001B[38;5;45mNone\u001B[0m, \u001B[38;5;34m20\u001B[0m, \u001B[38;5;34m6\u001B[0m)          │           \u001B[38;5;34m198\u001B[0m │\n",
       "└─────────────────────────────────┴────────────────────────┴───────────────┘\n"
      ],
      "text/html": [
       "<pre style=\"white-space:pre;overflow-x:auto;line-height:normal;font-family:Menlo,'DejaVu Sans Mono',consolas,'Courier New',monospace\">┏━━━━━━━━━━━━━━━━━━━━━━━━━━━━━━━━━┳━━━━━━━━━━━━━━━━━━━━━━━━┳━━━━━━━━━━━━━━━┓\n",
       "┃<span style=\"font-weight: bold\"> Layer (type)                    </span>┃<span style=\"font-weight: bold\"> Output Shape           </span>┃<span style=\"font-weight: bold\">       Param # </span>┃\n",
       "┡━━━━━━━━━━━━━━━━━━━━━━━━━━━━━━━━━╇━━━━━━━━━━━━━━━━━━━━━━━━╇━━━━━━━━━━━━━━━┩\n",
       "│ lambda_9 (<span style=\"color: #0087ff; text-decoration-color: #0087ff\">Lambda</span>)               │ (<span style=\"color: #00d7ff; text-decoration-color: #00d7ff\">None</span>, <span style=\"color: #00af00; text-decoration-color: #00af00\">20</span>, <span style=\"color: #00af00; text-decoration-color: #00af00\">515</span>)        │             <span style=\"color: #00af00; text-decoration-color: #00af00\">0</span> │\n",
       "├─────────────────────────────────┼────────────────────────┼───────────────┤\n",
       "│ lstm_9 (<span style=\"color: #0087ff; text-decoration-color: #0087ff\">LSTM</span>)                   │ (<span style=\"color: #00d7ff; text-decoration-color: #00d7ff\">None</span>, <span style=\"color: #00af00; text-decoration-color: #00af00\">20</span>, <span style=\"color: #00af00; text-decoration-color: #00af00\">64</span>)         │       <span style=\"color: #00af00; text-decoration-color: #00af00\">148,480</span> │\n",
       "├─────────────────────────────────┼────────────────────────┼───────────────┤\n",
       "│ dense_16 (<span style=\"color: #0087ff; text-decoration-color: #0087ff\">Dense</span>)                │ (<span style=\"color: #00d7ff; text-decoration-color: #00d7ff\">None</span>, <span style=\"color: #00af00; text-decoration-color: #00af00\">20</span>, <span style=\"color: #00af00; text-decoration-color: #00af00\">32</span>)         │         <span style=\"color: #00af00; text-decoration-color: #00af00\">2,080</span> │\n",
       "├─────────────────────────────────┼────────────────────────┼───────────────┤\n",
       "│ dense_17 (<span style=\"color: #0087ff; text-decoration-color: #0087ff\">Dense</span>)                │ (<span style=\"color: #00d7ff; text-decoration-color: #00d7ff\">None</span>, <span style=\"color: #00af00; text-decoration-color: #00af00\">20</span>, <span style=\"color: #00af00; text-decoration-color: #00af00\">6</span>)          │           <span style=\"color: #00af00; text-decoration-color: #00af00\">198</span> │\n",
       "└─────────────────────────────────┴────────────────────────┴───────────────┘\n",
       "</pre>\n"
      ]
     },
     "metadata": {},
     "output_type": "display_data"
    },
    {
     "data": {
      "text/plain": [
       "\u001B[1m Total params: \u001B[0m\u001B[38;5;34m452,276\u001B[0m (1.73 MB)\n"
      ],
      "text/html": [
       "<pre style=\"white-space:pre;overflow-x:auto;line-height:normal;font-family:Menlo,'DejaVu Sans Mono',consolas,'Courier New',monospace\"><span style=\"font-weight: bold\"> Total params: </span><span style=\"color: #00af00; text-decoration-color: #00af00\">452,276</span> (1.73 MB)\n",
       "</pre>\n"
      ]
     },
     "metadata": {},
     "output_type": "display_data"
    },
    {
     "data": {
      "text/plain": [
       "\u001B[1m Trainable params: \u001B[0m\u001B[38;5;34m150,758\u001B[0m (588.90 KB)\n"
      ],
      "text/html": [
       "<pre style=\"white-space:pre;overflow-x:auto;line-height:normal;font-family:Menlo,'DejaVu Sans Mono',consolas,'Courier New',monospace\"><span style=\"font-weight: bold\"> Trainable params: </span><span style=\"color: #00af00; text-decoration-color: #00af00\">150,758</span> (588.90 KB)\n",
       "</pre>\n"
      ]
     },
     "metadata": {},
     "output_type": "display_data"
    },
    {
     "data": {
      "text/plain": [
       "\u001B[1m Non-trainable params: \u001B[0m\u001B[38;5;34m0\u001B[0m (0.00 B)\n"
      ],
      "text/html": [
       "<pre style=\"white-space:pre;overflow-x:auto;line-height:normal;font-family:Menlo,'DejaVu Sans Mono',consolas,'Courier New',monospace\"><span style=\"font-weight: bold\"> Non-trainable params: </span><span style=\"color: #00af00; text-decoration-color: #00af00\">0</span> (0.00 B)\n",
       "</pre>\n"
      ]
     },
     "metadata": {},
     "output_type": "display_data"
    },
    {
     "data": {
      "text/plain": [
       "\u001B[1m Optimizer params: \u001B[0m\u001B[38;5;34m301,518\u001B[0m (1.15 MB)\n"
      ],
      "text/html": [
       "<pre style=\"white-space:pre;overflow-x:auto;line-height:normal;font-family:Menlo,'DejaVu Sans Mono',consolas,'Courier New',monospace\"><span style=\"font-weight: bold\"> Optimizer params: </span><span style=\"color: #00af00; text-decoration-color: #00af00\">301,518</span> (1.15 MB)\n",
       "</pre>\n"
      ]
     },
     "metadata": {},
     "output_type": "display_data"
    }
   ],
   "execution_count": 55
  },
  {
   "metadata": {
    "ExecuteTime": {
     "end_time": "2024-11-27T17:02:50.562897Z",
     "start_time": "2024-11-27T17:02:38.083924Z"
    }
   },
   "cell_type": "code",
   "source": [
    "test_set = MAAP_test_I\n",
    "# Getting predictions (chat)\n",
    "y_pred = model_method_I.predict(test_set.map(lambda x, _: x))\n",
    "y_true = tf.concat([y for _, y in test_set], axis=0)"
   ],
   "id": "4ed49f3738f5a79b",
   "outputs": [
    {
     "name": "stdout",
     "output_type": "stream",
     "text": [
      "\u001B[1m36/36\u001B[0m \u001B[32m━━━━━━━━━━━━━━━━━━━━\u001B[0m\u001B[37m\u001B[0m \u001B[1m12s\u001B[0m 314ms/step\n"
     ]
    }
   ],
   "execution_count": 56
  },
  {
   "metadata": {
    "ExecuteTime": {
     "end_time": "2024-11-27T17:02:51.326803Z",
     "start_time": "2024-11-27T17:02:51.296445Z"
    }
   },
   "cell_type": "code",
   "source": [
    "categorical_accuracy = tf.keras.metrics.CategoricalAccuracy()\n",
    "categorical_accuracy.update_state(y_true, y_pred)\n",
    "print(f\"Categorical Accuracy: {categorical_accuracy.result().numpy()}\")"
   ],
   "id": "2d0e9d57ba054cd5",
   "outputs": [
    {
     "name": "stdout",
     "output_type": "stream",
     "text": [
      "Categorical Accuracy: 0.0007482394576072693\n"
     ]
    }
   ],
   "execution_count": 57
  },
  {
   "metadata": {
    "ExecuteTime": {
     "end_time": "2024-11-27T17:02:52.147751Z",
     "start_time": "2024-11-27T17:02:52.130664Z"
    }
   },
   "cell_type": "code",
   "source": [
    "y_true_indices = np.argmax(y_true.numpy(), axis=-1).flatten()\n",
    "y_pred_indices = np.argmax(y_pred, axis=-1).flatten()"
   ],
   "id": "acd96cfbc7963fc7",
   "outputs": [],
   "execution_count": 58
  },
  {
   "metadata": {
    "ExecuteTime": {
     "end_time": "2024-11-27T17:02:53.830570Z",
     "start_time": "2024-11-27T17:02:53.068632Z"
    }
   },
   "cell_type": "code",
   "source": [
    "cm = confusion_matrix(y_true_indices, y_pred_indices)\n",
    "disp = ConfusionMatrixDisplay(confusion_matrix=cm, display_labels=emotions)\n",
    "disp.plot(cmap='Blues')\n",
    "plt.title(\"Confusion Matrix\")\n",
    "plt.show()"
   ],
   "id": "4340b5f4dfa6b98f",
   "outputs": [
    {
     "data": {
      "text/plain": [
       "<Figure size 640x480 with 2 Axes>"
      ],
      "image/png": "[encoded data removed]"
     },
     "metadata": {},
     "output_type": "display_data"
    }
   ],
   "execution_count": 59
  },
  {
   "metadata": {
    "ExecuteTime": {
     "end_time": "2024-11-27T14:01:23.832856Z",
     "start_time": "2024-11-27T14:01:23.781821Z"
    }
   },
   "cell_type": "code",
   "source": [
    "for i, emotion in enumerate(emotions):\n",
    "    \n",
    "    # Precision, Recall, F1 for this class\n",
    "    true_class = (y_true_indices == i)\n",
    "    pred_class = (y_pred_indices == i)\n",
    "    precision = np.sum(true_class & pred_class) / np.sum(pred_class)\n",
    "    recall = np.sum(true_class & pred_class) / np.sum(true_class)\n",
    "    f1 = 2 * (precision * recall) / (precision + recall)\n",
    "    \n",
    "    print(f\"Metrics for {emotion}:\")\n",
    "    print(f\"  Precision: {precision:.2f}, Recall: {recall:.2f}, F1-Score: {f1:.2f}\")"
   ],
   "id": "918c1e35072f5658",
   "outputs": [
    {
     "name": "stdout",
     "output_type": "stream",
     "text": [
      "Metrics for Happy:\n",
      "  Precision: 1.00, Recall: 1.00, F1-Score: 1.00\n",
      "Metrics for Sad:\n",
      "  Precision: nan, Recall: nan, F1-Score: nan\n",
      "Metrics for Angry:\n",
      "  Precision: nan, Recall: nan, F1-Score: nan\n",
      "Metrics for Fear:\n",
      "  Precision: nan, Recall: nan, F1-Score: nan\n",
      "Metrics for Disgusted:\n",
      "  Precision: nan, Recall: nan, F1-Score: nan\n",
      "Metrics for Surprised:\n",
      "  Precision: nan, Recall: nan, F1-Score: nan\n"
     ]
    },
    {
     "name": "stderr",
     "output_type": "stream",
     "text": [
      "C:\\Users\\oskik\\AppData\\Local\\Temp\\ipykernel_17356\\3298553603.py:6: RuntimeWarning: invalid value encountered in scalar divide\n",
      "  precision = np.sum(true_class & pred_class) / np.sum(pred_class)\n",
      "C:\\Users\\oskik\\AppData\\Local\\Temp\\ipykernel_17356\\3298553603.py:7: RuntimeWarning: invalid value encountered in scalar divide\n",
      "  recall = np.sum(true_class & pred_class) / np.sum(true_class)\n"
     ]
    }
   ],
   "execution_count": 23
  },
  {
   "metadata": {},
   "cell_type": "markdown",
   "source": "## MODEL II",
   "id": "6e728abaf9ce7ed8"
  },
  {
   "cell_type": "code",
   "id": "initial_id",
   "metadata": {
    "collapsed": true,
    "ExecuteTime": {
     "end_time": "2024-11-26T23:35:52.160459Z",
     "start_time": "2024-11-26T23:35:50.937460Z"
    }
   },
   "source": "model_method_II = tf.keras.models.load_model('//153.19.52.107/emboa/IO3-sessions/NEW STRUCTURE/de-earlyfusionthesis/Models/model_method_II/model.keras')",
   "outputs": [],
   "execution_count": 5
  },
  {
   "metadata": {
    "ExecuteTime": {
     "end_time": "2024-11-26T23:35:52.790720Z",
     "start_time": "2024-11-26T23:35:52.752656Z"
    }
   },
   "cell_type": "code",
   "source": "model_method_II.summary()",
   "id": "eccbf4f9b0a83a5a",
   "outputs": [
    {
     "data": {
      "text/plain": [
       "\u001B[1mModel: \"sequential_5\"\u001B[0m\n"
      ],
      "text/html": [
       "<pre style=\"white-space:pre;overflow-x:auto;line-height:normal;font-family:Menlo,'DejaVu Sans Mono',consolas,'Courier New',monospace\"><span style=\"font-weight: bold\">Model: \"sequential_5\"</span>\n",
       "</pre>\n"
      ]
     },
     "metadata": {},
     "output_type": "display_data"
    },
    {
     "data": {
      "text/plain": [
       "┏━━━━━━━━━━━━━━━━━━━━━━━━━━━━━━━━━┳━━━━━━━━━━━━━━━━━━━━━━━━┳━━━━━━━━━━━━━━━┓\n",
       "┃\u001B[1m \u001B[0m\u001B[1mLayer (type)                   \u001B[0m\u001B[1m \u001B[0m┃\u001B[1m \u001B[0m\u001B[1mOutput Shape          \u001B[0m\u001B[1m \u001B[0m┃\u001B[1m \u001B[0m\u001B[1m      Param #\u001B[0m\u001B[1m \u001B[0m┃\n",
       "┡━━━━━━━━━━━━━━━━━━━━━━━━━━━━━━━━━╇━━━━━━━━━━━━━━━━━━━━━━━━╇━━━━━━━━━━━━━━━┩\n",
       "│ lstm_5 (\u001B[38;5;33mLSTM\u001B[0m)                   │ (\u001B[38;5;45mNone\u001B[0m, \u001B[38;5;34m10\u001B[0m, \u001B[38;5;34m64\u001B[0m)         │       \u001B[38;5;34m148,480\u001B[0m │\n",
       "├─────────────────────────────────┼────────────────────────┼───────────────┤\n",
       "│ dense_10 (\u001B[38;5;33mDense\u001B[0m)                │ (\u001B[38;5;45mNone\u001B[0m, \u001B[38;5;34m10\u001B[0m, \u001B[38;5;34m32\u001B[0m)         │         \u001B[38;5;34m2,080\u001B[0m │\n",
       "├─────────────────────────────────┼────────────────────────┼───────────────┤\n",
       "│ dense_11 (\u001B[38;5;33mDense\u001B[0m)                │ (\u001B[38;5;45mNone\u001B[0m, \u001B[38;5;34m10\u001B[0m, \u001B[38;5;34m6\u001B[0m)          │           \u001B[38;5;34m198\u001B[0m │\n",
       "└─────────────────────────────────┴────────────────────────┴───────────────┘\n"
      ],
      "text/html": [
       "<pre style=\"white-space:pre;overflow-x:auto;line-height:normal;font-family:Menlo,'DejaVu Sans Mono',consolas,'Courier New',monospace\">┏━━━━━━━━━━━━━━━━━━━━━━━━━━━━━━━━━┳━━━━━━━━━━━━━━━━━━━━━━━━┳━━━━━━━━━━━━━━━┓\n",
       "┃<span style=\"font-weight: bold\"> Layer (type)                    </span>┃<span style=\"font-weight: bold\"> Output Shape           </span>┃<span style=\"font-weight: bold\">       Param # </span>┃\n",
       "┡━━━━━━━━━━━━━━━━━━━━━━━━━━━━━━━━━╇━━━━━━━━━━━━━━━━━━━━━━━━╇━━━━━━━━━━━━━━━┩\n",
       "│ lstm_5 (<span style=\"color: #0087ff; text-decoration-color: #0087ff\">LSTM</span>)                   │ (<span style=\"color: #00d7ff; text-decoration-color: #00d7ff\">None</span>, <span style=\"color: #00af00; text-decoration-color: #00af00\">10</span>, <span style=\"color: #00af00; text-decoration-color: #00af00\">64</span>)         │       <span style=\"color: #00af00; text-decoration-color: #00af00\">148,480</span> │\n",
       "├─────────────────────────────────┼────────────────────────┼───────────────┤\n",
       "│ dense_10 (<span style=\"color: #0087ff; text-decoration-color: #0087ff\">Dense</span>)                │ (<span style=\"color: #00d7ff; text-decoration-color: #00d7ff\">None</span>, <span style=\"color: #00af00; text-decoration-color: #00af00\">10</span>, <span style=\"color: #00af00; text-decoration-color: #00af00\">32</span>)         │         <span style=\"color: #00af00; text-decoration-color: #00af00\">2,080</span> │\n",
       "├─────────────────────────────────┼────────────────────────┼───────────────┤\n",
       "│ dense_11 (<span style=\"color: #0087ff; text-decoration-color: #0087ff\">Dense</span>)                │ (<span style=\"color: #00d7ff; text-decoration-color: #00d7ff\">None</span>, <span style=\"color: #00af00; text-decoration-color: #00af00\">10</span>, <span style=\"color: #00af00; text-decoration-color: #00af00\">6</span>)          │           <span style=\"color: #00af00; text-decoration-color: #00af00\">198</span> │\n",
       "└─────────────────────────────────┴────────────────────────┴───────────────┘\n",
       "</pre>\n"
      ]
     },
     "metadata": {},
     "output_type": "display_data"
    },
    {
     "data": {
      "text/plain": [
       "\u001B[1m Total params: \u001B[0m\u001B[38;5;34m452,276\u001B[0m (1.73 MB)\n"
      ],
      "text/html": [
       "<pre style=\"white-space:pre;overflow-x:auto;line-height:normal;font-family:Menlo,'DejaVu Sans Mono',consolas,'Courier New',monospace\"><span style=\"font-weight: bold\"> Total params: </span><span style=\"color: #00af00; text-decoration-color: #00af00\">452,276</span> (1.73 MB)\n",
       "</pre>\n"
      ]
     },
     "metadata": {},
     "output_type": "display_data"
    },
    {
     "data": {
      "text/plain": [
       "\u001B[1m Trainable params: \u001B[0m\u001B[38;5;34m150,758\u001B[0m (588.90 KB)\n"
      ],
      "text/html": [
       "<pre style=\"white-space:pre;overflow-x:auto;line-height:normal;font-family:Menlo,'DejaVu Sans Mono',consolas,'Courier New',monospace\"><span style=\"font-weight: bold\"> Trainable params: </span><span style=\"color: #00af00; text-decoration-color: #00af00\">150,758</span> (588.90 KB)\n",
       "</pre>\n"
      ]
     },
     "metadata": {},
     "output_type": "display_data"
    },
    {
     "data": {
      "text/plain": [
       "\u001B[1m Non-trainable params: \u001B[0m\u001B[38;5;34m0\u001B[0m (0.00 B)\n"
      ],
      "text/html": [
       "<pre style=\"white-space:pre;overflow-x:auto;line-height:normal;font-family:Menlo,'DejaVu Sans Mono',consolas,'Courier New',monospace\"><span style=\"font-weight: bold\"> Non-trainable params: </span><span style=\"color: #00af00; text-decoration-color: #00af00\">0</span> (0.00 B)\n",
       "</pre>\n"
      ]
     },
     "metadata": {},
     "output_type": "display_data"
    },
    {
     "data": {
      "text/plain": [
       "\u001B[1m Optimizer params: \u001B[0m\u001B[38;5;34m301,518\u001B[0m (1.15 MB)\n"
      ],
      "text/html": [
       "<pre style=\"white-space:pre;overflow-x:auto;line-height:normal;font-family:Menlo,'DejaVu Sans Mono',consolas,'Courier New',monospace\"><span style=\"font-weight: bold\"> Optimizer params: </span><span style=\"color: #00af00; text-decoration-color: #00af00\">301,518</span> (1.15 MB)\n",
       "</pre>\n"
      ]
     },
     "metadata": {},
     "output_type": "display_data"
    }
   ],
   "execution_count": 6
  },
  {
   "metadata": {
    "ExecuteTime": {
     "end_time": "2024-11-26T23:38:50.860817Z",
     "start_time": "2024-11-26T23:38:40.519840Z"
    }
   },
   "cell_type": "code",
   "source": [
    "import tensorflow as tf\n",
    "test_set = MAAP_test_II\n",
    "# Getting predictions (chat)\n",
    "y_pred = model_method_II.predict(test_set.map(lambda x, _: x))\n",
    "y_true = tf.concat([y for _, y in test_set], axis=0)\n",
    "\n",
    "# Function\n",
    "def compute_similarity(y_true, y_pred, emotion_index):\n",
    "    # Ensure tensors are of the same type cause some bugs idk\n",
    "    y_true = tf.cast(y_true, tf.float32)\n",
    "    y_pred = tf.cast(y_pred, tf.float32)\n",
    "    \n",
    "    # Extract true and predicted values for the specific emotion\n",
    "    true_values = y_true[:, :, emotion_index]\n",
    "    pred_values = y_pred[:, :, emotion_index]\n",
    "    \n",
    "    # Create a mask for non-zero true values (bylo na wloskich zajeciach)\n",
    "    mask = tf.not_equal(true_values, 0)\n",
    "    \n",
    "    # Apply the mask\n",
    "    true_values_masked = tf.boolean_mask(true_values, mask)\n",
    "    pred_values_masked = tf.boolean_mask(pred_values, mask)\n",
    "    \n",
    "    # Compute the similarity: 1 - |true - prediction|\n",
    "    similarity = 1 - tf.abs(true_values_masked - pred_values_masked)\n",
    "\n",
    "    # Compute Mean Average Similarity (MAS)\n",
    "    mas = tf.reduce_mean(similarity)\n",
    "    \n",
    "    # How many labels were used for this metric\n",
    "    label_count = tf.size(true_values_masked).numpy()\n",
    "    \n",
    "    return mas.numpy(), label_count\n",
    "\n",
    "# List for emotions\n",
    "mas_per_emotion = []\n",
    "label_counts = []\n",
    "\n",
    "for i, emotion in enumerate(emotions):\n",
    "    mas, label_count = compute_similarity(y_true, y_pred, i)\n",
    "    mas_per_emotion.append(mas)\n",
    "    label_counts.append(label_count)\n",
    "    print(f\"Similarity for {emotion}: {mas}, Labels Used = {label_count}\")"
   ],
   "id": "d29a0174ad6999c6",
   "outputs": [
    {
     "name": "stdout",
     "output_type": "stream",
     "text": [
      "\u001B[1m72/72\u001B[0m \u001B[32m━━━━━━━━━━━━━━━━━━━━\u001B[0m\u001B[37m\u001B[0m \u001B[1m10s\u001B[0m 138ms/step\n",
      "Similarity for Happy: 0.7369638681411743, Labels Used = 8441\n",
      "Similarity for Sad: 0.6879954934120178, Labels Used = 924\n",
      "Similarity for Angry: 0.7272648215293884, Labels Used = 642\n",
      "Similarity for Fear: 0.651867687702179, Labels Used = 294\n",
      "Similarity for Disgusted: 0.6339427828788757, Labels Used = 281\n",
      "Similarity for Surprised: 0.6685762405395508, Labels Used = 423\n"
     ]
    }
   ],
   "execution_count": 10
  }
 ],
 "metadata": {
  "kernelspec": {
   "display_name": "Python 3",
   "language": "python",
   "name": "python3"
  },
  "language_info": {
   "codemirror_mode": {
    "name": "ipython",
    "version": 2
   },
   "file_extension": ".py",
   "mimetype": "text/x-python",
   "name": "python",
   "nbconvert_exporter": "python",
   "pygments_lexer": "ipython2",
   "version": "2.7.6"
  }
 },
 "nbformat": 4,
 "nbformat_minor": 5
}
