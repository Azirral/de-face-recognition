{
 "cells": [
  {
   "metadata": {
    "ExecuteTime": {
     "end_time": "2024-11-26T01:18:41.323994Z",
     "start_time": "2024-11-26T01:18:24.164360Z"
    }
   },
   "cell_type": "code",
   "source": [
    "import os\n",
    "import tensorflow as tf"
   ],
   "id": "24c79cc35059ab15",
   "outputs": [],
   "execution_count": 1
  },
  {
   "cell_type": "code",
   "execution_count": null,
   "id": "initial_id",
   "metadata": {
    "collapsed": true
   },
   "outputs": [],
   "source": "model_method_II = tf.keras.models.load_model('//153.19.52.107/emboa/IO3-sessions/NEW STRUCTURE/de-earlyfusionthesis/Datasets/saved_model/model.keras')"
  },
  {
   "metadata": {},
   "cell_type": "code",
   "outputs": [],
   "execution_count": null,
   "source": "model_method_II.summary()",
   "id": "eccbf4f9b0a83a5a"
  },
  {
   "metadata": {},
   "cell_type": "code",
   "outputs": [],
   "execution_count": null,
   "source": [
    "path = r'S:\\IO3-sessions\\NEW STRUCTURE\\de-earlyfusionthesis\\Datasets'\n",
    "\n",
    "train_dataset_path = os.path.abspath(os.path.join(path, 'train_dataset'))\n",
    "GUT_test_path = os.path.join(path, 'GUT_test').replace(\"\\\\\", \"/\")\n",
    "ITU_YU_test_path = os.path.join(path, 'ITU_YU_test').replace(\"\\\\\", \"/\")\n",
    "MAAP_test_path = os.path.join(path, 'MAAP_test').replace(\"\\\\\", \"/\")\n",
    "\n",
    "# Load datasets\n",
    "train = tf.data.Dataset.load(train_dataset_path)\n",
    "GUT_test = tf.data.Dataset.load(GUT_test_path)\n",
    "ITU_YU_test = tf.data.Dataset.load(ITU_YU_test_path)\n",
    "MAAP_test = tf.data.Dataset.load(MAAP_test_path)"
   ],
   "id": "37251894c958fae4"
  },
  {
   "metadata": {},
   "cell_type": "markdown",
   "source": "## Model I",
   "id": "b50f365ef988625b"
  },
  {
   "metadata": {},
   "cell_type": "markdown",
   "source": "For the first model we can use in-bulit functions of False positives and so on...",
   "id": "50770a921e37cbcc"
  },
  {
   "metadata": {},
   "cell_type": "markdown",
   "source": "## Model II",
   "id": "23e0a99fe9353dc7"
  },
  {
   "metadata": {},
   "cell_type": "code",
   "outputs": [],
   "execution_count": null,
   "source": [
    "import tensorflow as tf\n",
    "test_set = GUT_test\n",
    "# Getting predictions (chat)\n",
    "y_pred = model_method_II.predict(test_set.map(lambda x, _: x))\n",
    "y_true = tf.concat([y for _, y in test_set], axis=0)\n",
    "\n",
    "# Function\n",
    "def compute_similarity(y_true, y_pred, emotion_index):\n",
    "    # Ensure tensors are of the same type cause some bugs idk\n",
    "    y_true = tf.cast(y_true, tf.float32)\n",
    "    y_pred = tf.cast(y_pred, tf.float32)\n",
    "    \n",
    "    # Extract true and predicted values for the specific emotion\n",
    "    true_values = y_true[:, :, emotion_index]\n",
    "    pred_values = y_pred[:, :, emotion_index]\n",
    "    \n",
    "    # Create a mask for non-zero true values (bylo na wloskich zajeciach)\n",
    "    mask = tf.not_equal(true_values, 0)\n",
    "    \n",
    "    # Apply the mask\n",
    "    true_values_masked = tf.boolean_mask(true_values, mask)\n",
    "    pred_values_masked = tf.boolean_mask(pred_values, mask)\n",
    "    \n",
    "    # Compute the similarity: 1 - |true - prediction|\n",
    "    similarity = 1 - tf.abs(true_values_masked - pred_values_masked)\n",
    "\n",
    "    # Compute Mean Average Similarity (MAS)\n",
    "    mas = tf.reduce_mean(similarity)\n",
    "    \n",
    "    # How many labels were used for this metric\n",
    "    label_count = tf.size(true_values_masked).numpy()\n",
    "    \n",
    "    return mas.numpy(), label_count\n",
    "\n",
    "# List for emotions\n",
    "mas_per_emotion = []\n",
    "label_counts = []\n",
    "emotions = [\"Happy\", \"Sad\", \"Angry\", \"Fear\", \"Disgusted\", \"Surprised\"]\n",
    "\n",
    "for i, emotion in enumerate(emotions):\n",
    "    mas, label_count = compute_similarity(y_true, y_pred, i)\n",
    "    mas_per_emotion.append(mas)\n",
    "    label_counts.append(label_count)\n",
    "    print(f\"Similarity for {emotion}: {mas}, Labels Used = {label_count}\")"
   ],
   "id": "d29a0174ad6999c6"
  }
 ],
 "metadata": {
  "kernelspec": {
   "display_name": "Python 3",
   "language": "python",
   "name": "python3"
  },
  "language_info": {
   "codemirror_mode": {
    "name": "ipython",
    "version": 2
   },
   "file_extension": ".py",
   "mimetype": "text/x-python",
   "name": "python",
   "nbconvert_exporter": "python",
   "pygments_lexer": "ipython2",
   "version": "2.7.6"
  }
 },
 "nbformat": 4,
 "nbformat_minor": 5
}
