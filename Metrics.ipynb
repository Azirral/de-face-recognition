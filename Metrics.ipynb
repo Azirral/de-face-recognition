{
 "cells": [
  {
   "metadata": {
    "ExecuteTime": {
     "end_time": "2024-12-03T20:17:21.484110Z",
     "start_time": "2024-12-03T20:17:03.690013Z"
    }
   },
   "cell_type": "code",
   "source": [
    "import os\n",
    "import tensorflow as tf\n",
    "import numpy as np\n",
    "import matplotlib.pyplot as plt\n",
    "from sklearn.metrics import confusion_matrix, ConfusionMatrixDisplay"
   ],
   "id": "24c79cc35059ab15",
   "outputs": [],
   "execution_count": 1
  },
  {
   "metadata": {
    "ExecuteTime": {
     "end_time": "2024-12-03T20:48:56.571871Z",
     "start_time": "2024-12-03T20:48:54.552841Z"
    }
   },
   "cell_type": "code",
   "source": [
    "path = r'S:\\IO3-sessions\\NEW STRUCTURE\\de-earlyfusionthesis\\Datasets'\n",
    "\n",
    "train_dataset_path_I = os.path.abspath(os.path.join(path, 'train_dataset_method_I_balanced'))\n",
    "GUT_test_path_I = os.path.join(path, 'GUT_test_method_I_balanced').replace(\"\\\\\", \"/\")\n",
    "ITU_YU_test_path_I = os.path.join(path, 'ITU_YU_test_method_I_balanced').replace(\"\\\\\", \"/\")\n",
    "MAAP_test_path_I = os.path.join(path, 'MAAP_test_method_I_balanced').replace(\"\\\\\", \"/\")\n",
    "\n",
    "train_dataset_path_II = os.path.abspath(os.path.join(path, 'train_dataset_method_II_balanced'))\n",
    "GUT_test_path_II = os.path.join(path, 'GUT_test_method_II_balanced').replace(\"\\\\\", \"/\")\n",
    "ITU_YU_test_path_II = os.path.join(path, 'ITU_YU_test_method_II_balanced').replace(\"\\\\\", \"/\")\n",
    "MAAP_test_path_II = os.path.join(path, 'MAAP_test_method_II_balanced').replace(\"\\\\\", \"/\")\n",
    "\n",
    "# Load datasets\n",
    "train_I = tf.data.Dataset.load(train_dataset_path_I)\n",
    "GUT_test_I = tf.data.Dataset.load(GUT_test_path_I)\n",
    "ITU_YU_test_I = tf.data.Dataset.load(ITU_YU_test_path_I)\n",
    "MAAP_test_I = tf.data.Dataset.load(MAAP_test_path_I)\n",
    "\n",
    "train_II = tf.data.Dataset.load(train_dataset_path_II)\n",
    "GUT_test_II = tf.data.Dataset.load(GUT_test_path_II)\n",
    "ITU_YU_test_II = tf.data.Dataset.load(ITU_YU_test_path_II)\n",
    "MAAP_test_II = tf.data.Dataset.load(MAAP_test_path_II)\n",
    "\n",
    "full_test_I = GUT_test_I.concatenate(ITU_YU_test_I).concatenate(MAAP_test_I)\n",
    "full_test_II = GUT_test_II.concatenate(ITU_YU_test_II).concatenate(MAAP_test_II)"
   ],
   "id": "ea3f186bf5baf876",
   "outputs": [],
   "execution_count": 10
  },
  {
   "metadata": {
    "ExecuteTime": {
     "end_time": "2024-12-03T20:17:22.640601Z",
     "start_time": "2024-12-03T20:17:22.633791Z"
    }
   },
   "cell_type": "code",
   "source": "emotions = [\"Happy\", \"Sad\", \"Angry\", \"Fear\", \"Disgusted\", \"Surprised\"]",
   "id": "c6c6e65ef3ff8d13",
   "outputs": [],
   "execution_count": 3
  },
  {
   "metadata": {},
   "cell_type": "markdown",
   "source": "## MODEL I",
   "id": "b5d7e7f5a05945e6"
  },
  {
   "metadata": {
    "ExecuteTime": {
     "end_time": "2024-12-03T22:21:06.674759Z",
     "start_time": "2024-12-03T22:21:06.653266Z"
    }
   },
   "cell_type": "code",
   "source": [
    "def masked_categorical_crossentropy(y_true, y_pred):\n",
    "    \"\"\"\n",
    "    y_true: true labels, one-hot encoded. Shape (batch_size, sequence_length, OUTPUT_DIM)\n",
    "    y_pred: predicted probabilities. Shape (batch_size, sequence_length, OUTPUT_DIM)\n",
    "    \"\"\"\n",
    "    # Create a mask: 1 for valid labels (non-[0, 0, 0]), 0 for \"Unknown\" ([0, 0, 0])\n",
    "    mask = tf.reduce_sum(y_true, axis=-1) > 0  # Shape: (batch_size, sequence_length)\n",
    "    mask = tf.cast(mask, tf.float32)  # Convert boolean mask to float32 for multiplication\n",
    "    \n",
    "    # Compute categorical cross-entropy loss\n",
    "    loss = tf.keras.losses.categorical_crossentropy(y_true, y_pred)\n",
    "    \n",
    "    # Apply the mask to the loss\n",
    "    loss = loss * mask  # Zero out loss for \"Unknown\" labels\n",
    "    \n",
    "    # Return mean loss over valid labels\n",
    "    return tf.reduce_sum(loss) / tf.reduce_sum(mask)"
   ],
   "id": "fa502d1df6dd8163",
   "outputs": [],
   "execution_count": 72
  },
  {
   "metadata": {
    "ExecuteTime": {
     "end_time": "2024-12-03T22:21:08.236995Z",
     "start_time": "2024-12-03T22:21:07.156061Z"
    }
   },
   "cell_type": "code",
   "source": "model_method_I = tf.keras.models.load_model('//153.19.52.107/emboa/IO3-sessions/NEW STRUCTURE/de-earlyfusionthesis/Models/model_method_I/model.keras', custom_objects={ 'masked_categorical_crossentropy': masked_categorical_crossentropy(y_true, y_pred)})",
   "id": "113e9d51fdd22c8f",
   "outputs": [],
   "execution_count": 73
  },
  {
   "metadata": {
    "ExecuteTime": {
     "end_time": "2024-12-03T22:21:08.771277Z",
     "start_time": "2024-12-03T22:21:08.737948Z"
    }
   },
   "cell_type": "code",
   "source": "model_method_I.summary()",
   "id": "6990e7d1402b6eba",
   "outputs": [
    {
     "data": {
      "text/plain": [
       "\u001B[1mModel: \"sequential_14\"\u001B[0m\n"
      ],
      "text/html": [
       "<pre style=\"white-space:pre;overflow-x:auto;line-height:normal;font-family:Menlo,'DejaVu Sans Mono',consolas,'Courier New',monospace\"><span style=\"font-weight: bold\">Model: \"sequential_14\"</span>\n",
       "</pre>\n"
      ]
     },
     "metadata": {},
     "output_type": "display_data"
    },
    {
     "data": {
      "text/plain": [
       "┏━━━━━━━━━━━━━━━━━━━━━━━━━━━━━━━━━┳━━━━━━━━━━━━━━━━━━━━━━━━┳━━━━━━━━━━━━━━━┓\n",
       "┃\u001B[1m \u001B[0m\u001B[1mLayer (type)                   \u001B[0m\u001B[1m \u001B[0m┃\u001B[1m \u001B[0m\u001B[1mOutput Shape          \u001B[0m\u001B[1m \u001B[0m┃\u001B[1m \u001B[0m\u001B[1m      Param #\u001B[0m\u001B[1m \u001B[0m┃\n",
       "┡━━━━━━━━━━━━━━━━━━━━━━━━━━━━━━━━━╇━━━━━━━━━━━━━━━━━━━━━━━━╇━━━━━━━━━━━━━━━┩\n",
       "│ bidirectional_14                │ (\u001B[38;5;45mNone\u001B[0m, \u001B[38;5;34m20\u001B[0m, \u001B[38;5;34m128\u001B[0m)        │       \u001B[38;5;34m296,960\u001B[0m │\n",
       "│ (\u001B[38;5;33mBidirectional\u001B[0m)                 │                        │               │\n",
       "├─────────────────────────────────┼────────────────────────┼───────────────┤\n",
       "│ dense_41 (\u001B[38;5;33mDense\u001B[0m)                │ (\u001B[38;5;45mNone\u001B[0m, \u001B[38;5;34m20\u001B[0m, \u001B[38;5;34m64\u001B[0m)         │         \u001B[38;5;34m8,256\u001B[0m │\n",
       "├─────────────────────────────────┼────────────────────────┼───────────────┤\n",
       "│ dense_42 (\u001B[38;5;33mDense\u001B[0m)                │ (\u001B[38;5;45mNone\u001B[0m, \u001B[38;5;34m20\u001B[0m, \u001B[38;5;34m32\u001B[0m)         │         \u001B[38;5;34m2,080\u001B[0m │\n",
       "├─────────────────────────────────┼────────────────────────┼───────────────┤\n",
       "│ dense_43 (\u001B[38;5;33mDense\u001B[0m)                │ (\u001B[38;5;45mNone\u001B[0m, \u001B[38;5;34m20\u001B[0m, \u001B[38;5;34m6\u001B[0m)          │           \u001B[38;5;34m198\u001B[0m │\n",
       "└─────────────────────────────────┴────────────────────────┴───────────────┘\n"
      ],
      "text/html": [
       "<pre style=\"white-space:pre;overflow-x:auto;line-height:normal;font-family:Menlo,'DejaVu Sans Mono',consolas,'Courier New',monospace\">┏━━━━━━━━━━━━━━━━━━━━━━━━━━━━━━━━━┳━━━━━━━━━━━━━━━━━━━━━━━━┳━━━━━━━━━━━━━━━┓\n",
       "┃<span style=\"font-weight: bold\"> Layer (type)                    </span>┃<span style=\"font-weight: bold\"> Output Shape           </span>┃<span style=\"font-weight: bold\">       Param # </span>┃\n",
       "┡━━━━━━━━━━━━━━━━━━━━━━━━━━━━━━━━━╇━━━━━━━━━━━━━━━━━━━━━━━━╇━━━━━━━━━━━━━━━┩\n",
       "│ bidirectional_14                │ (<span style=\"color: #00d7ff; text-decoration-color: #00d7ff\">None</span>, <span style=\"color: #00af00; text-decoration-color: #00af00\">20</span>, <span style=\"color: #00af00; text-decoration-color: #00af00\">128</span>)        │       <span style=\"color: #00af00; text-decoration-color: #00af00\">296,960</span> │\n",
       "│ (<span style=\"color: #0087ff; text-decoration-color: #0087ff\">Bidirectional</span>)                 │                        │               │\n",
       "├─────────────────────────────────┼────────────────────────┼───────────────┤\n",
       "│ dense_41 (<span style=\"color: #0087ff; text-decoration-color: #0087ff\">Dense</span>)                │ (<span style=\"color: #00d7ff; text-decoration-color: #00d7ff\">None</span>, <span style=\"color: #00af00; text-decoration-color: #00af00\">20</span>, <span style=\"color: #00af00; text-decoration-color: #00af00\">64</span>)         │         <span style=\"color: #00af00; text-decoration-color: #00af00\">8,256</span> │\n",
       "├─────────────────────────────────┼────────────────────────┼───────────────┤\n",
       "│ dense_42 (<span style=\"color: #0087ff; text-decoration-color: #0087ff\">Dense</span>)                │ (<span style=\"color: #00d7ff; text-decoration-color: #00d7ff\">None</span>, <span style=\"color: #00af00; text-decoration-color: #00af00\">20</span>, <span style=\"color: #00af00; text-decoration-color: #00af00\">32</span>)         │         <span style=\"color: #00af00; text-decoration-color: #00af00\">2,080</span> │\n",
       "├─────────────────────────────────┼────────────────────────┼───────────────┤\n",
       "│ dense_43 (<span style=\"color: #0087ff; text-decoration-color: #0087ff\">Dense</span>)                │ (<span style=\"color: #00d7ff; text-decoration-color: #00d7ff\">None</span>, <span style=\"color: #00af00; text-decoration-color: #00af00\">20</span>, <span style=\"color: #00af00; text-decoration-color: #00af00\">6</span>)          │           <span style=\"color: #00af00; text-decoration-color: #00af00\">198</span> │\n",
       "└─────────────────────────────────┴────────────────────────┴───────────────┘\n",
       "</pre>\n"
      ]
     },
     "metadata": {},
     "output_type": "display_data"
    },
    {
     "data": {
      "text/plain": [
       "\u001B[1m Total params: \u001B[0m\u001B[38;5;34m922,484\u001B[0m (3.52 MB)\n"
      ],
      "text/html": [
       "<pre style=\"white-space:pre;overflow-x:auto;line-height:normal;font-family:Menlo,'DejaVu Sans Mono',consolas,'Courier New',monospace\"><span style=\"font-weight: bold\"> Total params: </span><span style=\"color: #00af00; text-decoration-color: #00af00\">922,484</span> (3.52 MB)\n",
       "</pre>\n"
      ]
     },
     "metadata": {},
     "output_type": "display_data"
    },
    {
     "data": {
      "text/plain": [
       "\u001B[1m Trainable params: \u001B[0m\u001B[38;5;34m307,494\u001B[0m (1.17 MB)\n"
      ],
      "text/html": [
       "<pre style=\"white-space:pre;overflow-x:auto;line-height:normal;font-family:Menlo,'DejaVu Sans Mono',consolas,'Courier New',monospace\"><span style=\"font-weight: bold\"> Trainable params: </span><span style=\"color: #00af00; text-decoration-color: #00af00\">307,494</span> (1.17 MB)\n",
       "</pre>\n"
      ]
     },
     "metadata": {},
     "output_type": "display_data"
    },
    {
     "data": {
      "text/plain": [
       "\u001B[1m Non-trainable params: \u001B[0m\u001B[38;5;34m0\u001B[0m (0.00 B)\n"
      ],
      "text/html": [
       "<pre style=\"white-space:pre;overflow-x:auto;line-height:normal;font-family:Menlo,'DejaVu Sans Mono',consolas,'Courier New',monospace\"><span style=\"font-weight: bold\"> Non-trainable params: </span><span style=\"color: #00af00; text-decoration-color: #00af00\">0</span> (0.00 B)\n",
       "</pre>\n"
      ]
     },
     "metadata": {},
     "output_type": "display_data"
    },
    {
     "data": {
      "text/plain": [
       "\u001B[1m Optimizer params: \u001B[0m\u001B[38;5;34m614,990\u001B[0m (2.35 MB)\n"
      ],
      "text/html": [
       "<pre style=\"white-space:pre;overflow-x:auto;line-height:normal;font-family:Menlo,'DejaVu Sans Mono',consolas,'Courier New',monospace\"><span style=\"font-weight: bold\"> Optimizer params: </span><span style=\"color: #00af00; text-decoration-color: #00af00\">614,990</span> (2.35 MB)\n",
       "</pre>\n"
      ]
     },
     "metadata": {},
     "output_type": "display_data"
    }
   ],
   "execution_count": 74
  },
  {
   "metadata": {
    "ExecuteTime": {
     "end_time": "2024-12-03T22:21:12.627113Z",
     "start_time": "2024-12-03T22:21:10.054424Z"
    }
   },
   "cell_type": "code",
   "source": [
    "test_set = full_test_I\n",
    "# Getting predictions (chat)\n",
    "y_pred = model_method_I.predict(test_set.map(lambda x, _: x))\n",
    "y_true = tf.concat([y for _, y in test_set], axis=0)"
   ],
   "id": "4ed49f3738f5a79b",
   "outputs": [
    {
     "name": "stdout",
     "output_type": "stream",
     "text": [
      "\u001B[1m1/5\u001B[0m \u001B[32m━━━━\u001B[0m\u001B[37m━━━━━━━━━━━━━━━━\u001B[0m \u001B[1m5s\u001B[0m 1s/stepWARNING:tensorflow:5 out of the last 45 calls to <function TensorFlowTrainer.make_predict_function.<locals>.one_step_on_data_distributed at 0x00000226337E72E0> triggered tf.function retracing. Tracing is expensive and the excessive number of tracings could be due to (1) creating @tf.function repeatedly in a loop, (2) passing tensors with different shapes, (3) passing Python objects instead of tensors. For (1), please define your @tf.function outside of the loop. For (2), @tf.function has reduce_retracing=True option that can avoid unnecessary retracing. For (3), please refer to https://www.tensorflow.org/guide/function#controlling_retracing and https://www.tensorflow.org/api_docs/python/tf/function for  more details.\n",
      "\u001B[1m5/5\u001B[0m \u001B[32m━━━━━━━━━━━━━━━━━━━━\u001B[0m\u001B[37m\u001B[0m \u001B[1m2s\u001B[0m 257ms/step\n"
     ]
    }
   ],
   "execution_count": 75
  },
  {
   "metadata": {
    "ExecuteTime": {
     "end_time": "2024-12-03T22:21:15.853917Z",
     "start_time": "2024-12-03T22:21:15.835679Z"
    }
   },
   "cell_type": "code",
   "source": [
    "categorical_accuracy = tf.keras.metrics.CategoricalAccuracy()\n",
    "categorical_accuracy.update_state(y_true, y_pred)\n",
    "print(f\"Categorical Accuracy: {categorical_accuracy.result().numpy()}\")"
   ],
   "id": "2d0e9d57ba054cd5",
   "outputs": [
    {
     "name": "stdout",
     "output_type": "stream",
     "text": [
      "Categorical Accuracy: 0.6473214030265808\n"
     ]
    }
   ],
   "execution_count": 76
  },
  {
   "metadata": {
    "ExecuteTime": {
     "end_time": "2024-12-03T22:21:16.978462Z",
     "start_time": "2024-12-03T22:21:16.961497Z"
    }
   },
   "cell_type": "code",
   "source": [
    "y_true_indices = np.argmax(y_true.numpy(), axis=-1).flatten()\n",
    "y_pred_indices = np.argmax(y_pred, axis=-1).flatten()"
   ],
   "id": "acd96cfbc7963fc7",
   "outputs": [],
   "execution_count": 77
  },
  {
   "metadata": {
    "ExecuteTime": {
     "end_time": "2024-12-03T22:21:18.554740Z",
     "start_time": "2024-12-03T22:21:17.670894Z"
    }
   },
   "cell_type": "code",
   "source": [
    "cm = confusion_matrix(y_true_indices, y_pred_indices)\n",
    "disp = ConfusionMatrixDisplay(confusion_matrix=cm, display_labels=emotions)\n",
    "disp.plot(cmap='Blues', values_format='')\n",
    "plt.grid(False)\n",
    "plt.title(\"Confusion Matrix\")\n",
    "plt.show()"
   ],
   "id": "4340b5f4dfa6b98f",
   "outputs": [
    {
     "data": {
      "text/plain": [
       "<Figure size 640x480 with 2 Axes>"
      ],
      "image/png": "[encoded data removed]"
     },
     "metadata": {},
     "output_type": "display_data"
    }
   ],
   "execution_count": 78
  },
  {
   "metadata": {
    "ExecuteTime": {
     "end_time": "2024-12-03T22:21:23.948811Z",
     "start_time": "2024-12-03T22:21:20.760595Z"
    }
   },
   "cell_type": "code",
   "source": [
    "# Get predictions\n",
    "y_pred = model_method_I.predict(test_set.map(lambda x, _: x))  # Shape: (num_samples, num_classes)\n",
    "\n",
    "# Get true labels\n",
    "y_true = tf.concat([y for _, y in test_set], axis=0)  # Shape: (num_samples, num_classes)\n",
    "\n",
    "# Convert predictions to the most likely emotion (class with max probability)\n",
    "y_pred_labels = np.argmax(y_pred, axis=-1)  # Shape: (num_samples,)\n",
    "y_true_labels = np.argmax(y_true, axis=-1)  # Shape: (num_samples,)\n",
    "\n",
    "# Filter out Neutral labels (where y_true is [0, 0, 0, 0, 0, 0])\n",
    "valid_indices = np.where(np.sum(y_true, axis=-1) > 0)  # Find indices where y_true is not Neutral\n",
    "\n",
    "# Apply the valid indices to both y_pred_labels and y_true_labels\n",
    "y_pred_valid = y_pred_labels[valid_indices]\n",
    "y_true_valid = y_true_labels[valid_indices]\n",
    "\n",
    "# Compute confusion matrix using valid labels\n",
    "cm = confusion_matrix(y_true_valid, y_pred_valid)\n",
    "\n",
    "# Display the confusion matrix\n",
    "disp = ConfusionMatrixDisplay(confusion_matrix=cm, display_labels=emotions)\n",
    "disp.plot(cmap='Blues')\n"
   ],
   "id": "9209ad24ddd963a3",
   "outputs": [
    {
     "name": "stdout",
     "output_type": "stream",
     "text": [
      "\u001B[1m5/5\u001B[0m \u001B[32m━━━━━━━━━━━━━━━━━━━━\u001B[0m\u001B[37m\u001B[0m \u001B[1m3s\u001B[0m 565ms/step\n"
     ]
    },
    {
     "data": {
      "text/plain": [
       "<sklearn.metrics._plot.confusion_matrix.ConfusionMatrixDisplay at 0x2263349c890>"
      ]
     },
     "execution_count": 79,
     "metadata": {},
     "output_type": "execute_result"
    },
    {
     "data": {
      "text/plain": [
       "<Figure size 640x480 with 2 Axes>"
      ],
      "image/png": "[encoded data removed]"
     },
     "metadata": {},
     "output_type": "display_data"
    }
   ],
   "execution_count": 79
  },
  {
   "metadata": {
    "ExecuteTime": {
     "end_time": "2024-12-03T22:23:03.977849Z",
     "start_time": "2024-12-03T22:23:03.950112Z"
    }
   },
   "cell_type": "code",
   "source": [
    "for i, emotion in enumerate(emotions):\n",
    "    \n",
    "    # Precision, Recall, F1 for this class\n",
    "    true_class = (y_true_indices == i)\n",
    "    pred_class = (y_pred_indices == i)\n",
    "    precision = np.sum(true_class & pred_class) / np.sum(pred_class)\n",
    "    recall = np.sum(true_class & pred_class) / np.sum(true_class)\n",
    "    f1 = 2 * (precision * recall) / (precision + recall)\n",
    "    \n",
    "    print(f\"Metrics for {emotion}:\")\n",
    "    print(f\"  Precision: {precision:.2f}, Recall: {recall:.2f}, F1-Score: {f1:.2f}\")"
   ],
   "id": "918c1e35072f5658",
   "outputs": [
    {
     "name": "stdout",
     "output_type": "stream",
     "text": [
      "Metrics for Happy:\n",
      "  Precision: 0.98, Recall: 0.58, F1-Score: 0.73\n",
      "Metrics for Sad:\n",
      "  Precision: 0.46, Recall: 0.92, F1-Score: 0.61\n",
      "Metrics for Angry:\n",
      "  Precision: 0.33, Recall: 0.89, F1-Score: 0.49\n",
      "Metrics for Fear:\n",
      "  Precision: 0.16, Recall: 0.38, F1-Score: 0.22\n",
      "Metrics for Disgusted:\n",
      "  Precision: 0.14, Recall: 0.84, F1-Score: 0.25\n",
      "Metrics for Surprised:\n",
      "  Precision: 0.29, Recall: 0.93, F1-Score: 0.44\n"
     ]
    }
   ],
   "execution_count": 80
  },
  {
   "metadata": {},
   "cell_type": "markdown",
   "source": "## MODEL II",
   "id": "6e728abaf9ce7ed8"
  },
  {
   "metadata": {
    "ExecuteTime": {
     "end_time": "2024-12-03T22:11:13.533366Z",
     "start_time": "2024-12-03T22:11:13.410355Z"
    }
   },
   "cell_type": "code",
   "source": [
    "def masked_mean_squared_error(y_true, y_pred):\n",
    "    \"\"\"\n",
    "    y_true: true labels, one-hot encoded. Shape (batch_size, sequence_length, OUTPUT_DIM)\n",
    "    y_pred: predicted probabilities. Shape (batch_size, sequence_length, OUTPUT_DIM)\n",
    "    \"\"\"\n",
    "    # Create a mask: 1 for valid labels (non-[0, 0, 0]), 0 for \"Unknown\" ([0, 0, 0])\n",
    "    mask = tf.reduce_sum(y_true, axis=-1) > 0  # Shape: (batch_size, sequence_length)\n",
    "    mask = tf.cast(mask, tf.float32)  # Convert boolean mask to float32 for multiplication\n",
    "    \n",
    "    # Compute categorical cross-entropy loss\n",
    "    loss = tf.square(y_true - y_pred)\n",
    "    \n",
    "    # Apply the mask to the loss\n",
    "    loss = loss * mask[..., tf.newaxis]  # Zero out loss for \"Unknown\" labels\n",
    "    \n",
    "    # Return mean loss over valid labels\n",
    "    return tf.reduce_sum(loss) / tf.reduce_sum(mask)"
   ],
   "id": "eeae105de60df8af",
   "outputs": [],
   "execution_count": 50
  },
  {
   "cell_type": "code",
   "id": "initial_id",
   "metadata": {
    "collapsed": true,
    "ExecuteTime": {
     "end_time": "2024-12-03T22:11:15.627232Z",
     "start_time": "2024-12-03T22:11:13.585604Z"
    }
   },
   "source": [
    "model_method_II = tf.keras.models.load_model(\n",
    "    '//153.19.52.107/emboa/IO3-sessions/NEW STRUCTURE/de-earlyfusionthesis/Models/model_method_II/model.keras', custom_objects={\"masked_mean_squared_error\": masked_mean_squared_error})"
   ],
   "outputs": [],
   "execution_count": 51
  },
  {
   "metadata": {
    "ExecuteTime": {
     "end_time": "2024-12-03T22:11:15.935956Z",
     "start_time": "2024-12-03T22:11:15.746329Z"
    }
   },
   "cell_type": "code",
   "source": "model_method_II.summary()",
   "id": "eccbf4f9b0a83a5a",
   "outputs": [
    {
     "data": {
      "text/plain": [
       "\u001B[1mModel: \"sequential_13\"\u001B[0m\n"
      ],
      "text/html": [
       "<pre style=\"white-space:pre;overflow-x:auto;line-height:normal;font-family:Menlo,'DejaVu Sans Mono',consolas,'Courier New',monospace\"><span style=\"font-weight: bold\">Model: \"sequential_13\"</span>\n",
       "</pre>\n"
      ]
     },
     "metadata": {},
     "output_type": "display_data"
    },
    {
     "data": {
      "text/plain": [
       "┏━━━━━━━━━━━━━━━━━━━━━━━━━━━━━━━━━┳━━━━━━━━━━━━━━━━━━━━━━━━┳━━━━━━━━━━━━━━━┓\n",
       "┃\u001B[1m \u001B[0m\u001B[1mLayer (type)                   \u001B[0m\u001B[1m \u001B[0m┃\u001B[1m \u001B[0m\u001B[1mOutput Shape          \u001B[0m\u001B[1m \u001B[0m┃\u001B[1m \u001B[0m\u001B[1m      Param #\u001B[0m\u001B[1m \u001B[0m┃\n",
       "┡━━━━━━━━━━━━━━━━━━━━━━━━━━━━━━━━━╇━━━━━━━━━━━━━━━━━━━━━━━━╇━━━━━━━━━━━━━━━┩\n",
       "│ bidirectional_13                │ (\u001B[38;5;45mNone\u001B[0m, \u001B[38;5;34m20\u001B[0m, \u001B[38;5;34m128\u001B[0m)        │       \u001B[38;5;34m296,960\u001B[0m │\n",
       "│ (\u001B[38;5;33mBidirectional\u001B[0m)                 │                        │               │\n",
       "├─────────────────────────────────┼────────────────────────┼───────────────┤\n",
       "│ dense_38 (\u001B[38;5;33mDense\u001B[0m)                │ (\u001B[38;5;45mNone\u001B[0m, \u001B[38;5;34m20\u001B[0m, \u001B[38;5;34m64\u001B[0m)         │         \u001B[38;5;34m8,256\u001B[0m │\n",
       "├─────────────────────────────────┼────────────────────────┼───────────────┤\n",
       "│ dense_39 (\u001B[38;5;33mDense\u001B[0m)                │ (\u001B[38;5;45mNone\u001B[0m, \u001B[38;5;34m20\u001B[0m, \u001B[38;5;34m32\u001B[0m)         │         \u001B[38;5;34m2,080\u001B[0m │\n",
       "├─────────────────────────────────┼────────────────────────┼───────────────┤\n",
       "│ dense_40 (\u001B[38;5;33mDense\u001B[0m)                │ (\u001B[38;5;45mNone\u001B[0m, \u001B[38;5;34m20\u001B[0m, \u001B[38;5;34m6\u001B[0m)          │           \u001B[38;5;34m198\u001B[0m │\n",
       "└─────────────────────────────────┴────────────────────────┴───────────────┘\n"
      ],
      "text/html": [
       "<pre style=\"white-space:pre;overflow-x:auto;line-height:normal;font-family:Menlo,'DejaVu Sans Mono',consolas,'Courier New',monospace\">┏━━━━━━━━━━━━━━━━━━━━━━━━━━━━━━━━━┳━━━━━━━━━━━━━━━━━━━━━━━━┳━━━━━━━━━━━━━━━┓\n",
       "┃<span style=\"font-weight: bold\"> Layer (type)                    </span>┃<span style=\"font-weight: bold\"> Output Shape           </span>┃<span style=\"font-weight: bold\">       Param # </span>┃\n",
       "┡━━━━━━━━━━━━━━━━━━━━━━━━━━━━━━━━━╇━━━━━━━━━━━━━━━━━━━━━━━━╇━━━━━━━━━━━━━━━┩\n",
       "│ bidirectional_13                │ (<span style=\"color: #00d7ff; text-decoration-color: #00d7ff\">None</span>, <span style=\"color: #00af00; text-decoration-color: #00af00\">20</span>, <span style=\"color: #00af00; text-decoration-color: #00af00\">128</span>)        │       <span style=\"color: #00af00; text-decoration-color: #00af00\">296,960</span> │\n",
       "│ (<span style=\"color: #0087ff; text-decoration-color: #0087ff\">Bidirectional</span>)                 │                        │               │\n",
       "├─────────────────────────────────┼────────────────────────┼───────────────┤\n",
       "│ dense_38 (<span style=\"color: #0087ff; text-decoration-color: #0087ff\">Dense</span>)                │ (<span style=\"color: #00d7ff; text-decoration-color: #00d7ff\">None</span>, <span style=\"color: #00af00; text-decoration-color: #00af00\">20</span>, <span style=\"color: #00af00; text-decoration-color: #00af00\">64</span>)         │         <span style=\"color: #00af00; text-decoration-color: #00af00\">8,256</span> │\n",
       "├─────────────────────────────────┼────────────────────────┼───────────────┤\n",
       "│ dense_39 (<span style=\"color: #0087ff; text-decoration-color: #0087ff\">Dense</span>)                │ (<span style=\"color: #00d7ff; text-decoration-color: #00d7ff\">None</span>, <span style=\"color: #00af00; text-decoration-color: #00af00\">20</span>, <span style=\"color: #00af00; text-decoration-color: #00af00\">32</span>)         │         <span style=\"color: #00af00; text-decoration-color: #00af00\">2,080</span> │\n",
       "├─────────────────────────────────┼────────────────────────┼───────────────┤\n",
       "│ dense_40 (<span style=\"color: #0087ff; text-decoration-color: #0087ff\">Dense</span>)                │ (<span style=\"color: #00d7ff; text-decoration-color: #00d7ff\">None</span>, <span style=\"color: #00af00; text-decoration-color: #00af00\">20</span>, <span style=\"color: #00af00; text-decoration-color: #00af00\">6</span>)          │           <span style=\"color: #00af00; text-decoration-color: #00af00\">198</span> │\n",
       "└─────────────────────────────────┴────────────────────────┴───────────────┘\n",
       "</pre>\n"
      ]
     },
     "metadata": {},
     "output_type": "display_data"
    },
    {
     "data": {
      "text/plain": [
       "\u001B[1m Total params: \u001B[0m\u001B[38;5;34m922,484\u001B[0m (3.52 MB)\n"
      ],
      "text/html": [
       "<pre style=\"white-space:pre;overflow-x:auto;line-height:normal;font-family:Menlo,'DejaVu Sans Mono',consolas,'Courier New',monospace\"><span style=\"font-weight: bold\"> Total params: </span><span style=\"color: #00af00; text-decoration-color: #00af00\">922,484</span> (3.52 MB)\n",
       "</pre>\n"
      ]
     },
     "metadata": {},
     "output_type": "display_data"
    },
    {
     "data": {
      "text/plain": [
       "\u001B[1m Trainable params: \u001B[0m\u001B[38;5;34m307,494\u001B[0m (1.17 MB)\n"
      ],
      "text/html": [
       "<pre style=\"white-space:pre;overflow-x:auto;line-height:normal;font-family:Menlo,'DejaVu Sans Mono',consolas,'Courier New',monospace\"><span style=\"font-weight: bold\"> Trainable params: </span><span style=\"color: #00af00; text-decoration-color: #00af00\">307,494</span> (1.17 MB)\n",
       "</pre>\n"
      ]
     },
     "metadata": {},
     "output_type": "display_data"
    },
    {
     "data": {
      "text/plain": [
       "\u001B[1m Non-trainable params: \u001B[0m\u001B[38;5;34m0\u001B[0m (0.00 B)\n"
      ],
      "text/html": [
       "<pre style=\"white-space:pre;overflow-x:auto;line-height:normal;font-family:Menlo,'DejaVu Sans Mono',consolas,'Courier New',monospace\"><span style=\"font-weight: bold\"> Non-trainable params: </span><span style=\"color: #00af00; text-decoration-color: #00af00\">0</span> (0.00 B)\n",
       "</pre>\n"
      ]
     },
     "metadata": {},
     "output_type": "display_data"
    },
    {
     "data": {
      "text/plain": [
       "\u001B[1m Optimizer params: \u001B[0m\u001B[38;5;34m614,990\u001B[0m (2.35 MB)\n"
      ],
      "text/html": [
       "<pre style=\"white-space:pre;overflow-x:auto;line-height:normal;font-family:Menlo,'DejaVu Sans Mono',consolas,'Courier New',monospace\"><span style=\"font-weight: bold\"> Optimizer params: </span><span style=\"color: #00af00; text-decoration-color: #00af00\">614,990</span> (2.35 MB)\n",
       "</pre>\n"
      ]
     },
     "metadata": {},
     "output_type": "display_data"
    }
   ],
   "execution_count": 52
  },
  {
   "metadata": {
    "ExecuteTime": {
     "end_time": "2024-12-03T22:12:47.255919Z",
     "start_time": "2024-12-03T22:12:41.799675Z"
    }
   },
   "cell_type": "code",
   "source": [
    "test_set = full_test_II\n",
    "# Getting predictions (chat)\n",
    "y_pred = model_method_II.predict(test_set.map(lambda x, _: x))\n",
    "y_true = tf.concat([y for _, y in test_set], axis=0)\n",
    "# Helper function to compute metrics for a single emotion\n",
    "def compute_all_metrics(y_true, y_pred):\n",
    "    \"\"\"\n",
    "    Compute MAS, MSE, MAE, RMSE, and R² for masked values of y_true and y_pred.\n",
    "    \n",
    "    Args:\n",
    "        y_true (tf.Tensor): Ground truth values after masking.\n",
    "        y_pred (tf.Tensor): Predicted values after masking.\n",
    "    \n",
    "    Returns:\n",
    "        dict: A dictionary with computed metrics.\n",
    "    \"\"\"\n",
    "    def compute_mse(y_true, y_pred):\n",
    "        return tf.reduce_mean(tf.square(y_true - y_pred)).numpy()\n",
    "\n",
    "    def compute_mae(y_true, y_pred):\n",
    "        return tf.reduce_mean(tf.abs(y_true - y_pred)).numpy()\n",
    "\n",
    "    def compute_rmse(y_true, y_pred):\n",
    "        mse = tf.reduce_mean(tf.square(y_true - y_pred))\n",
    "        return tf.sqrt(mse).numpy()\n",
    "\n",
    "    def compute_r2(y_true, y_pred):\n",
    "        total_variance = tf.reduce_sum(tf.square(y_true - tf.reduce_mean(y_true)))\n",
    "        residual_variance = tf.reduce_sum(tf.square(y_true - y_pred))\n",
    "        return (1 - residual_variance / total_variance).numpy()\n",
    "\n",
    "    def compute_similarity(y_true, y_pred):\n",
    "        similarity = 1 - tf.abs(y_true - y_pred)\n",
    "        mas = tf.reduce_mean(similarity).numpy()\n",
    "        label_count = tf.size(y_true).numpy()\n",
    "        return mas, label_count\n",
    "\n",
    "    # Compute metrics\n",
    "    mse = compute_mse(y_true, y_pred)\n",
    "    mae = compute_mae(y_true, y_pred)\n",
    "    rmse = compute_rmse(y_true, y_pred)\n",
    "    r2 = compute_r2(y_true, y_pred)\n",
    "    mas, label_count = compute_similarity(y_true, y_pred)\n",
    "\n",
    "    return {\n",
    "        'Labels Used': label_count,\n",
    "        'MAS': mas,\n",
    "        'MSE': mse,\n",
    "        'MAE': mae,\n",
    "        'RMSE': rmse,\n",
    "        'R²': r2\n",
    "    }\n",
    "\n",
    "# Main loop to compute metrics for all emotions\n",
    "def compute_metrics_for_all_emotions(y_true, y_pred, emotions):\n",
    "    \"\"\"\n",
    "    Compute all metrics for each emotion.\n",
    "    \n",
    "    Args:\n",
    "        y_true (tf.Tensor): Ground truth values (shape: [batch_size, sequence_length, num_emotions]).\n",
    "        y_pred (tf.Tensor): Predicted values (shape: [batch_size, sequence_length, num_emotions]).\n",
    "        emotions (list): List of emotion names.\n",
    "    \n",
    "    Returns:\n",
    "        list: A list of dictionaries containing metrics for each emotion.\n",
    "    \"\"\"\n",
    "    metric_results = []\n",
    "\n",
    "    for i, emotion in enumerate(emotions):\n",
    "        # Extract true and predicted values for the specific emotion\n",
    "        true_values = tf.cast(y_true[:, :, i], tf.float32)\n",
    "        pred_values = tf.cast(y_pred[:, :, i], tf.float32)\n",
    "        \n",
    "        # Mask non-zero true values\n",
    "        mask = tf.not_equal(true_values, 0)\n",
    "        true_values_masked = tf.boolean_mask(true_values, mask)\n",
    "        pred_values_masked = tf.boolean_mask(pred_values, mask)\n",
    "        \n",
    "        # Compute all metrics using the helper function\n",
    "        metrics = compute_all_metrics(true_values_masked, pred_values_masked)\n",
    "        metrics['emotion'] = emotion  # Add emotion name to the result\n",
    "        \n",
    "        # Append to results\n",
    "        metric_results.append(metrics)\n",
    "\n",
    "        # Print for immediate feedback\n",
    "        print(f\"Emotion: {emotion}, Metrics: {metrics}\")\n",
    "\n",
    "    return metric_results\n",
    "\n",
    "# Example Usage\n",
    "# Assuming `emotions` is a list of emotion names, and `y_true` and `y_pred` are already defined\n",
    "results = compute_metrics_for_all_emotions(y_true, y_pred, emotions)\n",
    "\n",
    "# Results are already printed inside the loop\n"
   ],
   "id": "1216bbf95ae134bc",
   "outputs": [
    {
     "name": "stdout",
     "output_type": "stream",
     "text": [
      "\u001B[1m13/13\u001B[0m \u001B[32m━━━━━━━━━━━━━━━━━━━━\u001B[0m\u001B[37m\u001B[0m \u001B[1m5s\u001B[0m 345ms/step\n",
      "Emotion: Happy, Metrics: {'Labels Used': 1733, 'MAS': 0.7714122, 'MSE': 0.092365295, 'MAE': 0.22858784, 'RMSE': 0.3039166, 'R²': -0.5547128, 'emotion': 'Happy'}\n",
      "Emotion: Sad, Metrics: {'Labels Used': 1020, 'MAS': 0.82074165, 'MSE': 0.056170255, 'MAE': 0.17925833, 'RMSE': 0.23700264, 'R²': -1.7504737, 'emotion': 'Sad'}\n",
      "Emotion: Angry, Metrics: {'Labels Used': 764, 'MAS': 0.84800553, 'MSE': 0.042449046, 'MAE': 0.15199442, 'RMSE': 0.20603167, 'R²': 0.14819503, 'emotion': 'Angry'}\n",
      "Emotion: Fear, Metrics: {'Labels Used': 426, 'MAS': 0.7566955, 'MSE': 0.06877991, 'MAE': 0.2433045, 'RMSE': 0.26225924, 'R²': -18.03748, 'emotion': 'Fear'}\n",
      "Emotion: Disgusted, Metrics: {'Labels Used': 286, 'MAS': 0.803003, 'MSE': 0.05415352, 'MAE': 0.19699703, 'RMSE': 0.2327091, 'R²': -5.1655345, 'emotion': 'Disgusted'}\n",
      "Emotion: Surprised, Metrics: {'Labels Used': 409, 'MAS': 0.7801965, 'MSE': 0.06328549, 'MAE': 0.21980351, 'RMSE': 0.25156608, 'R²': -5.600141, 'emotion': 'Surprised'}\n"
     ]
    }
   ],
   "execution_count": 54
  }
 ],
 "metadata": {
  "kernelspec": {
   "display_name": "Python 3",
   "language": "python",
   "name": "python3"
  },
  "language_info": {
   "codemirror_mode": {
    "name": "ipython",
    "version": 2
   },
   "file_extension": ".py",
   "mimetype": "text/x-python",
   "name": "python",
   "nbconvert_exporter": "python",
   "pygments_lexer": "ipython2",
   "version": "2.7.6"
  }
 },
 "nbformat": 4,
 "nbformat_minor": 5
}
