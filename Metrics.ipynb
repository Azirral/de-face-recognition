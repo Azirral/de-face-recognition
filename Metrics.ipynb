{
 "cells": [
  {
   "metadata": {
    "ExecuteTime": {
     "end_time": "2024-12-03T10:05:32.712120Z",
     "start_time": "2024-12-03T10:05:32.637809Z"
    }
   },
   "cell_type": "code",
   "source": [
    "import os\n",
    "import tensorflow as tf\n",
    "import numpy as np\n",
    "import matplotlib.pyplot as plt\n",
    "from sklearn.metrics import confusion_matrix, ConfusionMatrixDisplay"
   ],
   "id": "24c79cc35059ab15",
   "outputs": [],
   "execution_count": 44
  },
  {
   "metadata": {
    "ExecuteTime": {
     "end_time": "2024-12-03T15:28:44.009804Z",
     "start_time": "2024-12-03T15:28:41.931581Z"
    }
   },
   "cell_type": "code",
   "source": [
    "path = r'S:\\IO3-sessions\\NEW STRUCTURE\\de-earlyfusionthesis\\Datasets'\n",
    "\n",
    "train_dataset_path_I = os.path.abspath(os.path.join(path, 'train_dataset_method_II_balanced'))\n",
    "GUT_test_path_I = os.path.join(path, 'GUT_test_method_I_balanced').replace(\"\\\\\", \"/\")\n",
    "ITU_YU_test_path_I = os.path.join(path, 'ITU_YU_test_method_I_balanced').replace(\"\\\\\", \"/\")\n",
    "MAAP_test_path_I = os.path.join(path, 'MAAP_test_method_I_balanced').replace(\"\\\\\", \"/\")\n",
    "\n",
    "train_dataset_path_II = os.path.abspath(os.path.join(path, 'train_dataset_method_II_balanced'))\n",
    "GUT_test_path_II = os.path.join(path, 'GUT_test_method_II_balanced').replace(\"\\\\\", \"/\")\n",
    "ITU_YU_test_path_II = os.path.join(path, 'ITU_YU_test_method_II_balanced').replace(\"\\\\\", \"/\")\n",
    "MAAP_test_path_II = os.path.join(path, 'MAAP_test_method_II_balanced').replace(\"\\\\\", \"/\")\n",
    "\n",
    "# Load datasets\n",
    "train_I = tf.data.Dataset.load(train_dataset_path_I)\n",
    "GUT_test_I = tf.data.Dataset.load(GUT_test_path_I)\n",
    "ITU_YU_test_I = tf.data.Dataset.load(ITU_YU_test_path_I)\n",
    "MAAP_test_I = tf.data.Dataset.load(MAAP_test_path_I)\n",
    "\n",
    "train_II = tf.data.Dataset.load(train_dataset_path_II)\n",
    "GUT_test_II = tf.data.Dataset.load(GUT_test_path_II)\n",
    "ITU_YU_test_II = tf.data.Dataset.load(ITU_YU_test_path_II)\n",
    "MAAP_test_II = tf.data.Dataset.load(MAAP_test_path_II)\n",
    "\n",
    "full_test_I = GUT_test_I.concatenate(ITU_YU_test_I).concatenate(MAAP_test_I)\n",
    "full_test_II = GUT_test_II.concatenate(ITU_YU_test_II).concatenate(MAAP_test_II)"
   ],
   "id": "ea3f186bf5baf876",
   "outputs": [],
   "execution_count": 67
  },
  {
   "metadata": {
    "ExecuteTime": {
     "end_time": "2024-12-03T15:28:44.519711Z",
     "start_time": "2024-12-03T15:28:44.501215Z"
    }
   },
   "cell_type": "code",
   "source": "emotions = [\"Happy\", \"Sad\", \"Angry\", \"Fear\", \"Disgusted\", \"Surprised\"]",
   "id": "c6c6e65ef3ff8d13",
   "outputs": [],
   "execution_count": 68
  },
  {
   "metadata": {},
   "cell_type": "markdown",
   "source": "## MODEL I",
   "id": "b5d7e7f5a05945e6"
  },
  {
   "metadata": {
    "ExecuteTime": {
     "end_time": "2024-11-28T16:44:19.982462Z",
     "start_time": "2024-11-28T16:44:19.967692Z"
    }
   },
   "cell_type": "code",
   "source": [
    "def custom_masking(inputs):\n",
    "    # Create a mask where any feature being 0 masks the entire time step\n",
    "    mask = tf.reduce_all(tf.not_equal(inputs, 0.0), axis=-1)  # True if no feature is 0\n",
    "    return tf.where(mask[:, :, tf.newaxis], inputs, tf.zeros_like(inputs))"
   ],
   "id": "b9ef495d1b462a28",
   "outputs": [],
   "execution_count": 4
  },
  {
   "metadata": {
    "ExecuteTime": {
     "end_time": "2024-12-03T15:28:50.095222Z",
     "start_time": "2024-12-03T15:28:48.318118Z"
    }
   },
   "cell_type": "code",
   "source": "model_method_I = tf.keras.models.load_model('//153.19.52.107/emboa/IO3-sessions/NEW STRUCTURE/de-earlyfusionthesis/Models/model_method_I/model.keras')",
   "id": "113e9d51fdd22c8f",
   "outputs": [],
   "execution_count": 69
  },
  {
   "metadata": {
    "ExecuteTime": {
     "end_time": "2024-12-03T15:28:50.173382Z",
     "start_time": "2024-12-03T15:28:50.114917Z"
    }
   },
   "cell_type": "code",
   "source": "model_method_I.summary()",
   "id": "6990e7d1402b6eba",
   "outputs": [
    {
     "data": {
      "text/plain": [
       "\u001B[1mModel: \"sequential_2\"\u001B[0m\n"
      ],
      "text/html": [
       "<pre style=\"white-space:pre;overflow-x:auto;line-height:normal;font-family:Menlo,'DejaVu Sans Mono',consolas,'Courier New',monospace\"><span style=\"font-weight: bold\">Model: \"sequential_2\"</span>\n",
       "</pre>\n"
      ]
     },
     "metadata": {},
     "output_type": "display_data"
    },
    {
     "data": {
      "text/plain": [
       "┏━━━━━━━━━━━━━━━━━━━━━━━━━━━━━━━━━┳━━━━━━━━━━━━━━━━━━━━━━━━┳━━━━━━━━━━━━━━━┓\n",
       "┃\u001B[1m \u001B[0m\u001B[1mLayer (type)                   \u001B[0m\u001B[1m \u001B[0m┃\u001B[1m \u001B[0m\u001B[1mOutput Shape          \u001B[0m\u001B[1m \u001B[0m┃\u001B[1m \u001B[0m\u001B[1m      Param #\u001B[0m\u001B[1m \u001B[0m┃\n",
       "┡━━━━━━━━━━━━━━━━━━━━━━━━━━━━━━━━━╇━━━━━━━━━━━━━━━━━━━━━━━━╇━━━━━━━━━━━━━━━┩\n",
       "│ bidirectional_1 (\u001B[38;5;33mBidirectional\u001B[0m) │ (\u001B[38;5;45mNone\u001B[0m, \u001B[38;5;34m20\u001B[0m, \u001B[38;5;34m128\u001B[0m)        │       \u001B[38;5;34m296,960\u001B[0m │\n",
       "├─────────────────────────────────┼────────────────────────┼───────────────┤\n",
       "│ dense_4 (\u001B[38;5;33mDense\u001B[0m)                 │ (\u001B[38;5;45mNone\u001B[0m, \u001B[38;5;34m20\u001B[0m, \u001B[38;5;34m32\u001B[0m)         │         \u001B[38;5;34m4,128\u001B[0m │\n",
       "├─────────────────────────────────┼────────────────────────┼───────────────┤\n",
       "│ dense_5 (\u001B[38;5;33mDense\u001B[0m)                 │ (\u001B[38;5;45mNone\u001B[0m, \u001B[38;5;34m20\u001B[0m, \u001B[38;5;34m6\u001B[0m)          │           \u001B[38;5;34m198\u001B[0m │\n",
       "└─────────────────────────────────┴────────────────────────┴───────────────┘\n"
      ],
      "text/html": [
       "<pre style=\"white-space:pre;overflow-x:auto;line-height:normal;font-family:Menlo,'DejaVu Sans Mono',consolas,'Courier New',monospace\">┏━━━━━━━━━━━━━━━━━━━━━━━━━━━━━━━━━┳━━━━━━━━━━━━━━━━━━━━━━━━┳━━━━━━━━━━━━━━━┓\n",
       "┃<span style=\"font-weight: bold\"> Layer (type)                    </span>┃<span style=\"font-weight: bold\"> Output Shape           </span>┃<span style=\"font-weight: bold\">       Param # </span>┃\n",
       "┡━━━━━━━━━━━━━━━━━━━━━━━━━━━━━━━━━╇━━━━━━━━━━━━━━━━━━━━━━━━╇━━━━━━━━━━━━━━━┩\n",
       "│ bidirectional_1 (<span style=\"color: #0087ff; text-decoration-color: #0087ff\">Bidirectional</span>) │ (<span style=\"color: #00d7ff; text-decoration-color: #00d7ff\">None</span>, <span style=\"color: #00af00; text-decoration-color: #00af00\">20</span>, <span style=\"color: #00af00; text-decoration-color: #00af00\">128</span>)        │       <span style=\"color: #00af00; text-decoration-color: #00af00\">296,960</span> │\n",
       "├─────────────────────────────────┼────────────────────────┼───────────────┤\n",
       "│ dense_4 (<span style=\"color: #0087ff; text-decoration-color: #0087ff\">Dense</span>)                 │ (<span style=\"color: #00d7ff; text-decoration-color: #00d7ff\">None</span>, <span style=\"color: #00af00; text-decoration-color: #00af00\">20</span>, <span style=\"color: #00af00; text-decoration-color: #00af00\">32</span>)         │         <span style=\"color: #00af00; text-decoration-color: #00af00\">4,128</span> │\n",
       "├─────────────────────────────────┼────────────────────────┼───────────────┤\n",
       "│ dense_5 (<span style=\"color: #0087ff; text-decoration-color: #0087ff\">Dense</span>)                 │ (<span style=\"color: #00d7ff; text-decoration-color: #00d7ff\">None</span>, <span style=\"color: #00af00; text-decoration-color: #00af00\">20</span>, <span style=\"color: #00af00; text-decoration-color: #00af00\">6</span>)          │           <span style=\"color: #00af00; text-decoration-color: #00af00\">198</span> │\n",
       "└─────────────────────────────────┴────────────────────────┴───────────────┘\n",
       "</pre>\n"
      ]
     },
     "metadata": {},
     "output_type": "display_data"
    },
    {
     "data": {
      "text/plain": [
       "\u001B[1m Total params: \u001B[0m\u001B[38;5;34m903,860\u001B[0m (3.45 MB)\n"
      ],
      "text/html": [
       "<pre style=\"white-space:pre;overflow-x:auto;line-height:normal;font-family:Menlo,'DejaVu Sans Mono',consolas,'Courier New',monospace\"><span style=\"font-weight: bold\"> Total params: </span><span style=\"color: #00af00; text-decoration-color: #00af00\">903,860</span> (3.45 MB)\n",
       "</pre>\n"
      ]
     },
     "metadata": {},
     "output_type": "display_data"
    },
    {
     "data": {
      "text/plain": [
       "\u001B[1m Trainable params: \u001B[0m\u001B[38;5;34m301,286\u001B[0m (1.15 MB)\n"
      ],
      "text/html": [
       "<pre style=\"white-space:pre;overflow-x:auto;line-height:normal;font-family:Menlo,'DejaVu Sans Mono',consolas,'Courier New',monospace\"><span style=\"font-weight: bold\"> Trainable params: </span><span style=\"color: #00af00; text-decoration-color: #00af00\">301,286</span> (1.15 MB)\n",
       "</pre>\n"
      ]
     },
     "metadata": {},
     "output_type": "display_data"
    },
    {
     "data": {
      "text/plain": [
       "\u001B[1m Non-trainable params: \u001B[0m\u001B[38;5;34m0\u001B[0m (0.00 B)\n"
      ],
      "text/html": [
       "<pre style=\"white-space:pre;overflow-x:auto;line-height:normal;font-family:Menlo,'DejaVu Sans Mono',consolas,'Courier New',monospace\"><span style=\"font-weight: bold\"> Non-trainable params: </span><span style=\"color: #00af00; text-decoration-color: #00af00\">0</span> (0.00 B)\n",
       "</pre>\n"
      ]
     },
     "metadata": {},
     "output_type": "display_data"
    },
    {
     "data": {
      "text/plain": [
       "\u001B[1m Optimizer params: \u001B[0m\u001B[38;5;34m602,574\u001B[0m (2.30 MB)\n"
      ],
      "text/html": [
       "<pre style=\"white-space:pre;overflow-x:auto;line-height:normal;font-family:Menlo,'DejaVu Sans Mono',consolas,'Courier New',monospace\"><span style=\"font-weight: bold\"> Optimizer params: </span><span style=\"color: #00af00; text-decoration-color: #00af00\">602,574</span> (2.30 MB)\n",
       "</pre>\n"
      ]
     },
     "metadata": {},
     "output_type": "display_data"
    }
   ],
   "execution_count": 70
  },
  {
   "metadata": {
    "ExecuteTime": {
     "end_time": "2024-12-03T15:28:57.156443Z",
     "start_time": "2024-12-03T15:28:51.420703Z"
    }
   },
   "cell_type": "code",
   "source": [
    "test_set = full_test_I\n",
    "# Getting predictions (chat)\n",
    "y_pred = model_method_I.predict(test_set.map(lambda x, _: x))\n",
    "y_true = tf.concat([y for _, y in test_set], axis=0)"
   ],
   "id": "4ed49f3738f5a79b",
   "outputs": [
    {
     "name": "stdout",
     "output_type": "stream",
     "text": [
      "\u001B[1m5/5\u001B[0m \u001B[32m━━━━━━━━━━━━━━━━━━━━\u001B[0m\u001B[37m\u001B[0m \u001B[1m5s\u001B[0m 888ms/step\n"
     ]
    }
   ],
   "execution_count": 71
  },
  {
   "metadata": {
    "ExecuteTime": {
     "end_time": "2024-12-03T15:29:01.437268Z",
     "start_time": "2024-12-03T15:29:01.381857Z"
    }
   },
   "cell_type": "code",
   "source": [
    "categorical_accuracy = tf.keras.metrics.CategoricalAccuracy()\n",
    "categorical_accuracy.update_state(y_true, y_pred)\n",
    "print(f\"Categorical Accuracy: {categorical_accuracy.result().numpy()}\")"
   ],
   "id": "2d0e9d57ba054cd5",
   "outputs": [
    {
     "name": "stdout",
     "output_type": "stream",
     "text": [
      "Categorical Accuracy: 0.05848214402794838\n"
     ]
    }
   ],
   "execution_count": 72
  },
  {
   "metadata": {
    "ExecuteTime": {
     "end_time": "2024-12-03T15:29:02.419868Z",
     "start_time": "2024-12-03T15:29:02.403490Z"
    }
   },
   "cell_type": "code",
   "source": [
    "y_true_indices = np.argmax(y_true.numpy(), axis=-1).flatten()\n",
    "y_pred_indices = np.argmax(y_pred, axis=-1).flatten()"
   ],
   "id": "acd96cfbc7963fc7",
   "outputs": [],
   "execution_count": 73
  },
  {
   "metadata": {
    "ExecuteTime": {
     "end_time": "2024-12-03T15:29:04.671062Z",
     "start_time": "2024-12-03T15:29:03.303997Z"
    }
   },
   "cell_type": "code",
   "source": [
    "cm = confusion_matrix(y_true_indices, y_pred_indices)\n",
    "disp = ConfusionMatrixDisplay(confusion_matrix=cm, display_labels=emotions)\n",
    "disp.plot(cmap='Blues', values_format='')\n",
    "plt.grid(False)\n",
    "plt.title(\"Confusion Matrix\")\n",
    "plt.show()"
   ],
   "id": "4340b5f4dfa6b98f",
   "outputs": [
    {
     "data": {
      "text/plain": [
       "<Figure size 640x480 with 2 Axes>"
      ],
      "image/png": "[encoded data removed]"
     },
     "metadata": {},
     "output_type": "display_data"
    }
   ],
   "execution_count": 74
  },
  {
   "metadata": {
    "ExecuteTime": {
     "end_time": "2024-11-27T14:01:23.832856Z",
     "start_time": "2024-11-27T14:01:23.781821Z"
    }
   },
   "cell_type": "code",
   "source": [
    "for i, emotion in enumerate(emotions):\n",
    "    \n",
    "    # Precision, Recall, F1 for this class\n",
    "    true_class = (y_true_indices == i)\n",
    "    pred_class = (y_pred_indices == i)\n",
    "    precision = np.sum(true_class & pred_class) / np.sum(pred_class)\n",
    "    recall = np.sum(true_class & pred_class) / np.sum(true_class)\n",
    "    f1 = 2 * (precision * recall) / (precision + recall)\n",
    "    \n",
    "    print(f\"Metrics for {emotion}:\")\n",
    "    print(f\"  Precision: {precision:.2f}, Recall: {recall:.2f}, F1-Score: {f1:.2f}\")"
   ],
   "id": "918c1e35072f5658",
   "outputs": [
    {
     "name": "stdout",
     "output_type": "stream",
     "text": [
      "Metrics for Happy:\n",
      "  Precision: 1.00, Recall: 1.00, F1-Score: 1.00\n",
      "Metrics for Sad:\n",
      "  Precision: nan, Recall: nan, F1-Score: nan\n",
      "Metrics for Angry:\n",
      "  Precision: nan, Recall: nan, F1-Score: nan\n",
      "Metrics for Fear:\n",
      "  Precision: nan, Recall: nan, F1-Score: nan\n",
      "Metrics for Disgusted:\n",
      "  Precision: nan, Recall: nan, F1-Score: nan\n",
      "Metrics for Surprised:\n",
      "  Precision: nan, Recall: nan, F1-Score: nan\n"
     ]
    },
    {
     "name": "stderr",
     "output_type": "stream",
     "text": [
      "C:\\Users\\oskik\\AppData\\Local\\Temp\\ipykernel_17356\\3298553603.py:6: RuntimeWarning: invalid value encountered in scalar divide\n",
      "  precision = np.sum(true_class & pred_class) / np.sum(pred_class)\n",
      "C:\\Users\\oskik\\AppData\\Local\\Temp\\ipykernel_17356\\3298553603.py:7: RuntimeWarning: invalid value encountered in scalar divide\n",
      "  recall = np.sum(true_class & pred_class) / np.sum(true_class)\n"
     ]
    }
   ],
   "execution_count": 23
  },
  {
   "metadata": {},
   "cell_type": "markdown",
   "source": "## MODEL II",
   "id": "6e728abaf9ce7ed8"
  },
  {
   "cell_type": "code",
   "id": "initial_id",
   "metadata": {
    "collapsed": true,
    "ExecuteTime": {
     "end_time": "2024-12-03T15:22:51.228703Z",
     "start_time": "2024-12-03T15:22:50.592282Z"
    }
   },
   "source": "model_method_II = tf.keras.models.load_model('//153.19.52.107/emboa/IO3-sessions/NEW STRUCTURE/de-earlyfusionthesis/Models/model_method_II/model.keras')",
   "outputs": [],
   "execution_count": 63
  },
  {
   "metadata": {
    "ExecuteTime": {
     "end_time": "2024-12-03T15:22:52.274939Z",
     "start_time": "2024-12-03T15:22:52.220788Z"
    }
   },
   "cell_type": "code",
   "source": "model_method_II.summary()",
   "id": "eccbf4f9b0a83a5a",
   "outputs": [
    {
     "data": {
      "text/plain": [
       "\u001B[1mModel: \"sequential_1\"\u001B[0m\n"
      ],
      "text/html": [
       "<pre style=\"white-space:pre;overflow-x:auto;line-height:normal;font-family:Menlo,'DejaVu Sans Mono',consolas,'Courier New',monospace\"><span style=\"font-weight: bold\">Model: \"sequential_1\"</span>\n",
       "</pre>\n"
      ]
     },
     "metadata": {},
     "output_type": "display_data"
    },
    {
     "data": {
      "text/plain": [
       "┏━━━━━━━━━━━━━━━━━━━━━━━━━━━━━━━━━┳━━━━━━━━━━━━━━━━━━━━━━━━┳━━━━━━━━━━━━━━━┓\n",
       "┃\u001B[1m \u001B[0m\u001B[1mLayer (type)                   \u001B[0m\u001B[1m \u001B[0m┃\u001B[1m \u001B[0m\u001B[1mOutput Shape          \u001B[0m\u001B[1m \u001B[0m┃\u001B[1m \u001B[0m\u001B[1m      Param #\u001B[0m\u001B[1m \u001B[0m┃\n",
       "┡━━━━━━━━━━━━━━━━━━━━━━━━━━━━━━━━━╇━━━━━━━━━━━━━━━━━━━━━━━━╇━━━━━━━━━━━━━━━┩\n",
       "│ lstm_1 (\u001B[38;5;33mLSTM\u001B[0m)                   │ (\u001B[38;5;45mNone\u001B[0m, \u001B[38;5;34m20\u001B[0m, \u001B[38;5;34m64\u001B[0m)         │       \u001B[38;5;34m148,480\u001B[0m │\n",
       "├─────────────────────────────────┼────────────────────────┼───────────────┤\n",
       "│ dense_2 (\u001B[38;5;33mDense\u001B[0m)                 │ (\u001B[38;5;45mNone\u001B[0m, \u001B[38;5;34m20\u001B[0m, \u001B[38;5;34m32\u001B[0m)         │         \u001B[38;5;34m2,080\u001B[0m │\n",
       "├─────────────────────────────────┼────────────────────────┼───────────────┤\n",
       "│ dense_3 (\u001B[38;5;33mDense\u001B[0m)                 │ (\u001B[38;5;45mNone\u001B[0m, \u001B[38;5;34m20\u001B[0m, \u001B[38;5;34m6\u001B[0m)          │           \u001B[38;5;34m198\u001B[0m │\n",
       "└─────────────────────────────────┴────────────────────────┴───────────────┘\n"
      ],
      "text/html": [
       "<pre style=\"white-space:pre;overflow-x:auto;line-height:normal;font-family:Menlo,'DejaVu Sans Mono',consolas,'Courier New',monospace\">┏━━━━━━━━━━━━━━━━━━━━━━━━━━━━━━━━━┳━━━━━━━━━━━━━━━━━━━━━━━━┳━━━━━━━━━━━━━━━┓\n",
       "┃<span style=\"font-weight: bold\"> Layer (type)                    </span>┃<span style=\"font-weight: bold\"> Output Shape           </span>┃<span style=\"font-weight: bold\">       Param # </span>┃\n",
       "┡━━━━━━━━━━━━━━━━━━━━━━━━━━━━━━━━━╇━━━━━━━━━━━━━━━━━━━━━━━━╇━━━━━━━━━━━━━━━┩\n",
       "│ lstm_1 (<span style=\"color: #0087ff; text-decoration-color: #0087ff\">LSTM</span>)                   │ (<span style=\"color: #00d7ff; text-decoration-color: #00d7ff\">None</span>, <span style=\"color: #00af00; text-decoration-color: #00af00\">20</span>, <span style=\"color: #00af00; text-decoration-color: #00af00\">64</span>)         │       <span style=\"color: #00af00; text-decoration-color: #00af00\">148,480</span> │\n",
       "├─────────────────────────────────┼────────────────────────┼───────────────┤\n",
       "│ dense_2 (<span style=\"color: #0087ff; text-decoration-color: #0087ff\">Dense</span>)                 │ (<span style=\"color: #00d7ff; text-decoration-color: #00d7ff\">None</span>, <span style=\"color: #00af00; text-decoration-color: #00af00\">20</span>, <span style=\"color: #00af00; text-decoration-color: #00af00\">32</span>)         │         <span style=\"color: #00af00; text-decoration-color: #00af00\">2,080</span> │\n",
       "├─────────────────────────────────┼────────────────────────┼───────────────┤\n",
       "│ dense_3 (<span style=\"color: #0087ff; text-decoration-color: #0087ff\">Dense</span>)                 │ (<span style=\"color: #00d7ff; text-decoration-color: #00d7ff\">None</span>, <span style=\"color: #00af00; text-decoration-color: #00af00\">20</span>, <span style=\"color: #00af00; text-decoration-color: #00af00\">6</span>)          │           <span style=\"color: #00af00; text-decoration-color: #00af00\">198</span> │\n",
       "└─────────────────────────────────┴────────────────────────┴───────────────┘\n",
       "</pre>\n"
      ]
     },
     "metadata": {},
     "output_type": "display_data"
    },
    {
     "data": {
      "text/plain": [
       "\u001B[1m Total params: \u001B[0m\u001B[38;5;34m452,276\u001B[0m (1.73 MB)\n"
      ],
      "text/html": [
       "<pre style=\"white-space:pre;overflow-x:auto;line-height:normal;font-family:Menlo,'DejaVu Sans Mono',consolas,'Courier New',monospace\"><span style=\"font-weight: bold\"> Total params: </span><span style=\"color: #00af00; text-decoration-color: #00af00\">452,276</span> (1.73 MB)\n",
       "</pre>\n"
      ]
     },
     "metadata": {},
     "output_type": "display_data"
    },
    {
     "data": {
      "text/plain": [
       "\u001B[1m Trainable params: \u001B[0m\u001B[38;5;34m150,758\u001B[0m (588.90 KB)\n"
      ],
      "text/html": [
       "<pre style=\"white-space:pre;overflow-x:auto;line-height:normal;font-family:Menlo,'DejaVu Sans Mono',consolas,'Courier New',monospace\"><span style=\"font-weight: bold\"> Trainable params: </span><span style=\"color: #00af00; text-decoration-color: #00af00\">150,758</span> (588.90 KB)\n",
       "</pre>\n"
      ]
     },
     "metadata": {},
     "output_type": "display_data"
    },
    {
     "data": {
      "text/plain": [
       "\u001B[1m Non-trainable params: \u001B[0m\u001B[38;5;34m0\u001B[0m (0.00 B)\n"
      ],
      "text/html": [
       "<pre style=\"white-space:pre;overflow-x:auto;line-height:normal;font-family:Menlo,'DejaVu Sans Mono',consolas,'Courier New',monospace\"><span style=\"font-weight: bold\"> Non-trainable params: </span><span style=\"color: #00af00; text-decoration-color: #00af00\">0</span> (0.00 B)\n",
       "</pre>\n"
      ]
     },
     "metadata": {},
     "output_type": "display_data"
    },
    {
     "data": {
      "text/plain": [
       "\u001B[1m Optimizer params: \u001B[0m\u001B[38;5;34m301,518\u001B[0m (1.15 MB)\n"
      ],
      "text/html": [
       "<pre style=\"white-space:pre;overflow-x:auto;line-height:normal;font-family:Menlo,'DejaVu Sans Mono',consolas,'Courier New',monospace\"><span style=\"font-weight: bold\"> Optimizer params: </span><span style=\"color: #00af00; text-decoration-color: #00af00\">301,518</span> (1.15 MB)\n",
       "</pre>\n"
      ]
     },
     "metadata": {},
     "output_type": "display_data"
    }
   ],
   "execution_count": 64
  },
  {
   "metadata": {
    "ExecuteTime": {
     "end_time": "2024-12-03T15:23:31.790520Z",
     "start_time": "2024-12-03T15:23:26.859489Z"
    }
   },
   "cell_type": "code",
   "source": [
    "test_set = full_test_II\n",
    "# Getting predictions (chat)\n",
    "y_pred = model_method_II.predict(test_set.map(lambda x, _: x))\n",
    "y_true = tf.concat([y for _, y in test_set], axis=0)\n",
    "# Helper function to compute metrics for a single emotion\n",
    "def compute_all_metrics(y_true, y_pred):\n",
    "    \"\"\"\n",
    "    Compute MAS, MSE, MAE, RMSE, and R² for masked values of y_true and y_pred.\n",
    "    \n",
    "    Args:\n",
    "        y_true (tf.Tensor): Ground truth values after masking.\n",
    "        y_pred (tf.Tensor): Predicted values after masking.\n",
    "    \n",
    "    Returns:\n",
    "        dict: A dictionary with computed metrics.\n",
    "    \"\"\"\n",
    "    def compute_mse(y_true, y_pred):\n",
    "        return tf.reduce_mean(tf.square(y_true - y_pred)).numpy()\n",
    "\n",
    "    def compute_mae(y_true, y_pred):\n",
    "        return tf.reduce_mean(tf.abs(y_true - y_pred)).numpy()\n",
    "\n",
    "    def compute_rmse(y_true, y_pred):\n",
    "        mse = tf.reduce_mean(tf.square(y_true - y_pred))\n",
    "        return tf.sqrt(mse).numpy()\n",
    "\n",
    "    def compute_r2(y_true, y_pred):\n",
    "        total_variance = tf.reduce_sum(tf.square(y_true - tf.reduce_mean(y_true)))\n",
    "        residual_variance = tf.reduce_sum(tf.square(y_true - y_pred))\n",
    "        return (1 - residual_variance / total_variance).numpy()\n",
    "\n",
    "    def compute_similarity(y_true, y_pred):\n",
    "        similarity = 1 - tf.abs(y_true - y_pred)\n",
    "        mas = tf.reduce_mean(similarity).numpy()\n",
    "        label_count = tf.size(y_true).numpy()\n",
    "        return mas, label_count\n",
    "\n",
    "    # Compute metrics\n",
    "    mse = compute_mse(y_true, y_pred)\n",
    "    mae = compute_mae(y_true, y_pred)\n",
    "    rmse = compute_rmse(y_true, y_pred)\n",
    "    r2 = compute_r2(y_true, y_pred)\n",
    "    mas, label_count = compute_similarity(y_true, y_pred)\n",
    "\n",
    "    return {\n",
    "        'MAS': mas,\n",
    "        'Labels Used': label_count,\n",
    "        'MSE': mse,\n",
    "        'MAE': mae,\n",
    "        'RMSE': rmse,\n",
    "        'R²': r2\n",
    "    }\n",
    "\n",
    "# Main loop to compute metrics for all emotions\n",
    "def compute_metrics_for_all_emotions(y_true, y_pred, emotions):\n",
    "    \"\"\"\n",
    "    Compute all metrics for each emotion.\n",
    "    \n",
    "    Args:\n",
    "        y_true (tf.Tensor): Ground truth values (shape: [batch_size, sequence_length, num_emotions]).\n",
    "        y_pred (tf.Tensor): Predicted values (shape: [batch_size, sequence_length, num_emotions]).\n",
    "        emotions (list): List of emotion names.\n",
    "    \n",
    "    Returns:\n",
    "        list: A list of dictionaries containing metrics for each emotion.\n",
    "    \"\"\"\n",
    "    metric_results = []\n",
    "\n",
    "    for i, emotion in enumerate(emotions):\n",
    "        # Extract true and predicted values for the specific emotion\n",
    "        true_values = tf.cast(y_true[:, :, i], tf.float32)\n",
    "        pred_values = tf.cast(y_pred[:, :, i], tf.float32)\n",
    "        \n",
    "        # Mask non-zero true values\n",
    "        # mask = tf.not_equal(true_values, 0)\n",
    "        # true_values_masked = tf.boolean_mask(true_values, mask)\n",
    "        # pred_values_masked = tf.boolean_mask(pred_values, mask)\n",
    "        \n",
    "        # Compute all metrics using the helper function\n",
    "        metrics = compute_all_metrics(true_values, pred_values)\n",
    "        metrics['emotion'] = emotion  # Add emotion name to the result\n",
    "        \n",
    "        # Append to results\n",
    "        metric_results.append(metrics)\n",
    "\n",
    "        # Print for immediate feedback\n",
    "        print(f\"Emotion: {emotion}, Metrics: {metrics}\")\n",
    "\n",
    "    return metric_results\n",
    "\n",
    "# Example Usage\n",
    "# Assuming `emotions` is a list of emotion names, and `y_true` and `y_pred` are already defined\n",
    "results = compute_metrics_for_all_emotions(y_true, y_pred, emotions)\n",
    "\n",
    "# Results are already printed inside the loop\n"
   ],
   "id": "1216bbf95ae134bc",
   "outputs": [
    {
     "name": "stdout",
     "output_type": "stream",
     "text": [
      "\u001B[1m 1/13\u001B[0m \u001B[32m━\u001B[0m\u001B[37m━━━━━━━━━━━━━━━━━━━\u001B[0m \u001B[1m26s\u001B[0m 2s/stepWARNING:tensorflow:5 out of the last 144 calls to <function TensorFlowTrainer.make_predict_function.<locals>.one_step_on_data_distributed at 0x000001CD5BC6E520> triggered tf.function retracing. Tracing is expensive and the excessive number of tracings could be due to (1) creating @tf.function repeatedly in a loop, (2) passing tensors with different shapes, (3) passing Python objects instead of tensors. For (1), please define your @tf.function outside of the loop. For (2), @tf.function has reduce_retracing=True option that can avoid unnecessary retracing. For (3), please refer to https://www.tensorflow.org/guide/function#controlling_retracing and https://www.tensorflow.org/api_docs/python/tf/function for  more details.\n",
      "\u001B[1m13/13\u001B[0m \u001B[32m━━━━━━━━━━━━━━━━━━━━\u001B[0m\u001B[37m\u001B[0m \u001B[1m4s\u001B[0m 161ms/step\n",
      "Emotion: Happy, Metrics: {'MAS': 0.87365025, 'Labels Used': 7000, 'MSE': 0.046669144, 'MAE': 0.12634978, 'RMSE': 0.21603042, 'R²': 0.26850122, 'emotion': 'Happy'}\n",
      "Emotion: Sad, Metrics: {'MAS': 0.92432255, 'Labels Used': 7000, 'MSE': 0.017457865, 'MAE': 0.07567742, 'RMSE': 0.13212821, 'R²': 0.25231028, 'emotion': 'Sad'}\n",
      "Emotion: Angry, Metrics: {'MAS': 0.9456372, 'Labels Used': 7000, 'MSE': 0.014639603, 'MAE': 0.05436278, 'RMSE': 0.120994225, 'R²': 0.46467507, 'emotion': 'Angry'}\n",
      "Emotion: Fear, Metrics: {'MAS': 0.96482354, 'Labels Used': 7000, 'MSE': 0.006958537, 'MAE': 0.0351766, 'RMSE': 0.08341785, 'R²': -0.021851659, 'emotion': 'Fear'}\n",
      "Emotion: Disgusted, Metrics: {'MAS': 0.96729743, 'Labels Used': 7000, 'MSE': 0.0056036795, 'MAE': 0.032702576, 'RMSE': 0.07485773, 'R²': -0.048882723, 'emotion': 'Disgusted'}\n",
      "Emotion: Surprised, Metrics: {'MAS': 0.9618739, 'Labels Used': 7000, 'MSE': 0.006977465, 'MAE': 0.038126115, 'RMSE': 0.08353122, 'R²': 0.11601889, 'emotion': 'Surprised'}\n"
     ]
    }
   ],
   "execution_count": 66
  },
  {
   "metadata": {},
   "cell_type": "code",
   "outputs": [],
   "execution_count": null,
   "source": "",
   "id": "8f655adbe5da4e34"
  }
 ],
 "metadata": {
  "kernelspec": {
   "display_name": "Python 3",
   "language": "python",
   "name": "python3"
  },
  "language_info": {
   "codemirror_mode": {
    "name": "ipython",
    "version": 2
   },
   "file_extension": ".py",
   "mimetype": "text/x-python",
   "name": "python",
   "nbconvert_exporter": "python",
   "pygments_lexer": "ipython2",
   "version": "2.7.6"
  }
 },
 "nbformat": 4,
 "nbformat_minor": 5
}
