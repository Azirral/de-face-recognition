{
 "cells": [
  {
   "cell_type": "code",
   "metadata": {
    "collapsed": true,
    "ExecuteTime": {
     "end_time": "2024-10-10T07:52:35.768903Z",
     "start_time": "2024-10-10T07:52:35.757588Z"
    }
   },
   "source": [
    "import numpy as np\n",
    "import pandas as pd\n",
    "import csv\n",
    "import os\n",
    "import re\n",
    "import time\n",
    "from pathlib import Path\n",
    "import ffmpeg\n",
    "from importlib.metadata import version\n",
    "import logging"
   ],
   "outputs": [],
   "execution_count": 39
  },
  {
   "metadata": {
    "ExecuteTime": {
     "end_time": "2024-10-10T07:52:37.835205Z",
     "start_time": "2024-10-10T07:52:36.442228Z"
    }
   },
   "cell_type": "code",
   "source": [
    "# Set logging level to DEBUG\n",
    "logging.basicConfig(level=logging.DEBUG)\n",
    "\n",
    "# Replace 'video.mp4' with the path to your media file\n",
    "probe = ffmpeg.probe('//153.19.52.107/emboa/IO3-sessions/NEW STRUCTURE/Camera/GUT/S01/C02/Untitled 140.mp4')\n",
    "print(probe)"
   ],
   "outputs": [
    {
     "name": "stdout",
     "output_type": "stream",
     "text": [
      "{'streams': [{'index': 0, 'codec_name': 'h264', 'codec_long_name': 'H.264 / AVC / MPEG-4 AVC / MPEG-4 part 10', 'profile': 'Main', 'codec_type': 'video', 'codec_tag_string': 'avc1', 'codec_tag': '0x31637661', 'width': 640, 'height': 480, 'coded_width': 640, 'coded_height': 480, 'closed_captions': 0, 'film_grain': 0, 'has_b_frames': 0, 'sample_aspect_ratio': '1:1', 'display_aspect_ratio': '4:3', 'pix_fmt': 'yuv420p', 'level': 30, 'chroma_location': 'left', 'field_order': 'progressive', 'refs': 1, 'is_avc': 'true', 'nal_length_size': '4', 'id': '0x1', 'r_frame_rate': '33/1', 'avg_frame_rate': '1853056/68201', 'time_base': '1/15360', 'start_pts': 0, 'start_time': '0.000000', 'duration_ts': 8184120, 'duration': '532.820312', 'bit_rate': '103042', 'bits_per_raw_sample': '8', 'nb_frames': '14477', 'extradata_size': 39, 'disposition': {'default': 1, 'dub': 0, 'original': 0, 'comment': 0, 'lyrics': 0, 'karaoke': 0, 'forced': 0, 'hearing_impaired': 0, 'visual_impaired': 0, 'clean_effects': 0, 'attached_pic': 0, 'timed_thumbnails': 0, 'non_diegetic': 0, 'captions': 0, 'descriptions': 0, 'metadata': 0, 'dependent': 0, 'still_image': 0, 'multilayer': 0}, 'tags': {'language': 'und', 'handler_name': 'VideoHandler', 'vendor_id': '[0][0][0][0]'}}, {'index': 1, 'codec_name': 'aac', 'codec_long_name': 'AAC (Advanced Audio Coding)', 'profile': 'LC', 'codec_type': 'audio', 'codec_tag_string': 'mp4a', 'codec_tag': '0x6134706d', 'sample_fmt': 'fltp', 'sample_rate': '44100', 'channels': 2, 'channel_layout': 'stereo', 'bits_per_sample': 0, 'initial_padding': 0, 'id': '0x2', 'r_frame_rate': '0/0', 'avg_frame_rate': '0/0', 'time_base': '1/44100', 'start_pts': 0, 'start_time': '0.000000', 'duration_ts': 23497728, 'duration': '532.828299', 'bit_rate': '194971', 'nb_frames': '22947', 'extradata_size': 2, 'disposition': {'default': 1, 'dub': 0, 'original': 0, 'comment': 0, 'lyrics': 0, 'karaoke': 0, 'forced': 0, 'hearing_impaired': 0, 'visual_impaired': 0, 'clean_effects': 0, 'attached_pic': 0, 'timed_thumbnails': 0, 'non_diegetic': 0, 'captions': 0, 'descriptions': 0, 'metadata': 0, 'dependent': 0, 'still_image': 0, 'multilayer': 0}, 'tags': {'language': 'und', 'handler_name': 'SoundHandler', 'vendor_id': '[0][0][0][0]'}}], 'format': {'filename': '//153.19.52.107/emboa/IO3-sessions/NEW STRUCTURE/Camera/GUT/S01/C02/Untitled 140.mp4', 'nb_streams': 2, 'nb_programs': 0, 'nb_stream_groups': 0, 'format_name': 'mov,mp4,m4a,3gp,3g2,mj2', 'format_long_name': 'QuickTime / MOV', 'start_time': '0.000000', 'duration': '532.828299', 'size': '20313643', 'bit_rate': '304993', 'probe_score': 100, 'tags': {'major_brand': 'isom', 'minor_version': '512', 'compatible_brands': 'isomiso2avc1mp41'}}}\n"
     ]
    }
   ],
   "execution_count": 40
  },
  {
   "metadata": {
    "ExecuteTime": {
     "end_time": "2024-10-10T07:38:20.153324Z",
     "start_time": "2024-10-10T07:38:20.097383Z"
    }
   },
   "cell_type": "code",
   "source": "version('ffmpeg-python')",
   "outputs": [
    {
     "data": {
      "text/plain": [
       "'0.2.0'"
      ]
     },
     "execution_count": 2,
     "metadata": {},
     "output_type": "execute_result"
    }
   ],
   "execution_count": 2
  },
  {
   "cell_type": "code",
   "source": [
    "PYCHARM_DEBUG=True"
   ],
   "metadata": {
    "collapsed": false,
    "ExecuteTime": {
     "end_time": "2024-10-10T07:38:21.092989Z",
     "start_time": "2024-10-10T07:38:21.085329Z"
    }
   },
   "outputs": [],
   "execution_count": 3
  },
  {
   "metadata": {
    "ExecuteTime": {
     "end_time": "2024-10-10T07:52:55.064273Z",
     "start_time": "2024-10-10T07:52:55.035997Z"
    }
   },
   "cell_type": "code",
   "source": [
    "def print_table(table):\n",
    "    for row in table:\n",
    "        print(row)\n",
    "\n",
    "def create_table(tab1, tab2, tab3):\n",
    "    result_tab = []\n",
    "\n",
    "    emotions = ['Unknown', 'Happy', 'Sad', 'Scared', 'Disgusted', 'Surprised', 'Angry']\n",
    "\n",
    "    for row1, row2, row3 in zip(tab1, tab2, tab3):\n",
    "        sum_rows = [int(a) + int(b) + int(c) for a, b, c in zip(row1[1:], row2[1:], row3[1:])]\n",
    "\n",
    "        total_sum = sum(sum_rows)\n",
    "        if total_sum > 0:\n",
    "            # Calculate the percentage distribution\n",
    "            percentages = [round((x / total_sum) * 100, 2) for x in sum_rows]\n",
    "        else:\n",
    "            percentages = [0] * len(sum_rows)\n",
    "\n",
    "        result_tab.append([row1[0]] + percentages)\n",
    "\n",
    "    return result_tab\n",
    "\n",
    "# Makes table equal\n",
    "def fill_table(table, csvreader):\n",
    "    seconds = 0\n",
    "    stop = 0\n",
    "    for row in csvreader:\n",
    "        row[0] = int(row[0].split('.')[0])\n",
    "        if seconds <= row[0] and stop == 0:  #fill table with missing seconds\n",
    "            for i in range(0, row[0]):\n",
    "                table.append([i, '0', '0', '0', '0', '0', '0', '0'])\n",
    "                seconds += 1\n",
    "            stop = 1\n",
    "            table.append(row)\n",
    "        else:\n",
    "            table.append(row)\n",
    "\n",
    "\n",
    "# Create percentages for every second\n",
    "def csv_files_reader(base_path):\n",
    "    index = ['I', 'II', 'III']\n",
    "    tab1 = []\n",
    "    tab2 = []\n",
    "    tab3 = []\n",
    "\n",
    "    if os.path.exists(base_path):\n",
    "\n",
    "        for i in index:\n",
    "            file = os.path.join(base_path, i)\n",
    "            for file_name in os.listdir(file):\n",
    "                file_path = os.path.join(file, file_name)\n",
    "\n",
    "                with open(file_path, 'r') as file:\n",
    "                    csvreader = csv.reader(file)\n",
    "                    header = next(csvreader)\n",
    "\n",
    "                    if i == 'I':\n",
    "                        fill_table(tab1, csvreader)\n",
    "                    elif i == 'II':\n",
    "                        fill_table(tab2, csvreader)\n",
    "                    elif i == 'III':\n",
    "                        fill_table(tab3, csvreader)\n",
    "    else:\n",
    "        print(f\"File path {base_path} doesn't exist.\")\n",
    "\n",
    "    large_table = max([tab1, tab2, tab3], key=len)\n",
    "\n",
    "    for tab in [tab1, tab2, tab3]:\n",
    "        if len(tab) < len(large_table):\n",
    "            diff = len(large_table) - len(tab)\n",
    "\n",
    "            if len(tab) == 0:\n",
    "                sec = 0\n",
    "                for sec in range(len(large_table)):\n",
    "                    tab.append([sec, '0', '0', '0', '0', '0', '0', '0'])\n",
    "            else:\n",
    "                sec = tab[-1][0]  #latest second in table\n",
    "                for sec in range(tab[-1][0] + 1, len(large_table)):\n",
    "                    tab.append([sec, '0', '0', '0', '0', '0', '0', '0'])\n",
    "\n",
    "    return create_table(tab1, tab2, tab3)\n",
    "\n",
    "\n",
    "def get_boris_vector(path, target):\n",
    "    table = csv_files_reader(path)\n",
    "    df = pd.DataFrame(table)\n",
    "    df.to_csv(target, index=False)"
   ],
   "outputs": [],
   "execution_count": 41
  },
  {
   "cell_type": "code",
   "source": [
    "def get_video_metadata(file_path):\n",
    "    try:\n",
    "        # Get the file status\n",
    "        file_stat = os.stat(file_path)\n",
    "\n",
    "        # Get the last modified time\n",
    "        last_modified_time_str = time.ctime(file_stat.st_mtime)\n",
    "        print(last_modified_time_str)\n",
    "        last_modified_timestamp = int(file_stat.st_mtime)\n",
    "        print(last_modified_timestamp)\n",
    "        # Get the duration of the video\n",
    "        probe = ffmpeg.probe(file_path)\n",
    "        duration = float(probe['format']['duration'])\n",
    "\n",
    "        metadata = {\n",
    "            'last_modified_time': last_modified_time_str,\n",
    "            'last_modified_timestamp': last_modified_timestamp,\n",
    "            'duration': int(duration),  # Duration in seconds\n",
    "            'initial_timestamp' : last_modified_timestamp - int(duration)\n",
    "        }\n",
    "        print(metadata)\n",
    "        return metadata\n",
    "\n",
    "    except FileNotFoundError:\n",
    "        return f\"The file {file_path} does not exist.\"\n",
    "    except Exception as e:\n",
    "        return f\"An error occurred: {str(e)}\"\n",
    "    "
   ],
   "metadata": {
    "collapsed": false,
    "ExecuteTime": {
     "end_time": "2024-10-10T08:06:43.259349Z",
     "start_time": "2024-10-10T08:06:43.251189Z"
    }
   },
   "outputs": [],
   "execution_count": 100
  },
  {
   "cell_type": "code",
   "source": [
    "# Get the moment of the start of the vector and its frequency\n",
    "def get_unix_and_hz(file_path):\n",
    "    with open(file_path, newline='') as csvfile:\n",
    "        reader = csv.reader(csvfile)\n",
    "        unix = int(float(next(reader)[0]))  # Convert the first cell to integer\n",
    "        hz = int(float(next(reader)[0]))  # Convert the second cell to integer\n",
    "    return unix, hz"
   ],
   "metadata": {
    "collapsed": false,
    "ExecuteTime": {
     "end_time": "2024-10-10T08:06:43.440556Z",
     "start_time": "2024-10-10T08:06:43.416129Z"
    }
   },
   "outputs": [],
   "execution_count": 101
  },
  {
   "cell_type": "code",
   "source": [
    "# Trim the vector to be the multiple of its frequency\n",
    "def trim_vector(vector, rate):\n",
    "    length = len(vector)\n",
    "    if length % rate != 0:\n",
    "        # Calculate how many elements need to be removed\n",
    "        excess_elements = length % rate\n",
    "        # Trim the vector\n",
    "        vector = vector[:-excess_elements]\n",
    "    return vector"
   ],
   "metadata": {
    "collapsed": false,
    "ExecuteTime": {
     "end_time": "2024-10-10T08:06:43.657604Z",
     "start_time": "2024-10-10T08:06:43.645910Z"
    }
   },
   "outputs": [],
   "execution_count": 102
  },
  {
   "cell_type": "code",
   "source": [
    "# Change the frequency by averaging the values\n",
    "def mean_of_values(vector, rate):\n",
    "    # Ensure the length of the vector is a multiple of n\n",
    "    if len(vector) % rate != 0:\n",
    "        raise ValueError(\"Length of the vector must be a multiple of frequency\")\n",
    "\n",
    "    # Reshape the vector into a 2D array where each row is a group of n elements\n",
    "    reshaped_vector = np.reshape(vector, (-1, rate))\n",
    "\n",
    "    # Calculate the mean along the rows\n",
    "    mean_values = np.mean(reshaped_vector, axis=1)\n",
    "\n",
    "    return mean_values"
   ],
   "metadata": {
    "collapsed": false,
    "ExecuteTime": {
     "end_time": "2024-10-10T08:06:43.796059Z",
     "start_time": "2024-10-10T08:06:43.771266Z"
    }
   },
   "outputs": [],
   "execution_count": 103
  },
  {
   "metadata": {
    "ExecuteTime": {
     "end_time": "2024-10-10T08:15:42.869344Z",
     "start_time": "2024-10-10T08:15:42.816897Z"
    }
   },
   "cell_type": "code",
   "source": [
    "def slice_vectors(video_path, biosignal_path, signals_storage_path, video_storage_path):\n",
    "    \n",
    "    # Get the video metadata\n",
    "    video = get_video_metadata(video_path)\n",
    "    print(video)\n",
    "    # Get the path for EDA, TEMP and HR\n",
    "    EDA_path = os.path.join(biosignal_path, 'EDA.csv')\n",
    "    TEMP_path = os.path.join(biosignal_path, 'TEMP.csv')\n",
    "    HR_path = os.path.join(biosignal_path, 'HR.csv')\n",
    "\n",
    "    # Get only the data\n",
    "    EDA = pd.read_csv(EDA_path, skiprows = 2, header = None)\n",
    "    TEMP = pd.read_csv(TEMP_path, skiprows = 2, header = None)\n",
    "    HR = pd.read_csv(HR_path, skiprows = 2, header = None)\n",
    "\n",
    "    # Get the starting time and frequency\n",
    "    unix_EDA, hz_EDA = get_unix_and_hz(EDA_path)\n",
    "    unix_TEMP, hz_TEMP = get_unix_and_hz(TEMP_path)\n",
    "    unix_HR, hz_HR = get_unix_and_hz(HR_path)\n",
    "    unix_video = video['initial_timestamp']\n",
    "\n",
    "    # Unificate the frequencies  \n",
    "    EDA_mean = mean_of_values(trim_vector(EDA, hz_EDA), hz_EDA)\n",
    "    TEMP_mean = mean_of_values(trim_vector(TEMP, hz_TEMP), hz_TEMP)\n",
    "    HR_mean = mean_of_values(trim_vector(HR, hz_HR), hz_HR)\n",
    "\n",
    "    # Get the lengths\n",
    "    length_EDA = len(EDA_mean)\n",
    "    length_TEMP = len(TEMP_mean)\n",
    "    length_HR = len(HR_mean)\n",
    "    length_video = video['duration']\n",
    "    \n",
    "    # Get the vectors of starts and ends for biosignals and video\n",
    "    starts = [unix_HR, unix_TEMP, unix_EDA, unix_video]\n",
    "    ends = [unix_HR + length_HR, unix_TEMP + length_TEMP, unix_EDA + length_EDA, unix_video + length_video]\n",
    "\n",
    "    # Get the latest start of any vector\n",
    "    last_start = max(starts)\n",
    "    \n",
    "    # Get the earliest end of any vector\n",
    "    first_end = min(ends)\n",
    "\n",
    "    # Get matching indexes for start and end for every vector\n",
    "    EDA_first_index = last_start - unix_EDA\n",
    "    EDA_last_index = first_end - unix_EDA\n",
    "    TEMP_first_index = last_start - unix_TEMP\n",
    "    TEMP_last_index = first_end - unix_TEMP\n",
    "    HR_first_index = last_start - unix_HR\n",
    "    HR_last_index = first_end - unix_HR\n",
    "    video_first_index = last_start - unix_video\n",
    "    video_last_index = first_end - unix_video\n",
    "\n",
    "\n",
    "    print('EDA: ', EDA_last_index - EDA_first_index)\n",
    "    print('TEMP: ', TEMP_last_index - TEMP_first_index)\n",
    "    print('HR: ', HR_last_index - HR_first_index)\n",
    "    print('video: ', video_last_index - video_first_index)\n",
    "    \n",
    "    # Slice the biosignals based on the index\n",
    "    sliced_EDA = EDA[EDA_first_index:EDA_last_index]\n",
    "    sliced_TEMP = TEMP[TEMP_first_index:TEMP_last_index]\n",
    "    sliced_HR = HR[HR_first_index:HR_last_index]\n",
    "    \n",
    "    # Create one df with all biosignals\n",
    "    biosignals = pd.concat([sliced_EDA.reset_index(drop=True), sliced_TEMP.reset_index(drop=True), sliced_HR.reset_index(drop=True)], axis=1)\n",
    "    \n",
    "    # Rename column names\n",
    "    biosignals.columns = ['EDA', 'TEMP', 'HR']\n",
    "    \n",
    "    # Cut the video based on the index and add a file\n",
    "    #ffmpeg_extract_subclip(video_path, video_first_index, video_last_index, targetname=video_storage_path)\n",
    "    ffmpeg.input(str(video_path)).output(str(video_storage_path), ss=video_first_index, t=video_last_index-video_first_index, codec='copy').run()\n",
    "\n",
    "    # Add the biosignals to file\n",
    "    biosignals.to_csv(signals_storage_path, index=False)"
   ],
   "outputs": [],
   "execution_count": 116
  },
  {
   "metadata": {
    "ExecuteTime": {
     "end_time": "2024-10-10T08:15:44.335462Z",
     "start_time": "2024-10-10T08:15:43.512672Z"
    }
   },
   "cell_type": "code",
   "source": [
    "def traverse():\n",
    "    root_dir = '//153.19.52.107/emboa/IO3-sessions/NEW STRUCTURE'\n",
    "    target_root_dir = '//153.19.52.107/emboa/IO3-sessions/NEW STRUCTURE/de-earlyfusionthesis'\n",
    "    boris_ext = 'Analysis/BORIS/'\n",
    "    type = ['Camera', 'Wristband']\n",
    "    research_centers = ['GUT']\n",
    "    #research_centers = ['GUT', 'ITU-YU', 'MAAP']\n",
    "    s_values = [\"S01\"]\n",
    "    #s_values = [\"S01\", \"S02\", \"S03\", \"S04\", \"S05\", \"S06\", \"S07\", \"S08\", \"S09\", \"S10\", \"S11\" ]\n",
    "    c_values = [\"C02\"]\n",
    "    #c_values = [\"C01\", \"C02\", \"C03\", \"C04\", \"C05\", \"C06\", \"C07\", \"C08\", \"C09\", \"C10\", \"C11\", \"C12\", \"C13\" ]\n",
    "    for research_center in research_centers:\n",
    "        for session in s_values:\n",
    "            # Create the session path for biosignal and camera + BORIS\n",
    "            camera_path = Path(root_dir).joinpath(type[0], research_center, session)\n",
    "            signals_path = Path(root_dir).joinpath(type[1], research_center, session)\n",
    "            if camera_path.is_dir() and signals_path.is_dir():\n",
    "                # Create the meeting path for biosignal and camera + BORIS\n",
    "                for camera in c_values:\n",
    "                    exact_camera_path = Path(camera_path).joinpath(camera)\n",
    "                    exact_signals_path = Path(signals_path).joinpath(camera)\n",
    "                    if exact_camera_path.is_dir() and exact_signals_path.is_dir():\n",
    "                        boris_path = Path(exact_camera_path).joinpath(boris_ext)\n",
    "                        if boris_path.is_dir():\n",
    "                            # Quick fix of two MAAP sessions being divided TODO: Fix this\n",
    "                            if not(research_center == 'MAAP' and ((session == 'S01' and camera == 'C05') or (session == 'S03' and camera == 'C05'))):\n",
    "                                # Find exact video name\n",
    "                                video_ext = '_video.mp4'\n",
    "                                if research_center == 'GUT':\n",
    "                                    mp4_pattern = re.compile(r'^Untitled \\d+\\.mp4$')\n",
    "                                elif research_center == 'ITU-YU':\n",
    "                                    mp4_pattern = re.compile(r'^ITU-C\\d{2}-S\\d{2}-\\d{8}-Camera\\.mp4$')\n",
    "                                elif research_center == 'MAAP':\n",
    "                                    mp4_pattern = re.compile(r'^MAAP-C\\d{2}-S\\d{2}-\\d{8}-Camera\\.AVI$')\n",
    "                                    video_ext = '_video.AVI'\n",
    "                                for files_in_camera_dir in os.listdir(exact_camera_path):\n",
    "                                    if mp4_pattern.match(files_in_camera_dir):\n",
    "                                        video_path = os.path.join(exact_camera_path, files_in_camera_dir)\n",
    "                                        print(video_path)\n",
    "                                \n",
    "                                filename = research_center + '_' + session + '_' + camera\n",
    "                                boris_filename = filename + 'BORIS.csv'\n",
    "                                boris_target_dir = Path(target_root_dir).joinpath(research_center, boris_filename)\n",
    "                                \n",
    "                                signal_filename = filename + '_biosignals.csv'\n",
    "                                signal_target_dir = Path(target_root_dir).joinpath(research_center, signal_filename)\n",
    "                                \n",
    "                                \n",
    "                                video_filename = filename + video_ext\n",
    "                                video_target_dir = Path(target_root_dir).joinpath(research_center, video_filename)\n",
    "                                \n",
    "                                # Checking if everything is fine\n",
    "                                print(f\"{video_target_dir} exists.\")\n",
    "                                \n",
    "                                # Create combined BORIS vector\n",
    "                                #get_boris_vector(boris_path, boris_target_dir)\n",
    "                                \n",
    "                                # Create one vector of biosignals, sliced BORIS and sliced video\n",
    "                                slice_vectors(video_path, exact_signals_path, signal_target_dir, video_target_dir)\n",
    "                                \n",
    "                                \n",
    "                                \n",
    "                                # TODO: sprawdz dlaczego wektory mają różne długości \n",
    "traverse()"
   ],
   "outputs": [
    {
     "name": "stdout",
     "output_type": "stream",
     "text": [
      "\\\\153.19.52.107\\emboa\\IO3-sessions\\NEW STRUCTURE\\Camera\\GUT\\S01\\C02\\Untitled 140.mp4\n",
      "\\\\153.19.52.107\\emboa\\IO3-sessions\\NEW STRUCTURE\\de-earlyfusionthesis\\GUT\\GUT_S01_C02_video.mp4 exists.\n",
      "Fri Jun 18 11:34:18 2021\n",
      "1624008858\n",
      "{'last_modified_time': 'Fri Jun 18 11:34:18 2021', 'last_modified_timestamp': 1624008858, 'duration': 532, 'initial_timestamp': 1624008326}\n",
      "{'last_modified_time': 'Fri Jun 18 11:34:18 2021', 'last_modified_timestamp': 1624008858, 'duration': 532, 'initial_timestamp': 1624008326}\n",
      "EDA:  462\n",
      "TEMP:  462\n",
      "HR:  462\n",
      "video:  462\n"
     ]
    }
   ],
   "execution_count": 117
  },
  {
   "metadata": {
    "ExecuteTime": {
     "end_time": "2024-10-10T08:12:45.457281Z",
     "start_time": "2024-10-10T08:12:45.256869Z"
    }
   },
   "cell_type": "code",
   "source": [
    "main_directory = 'C:/Users/oskik/PycharmProjects/InżynierkaSandbox/'\n",
    "s01_values = [\"S01_boris/\", \"S01_wristband/\"]\n",
    "c_values = [\"C01/\", \"C02/\", \"C03/\"]\n",
    "mp3_pattern = re.compile(r'Untitled \\d+\\.mp4')\n",
    "\n",
    "for c_value in c_values:\n",
    "    for s01_value in s01_values:\n",
    "        if s01_value == \"S01_boris/\":\n",
    "            movie_dir_path = os.path.join(main_directory, s01_value, c_value)\n",
    "            print(movie_dir_path)\n",
    "            if os.path.isdir(movie_dir_path):\n",
    "                for file_name in os.listdir(movie_dir_path):\n",
    "                    print(file_name)\n",
    "                    if mp3_pattern.match(file_name):\n",
    "                        movie_path = os.path.join(main_directory, s01_value, c_value, file_name)\n",
    "                        print(movie_path)\n",
    "\n",
    "            video = get_video_metadata(movie_path)\n",
    "            unix_video = video['initial_timestamp']\n",
    "\n",
    "        elif s01_value == \"S01_wristband/\":\n",
    "            main_path = os.path.join(main_directory, s01_value, c_value)\n",
    "\n",
    "            EDA_path = os.path.join(main_path, 'EDA.csv')\n",
    "            TEMP_path = os.path.join(main_path, 'TEMP.csv')\n",
    "            HR_path = os.path.join(main_path, 'HR.csv')\n",
    "\n",
    "            EDA = pd.read_csv(EDA_path, skiprows = 2, header = None)\n",
    "            TEMP = pd.read_csv(TEMP_path, skiprows = 2, header = None)\n",
    "            HR = pd.read_csv(HR_path, skiprows = 2, header = None)\n",
    "\n",
    "            unix_EDA, hz_EDA = get_unix_and_hz(EDA_path)\n",
    "            unix_TEMP, hz_TEMP = get_unix_and_hz(TEMP_path)\n",
    "            unix_HR, hz_HR = get_unix_and_hz(HR_path)\n",
    "\n",
    "            EDA_mean = mean_of_values(trim_vector(EDA, hz_EDA), hz_EDA)\n",
    "            TEMP_mean = mean_of_values(trim_vector(TEMP, hz_TEMP), hz_TEMP)\n",
    "            HR_mean = mean_of_values(trim_vector(HR, hz_HR), hz_HR)\n",
    "\n",
    "            length_EDA = len(EDA_mean)\n",
    "            length_TEMP = len(TEMP_mean)\n",
    "            length_HR = len(HR_mean)\n",
    "\n",
    "    starts = [unix_HR, unix_TEMP, unix_EDA, unix_video]\n",
    "    ends = [unix_HR + length_HR, unix_TEMP + length_TEMP, unix_EDA + length_EDA, unix_video + video['duration']]\n",
    "\n",
    "    last_start = max(starts)\n",
    "    first_end = min(ends)\n",
    "\n",
    "    EDA_first_index = last_start - unix_EDA\n",
    "    EDA_last_index = first_end - unix_EDA\n",
    "    TEMP_first_index = last_start - unix_TEMP\n",
    "    TEMP_last_index = first_end - unix_TEMP\n",
    "    HR_first_index = last_start - unix_HR\n",
    "    HR_last_index = first_end - unix_HR\n",
    "    video_first_index = last_start - unix_video\n",
    "    video_last_index = first_end - unix_video\n",
    "\n",
    "    sliced_EDA = EDA[EDA_first_index:EDA_last_index]\n",
    "    sliced_TEMP = TEMP[TEMP_first_index:TEMP_last_index]\n",
    "    sliced_HR = HR[HR_first_index:HR_last_index]\n",
    "\n",
    "    ffmpeg_extract_subclip(movie_path, video_first_index, video_last_index, targetname=movie_dir_path+'sliced.mp4')\n",
    "    ffmpeg.input(input_file, ss=4, t=49).output(output_file, codec='copy').run()\n",
    "\n",
    "    sliced_EDA_path = main_path+'sliced_EDA.csv'\n",
    "    sliced_TEMP_path = os.path.join(main_path, 'sliced_TEMP.csv')\n",
    "    sliced_HR_path = os.path.join(main_path, 'sliced_HR.csv')\n",
    "\n",
    "    sliced_EDA.to_csv(sliced_EDA_path, index=False)\n",
    "    sliced_TEMP.to_csv(sliced_TEMP_path, index=False)\n",
    "    sliced_HR.to_csv(sliced_HR_path, index=False)"
   ],
   "outputs": [
    {
     "name": "stdout",
     "output_type": "stream",
     "text": [
      "C:/Users/oskik/PycharmProjects/InżynierkaSandbox/S01_boris/C01/\n",
      "00219.MTS\n",
      "Analysis\n",
      "sliced.mp4\n",
      "Thumbs.db\n",
      "Untitled 139.mp4\n",
      "C:/Users/oskik/PycharmProjects/InżynierkaSandbox/S01_boris/C01/Untitled 139.mp4\n",
      "Fri Jun 18 11:15:24 2021\n",
      "1624007724\n",
      "{'last_modified_time': 'Fri Jun 18 11:15:24 2021', 'last_modified_timestamp': 1624007724, 'duration': 609, 'initial_timestamp': 1624007115}\n"
     ]
    },
    {
     "ename": "NameError",
     "evalue": "name 'ffmpeg_extract_subclip' is not defined",
     "output_type": "error",
     "traceback": [
      "\u001B[1;31m---------------------------------------------------------------------------\u001B[0m",
      "\u001B[1;31mNameError\u001B[0m                                 Traceback (most recent call last)",
      "Cell \u001B[1;32mIn[115], line 63\u001B[0m\n\u001B[0;32m     60\u001B[0m sliced_TEMP \u001B[38;5;241m=\u001B[39m TEMP[TEMP_first_index:TEMP_last_index]\n\u001B[0;32m     61\u001B[0m sliced_HR \u001B[38;5;241m=\u001B[39m HR[HR_first_index:HR_last_index]\n\u001B[1;32m---> 63\u001B[0m \u001B[43mffmpeg_extract_subclip\u001B[49m(movie_path, video_first_index, video_last_index, targetname\u001B[38;5;241m=\u001B[39mmovie_dir_path\u001B[38;5;241m+\u001B[39m\u001B[38;5;124m'\u001B[39m\u001B[38;5;124msliced.mp4\u001B[39m\u001B[38;5;124m'\u001B[39m)\n\u001B[0;32m     64\u001B[0m ffmpeg\u001B[38;5;241m.\u001B[39minput(input_file, ss\u001B[38;5;241m=\u001B[39m\u001B[38;5;241m4\u001B[39m, t\u001B[38;5;241m=\u001B[39m\u001B[38;5;241m49\u001B[39m)\u001B[38;5;241m.\u001B[39moutput(output_file, codec\u001B[38;5;241m=\u001B[39m\u001B[38;5;124m'\u001B[39m\u001B[38;5;124mcopy\u001B[39m\u001B[38;5;124m'\u001B[39m)\u001B[38;5;241m.\u001B[39mrun()\n\u001B[0;32m     66\u001B[0m sliced_EDA_path \u001B[38;5;241m=\u001B[39m main_path\u001B[38;5;241m+\u001B[39m\u001B[38;5;124m'\u001B[39m\u001B[38;5;124msliced_EDA.csv\u001B[39m\u001B[38;5;124m'\u001B[39m\n",
      "\u001B[1;31mNameError\u001B[0m: name 'ffmpeg_extract_subclip' is not defined"
     ]
    }
   ],
   "execution_count": 115
  },
  {
   "metadata": {},
   "cell_type": "code",
   "outputs": [],
   "execution_count": null,
   "source": ""
  }
 ],
 "metadata": {
  "kernelspec": {
   "display_name": "Python 3",
   "language": "python",
   "name": "python3"
  },
  "language_info": {
   "codemirror_mode": {
    "name": "ipython",
    "version": 2
   },
   "file_extension": ".py",
   "mimetype": "text/x-python",
   "name": "python",
   "nbconvert_exporter": "python",
   "pygments_lexer": "ipython2",
   "version": "2.7.6"
  }
 },
 "nbformat": 4,
 "nbformat_minor": 0
}
