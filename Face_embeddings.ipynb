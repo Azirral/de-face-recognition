{
 "cells": [
  {
   "cell_type": "code",
   "id": "376f681d9520ab8e",
   "metadata": {
    "ExecuteTime": {
     "end_time": "2024-10-03T15:02:01.856801Z",
     "start_time": "2024-10-03T15:02:01.844680Z"
    }
   },
   "source": [
    "import cv2\n",
    "import torch\n",
    "from facenet_pytorch import InceptionResnetV1, MTCNN\n",
    "from PIL import Image\n",
    "import numpy as np"
   ],
   "outputs": [],
   "execution_count": 2
  },
  {
   "metadata": {
    "ExecuteTime": {
     "end_time": "2024-10-03T15:02:33.627510Z",
     "start_time": "2024-10-03T15:02:07.796507Z"
    }
   },
   "cell_type": "code",
   "source": [
    "# Step 1: Initialize FaceNet model and MTCNN detector\n",
    "device = torch.device('cuda' if torch.cuda.is_available() else 'cpu')\n",
    "mtcnn = MTCNN(keep_all=True, device=device)  # MTCNN for face detection\n",
    "facenet = InceptionResnetV1(pretrained='vggface2').eval().to(device)  # Pre-trained FaceNet model"
   ],
   "id": "46bb74d1736508df",
   "outputs": [
    {
     "data": {
      "text/plain": [
       "  0%|          | 0.00/107M [00:00<?, ?B/s]"
      ],
      "application/vnd.jupyter.widget-view+json": {
       "version_major": 2,
       "version_minor": 0,
       "model_id": "e44d325c8cd540d988081f8d36376817"
      }
     },
     "metadata": {},
     "output_type": "display_data"
    }
   ],
   "execution_count": 3
  },
  {
   "metadata": {
    "ExecuteTime": {
     "end_time": "2024-10-03T15:08:48.250392Z",
     "start_time": "2024-10-03T15:08:48.216746Z"
    }
   },
   "cell_type": "code",
   "source": [
    "\n",
    "# Step 2: Load video file and get frame rate\n",
    "video_path = 'C:/Users/oskik/PycharmProjects/InżynierkaSandbox/S01_boris/C01/sliced.mp4'  # Replace with your video path\n",
    "cap = cv2.VideoCapture(video_path)\n",
    "\n",
    "if not cap.isOpened():\n",
    "    print(\"Error: Could not open video.\")\n",
    "else:\n",
    "    print(\"Video opened successfully!\")\n",
    "\n",
    "# Calculate frames per second (fps) and total frames\n",
    "fps = cap.get(cv2.CAP_PROP_FPS)  # Frames per second of the video\n",
    "frame_interval = int(fps)  # Number of frames to skip to get to 1 second interval"
   ],
   "id": "64fc31fc27a4802c",
   "outputs": [
    {
     "name": "stdout",
     "output_type": "stream",
     "text": [
      "Video opened successfully!\n"
     ]
    }
   ],
   "execution_count": 17
  },
  {
   "metadata": {
    "ExecuteTime": {
     "end_time": "2024-10-03T15:11:31.513232Z",
     "start_time": "2024-10-03T15:08:49.376857Z"
    }
   },
   "cell_type": "code",
   "source": [
    "\n",
    "# Step 3: Process video at 1 second intervals\n",
    "frame_count = 0\n",
    "frame_embeddings = []\n",
    "\n",
    "while cap.isOpened():\n",
    "    ret, frame = cap.read()\n",
    "    if not ret:\n",
    "        break\n",
    "\n",
    "    # Check if the frame is at the 1-second interval\n",
    "    if frame_count % frame_interval == 0:\n",
    "        # Convert frame to RGB (OpenCV uses BGR by default)\n",
    "        frame_rgb = cv2.cvtColor(frame, cv2.COLOR_BGR2RGB)\n",
    "        frame_pil = Image.fromarray(frame_rgb)\n",
    "\n",
    "        # Step 4: Detect faces in the frame\n",
    "        boxes, _ = mtcnn.detect(frame_pil)\n",
    "        if boxes is None:\n",
    "            frame_count += 1\n",
    "            continue  # Skip frames with no detected faces\n",
    "\n",
    "        # Step 5: Crop and align each detected face\n",
    "        faces = mtcnn(frame_pil)  # This will return aligned faces\n",
    "\n",
    "        # Step 6: Generate embeddings for each face\n",
    "        if faces is not None:\n",
    "            faces = faces.to(device)\n",
    "            embeddings = facenet(faces)  # Generate embeddings\n",
    "            frame_embeddings.append((frame_count // frame_interval, embeddings.cpu().detach().numpy()))  # Store embeddings with timestamp\n",
    "\n",
    "    frame_count += 1\n",
    "\n",
    "# Step 7: Release video capture\n",
    "cap.release()"
   ],
   "id": "ecdfef76b237c67e",
   "outputs": [
    {
     "ename": "KeyboardInterrupt",
     "evalue": "",
     "output_type": "error",
     "traceback": [
      "\u001B[1;31m---------------------------------------------------------------------------\u001B[0m",
      "\u001B[1;31mKeyboardInterrupt\u001B[0m                         Traceback (most recent call last)",
      "Cell \u001B[1;32mIn[18], line 17\u001B[0m\n\u001B[0;32m     14\u001B[0m frame_pil \u001B[38;5;241m=\u001B[39m Image\u001B[38;5;241m.\u001B[39mfromarray(frame_rgb)\n\u001B[0;32m     16\u001B[0m \u001B[38;5;66;03m# Step 4: Detect faces in the frame\u001B[39;00m\n\u001B[1;32m---> 17\u001B[0m boxes, _ \u001B[38;5;241m=\u001B[39m \u001B[43mmtcnn\u001B[49m\u001B[38;5;241;43m.\u001B[39;49m\u001B[43mdetect\u001B[49m\u001B[43m(\u001B[49m\u001B[43mframe_pil\u001B[49m\u001B[43m)\u001B[49m\n\u001B[0;32m     18\u001B[0m \u001B[38;5;28;01mif\u001B[39;00m boxes \u001B[38;5;129;01mis\u001B[39;00m \u001B[38;5;28;01mNone\u001B[39;00m:\n\u001B[0;32m     19\u001B[0m     frame_count \u001B[38;5;241m+\u001B[39m\u001B[38;5;241m=\u001B[39m \u001B[38;5;241m1\u001B[39m\n",
      "File \u001B[1;32m~\\PycharmProjects\\InżynierkaSandbox\\venv\\Lib\\site-packages\\facenet_pytorch\\models\\mtcnn.py:313\u001B[0m, in \u001B[0;36mMTCNN.detect\u001B[1;34m(self, img, landmarks)\u001B[0m\n\u001B[0;32m    273\u001B[0m \u001B[38;5;250m\u001B[39m\u001B[38;5;124;03m\"\"\"Detect all faces in PIL image and return bounding boxes and optional facial landmarks.\u001B[39;00m\n\u001B[0;32m    274\u001B[0m \n\u001B[0;32m    275\u001B[0m \u001B[38;5;124;03mThis method is used by the forward method and is also useful for face detection tasks\u001B[39;00m\n\u001B[1;32m   (...)\u001B[0m\n\u001B[0;32m    309\u001B[0m \u001B[38;5;124;03m>>> img_draw.save('annotated_faces.png')\u001B[39;00m\n\u001B[0;32m    310\u001B[0m \u001B[38;5;124;03m\"\"\"\u001B[39;00m\n\u001B[0;32m    312\u001B[0m \u001B[38;5;28;01mwith\u001B[39;00m torch\u001B[38;5;241m.\u001B[39mno_grad():\n\u001B[1;32m--> 313\u001B[0m     batch_boxes, batch_points \u001B[38;5;241m=\u001B[39m \u001B[43mdetect_face\u001B[49m\u001B[43m(\u001B[49m\n\u001B[0;32m    314\u001B[0m \u001B[43m        \u001B[49m\u001B[43mimg\u001B[49m\u001B[43m,\u001B[49m\u001B[43m \u001B[49m\u001B[38;5;28;43mself\u001B[39;49m\u001B[38;5;241;43m.\u001B[39;49m\u001B[43mmin_face_size\u001B[49m\u001B[43m,\u001B[49m\n\u001B[0;32m    315\u001B[0m \u001B[43m        \u001B[49m\u001B[38;5;28;43mself\u001B[39;49m\u001B[38;5;241;43m.\u001B[39;49m\u001B[43mpnet\u001B[49m\u001B[43m,\u001B[49m\u001B[43m \u001B[49m\u001B[38;5;28;43mself\u001B[39;49m\u001B[38;5;241;43m.\u001B[39;49m\u001B[43mrnet\u001B[49m\u001B[43m,\u001B[49m\u001B[43m \u001B[49m\u001B[38;5;28;43mself\u001B[39;49m\u001B[38;5;241;43m.\u001B[39;49m\u001B[43monet\u001B[49m\u001B[43m,\u001B[49m\n\u001B[0;32m    316\u001B[0m \u001B[43m        \u001B[49m\u001B[38;5;28;43mself\u001B[39;49m\u001B[38;5;241;43m.\u001B[39;49m\u001B[43mthresholds\u001B[49m\u001B[43m,\u001B[49m\u001B[43m \u001B[49m\u001B[38;5;28;43mself\u001B[39;49m\u001B[38;5;241;43m.\u001B[39;49m\u001B[43mfactor\u001B[49m\u001B[43m,\u001B[49m\n\u001B[0;32m    317\u001B[0m \u001B[43m        \u001B[49m\u001B[38;5;28;43mself\u001B[39;49m\u001B[38;5;241;43m.\u001B[39;49m\u001B[43mdevice\u001B[49m\n\u001B[0;32m    318\u001B[0m \u001B[43m    \u001B[49m\u001B[43m)\u001B[49m\n\u001B[0;32m    320\u001B[0m boxes, probs, points \u001B[38;5;241m=\u001B[39m [], [], []\n\u001B[0;32m    321\u001B[0m \u001B[38;5;28;01mfor\u001B[39;00m box, point \u001B[38;5;129;01min\u001B[39;00m \u001B[38;5;28mzip\u001B[39m(batch_boxes, batch_points):\n",
      "File \u001B[1;32m~\\PycharmProjects\\InżynierkaSandbox\\venv\\Lib\\site-packages\\facenet_pytorch\\models\\utils\\detect_face.py:140\u001B[0m, in \u001B[0;36mdetect_face\u001B[1;34m(imgs, minsize, pnet, rnet, onet, threshold, factor, device)\u001B[0m\n\u001B[0;32m    138\u001B[0m \u001B[38;5;28;01mfor\u001B[39;00m k \u001B[38;5;129;01min\u001B[39;00m \u001B[38;5;28mrange\u001B[39m(\u001B[38;5;28mlen\u001B[39m(y)):\n\u001B[0;32m    139\u001B[0m     \u001B[38;5;28;01mif\u001B[39;00m ey[k] \u001B[38;5;241m>\u001B[39m (y[k] \u001B[38;5;241m-\u001B[39m \u001B[38;5;241m1\u001B[39m) \u001B[38;5;129;01mand\u001B[39;00m ex[k] \u001B[38;5;241m>\u001B[39m (x[k] \u001B[38;5;241m-\u001B[39m \u001B[38;5;241m1\u001B[39m):\n\u001B[1;32m--> 140\u001B[0m         img_k \u001B[38;5;241m=\u001B[39m \u001B[43mimgs\u001B[49m\u001B[43m[\u001B[49m\u001B[43mimage_inds\u001B[49m\u001B[43m[\u001B[49m\u001B[43mk\u001B[49m\u001B[43m]\u001B[49m\u001B[43m,\u001B[49m\u001B[43m \u001B[49m\u001B[43m:\u001B[49m\u001B[43m,\u001B[49m\u001B[43m \u001B[49m\u001B[43m(\u001B[49m\u001B[43my\u001B[49m\u001B[43m[\u001B[49m\u001B[43mk\u001B[49m\u001B[43m]\u001B[49m\u001B[43m \u001B[49m\u001B[38;5;241;43m-\u001B[39;49m\u001B[43m \u001B[49m\u001B[38;5;241;43m1\u001B[39;49m\u001B[43m)\u001B[49m\u001B[43m:\u001B[49m\u001B[43mey\u001B[49m\u001B[43m[\u001B[49m\u001B[43mk\u001B[49m\u001B[43m]\u001B[49m\u001B[43m,\u001B[49m\u001B[43m \u001B[49m\u001B[43m(\u001B[49m\u001B[43mx\u001B[49m\u001B[43m[\u001B[49m\u001B[43mk\u001B[49m\u001B[43m]\u001B[49m\u001B[43m \u001B[49m\u001B[38;5;241;43m-\u001B[39;49m\u001B[43m \u001B[49m\u001B[38;5;241;43m1\u001B[39;49m\u001B[43m)\u001B[49m\u001B[43m:\u001B[49m\u001B[43mex\u001B[49m\u001B[43m[\u001B[49m\u001B[43mk\u001B[49m\u001B[43m]\u001B[49m\u001B[43m]\u001B[49m\u001B[38;5;241;43m.\u001B[39;49m\u001B[43munsqueeze\u001B[49m\u001B[43m(\u001B[49m\u001B[38;5;241;43m0\u001B[39;49m\u001B[43m)\u001B[49m\n\u001B[0;32m    141\u001B[0m         im_data\u001B[38;5;241m.\u001B[39mappend(imresample(img_k, (\u001B[38;5;241m48\u001B[39m, \u001B[38;5;241m48\u001B[39m)))\n\u001B[0;32m    142\u001B[0m im_data \u001B[38;5;241m=\u001B[39m torch\u001B[38;5;241m.\u001B[39mcat(im_data, dim\u001B[38;5;241m=\u001B[39m\u001B[38;5;241m0\u001B[39m)\n",
      "\u001B[1;31mKeyboardInterrupt\u001B[0m: "
     ]
    }
   ],
   "execution_count": 18
  },
  {
   "metadata": {
    "collapsed": true,
    "ExecuteTime": {
     "end_time": "2024-10-03T15:02:54.706335Z",
     "start_time": "2024-10-03T15:02:54.696693Z"
    }
   },
   "cell_type": "code",
   "source": [
    "\n",
    "# Display the number of frames processed and total face embeddings extracted\n",
    "print(f\"Processed frames at 1-second intervals.\")\n",
    "print(f\"Extracted embeddings for {len(frame_embeddings)} timestamps (seconds).\")\n"
   ],
   "id": "initial_id",
   "outputs": [
    {
     "name": "stdout",
     "output_type": "stream",
     "text": [
      "Processed frames at 1-second intervals.\n",
      "Extracted embeddings for 0 timestamps (seconds).\n"
     ]
    }
   ],
   "execution_count": 6
  },
  {
   "metadata": {},
   "cell_type": "code",
   "outputs": [],
   "execution_count": null,
   "source": "",
   "id": "374b71c981553d84"
  }
 ],
 "metadata": {
  "kernelspec": {
   "display_name": "Python 3",
   "language": "python",
   "name": "python3"
  },
  "language_info": {
   "codemirror_mode": {
    "name": "ipython",
    "version": 2
   },
   "file_extension": ".py",
   "mimetype": "text/x-python",
   "name": "python",
   "nbconvert_exporter": "python",
   "pygments_lexer": "ipython2",
   "version": "2.7.6"
  }
 },
 "nbformat": 4,
 "nbformat_minor": 5
}
