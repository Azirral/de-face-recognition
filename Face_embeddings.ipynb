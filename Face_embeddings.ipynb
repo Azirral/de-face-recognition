{
 "cells": [
  {
   "cell_type": "code",
   "id": "376f681d9520ab8e",
   "metadata": {
    "ExecuteTime": {
     "end_time": "2024-10-09T18:32:26.775036Z",
     "start_time": "2024-10-09T18:32:18.021080Z"
    }
   },
   "source": [
    "import cv2\n",
    "import numpy\n",
    "import torch\n",
    "from facenet_pytorch import InceptionResnetV1, MTCNN\n",
    "from PIL import Image\n",
    "import numpy as np"
   ],
   "outputs": [],
   "execution_count": 8
  },
  {
   "metadata": {
    "ExecuteTime": {
     "end_time": "2024-10-09T20:26:50.250653Z",
     "start_time": "2024-10-09T20:26:49.686295Z"
    }
   },
   "cell_type": "code",
   "source": [
    "# Step 1: Initialize FaceNet model and MTCNN detector\n",
    "device = torch.device('cuda' if torch.cuda.is_available() else 'cpu')\n",
    "mtcnn = MTCNN(keep_all=True, device=device)  # MTCNN for face detection\n",
    "facenet = InceptionResnetV1(pretrained='vggface2').eval().to(device)  # Pre-trained FaceNet model"
   ],
   "id": "46bb74d1736508df",
   "outputs": [],
   "execution_count": 53
  },
  {
   "metadata": {
    "ExecuteTime": {
     "end_time": "2024-10-09T20:26:52.865881Z",
     "start_time": "2024-10-09T20:26:52.849386Z"
    }
   },
   "cell_type": "code",
   "source": [
    "\n",
    "# Step 2: Load video file and get frame rate\n",
    "video_path = 'resources/s01c01.mp4'  # Replace with your video path\n",
    "cap = cv2.VideoCapture(video_path)\n",
    "\n",
    "if not cap.isOpened():\n",
    "    print(\"Error: Could not open video.\")\n",
    "else:\n",
    "    print(\"Video opened successfully!\")\n",
    "\n",
    "# Calculate frames per second (fps) and total frames\n",
    "fps = cap.get(cv2.CAP_PROP_FPS)  # Frames per second of the video\n",
    "frame_interval = int(fps)  # Number of frames to skip to get to 1 second interval"
   ],
   "id": "64fc31fc27a4802c",
   "outputs": [
    {
     "name": "stdout",
     "output_type": "stream",
     "text": [
      "Video opened successfully!\n"
     ]
    }
   ],
   "execution_count": 54
  },
  {
   "metadata": {
    "ExecuteTime": {
     "end_time": "2024-10-09T20:29:23.426185Z",
     "start_time": "2024-10-09T20:27:19.716457Z"
    }
   },
   "cell_type": "code",
   "source": [
    "\n",
    "# Step 3: Process video at 1 second intervals\n",
    "frame_count = 0\n",
    "frame_embeddings = []\n",
    "\n",
    "while cap.isOpened():\n",
    "    ret, frame = cap.read()\n",
    "    if not ret:\n",
    "        break\n",
    "\n",
    "    # Check if the frame is at the 1-second interval\n",
    "    if frame_count % frame_interval == 0:\n",
    "        # Convert frame to RGB (OpenCV uses BGR by default)\n",
    "        frame_rgb = cv2.cvtColor(frame, cv2.COLOR_BGR2RGB)\n",
    "        frame_pil = Image.fromarray(frame_rgb)\n",
    "\n",
    "        # Step 4: Detect faces in the frame\n",
    "        boxes, _ = mtcnn.detect(frame_pil)\n",
    "        if boxes is None:\n",
    "            num_of_features = 512\n",
    "            \n",
    "            frame_embeddings.append((frame_count // frame_interval, np.zeros((1, num_of_features), dtype=np.float32)))\n",
    "            frame_count += 1\n",
    "            continue  # Skip frames with no detected faces\n",
    "\n",
    "        # Step 5: Crop and align each detected face\n",
    "        faces = mtcnn(frame_pil)  # This will return aligned faces\n",
    "\n",
    "        # Step 6: Generate embeddings for each face\n",
    "        if faces is not None:\n",
    "            faces = faces.to(device)\n",
    "            embeddings = facenet(faces)  # Generate embeddings\n",
    "            frame_embeddings.append((frame_count // frame_interval, embeddings.cpu().detach().numpy()))  # Store embeddings with timestamp\n",
    "\n",
    "    frame_count += 1\n",
    "\n",
    "# Step 7: Release video capture\n",
    "cap.release()"
   ],
   "id": "ecdfef76b237c67e",
   "outputs": [],
   "execution_count": 56
  },
  {
   "metadata": {
    "collapsed": true,
    "ExecuteTime": {
     "end_time": "2024-10-09T18:38:14.714258Z",
     "start_time": "2024-10-09T18:38:14.708085Z"
    }
   },
   "cell_type": "code",
   "source": [
    "    \n",
    "# Display the number of frames processed and total face embeddings extracted\n",
    "print(f\"Processed frames at 1-second intervals.\")\n",
    "print(f\"Extracted embeddings for {len(frame_embeddings)} timestamps (seconds).\")\n"
   ],
   "id": "initial_id",
   "outputs": [
    {
     "name": "stdout",
     "output_type": "stream",
     "text": [
      "Processed frames at 1-second intervals.\n",
      "Extracted embeddings for 600 timestamps (seconds).\n"
     ]
    }
   ],
   "execution_count": 14
  },
  {
   "metadata": {
    "ExecuteTime": {
     "end_time": "2024-10-09T19:09:03.893975Z",
     "start_time": "2024-10-09T19:09:03.886950Z"
    }
   },
   "cell_type": "code",
   "source": "type(frame_embeddings[0][1][0][0])",
   "id": "374b71c981553d84",
   "outputs": [
    {
     "data": {
      "text/plain": [
       "numpy.float32"
      ]
     },
     "execution_count": 48,
     "metadata": {},
     "output_type": "execute_result"
    }
   ],
   "execution_count": 48
  }
 ],
 "metadata": {
  "kernelspec": {
   "display_name": "Python 3",
   "language": "python",
   "name": "python3"
  },
  "language_info": {
   "codemirror_mode": {
    "name": "ipython",
    "version": 2
   },
   "file_extension": ".py",
   "mimetype": "text/x-python",
   "name": "python",
   "nbconvert_exporter": "python",
   "pygments_lexer": "ipython2",
   "version": "2.7.6"
  }
 },
 "nbformat": 4,
 "nbformat_minor": 5
}
