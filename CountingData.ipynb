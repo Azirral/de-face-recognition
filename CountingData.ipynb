{
 "cells": [
  {
   "metadata": {},
   "cell_type": "markdown",
   "source": "Different cells for data counting",
   "id": "55731b08c3cf2dad"
  },
  {
   "metadata": {
    "ExecuteTime": {
     "end_time": "2024-11-25T16:25:36.614003Z",
     "start_time": "2024-11-25T16:25:36.605845Z"
    }
   },
   "cell_type": "code",
   "source": [
    "import glob\n",
    "import os\n",
    "import pandas as pd\n",
    "import numpy as np\n",
    "from collections import Counter\n",
    "import csv"
   ],
   "id": "df591fa6772c574e",
   "outputs": [],
   "execution_count": 2
  },
  {
   "metadata": {},
   "cell_type": "markdown",
   "source": "Loading the files",
   "id": "1f0fa4cfba63e5d6"
  },
  {
   "cell_type": "code",
   "id": "initial_id",
   "metadata": {
    "collapsed": true,
    "ExecuteTime": {
     "end_time": "2024-11-25T17:21:24.922005Z",
     "start_time": "2024-11-25T17:21:24.752947Z"
    }
   },
   "source": [
    "method_I_files = sorted(\n",
    "    glob.glob('//153.19.52.107/emboa/IO3-sessions/NEW STRUCTURE/de-earlyfusionthesis/GUT/*_BORIS_method_I.csv') +\n",
    "    glob.glob('//153.19.52.107/emboa/IO3-sessions/NEW STRUCTURE/de-earlyfusionthesis/ITU-YU/*_BORIS_method_I.csv') +\n",
    "    glob.glob('//153.19.52.107/emboa/IO3-sessions/NEW STRUCTURE/de-earlyfusionthesis/MAAP/*_BORIS_method_I.csv')\n",
    "    )\n",
    "method_II_files = sorted(\n",
    "    glob.glob('//153.19.52.107/emboa/IO3-sessions/NEW STRUCTURE/de-earlyfusionthesis/GUT/*_BORIS_method_II.csv') +\n",
    "    glob.glob('//153.19.52.107/emboa/IO3-sessions/NEW STRUCTURE/de-earlyfusionthesis/ITU-YU/*_BORIS_method_II.csv') +\n",
    "    glob.glob('//153.19.52.107/emboa/IO3-sessions/NEW STRUCTURE/de-earlyfusionthesis/MAAP/*_BORIS_method_II.csv')\n",
    "    )\n",
    "input_files = sorted(\n",
    "    glob.glob('//153.19.52.107/emboa/IO3-sessions/NEW STRUCTURE/de-earlyfusionthesis/GUT/*_input.csv') + \n",
    "    glob.glob('//153.19.52.107/emboa/IO3-sessions/NEW STRUCTURE/de-earlyfusionthesis/ITU-YU/*_input.csv') + \n",
    "    glob.glob('//153.19.52.107/emboa/IO3-sessions/NEW STRUCTURE/de-earlyfusionthesis/MAAP/*_input.csv')\n",
    "    )"
   ],
   "outputs": [],
   "execution_count": 5
  },
  {
   "metadata": {},
   "cell_type": "markdown",
   "source": "This shows the percentage of labels in Method I files",
   "id": "a12a7bf361731c4e"
  },
  {
   "metadata": {
    "ExecuteTime": {
     "end_time": "2024-11-22T16:03:57.031798Z",
     "start_time": "2024-11-22T16:03:54.977497Z"
    }
   },
   "cell_type": "code",
   "source": [
    "# Initialize a Counter to track label counts\n",
    "label_counts = Counter()\n",
    "\n",
    "# Loop through the files and read their labels\n",
    "for fname in method_I_files:\n",
    "    with open(fname, 'r') as infile:\n",
    "        # Assuming labels are one per line\n",
    "        labels = infile.read().splitlines()\n",
    "        labels = [label for label in labels if label != '1']  # Exclude label '1'\n",
    "        label_counts.update(labels)  # Update the Counter with the filtered labels\n",
    "\n",
    "# Compute the total number of labels\n",
    "total_labels = sum(label_counts.values())\n",
    "\n",
    "# Convert the Counter to a DataFrame\n",
    "df = pd.DataFrame.from_dict(label_counts, orient='index', columns=['Count'])\n",
    "\n",
    "# Add a new column for percentage\n",
    "df['Percentage'] = (df['Count'] / total_labels * 100).round(2).astype(str) + '%'  # Format as percentage\n",
    "\n",
    "# Reset the index to have labels as a column\n",
    "df = df.reset_index().rename(columns={'index': 'Label'})\n",
    "\n",
    "# Display the DataFrame\n",
    "print(df)"
   ],
   "id": "55f1c18612cd7585",
   "outputs": [
    {
     "name": "stdout",
     "output_type": "stream",
     "text": [
      "       Label  Count Percentage\n",
      "0       None  43208     83.62%\n",
      "1      Happy   7692     14.89%\n",
      "2        Sad    316      0.61%\n",
      "3  Disgusted     21      0.04%\n",
      "4  Surprised     47      0.09%\n",
      "5      Angry     48      0.09%\n",
      "6     Scared    338      0.65%\n"
     ]
    }
   ],
   "execution_count": 69
  },
  {
   "metadata": {},
   "cell_type": "markdown",
   "source": "This shows the percentage of ANY percent of emotion in Method II files",
   "id": "1ecf848730217f5"
  },
  {
   "metadata": {
    "ExecuteTime": {
     "end_time": "2024-11-25T17:21:37.555111Z",
     "start_time": "2024-11-25T17:21:29.538244Z"
    }
   },
   "cell_type": "code",
   "source": [
    "# Concatenate all the files\n",
    "dataframes = [pd.read_csv(file, usecols=lambda column: column != 'Second') for file in method_II_files]\n",
    "combined_df = pd.concat(dataframes, ignore_index=True)\n",
    "\n",
    "# Calculate the number of rows where each emotion is non-zero\n",
    "non_zero_counts = (combined_df != 0).sum()  # Counts of non-zero values per column\n",
    "total_rows = len(combined_df)  # Total number of rows\n",
    "\n",
    "# Calculate the \"Neutral\" count (rows where all values are zero)\n",
    "neutral_count = (combined_df.sum(axis=1) == 0).sum()\n",
    "\n",
    "# Add the \"Neutral\" category to the counts\n",
    "non_zero_counts[\"Neutral\"] = neutral_count\n",
    "\n",
    "# Convert to percentages\n",
    "percentages = ((non_zero_counts / total_rows) * 100).round(2).astype(str) + '%'\n",
    "\n",
    "# Display the percentages\n",
    "print(percentages)\n"
   ],
   "id": "f7482682f5211dd",
   "outputs": [
    {
     "name": "stdout",
     "output_type": "stream",
     "text": [
      "Happy        32.69%\n",
      "Sad           3.16%\n",
      "Scared         2.4%\n",
      "Disgusted     1.29%\n",
      "Surprised     1.16%\n",
      "Angry          1.4%\n",
      "Neutral      60.76%\n",
      "dtype: object\n"
     ]
    }
   ],
   "execution_count": 6
  },
  {
   "metadata": {},
   "cell_type": "markdown",
   "source": "This shows how many rows did not manage to extract face embeddings in input files",
   "id": "8a965a60898393be"
  },
  {
   "metadata": {
    "ExecuteTime": {
     "end_time": "2024-11-22T16:05:06.000362Z",
     "start_time": "2024-11-22T16:04:18.053476Z"
    }
   },
   "cell_type": "code",
   "source": [
    "input_columns = []\n",
    "\n",
    "# Iterate through the files and extract any of the face embeddings column\n",
    "for file in input_files:\n",
    "    df = pd.read_csv(file)  # Read the file\n",
    "    input_columns.append(df.iloc[:, 4])  # Select any of the columns with face embeddings\n",
    "\n",
    "# Concatenate all the fifth columns\n",
    "combined_fifth_column = pd.concat(input_columns, ignore_index=True)\n",
    "\n",
    "# Calculate total rows\n",
    "total_rows = len(combined_fifth_column)\n",
    "\n",
    "# Count zero and non-zero rows\n",
    "zero_count = (combined_fifth_column == 0).sum()\n",
    "non_zero_count = (combined_fifth_column != 0).sum()\n",
    "\n",
    "# Calculate percentages\n",
    "zero_percentage = (zero_count / total_rows) * 100\n",
    "non_zero_percentage = (non_zero_count / total_rows) * 100\n",
    "\n",
    "# Display results\n",
    "print(f\"Percentage of zero rows in face embeddings: {zero_percentage:.2f}%\")\n",
    "print(f\"Percentage of non-zero rows: {non_zero_percentage:.2f}%\")\n"
   ],
   "id": "a593f4cab36280dc",
   "outputs": [
    {
     "name": "stdout",
     "output_type": "stream",
     "text": [
      "Percentage of zero rows in face embeddings: 50.19%\n",
      "Percentage of non-zero rows: 49.81%\n"
     ]
    }
   ],
   "execution_count": 71
  },
  {
   "metadata": {},
   "cell_type": "markdown",
   "source": "This makes a comparison of Method I 'null' rows and missing face embeddings",
   "id": "21107778dbb3996b"
  },
  {
   "metadata": {
    "ExecuteTime": {
     "end_time": "2024-11-22T16:06:06.947440Z",
     "start_time": "2024-11-22T16:05:16.429909Z"
    }
   },
   "cell_type": "code",
   "source": [
    "# Ensure that the file lists align correctly\n",
    "if len(method_I_files) != len(input_files):\n",
    "    raise ValueError(\"The number of Method I files and input files do not match!\")\n",
    "\n",
    "# Initialize counters for all four conditions\n",
    "total_rows = 0\n",
    "rows_input = 0\n",
    "count_none_and_zero = 0  # None in Method I and 0 in input\n",
    "count_none_and_non_zero = 0  # None in Method I and not 0 in input\n",
    "count_not_none_and_zero = 0  # Not None in Method I but 0 in input\n",
    "count_not_none_and_non_zero = 0  # Neither None in Method I nor 0 in input\n",
    "\n",
    "# Iterate through pairs of Method I file and input files\n",
    "for method_I_file, input_file in zip(method_I_files, input_files):\n",
    "    # Load Method I data (assuming single-column CSV)\n",
    "    method_I_df = pd.read_csv(method_I_file, header=None, skiprows=1, names=[\"Label\"])  # Read without column names\n",
    "    method_I_df[\"Label\"] = method_I_df[\"Label\"].replace(\"None\", np.nan)  # Replace 'None' string with NaN\n",
    "\n",
    "    # Load input file and select the fifth column\n",
    "    input_df = pd.read_csv(input_file)\n",
    "    input_fifth_column = input_df.iloc[:, 4]  # Select the fifth column (index 4)\n",
    "    # Update the total row count\n",
    "    total_rows += len(method_I_df)\n",
    "    rows_input += len(input_df)\n",
    "    # Boolean masks for the conditions\n",
    "    is_none = method_I_df[\"Label\"].isna()\n",
    "    is_zero = input_fifth_column == 0\n",
    "\n",
    "    # Increment counters for each condition\n",
    "    count_none_and_zero += (is_none & is_zero).sum()\n",
    "    count_none_and_non_zero += (is_none & ~is_zero).sum()\n",
    "    count_not_none_and_zero += (~is_none & is_zero).sum()\n",
    "    count_not_none_and_non_zero += (~is_none & ~is_zero).sum()\n",
    "\n",
    "# Calculate percentages for each category\n",
    "percentage_none_and_zero = (count_none_and_zero / total_rows) * 100\n",
    "percentage_none_and_non_zero = (count_none_and_non_zero / total_rows) * 100\n",
    "percentage_not_none_and_zero = (count_not_none_and_zero / total_rows) * 100\n",
    "percentage_not_none_and_non_zero = (count_not_none_and_non_zero / total_rows) * 100\n",
    "\n",
    "# Create a 2x2 grid with percentages\n",
    "grid = pd.DataFrame({\n",
    "    \"Input = 0\": [f\"{percentage_none_and_zero:.2f}%\", f\"{percentage_not_none_and_zero:.2f}%\"],\n",
    "    \"Input ≠ 0\": [f\"{percentage_none_and_non_zero:.2f}%\", f\"{percentage_not_none_and_non_zero:.2f}%\"]\n",
    "}, index=[\"Method I = None\", \"Method I ≠ None\"])\n",
    "\n",
    "# Display the grid\n",
    "print(grid)\n"
   ],
   "id": "2411ac3e285f0b66",
   "outputs": [
    {
     "name": "stdout",
     "output_type": "stream",
     "text": [
      "                Input = 0 Input ≠ 0\n",
      "Method I = None    43.18%    40.44%\n",
      "Method I ≠ None     7.01%     9.37%\n"
     ]
    }
   ],
   "execution_count": 72
  },
  {
   "metadata": {},
   "cell_type": "markdown",
   "source": "This makes a comparison of Method II 'empty' rows and missing face embeddings",
   "id": "c2b76a4814a4459"
  },
  {
   "metadata": {
    "ExecuteTime": {
     "end_time": "2024-11-22T16:07:14.917459Z",
     "start_time": "2024-11-22T16:06:18.880007Z"
    }
   },
   "cell_type": "code",
   "source": [
    "# Ensure file alignment\n",
    "if len(method_II_files) != len(input_files):\n",
    "    raise ValueError(\"The number of Method II files and input files do not match!\")\n",
    "\n",
    "# Initialize counters\n",
    "total_rows = 0\n",
    "count_all_zeros_and_zero = 0  # All zeros in Method II and 0 in input\n",
    "count_all_zeros_and_non_zero = 0  # All zeros in Method II and not 0 in input\n",
    "count_non_zeros_and_zero = 0  # Not all zeros in Method II but 0 in input\n",
    "count_non_zeros_and_non_zero = 0  # Neither all zeros in Method II nor 0 in input\n",
    "\n",
    "# Process Method II and input files\n",
    "for method_II_file, input_file in zip(method_II_files, input_files):\n",
    "    # Load Method II data and ignore the 'Second' column\n",
    "    method_II_df = pd.read_csv(method_II_file, usecols=lambda col: col != \"Second\")\n",
    "    method_II_is_all_zeros = (method_II_df.sum(axis=1) == 0)  # Check for rows with all zeros\n",
    "\n",
    "    # Load Input file and select the fifth column\n",
    "    input_df = pd.read_csv(input_file)\n",
    "    input_fifth_column = input_df.iloc[:, 4]  # Select the fifth column (index 4)\n",
    "\n",
    "    # Ensure row count alignment\n",
    "    if len(method_II_df) != len(input_fifth_column):\n",
    "        raise ValueError(f\"Row count mismatch between {method_II_file} and {input_file}\")\n",
    "\n",
    "    # Update total row count\n",
    "    total_rows += len(method_II_df)\n",
    "\n",
    "    # Boolean masks for the conditions\n",
    "    is_zero = input_fifth_column == 0\n",
    "\n",
    "    # Increment counters for each condition\n",
    "    count_all_zeros_and_zero += (method_II_is_all_zeros & is_zero).sum()\n",
    "    count_all_zeros_and_non_zero += (method_II_is_all_zeros & ~is_zero).sum()\n",
    "    count_non_zeros_and_zero += (~method_II_is_all_zeros & is_zero).sum()\n",
    "    count_non_zeros_and_non_zero += (~method_II_is_all_zeros & ~is_zero).sum()\n",
    "\n",
    "# Sanity check: Ensure all rows are accounted for\n",
    "assert (\n",
    "    count_all_zeros_and_zero +\n",
    "    count_all_zeros_and_non_zero +\n",
    "    count_non_zeros_and_zero +\n",
    "    count_non_zeros_and_non_zero\n",
    ") == total_rows, \"Counts do not sum up to the total number of rows!\"\n",
    "\n",
    "# Calculate percentages for each category\n",
    "percentage_all_zeros_and_zero = (count_all_zeros_and_zero / total_rows) * 100\n",
    "percentage_all_zeros_and_non_zero = (count_all_zeros_and_non_zero / total_rows) * 100\n",
    "percentage_non_zeros_and_zero = (count_non_zeros_and_zero / total_rows) * 100\n",
    "percentage_non_zeros_and_non_zero = (count_non_zeros_and_non_zero / total_rows) * 100\n",
    "\n",
    "# Create a 2x2 grid with percentages\n",
    "grid = pd.DataFrame({\n",
    "    \"Input = 0\": [f\"{percentage_all_zeros_and_zero:.2f}%\", f\"{percentage_non_zeros_and_zero:.2f}%\"],\n",
    "    \"Input ≠ 0\": [f\"{percentage_all_zeros_and_non_zero:.2f}%\", f\"{percentage_non_zeros_and_non_zero:.2f}%\"]\n",
    "}, index=[\"Method II = All Zeros\", \"Method II ≠ All Zeros\"])\n",
    "\n",
    "# Display the grid\n",
    "print(grid)\n",
    "\n",
    "# Print sanity check\n",
    "print(f\"Total rows: {total_rows}\")\n",
    "print(f\"Sum of percentages: {percentage_all_zeros_and_zero + percentage_all_zeros_and_non_zero + percentage_non_zeros_and_zero + percentage_non_zeros_and_non_zero:.2f}%\")\n"
   ],
   "id": "54c253f07164c6f3",
   "outputs": [
    {
     "name": "stdout",
     "output_type": "stream",
     "text": [
      "                      Input = 0 Input ≠ 0\n",
      "Method II = All Zeros    32.13%    28.62%\n",
      "Method II ≠ All Zeros    18.05%    21.19%\n",
      "Total rows: 51670\n",
      "Sum of percentages: 100.00%\n"
     ]
    }
   ],
   "execution_count": 73
  },
  {
   "metadata": {},
   "cell_type": "markdown",
   "source": "This one checks if Method I, Method II and input files have the same amount of rows",
   "id": "96f80fc513cabd1c"
  },
  {
   "metadata": {
    "ExecuteTime": {
     "end_time": "2024-11-22T16:08:24.902599Z",
     "start_time": "2024-11-22T16:07:36.143179Z"
    }
   },
   "cell_type": "code",
   "source": [
    "# Loop through each file and count rows\n",
    "def count_rows_in_csv(file_path):\n",
    "    with open(file_path, mode='r') as f:\n",
    "        reader = csv.reader(f)\n",
    "        return sum(1 for row in reader)\n",
    "\n",
    "# Create a list of lists to hold the row counts for each source\n",
    "row_counts = []\n",
    "\n",
    "# Count rows for each source and file\n",
    "for source_files in [method_I_files, method_II_files, input_files]:\n",
    "    source_row_counts = [count_rows_in_csv(file) for file in source_files]\n",
    "    row_counts.append(source_row_counts)\n",
    "\n",
    "# Create DataFrame (3 x number of files)\n",
    "df = pd.DataFrame(row_counts, columns=[os.path.basename(file) for file in method_I_files])\n",
    "\n",
    "# Set the index to represent the sources\n",
    "df.index = ['Source 1', 'Source 2', 'Source 3']\n",
    "\n",
    "# Show the DataFrame\n",
    "# Print only columns where the numbers are not the same\n",
    "# Filter columns where all values are the same\n",
    "columns_with_diff = df.columns[df.nunique() > 1]\n",
    "\n",
    "# Display the filtered DataFrame with only columns that have different values\n",
    "filtered_df = df[columns_with_diff]\n",
    "pd.set_option('display.max_rows', None)  # Ensure all rows are displayed\n",
    "pd.set_option('display.max_columns', None)  # Ensure all columns are displayed\n",
    "\n",
    "\n",
    "# Show the filtered DataFrame\n",
    "print(filtered_df)"
   ],
   "id": "6dd91a1eef51177d",
   "outputs": [
    {
     "name": "stdout",
     "output_type": "stream",
     "text": [
      "Empty DataFrame\n",
      "Columns: []\n",
      "Index: [Source 1, Source 2, Source 3]\n"
     ]
    }
   ],
   "execution_count": 74
  }
 ],
 "metadata": {
  "kernelspec": {
   "display_name": "Python 3",
   "language": "python",
   "name": "python3"
  },
  "language_info": {
   "codemirror_mode": {
    "name": "ipython",
    "version": 2
   },
   "file_extension": ".py",
   "mimetype": "text/x-python",
   "name": "python",
   "nbconvert_exporter": "python",
   "pygments_lexer": "ipython2",
   "version": "2.7.6"
  }
 },
 "nbformat": 4,
 "nbformat_minor": 5
}
