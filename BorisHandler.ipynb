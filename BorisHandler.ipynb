{
 "cells": [
  {
   "cell_type": "code",
   "source": [
    "import csv\n",
    "import os\n",
    "from datetime import datetime\n",
    "import math\n",
    "import pandas as pd\n"
   ],
   "metadata": {
    "collapsed": false,
    "ExecuteTime": {
     "end_time": "2024-10-08T14:35:35.752026Z",
     "start_time": "2024-10-08T14:35:32.886009Z"
    }
   },
   "outputs": [],
   "execution_count": 1
  },
  {
   "cell_type": "code",
   "source": [
    "def print_table(table):\n",
    "    for row in table:\n",
    "        print(row)"
   ],
   "metadata": {
    "collapsed": false,
    "ExecuteTime": {
     "end_time": "2024-10-08T14:35:37.377167Z",
     "start_time": "2024-10-08T14:35:37.369798Z"
    }
   },
   "outputs": [],
   "execution_count": 2
  },
  {
   "cell_type": "code",
   "source": [
    "def create_table(tab1, tab2, tab3):\n",
    "    result_tab = []\n",
    "\n",
    "    emotions = ['Unknown', 'Happy', 'Sad', 'Scared', 'Disgusted', 'Surprised', 'Angry']\n",
    "\n",
    "    for row1, row2, row3 in zip(tab1, tab2, tab3):\n",
    "        sum_rows = [int(a) + int(b) + int(c) for a, b, c in zip(row1[1:], row2[1:], row3[1:])]\n",
    "\n",
    "        total_sum = sum(sum_rows)\n",
    "        if total_sum > 0:\n",
    "            # Calculate the percentage distribution\n",
    "            percentages = [round((x / total_sum) * 100, 2) for x in sum_rows]\n",
    "        else:\n",
    "            percentages = [0] * len(sum_rows)\n",
    "\n",
    "        result_tab.append([row1[0]] + percentages)\n",
    "\n",
    "    return result_tab"
   ],
   "metadata": {
    "collapsed": false,
    "ExecuteTime": {
     "end_time": "2024-10-08T14:35:37.636483Z",
     "start_time": "2024-10-08T14:35:37.613672Z"
    }
   },
   "outputs": [],
   "execution_count": 3
  },
  {
   "cell_type": "code",
   "source": [
    "# Makes table equal\n",
    "def fill_table(table,csvreader):\n",
    "    seconds = 0\n",
    "    stop = 0\n",
    "    for row in csvreader:\n",
    "        row[0] = int(row[0].split('.')[0])\n",
    "        if seconds <= row[0] and stop == 0:     #fill table with missing seconds\n",
    "            for i in range(0,row[0]):\n",
    "                table.append([i, '0', '0', '0', '0', '0', '0', '0'])\n",
    "                seconds+=1\n",
    "            stop = 1\n",
    "            table.append(row)\n",
    "        else:\n",
    "            table.append(row)"
   ],
   "metadata": {
    "collapsed": false,
    "ExecuteTime": {
     "end_time": "2024-10-08T14:35:37.806597Z",
     "start_time": "2024-10-08T14:35:37.797545Z"
    }
   },
   "outputs": [],
   "execution_count": 4
  },
  {
   "cell_type": "code",
   "metadata": {
    "collapsed": true,
    "ExecuteTime": {
     "end_time": "2024-10-08T14:35:38.403885Z",
     "start_time": "2024-10-08T14:35:38.386180Z"
    }
   },
   "source": [
    "# Create percentages for every second\n",
    "def csv_files_reader(base_path):\n",
    "    index = ['I','II','III']\n",
    "    tab1 = []\n",
    "    tab2 = []\n",
    "    tab3 = []\n",
    "\n",
    "    if os.path.exists(base_path):\n",
    "\n",
    "        for i in index:\n",
    "            for file_name in os.listdir(base_path+i):\n",
    "                file_path = os.path.join(base_path+i, file_name)\n",
    "\n",
    "                with open(file_path, 'r') as file:\n",
    "                    csvreader = csv.reader(file)\n",
    "                    header = next(csvreader)\n",
    "\n",
    "                    if i == 'I':\n",
    "                        fill_table(tab1,csvreader)\n",
    "                    elif i == 'II':\n",
    "                        fill_table(tab2,csvreader)\n",
    "                    elif i == 'III':\n",
    "                        fill_table(tab3,csvreader)\n",
    "    else:\n",
    "        print(f\"File path {base_path} doesn't exist.\")\n",
    "\n",
    "    large_table = max([tab1, tab2, tab3], key=len)\n",
    "\n",
    "    for tab in [tab1, tab2, tab3]:\n",
    "        if len(tab) < len(large_table):\n",
    "            diff = len(large_table) - len(tab)\n",
    "\n",
    "            if len(tab) == 0:\n",
    "                sec=0\n",
    "                for sec in range(len(large_table)):\n",
    "                    tab.append([sec, '0', '0', '0', '0', '0', '0', '0'])\n",
    "            else:\n",
    "                sec = tab[-1][0]      #latest second in table\n",
    "                for sec in range(tab[-1][0]+1, len(large_table)):\n",
    "                    tab.append([sec, '0', '0', '0', '0', '0', '0', '0'])\n",
    "\n",
    "    return create_table(tab1,tab2,tab3)"
   ],
   "outputs": [],
   "execution_count": 5
  },
  {
   "cell_type": "code",
   "source": [
    "def get_boris_vector(path, target_dir):\n",
    "    dir_BORIS = 'Analysis/BORIS/'\n",
    "    table = csv_files_reader(path + dir_BORIS)\n",
    "    df = pd.DataFrame(table)\n",
    "    df.to_csv(target_dir, index=False)"
   ],
   "metadata": {
    "collapsed": false,
    "ExecuteTime": {
     "end_time": "2024-10-08T14:36:28.079612Z",
     "start_time": "2024-10-08T14:36:28.059034Z"
    }
   },
   "outputs": [],
   "execution_count": 7
  },
  {
   "cell_type": "code",
   "execution_count": 31,
   "outputs": [
    {
     "name": "stdout",
     "output_type": "stream",
     "text": [
      "C:/Users/oskik/InżynierkaSandbox/S01_boris/C01/Analysis/BORIS/results\n",
      "C:/Users/oskik/InżynierkaSandbox/S01_boris/C02/Analysis/BORIS/results\n",
      "C:/Users/oskik/InżynierkaSandbox/S01_boris/C03/Analysis/BORIS/results\n"
     ]
    }
   ],
   "source": [
    "main_directory = 'C:/Users/oskik/InżynierkaSandbox/'\n",
    "target_directory_BORIS = 'Analysis/BORIS/'\n",
    "\n",
    "s_values = [\"S01\", \"S02\", \"S03\", \"S04\", \"S05\", \"S06\", \"S07\", \"S08\", \"S09\", \"S10\", \"S11\" ]\n",
    "c_values = [\"C01/\", \"C02/\", \"C03/\"]\n",
    "#c_values = [\"C01\", \"C02\", \"C03\", \"C04\", \"C05\", \"C06\", \"C07\", \"C08\", \"C09\", \"C10\", \"C11\", \"C12\", \"C13\" ]\n",
    "columns = ['Time', 'Contempt', 'Happy', 'Sad', 'Scared', 'Disgusted', 'Surprised', 'Angry']\n",
    "one_zero_values = []\n",
    "sum_values = 0\n",
    "\n",
    "for c_value in c_values:\n",
    "    base_path_BORIS = os.path.join(main_directory, \"S01_boris/\", c_value, target_directory_BORIS)\n",
    "    result_table_BORIS = csv_files_reader(base_path_BORIS)\n",
    "    df = pd.DataFrame(result_table_BORIS, columns=columns)\n",
    "    save_path_BORIS = os.path.join(base_path_BORIS, 'results')\n",
    "    df.to_csv(save_path_BORIS, index=False)"
   ],
   "metadata": {
    "collapsed": false,
    "ExecuteTime": {
     "end_time": "2024-06-18T11:04:16.896973200Z",
     "start_time": "2024-06-18T11:04:16.783298900Z"
    }
   }
  }
 ],
 "metadata": {
  "kernelspec": {
   "display_name": "Python 3",
   "language": "python",
   "name": "python3"
  },
  "language_info": {
   "codemirror_mode": {
    "name": "ipython",
    "version": 2
   },
   "file_extension": ".py",
   "mimetype": "text/x-python",
   "name": "python",
   "nbconvert_exporter": "python",
   "pygments_lexer": "ipython2",
   "version": "2.7.6"
  }
 },
 "nbformat": 4,
 "nbformat_minor": 0
}
